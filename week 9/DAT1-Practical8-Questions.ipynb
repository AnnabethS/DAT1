{
 "cells": [
  {
   "cell_type": "markdown",
   "metadata": {
    "id": "67W0wj-zMZk7"
   },
   "source": [
    "# DATA 1 Practical 8\n",
    "\n",
    "Simos Gerasimou\n",
    "\n",
    "\n",
    "## A Data Journey in Inferential Statistics\n",
    "\n",
    "**Pandas API Reference**: https://pandas.pydata.org/pandas-docs/stable/reference/index.html\n",
    "\n",
    "**Matplotlib API Reference**: https://matplotlib.org/stable/api/index.html\n",
    "\n",
    "**Seaborn API Reference**: https://seaborn.pydata.org/api.html\n",
    "\n",
    "**Scipy Stats**: https://docs.scipy.org/doc/scipy/reference/tutorial/stats.html\n",
    "\n",
    "**t table Reference**:  http://www.ttable.org\n",
    "\n",
    "**F table Reference**  https://www.stat.purdue.edu/~jtroisi/STAT350Spring2015/tables/FTable.pdf\n",
    "\n",
    "**Chi-Square table Reference** https://people.smp.uq.edu.au/YoniNazarathy/stat_models_B_course_spring_07/distributions/chisqtab.pdf\n",
    "\n",
    "\n",
    "***"
   ]
  },
  {
   "cell_type": "markdown",
   "metadata": {
    "id": "nucBAgQsfgap"
   },
   "source": [
    "#### To get started with today's practical, you can go to Lecture 10 and try to replicate the inferential statistics we saw during the lecture, i.e., independent and paired t test, ANOVA and Chi-Square. This will enable you to understand better how these tests operate under the hood."
   ]
  },
  {
   "cell_type": "code",
   "execution_count": 2,
   "metadata": {
    "id": "qY4D0OCMLe8p"
   },
   "outputs": [],
   "source": [
    "import numpy as np\n",
    "import matplotlib.pyplot as plt\n",
    "import seaborn as sns\n",
    "from scipy import stats\n",
    "import math as m\n",
    "import pandas as pd"
   ]
  },
  {
   "cell_type": "code",
   "execution_count": null,
   "metadata": {},
   "outputs": [],
   "source": [
    "def plotKDE(dof, tstatistic, title, xaxis, alpha=0.05, type='two-tailed'):\n",
    "  fig, ax = plt.subplots(figsize=(5,4), dpi=100)\n",
    "  mu =0\n",
    "  data = np.random.standard_t(dof, size=3000)\n",
    "  sns.kdeplot(data, ax=ax)\n",
    "\n",
    "  xx = ax.lines[-1].get_xdata()\n",
    "  yy = ax.lines[-1].get_ydata()\n",
    "if (type==\"two-tailed\"):\n",
    "    xxCut1 = stats.t.ppf(q=alpha/2, df=dof)\n",
    "    ax.fill_between(xx, 0, yy, where=(xx<=xxCut1), color='red', alpha=0.5)\n",
    "    ax.axvline(x=xxCut1, ymin=0.00, ymax=np.max(yy), color='red',alpha=0.5, ls='--', lw=1, label='Critical value') # vertical line\n",
    "    ax.axvline(x=tstatistic, ymin=0.00, ymax=np.max(yy), color='blue',alpha=0.5, ls='--', lw=1, label='t value') # vertical line\n",
    "    xxCut2 = stats.t.ppf(q=1-alpha/2, df=dof)\n",
    "    ax.fill_between(xx, 0, yy, where=(xx>=xxCut2), color='red', alpha=0.5)\n",
    "    ax.axvline(x=xxCut2, ymin=0.00, ymax=np.max(yy), color='red',alpha=0.5, ls='--', lw=1) # vertical line\n",
    "    ax.axvline(x=-tstatistic, ymin=0.00, ymax=np.max(yy), color='blue',alpha=0.5, ls='--', lw=1) # vertical line\n",
    "elif (type=='left-tailed'):\n",
    "    xxCut1 = stats.t.ppf(q=alpha, df=dof)\n",
    "    ax.fill_between(xx, 0, yy, where=(xx<=xxCut1), color='red', alpha=0.5)\n",
    "    ax.axvline(x=xxCut1, ymin=0.00, ymax=np.max(yy), color='red',alpha=0.5, ls='--', lw=1, label='Critical value') # vertical line\n",
    "    ax.axvline(x=tstatistic, ymin=0.00, ymax=np.max(yy), color='blue',alpha=0.5, ls='--', lw=1, label='t value') # vertical line\n",
    "elif (type=='right-tailed'):\n",
    "    xxCut2 = stats.t.ppf(q=1-alpha, df=dof)\n",
    "    ax.fill_between(xx, 0, yy, where=(xx>=xxCut2), color='red', alpha=0.5)\n",
    "    ax.axvline(x=xxCut2, ymin=0.00, ymax=np.max(yy), color='red',alpha=0.5, ls='--', lw=1,label='Critical value') # vertical line\n",
    "    ax.axvline(x=tstatistic, ymin=0.00, ymax=np.max(yy), color='blue',alpha=0.5, ls='--', lw=1, label='t value') # vertical line\n",
    "plt.title(title,fontsize=15)\n",
    "  ax.set_xlabel(xaxis,fontsize=13) # set x label\n",
    "  ax.set_ylabel('pdf(x)',fontsize=13,rotation=90) # set y label\n",
    "  plt.legend();\n"
   ]
  },
  {
   "cell_type": "markdown",
   "metadata": {
    "id": "tOCm4iL-Nd0X"
   },
   "source": [
    "***\n",
    "\n",
    "## **Part A**\n",
    "\n",
    "A manufacturer claims that the thickness of the spearmint gum it produces is according to the interantional standard which requests to be 7.5. A quality control specialist regularly checks this claim. During a production run, he took a random sample of $n = 10$ pieces of gum and measured their thickness. He obtained the following readings [7.65, 7.60, 7.65, 7.70, 7.55, 7.55, 7.40, 7.40, 7.50, 7.50] and would like to assess the validity of the claim made by the manufacturer having suspicions that the thickness might be not within the acceptable limits."
   ]
  },
  {
   "cell_type": "markdown",
   "metadata": {
    "id": "iv2vDADHN9dt"
   },
   "source": [
    "**TA1) State the Null and Alternative hypotheses**"
   ]
  },
  {
   "source": [
    "#Write your answer here\n",
    "\n",
    "h0: the thickness of the gum is 7.5\n",
    "\n",
    "h1: the thickness of the gum is not 7.5\n",
    "\n"
   ],
   "cell_type": "markdown",
   "metadata": {
    "id": "Crksf8BMMpiv"
   }
  },
  {
   "cell_type": "markdown",
   "metadata": {
    "id": "EvzV444pON3V"
   },
   "source": [
    "**TA2) Calculate the degrees of freedom**"
   ]
  },
  {
   "source": [
    "#Write your answer here\n",
    "\n",
    "there are 9 degrees of freedom\n"
   ],
   "cell_type": "markdown",
   "metadata": {
    "id": "_Qr7I5DbORuu"
   }
  },
  {
   "cell_type": "markdown",
   "metadata": {
    "id": "UCW9mT07OvXU"
   },
   "source": [
    "**TA3) Perform the appropriate t test to evaluate the hypotheses for significance level $\\alpha = 0.05$. You must show your calculations, i.e., calculate the result analytically, but you may use the appropriate scipy.stats method to check your results.**\n",
    "\n",
    "**Hint**: You may want to check https://docs.scipy.org/doc/scipy/reference/stats.html"
   ]
  },
  {
   "cell_type": "code",
   "execution_count": 13,
   "metadata": {
    "executionInfo": {
     "elapsed": 383,
     "status": "ok",
     "timestamp": 1615105288668,
     "user": {
      "displayName": "Simos Gerasimou",
      "photoUrl": "https://lh3.googleusercontent.com/a-/AOh14GiyuWEDBGgnFKbsa3BAO5bWW-MwC5_V7MnUQz5JiA=s64",
      "userId": "13902192774339425778"
     },
     "user_tz": 0
    },
    "id": "v2xsTUf5O1DA"
   },
   "outputs": [
    {
     "output_type": "stream",
     "name": "stdout",
     "text": [
      "mean: 7.55,\nstd: 0.09746794344808961,\nn: 10,\n\nt score calculated with formula: 1.5389675281277262\nt score calculated with function: 1.5389675281277262\ncritical value for 2 tailed t test with α=0.05: 2.262157162740992\nthe t score (1.54 (3 s.f)) is lower than the critical value (2.26 (3 s.f.)) so there is not sufficient evidence to reject h0\n"
     ]
    }
   ],
   "source": [
    "#Write your answer here\n",
    "gumScores = [7.65, 7.60, 7.65, 7.70, 7.55, 7.55, 7.40, 7.40, 7.50, 7.50]\n",
    "print(f\"\"\"mean: {np.mean(gumScores)},\n",
    "std: {np.std(gumScores)},\n",
    "n: {len(gumScores)},\n",
    "\"\"\")\n",
    "t1 = (np.mean(gumScores) - 7.5) / (np.std(gumScores, ddof=1) / (m.sqrt(len(gumScores))))\n",
    "print(f\"t score calculated with formula: {t1}\")\n",
    "print(f\"t score calculated with function: {stats.ttest_1samp(gumScores, 7.5).statistic}\")\n",
    "print(f\"critical value for 2 tailed t test with α=0.05: {np.abs(stats.t.ppf(0.05/2, df=(len(gumScores)-1)))}\")\n",
    "print(\"the t score (1.54 (3 s.f)) is lower than the critical value (2.26 (3 s.f.)) so there is not sufficient evidence to reject h0\")"
   ]
  },
  {
   "cell_type": "markdown",
   "metadata": {
    "id": "8bfufAvCRpPX"
   },
   "source": [
    "## **Part B**\n",
    "\n",
    "A personal trainer measured the maximum heart rate of 25 of their trainees. The resulting data is: \n",
    "[170, 167, 174, 179, 179, 187, 179, 183, 179, 156, 163, 156, 187, 156, 167, 156, 174, 170, 183, 179, 174, 179, 170, 159, 187]. The personal trainer believes that their mean heart rate is greater than 170 and he is interested in testing this hypothesis."
   ]
  },
  {
   "cell_type": "markdown",
   "metadata": {
    "id": "FtxCXcQjR4Iy"
   },
   "source": [
    "**TB1) State the Null and Alternative hypotheses**"
   ]
  },
  {
   "source": [
    "#Write your answer here\n",
    "\n",
    "h0: the mean heart rate is 170\n",
    "\n",
    "h1: the mean heart rate is greater than 170\n"
   ],
   "cell_type": "markdown",
   "metadata": {
    "executionInfo": {
     "elapsed": 635,
     "status": "ok",
     "timestamp": 1615105300882,
     "user": {
      "displayName": "Simos Gerasimou",
      "photoUrl": "https://lh3.googleusercontent.com/a-/AOh14GiyuWEDBGgnFKbsa3BAO5bWW-MwC5_V7MnUQz5JiA=s64",
      "userId": "13902192774339425778"
     },
     "user_tz": 0
    },
    "id": "NT7kivizPLGP"
   }
  },
  {
   "cell_type": "markdown",
   "metadata": {
    "id": "sWhYHaElSOv6"
   },
   "source": [
    "**TB2) Calculate the degrees of freedom**"
   ]
  },
  {
   "source": [
    "#Write your answer here\n",
    "bpmStats = [170, 167, 174, 179, 179, 187, 179, 183, 179, 156, 163, 156, 187, 156, 167, 156, 174, 170, 183, 179, 174, 179, 170, 159, 187]\n",
    "print(f\"Degrees of freedom: {len(bpmStats) - 1}\")"
   ],
   "cell_type": "code",
   "metadata": {
    "executionInfo": {
     "elapsed": 613,
     "status": "ok",
     "timestamp": 1615105303976,
     "user": {
      "displayName": "Simos Gerasimou",
      "photoUrl": "https://lh3.googleusercontent.com/a-/AOh14GiyuWEDBGgnFKbsa3BAO5bWW-MwC5_V7MnUQz5JiA=s64",
      "userId": "13902192774339425778"
     },
     "user_tz": 0
    },
    "id": "KEQK7QY3Rch3"
   },
   "execution_count": 11,
   "outputs": [
    {
     "output_type": "stream",
     "name": "stdout",
     "text": [
      "Degrees of freedom: 24\n"
     ]
    }
   ]
  },
  {
   "cell_type": "markdown",
   "metadata": {
    "id": "HH4dxNRsSvO1"
   },
   "source": [
    "**TB3) Perform the appropriate t test to evaluate the hypotheses for significance level $\\alpha = 0.05$. You must show your calculations, i.e., calculate the result analytically, but you may use the appropriate scipy.stats method to check your results.**"
   ]
  },
  {
   "cell_type": "code",
   "execution_count": 19,
   "metadata": {
    "executionInfo": {
     "elapsed": 541,
     "status": "ok",
     "timestamp": 1615105305638,
     "user": {
      "displayName": "Simos Gerasimou",
      "photoUrl": "https://lh3.googleusercontent.com/a-/AOh14GiyuWEDBGgnFKbsa3BAO5bWW-MwC5_V7MnUQz5JiA=s64",
      "userId": "13902192774339425778"
     },
     "user_tz": 0
    },
    "id": "tKf6wY6tSkVm"
   },
   "outputs": [
    {
     "output_type": "stream",
     "name": "stdout",
     "text": [
      "t score: 1.2218430153659992\nt score (function): 1.2218430153659992\ncritical value: 1.7108820799094282\nthe t score is lower than the critical value, so there is insufficient evidence to reject h0\n"
     ]
    }
   ],
   "source": [
    "#Write your answer here\n",
    "meanBPM = np.mean(bpmStats)\n",
    "stdBPM = np.std(bpmStats, ddof=1)\n",
    "nBPM = len(bpmStats)\n",
    "tBPM = (meanBPM - 170) / (stdBPM / (m.sqrt(nBPM)))\n",
    "print(f\"t score: {tBPM}\")\n",
    "print(f\"t score (function): {stats.ttest_1samp(bpmStats, 170).statistic}\")\n",
    "print(f\"critical value: {np.abs(stats.t.ppf(0.05, df=(nBPM-1)))}\")\n",
    "print(\"the t score is lower than the critical value, so there is insufficient evidence to reject h0\")"
   ]
  },
  {
   "cell_type": "markdown",
   "metadata": {
    "id": "tGp7132dTEf2"
   },
   "source": [
    "## **Part C**\n",
    "\n",
    "A biologist is interested in determining whether sunflower seedlings treated with a special extract results in a lower average height of sunflower seedlings than the standard height of 15.7 cm. The biologist treated a random sample of n = 33 seedlings with the extract and subsequently obtained the following heights: [11.5, 11.8, 15.7, 16.1, 14.1, 10.5, 9.3, 15.0, 11.1, 15.2, 19.0, 12.8, 12.4, 19.2, 13.5, 12.2, 13.3, 16.5, 13.5, 14.4, 16.7, 10.9, 13.0, 10.3, 15.8, 15.1, 17.1, 13.3, 12.4, 8.5, 14.3, 12.9, 13.5]"
   ]
  },
  {
   "cell_type": "markdown",
   "metadata": {
    "id": "YCo5q4ldTOzC"
   },
   "source": [
    "**TC1) State the Null and Alternative hypotheses**"
   ]
  },
  {
   "source": [
    "#Write your answer here\n",
    "\n",
    "h0: the special extract makes no difference and the mean height is 15.7cm\n",
    "\n",
    "h1: the special extract makes the mean height < 15.7cm"
   ],
   "cell_type": "markdown",
   "metadata": {
    "executionInfo": {
     "elapsed": 613,
     "status": "ok",
     "timestamp": 1615105308213,
     "user": {
      "displayName": "Simos Gerasimou",
      "photoUrl": "https://lh3.googleusercontent.com/a-/AOh14GiyuWEDBGgnFKbsa3BAO5bWW-MwC5_V7MnUQz5JiA=s64",
      "userId": "13902192774339425778"
     },
     "user_tz": 0
    },
    "id": "fRsJ0AjPTDiB"
   }
  },
  {
   "cell_type": "markdown",
   "metadata": {
    "id": "gURc4lWwTVwa"
   },
   "source": [
    "**TC2) Calculate the degrees of freedom**"
   ]
  },
  {
   "cell_type": "code",
   "execution_count": 20,
   "metadata": {
    "executionInfo": {
     "elapsed": 691,
     "status": "ok",
     "timestamp": 1615105311418,
     "user": {
      "displayName": "Simos Gerasimou",
      "photoUrl": "https://lh3.googleusercontent.com/a-/AOh14GiyuWEDBGgnFKbsa3BAO5bWW-MwC5_V7MnUQz5JiA=s64",
      "userId": "13902192774339425778"
     },
     "user_tz": 0
    },
    "id": "OAydz4h7S8xE"
   },
   "outputs": [
    {
     "output_type": "stream",
     "name": "stdout",
     "text": [
      "the sample has 32 degrees of freedom\n"
     ]
    }
   ],
   "source": [
    "#Write your answer here\n",
    "flowerStats = [11.5, 11.8, 15.7, 16.1, 14.1, 10.5, 9.3, 15.0, 11.1, 15.2, 19.0, 12.8, 12.4, 19.2, 13.5, 12.2, 13.3, 16.5, 13.5, 14.4, 16.7, 10.9, 13.0, 10.3, 15.8, 15.1, 17.1, 13.3, 12.4, 8.5, 14.3, 12.9, 13.5]\n",
    "flowerDF = len(flowerStats) - 1\n",
    "print(f\"the sample has {flowerDF} degrees of freedom\")"
   ]
  },
  {
   "cell_type": "markdown",
   "metadata": {
    "id": "jzc5iQk3Tg3H"
   },
   "source": [
    "**TC3) Perform the appropriate t test to evaluate the hypotheses for significance level $\\alpha = 0.05$. You must show your calculations, i.e., calculate the result analytically, but you may use the appropriate scipy.stats method to check your results.**"
   ]
  },
  {
   "cell_type": "code",
   "execution_count": 24,
   "metadata": {
    "executionInfo": {
     "elapsed": 628,
     "status": "ok",
     "timestamp": 1615105317476,
     "user": {
      "displayName": "Simos Gerasimou",
      "photoUrl": "https://lh3.googleusercontent.com/a-/AOh14GiyuWEDBGgnFKbsa3BAO5bWW-MwC5_V7MnUQz5JiA=s64",
      "userId": "13902192774339425778"
     },
     "user_tz": 0
    },
    "id": "KY4WtqA7Tc2R"
   },
   "outputs": [
    {
     "output_type": "stream",
     "name": "stdout",
     "text": [
      "the t value of the flowers is: -4.599006005602887\nt value (function): -4.599006005602887\ncritical value: -1.693888754005164\nthe t value is further from 0 than the critical value, hence we can reject h0, and accept h1\n"
     ]
    }
   ],
   "source": [
    "#Write your answer here\n",
    "flowerMean = np.mean(flowerStats)\n",
    "flowerSTD = np.std(flowerStats, ddof=1)\n",
    "flowerN = len(flowerStats)\n",
    "flowerT = (flowerMean - 15.7) / (flowerSTD / (m.sqrt(flowerN)))\n",
    "print(f\"the t value of the flowers is: {flowerT}\")\n",
    "print(f\"t value (function): {stats.ttest_1samp(flowerStats, 15.7).statistic}\")\n",
    "print(f\"critical value: {stats.t.ppf(0.05, df=flowerDF)}\")\n",
    "print(\"the t value is further from 0 than the critical value, hence we can reject h0, and accept h1\")"
   ]
  },
  {
   "cell_type": "markdown",
   "metadata": {
    "id": "_-s82b5_VUHn"
   },
   "source": [
    "## **Part D**\n",
    "\n",
    "The board of directors at Netflix believes that \"Displaying better artwork will result in greater engagement by members\". To test this hypothesis the data science team carries out an experiment in which they show to two groups different artworks and measure their engangement rate. The team collected the following data:\n",
    "\n",
    "Group Control: [-0.5, 3.3, -9.3, 11.3, -5.4, 0, 12.3, -1, -2, -10.6, -10.2, -4.6, -12.2, -6.7, 11.6, 2.8,-7.1, 0.3, 6.2, 1.8, -0.2, 3.7, -9.2, 15.9, 8.3,-10.2]\n",
    "\n",
    "Group Art: [11.4, 9, 11, 3.9, 5.5, 5.7, 9.4, 10.7, 13.6, -2.9, -0.1, 7.4, 21.5, -5.3, -3.8, 13.4, 13.1]\n",
    "\n",
    "**Perform the appropriate t test to evaluate the hypotheses for significance level 𝛼=0.05 . You must show your calculations, i.e., calculate the result analytically, but you may use the appropriate scipy.stats method to check your results. State explicitly the hypothesis and the degrees of freedom**"
   ]
  },
  {
   "cell_type": "code",
   "execution_count": 36,
   "metadata": {
    "executionInfo": {
     "elapsed": 427,
     "status": "ok",
     "timestamp": 1615105320183,
     "user": {
      "displayName": "Simos Gerasimou",
      "photoUrl": "https://lh3.googleusercontent.com/a-/AOh14GiyuWEDBGgnFKbsa3BAO5bWW-MwC5_V7MnUQz5JiA=s64",
      "userId": "13902192774339425778"
     },
     "user_tz": 0
    },
    "id": "mKSRBBvwViJl"
   },
   "outputs": [
    {
     "output_type": "stream",
     "name": "stdout",
     "text": [
      "h0: the artwork makes no difference in engagement\nh1: the artwork has a positive effect on engagement\nDegrees Of Freedom: 16\nt score of group art: 4.444135238407188\nt score of group art (func): 4.444135238407188\ncritical value for a 1 tailed test with α=0.05: 1.7458836762762402\nh0 can be rejected as 4.44 > 1.75\n"
     ]
    }
   ],
   "source": [
    "#Write your answer here\n",
    "print(\"h0: the artwork makes no difference in engagement\")\n",
    "print(\"h1: the artwork has a positive effect on engagement\")\n",
    "controlData = [-0.5, 3.3, -9.3, 11.3, -5.4, 0, 12.3, -1, -2, -10.6, -10.2, -4.6, -12.2, -6.7, 11.6, 2.8,-7.1, 0.3, 6.2, 1.8, -0.2, 3.7, -9.2, 15.9, 8.3,-10.2]\n",
    "artData = [11.4, 9, 11, 3.9, 5.5, 5.7, 9.4, 10.7, 13.6, -2.9, -0.1, 7.4, 21.5, -5.3, -3.8, 13.4, 13.1]\n",
    "controlMean = np.mean(controlData)\n",
    "artMean = np.mean(artData)\n",
    "artSTD = np.std(artData, ddof=1)\n",
    "artN = len(artData)\n",
    "artDF = artN - 1\n",
    "print(f\"Degrees Of Freedom: {artDF}\")\n",
    "artT = (artMean - controlMean) / (artSTD / (m.sqrt(artN)))\n",
    "print(f\"t score of group art: {artT}\")\n",
    "print(f\"t score of group art (func): {stats.ttest_1samp(artData, controlMean).statistic}\")\n",
    "artCritical = abs(stats.t.ppf(0.05, df=artDF))\n",
    "print(f\"critical value for a 1 tailed test with α=0.05: {artCritical}\")\n",
    "print(\"h0 can be rejected as 4.44 > 1.75\")"
   ]
  },
  {
   "cell_type": "markdown",
   "metadata": {
    "id": "BsNMPkorWppe"
   },
   "source": [
    "## **Part E**\n",
    "\n",
    "As a coffee lover, John Doe wants to know whether the price of coffee is significantly different between a sample of coffee shops in York and Leeds. To validate this, he collects the following data from various neighbourhoods in York and Leeds\n",
    "\n",
    "**York**: [1.5 , 1.5 , 1.79, 1.79, 1.79, 1.79, 1.85, 1.85, 1.85, 1.85, 1.85,\n",
    "        1.99, 1.99, 1.99, 1.99, 1.99, 1.99, 1.99, 2.  , 2.  , 2.  , 2.19,\n",
    "        2.19, 2.29, 2.29, 2.29, 2.29, 2.29, 2.5 , 2.5 ]\n",
    "        \n",
    "**Leeds**: [1.99, 1.99, 2.29, 2.29, 2.29, 2.29, 2.49, 2.49, 2.49, 2.49, 2.49,\n",
    "        2.49, 2.49, 2.49, 2.49, 2.79, 2.79, 2.79, 2.79, 2.79, 2.79, 2.79,\n",
    "        2.95, 2.95, 2.95, 2.95, 2.95, 2.95, 2.99, 2.99, 2.99, 2.99, 3.49,\n",
    "        3.49, 3.49]\n",
    "        \n",
    "\n",
    "**Perform the appropriate t test to evaluate the hypotheses for significance level 𝛼=0.05 . You must show your calculations, i.e., calculate the result analytically, but you may use the appropriate scipy.stats method to check your results. State explicitly the hypothesis and the degrees of freedom**"
   ]
  },
  {
   "cell_type": "code",
   "execution_count": 41,
   "metadata": {
    "id": "ACRs9-HJVfGP"
   },
   "outputs": [
    {
     "output_type": "stream",
     "name": "stdout",
     "text": [
      "h0: the price of coffee is the same in york and leeds.\nh1: the price of coffee in leeds is significantly different to york.\nDegrees of Freedom: 34\nthe t score of leeds' coffee prices: 11.366784495646746\nthe t score of leeds' coffee prices(func): 11.366784495646746\ncritical value: 2.032244509317719\nh0 can be rejected as 11.37 > 2.03 \n"
     ]
    }
   ],
   "source": [
    "#Write your answer here\n",
    "yorkData = [1.5 , 1.5 , 1.79, 1.79, 1.79, 1.79, 1.85, 1.85, 1.85, 1.85, 1.85,\n",
    "        1.99, 1.99, 1.99, 1.99, 1.99, 1.99, 1.99, 2.  , 2.  , 2.  , 2.19,\n",
    "        2.19, 2.29, 2.29, 2.29, 2.29, 2.29, 2.5 , 2.5 ]\n",
    "leedsData = [1.99, 1.99, 2.29, 2.29, 2.29, 2.29, 2.49, 2.49, 2.49, 2.49, 2.49,\n",
    "        2.49, 2.49, 2.49, 2.49, 2.79, 2.79, 2.79, 2.79, 2.79, 2.79, 2.79,\n",
    "        2.95, 2.95, 2.95, 2.95, 2.95, 2.95, 2.99, 2.99, 2.99, 2.99, 3.49,\n",
    "        3.49, 3.49]\n",
    "print(\"h0: the price of coffee is the same in york and leeds.\")\n",
    "print(\"h1: the price of coffee in leeds is significantly different to york.\")\n",
    "yorkMean = np.mean(yorkData)\n",
    "leedsMean = np.mean(leedsData)\n",
    "leedsSTD = np.std(leedsData, ddof=1)\n",
    "leedsN = len(leedsData)\n",
    "leedsDF = leedsN - 1\n",
    "print(f\"Degrees of Freedom: {leedsDF}\") #here we should be adding both groups together and -2 to find the overall DoF\n",
    "\n",
    "#use pooled variance (formula is on the lecture slides)\n",
    "\n",
    "leedsT = (leedsMean - yorkMean) / (leedsSTD / (m.sqrt(leedsN))) \n",
    "print(f\"the t score of leeds' coffee prices: {leedsT}\")\n",
    "print(f\"the t score of leeds' coffee prices(func): {stats.ttest_1samp(leedsData, yorkMean).statistic}\")\n",
    "leedsCritical = abs(stats.t.ppf(0.05/2, df=leedsDF))\n",
    "print(f\"critical value: {leedsCritical}\")\n",
    "print(\"h0 can be rejected as 11.37 > 2.03 \")"
   ]
  },
  {
   "cell_type": "markdown",
   "metadata": {
    "id": "gisSz8D0fsbu"
   },
   "source": [
    "## **Part F**\n",
    "\n",
    "DataVision has been commissioned by the York City Council to analyse a set of data regarding citizens of Yorkshire and extract actionable knowledge.\n",
    "\n",
    "The dataset for Yorkhire citizens is available on VLE (look for yorkshire.csv in the Practicals section)\n",
    "\n",
    "Before doing the tasks below, you may want to explore the dataset using a spreadsheet editor (e.g., Excel) to get a high-level view of the dataset."
   ]
  },
  {
   "cell_type": "markdown",
   "metadata": {
    "id": "YDCH9Lm4gOB_"
   },
   "source": [
    "**TF1) Load the Yorkshire dataset using Pandas**"
   ]
  },
  {
   "cell_type": "code",
   "execution_count": 42,
   "metadata": {
    "id": "RlF-jDGEdzCf"
   },
   "outputs": [],
   "source": [
    "#Write your answer here\n",
    "dataset = pd.read_csv(\"yorkshire.csv\")"
   ]
  },
  {
   "cell_type": "markdown",
   "metadata": {
    "id": "AJJ9lWTLgdsw"
   },
   "source": [
    "**TF2) Explore the dataset and try to understand the meaning of each variable (column). Identify which variables are categorical and which are numerical.**"
   ]
  },
  {
   "source": [
    "#Write your answer here\n",
    "\n",
    "id - categorical (nominal) - a unique id for each record\n",
    "\n",
    "age - numerical (discrete) - the amount of years old the person is\n",
    "\n",
    "gender - categorical (nominal) - the gender the person is\n",
    "\n",
    "region - categorical (nominal) - whether the person lives in the city, rurally, in a suburb etc.\n",
    "\n",
    "income - numerical (continuous) (whilst it is technically discrete, treating it this way does not make sense) -the income per annum of that person\n",
    "\n",
    "married - categorical (nominal) - person's marital status\n",
    "\n",
    "children - numerical (discrete) - amount of children the person has\n",
    "\n",
    "car - categorical (nominal) - whether or not the person has a car\n",
    "\n",
    "mortgage - categorical (nominal) - whether or not the person has a mortgage"
   ],
   "cell_type": "markdown",
   "metadata": {
    "executionInfo": {
     "elapsed": 450,
     "status": "ok",
     "timestamp": 1615105371506,
     "user": {
      "displayName": "Simos Gerasimou",
      "photoUrl": "https://lh3.googleusercontent.com/a-/AOh14GiyuWEDBGgnFKbsa3BAO5bWW-MwC5_V7MnUQz5JiA=s64",
      "userId": "13902192774339425778"
     },
     "user_tz": 0
    },
    "id": "OO7oxtFAgTjk"
   }
  },
  {
   "cell_type": "markdown",
   "metadata": {
    "id": "Io0oAY92g2el"
   },
   "source": [
    "**TF3) Get the shape of the dataframe**"
   ]
  },
  {
   "cell_type": "code",
   "execution_count": 43,
   "metadata": {
    "executionInfo": {
     "elapsed": 427,
     "status": "ok",
     "timestamp": 1615105373130,
     "user": {
      "displayName": "Simos Gerasimou",
      "photoUrl": "https://lh3.googleusercontent.com/a-/AOh14GiyuWEDBGgnFKbsa3BAO5bWW-MwC5_V7MnUQz5JiA=s64",
      "userId": "13902192774339425778"
     },
     "user_tz": 0
    },
    "id": "kxO-uY3eg0eX"
   },
   "outputs": [
    {
     "output_type": "stream",
     "name": "stdout",
     "text": [
      "shape of the dataframe: (330, 9)\n"
     ]
    }
   ],
   "source": [
    "print(f\"shape of the dataframe: {dataset.shape}\")"
   ]
  },
  {
   "cell_type": "markdown",
   "metadata": {
    "id": "kbEsguhfg79Q"
   },
   "source": [
    "**TF4) Get the columns name of the dataframe. If you think any column renaming is needed, please do it.**"
   ]
  },
  {
   "cell_type": "code",
   "execution_count": 44,
   "metadata": {
    "executionInfo": {
     "elapsed": 420,
     "status": "ok",
     "timestamp": 1615105376236,
     "user": {
      "displayName": "Simos Gerasimou",
      "photoUrl": "https://lh3.googleusercontent.com/a-/AOh14GiyuWEDBGgnFKbsa3BAO5bWW-MwC5_V7MnUQz5JiA=s64",
      "userId": "13902192774339425778"
     },
     "user_tz": 0
    },
    "id": "ClH7HgHog4_G"
   },
   "outputs": [
    {
     "output_type": "stream",
     "name": "stdout",
     "text": [
      "columns of the dataset seem fine. columns:\n"
     ]
    },
    {
     "output_type": "execute_result",
     "data": {
      "text/plain": [
       "Index(['id', 'age', 'gender', 'region', 'income', 'married', 'children', 'car',\n",
       "       'mortgage'],\n",
       "      dtype='object')"
      ]
     },
     "metadata": {},
     "execution_count": 44
    }
   ],
   "source": [
    "#Write your answer here\n",
    "print(\"columns of the dataset seem fine. columns:\")\n",
    "dataset.columns"
   ]
  },
  {
   "cell_type": "code",
   "execution_count": 45,
   "metadata": {},
   "outputs": [
    {
     "output_type": "stream",
     "name": "stdout",
     "text": [
      "gender check\n"
     ]
    },
    {
     "output_type": "execute_result",
     "data": {
      "text/plain": [
       "array(['FEMALE', 'MALE'], dtype=object)"
      ]
     },
     "metadata": {},
     "execution_count": 45
    }
   ],
   "source": [
    "print(\"gender check\")\n",
    "dataset['gender'].unique()"
   ]
  },
  {
   "cell_type": "markdown",
   "metadata": {
    "id": "hq-af6AliFwH"
   },
   "source": [
    "**The Council is interested in assessing whether there is any discrimination in annual income between genders.**\n",
    "\n",
    "**TF5) State the Null and Alternative hypotheses**"
   ]
  },
  {
   "source": [
    "#Write your answer here\n",
    "\n",
    "h0: there is no difference between average male pay and average female pay\n",
    "\n",
    "h1: the average pay for males and females are statistically significantly different"
   ],
   "cell_type": "markdown",
   "metadata": {
    "executionInfo": {
     "elapsed": 448,
     "status": "ok",
     "timestamp": 1615105378893,
     "user": {
      "displayName": "Simos Gerasimou",
      "photoUrl": "https://lh3.googleusercontent.com/a-/AOh14GiyuWEDBGgnFKbsa3BAO5bWW-MwC5_V7MnUQz5JiA=s64",
      "userId": "13902192774339425778"
     },
     "user_tz": 0
    },
    "id": "69pgKJG8iReD"
   }
  },
  {
   "cell_type": "markdown",
   "metadata": {
    "id": "36qZwhw8iaLi"
   },
   "source": [
    "**TF6) Calculate the degrees of freedom**"
   ]
  },
  {
   "cell_type": "code",
   "execution_count": 47,
   "metadata": {
    "executionInfo": {
     "elapsed": 381,
     "status": "ok",
     "timestamp": 1615105384232,
     "user": {
      "displayName": "Simos Gerasimou",
      "photoUrl": "https://lh3.googleusercontent.com/a-/AOh14GiyuWEDBGgnFKbsa3BAO5bWW-MwC5_V7MnUQz5JiA=s64",
      "userId": "13902192774339425778"
     },
     "user_tz": 0
    },
    "id": "7KGr21_biclL"
   },
   "outputs": [
    {
     "output_type": "stream",
     "name": "stdout",
     "text": [
      "there are 329 degrees of freedom\n"
     ]
    }
   ],
   "source": [
    "#Write your answer here\n",
    "degreesOfFreedom = dataset.shape[0] - 1\n",
    "print(f\"there are {degreesOfFreedom} degrees of freedom\")"
   ]
  },
  {
   "cell_type": "markdown",
   "metadata": {
    "id": "fFM_U4ecivBC"
   },
   "source": [
    "**TF7) Find the critical value for a two-tailed test with significance level α=0.05**\n",
    "\n",
    "**Hint**:\n",
    "\n",
    "* t table http://www.ttable.org\n",
    "* Confirm that the value is correct using the appropriate statistical test method from scipy.stats.t"
   ]
  },
  {
   "cell_type": "code",
   "execution_count": 56,
   "metadata": {
    "executionInfo": {
     "elapsed": 583,
     "status": "ok",
     "timestamp": 1615105387875,
     "user": {
      "displayName": "Simos Gerasimou",
      "photoUrl": "https://lh3.googleusercontent.com/a-/AOh14GiyuWEDBGgnFKbsa3BAO5bWW-MwC5_V7MnUQz5JiA=s64",
      "userId": "13902192774339425778"
     },
     "user_tz": 0
    },
    "id": "Ty6seISOiciy"
   },
   "outputs": [
    {
     "output_type": "stream",
     "name": "stdout",
     "text": [
      "the critical value for a 2 tailed test with significance level 0.05 = -1.9672006833566689\n"
     ]
    }
   ],
   "source": [
    "#Write your answer here\n",
    "criticalValue = stats.t.ppf(0.05/2, df=degreesOfFreedom)\n",
    "print(f\"the critical value for a 2 tailed test with significance level 0.05 = {criticalValue}\")"
   ]
  },
  {
   "cell_type": "markdown",
   "metadata": {
    "id": "R0Aa_it-jKLD"
   },
   "source": [
    "**TF8) Perform the appropriate t test to evaluate the hypotheses for significance level $\\alpha=0.05$. You must show your calculations, i.e., calculate the result analytically, but you may use the appropriate scipy.stats method to check your results.**"
   ]
  },
  {
   "cell_type": "code",
   "execution_count": 60,
   "metadata": {
    "executionInfo": {
     "elapsed": 434,
     "status": "ok",
     "timestamp": 1615105389467,
     "user": {
      "displayName": "Simos Gerasimou",
      "photoUrl": "https://lh3.googleusercontent.com/a-/AOh14GiyuWEDBGgnFKbsa3BAO5bWW-MwC5_V7MnUQz5JiA=s64",
      "userId": "13902192774339425778"
     },
     "user_tz": 0
    },
    "id": "LI8ngfhmicgX"
   },
   "outputs": [
    {
     "output_type": "stream",
     "name": "stdout",
     "text": [
      "the t value is: -0.7217830052215103\nthe critical value is: -1.9672006833566689\nthere is not enough evidence to reject h0\n"
     ]
    }
   ],
   "source": [
    "#Write your answer here\n",
    "maleMean = np.mean(dataset['income'][dataset['gender']=='MALE'])\n",
    "femaleMean = np.mean(dataset['income'][dataset['gender']=='FEMALE'])\n",
    "femaleSTD = np.std(dataset['income'][dataset['gender']=='FEMALE'], ddof=1)\n",
    "genderT = (femaleMean - maleMean) / (femaleSTD / (m.sqrt(dataset.shape[0])))\n",
    "print(f\"the t value is: {genderT}\")\n",
    "print(f\"the critical value is: {criticalValue}\")\n",
    "print(\"there is not enough evidence to reject h0\")"
   ]
  },
  {
   "cell_type": "markdown",
   "metadata": {
    "id": "ntgLa9fPlhgQ"
   },
   "source": [
    "**The Council is interested in assessing whether there is any discrimination in annual income between married and single citizens, and specifically whether married citizens are being paid more**"
   ]
  },
  {
   "cell_type": "markdown",
   "metadata": {
    "id": "2BchcTH4lstl"
   },
   "source": [
    "**TF9) State the Null and Alternative hypotheses**"
   ]
  },
  {
   "source": [
    "#Write your answer here\n",
    "\n",
    "h0: married and single citizens are paid the same amount on average\n",
    "\n",
    "h1: married citizens are earning a statistically significant amount more than single citizens on average"
   ],
   "cell_type": "markdown",
   "metadata": {
    "executionInfo": {
     "elapsed": 434,
     "status": "ok",
     "timestamp": 1615105397078,
     "user": {
      "displayName": "Simos Gerasimou",
      "photoUrl": "https://lh3.googleusercontent.com/a-/AOh14GiyuWEDBGgnFKbsa3BAO5bWW-MwC5_V7MnUQz5JiA=s64",
      "userId": "13902192774339425778"
     },
     "user_tz": 0
    },
    "id": "LwbDU41LicbX"
   }
  },
  {
   "cell_type": "markdown",
   "metadata": {
    "id": "UaTLx09Cl632"
   },
   "source": [
    "**TF10) Calculate the degrees of freedom**"
   ]
  },
  {
   "cell_type": "code",
   "execution_count": 61,
   "metadata": {
    "executionInfo": {
     "elapsed": 404,
     "status": "ok",
     "timestamp": 1615105398326,
     "user": {
      "displayName": "Simos Gerasimou",
      "photoUrl": "https://lh3.googleusercontent.com/a-/AOh14GiyuWEDBGgnFKbsa3BAO5bWW-MwC5_V7MnUQz5JiA=s64",
      "userId": "13902192774339425778"
     },
     "user_tz": 0
    },
    "id": "Q6KEkMTEicY3"
   },
   "outputs": [
    {
     "output_type": "stream",
     "name": "stdout",
     "text": [
      "degrees of freedom: 329\n"
     ]
    }
   ],
   "source": [
    "#Write your answer here\n",
    "print(f\"degrees of freedom: {dataset.shape[0] - 1}\")"
   ]
  },
  {
   "cell_type": "markdown",
   "metadata": {
    "id": "5ZB8VOWcmOel"
   },
   "source": [
    "**TF11) Find the critical value for the test with significance level $\\alpha =0.05$**"
   ]
  },
  {
   "cell_type": "code",
   "execution_count": 63,
   "metadata": {
    "executionInfo": {
     "elapsed": 460,
     "status": "ok",
     "timestamp": 1615105403983,
     "user": {
      "displayName": "Simos Gerasimou",
      "photoUrl": "https://lh3.googleusercontent.com/a-/AOh14GiyuWEDBGgnFKbsa3BAO5bWW-MwC5_V7MnUQz5JiA=s64",
      "userId": "13902192774339425778"
     },
     "user_tz": 0
    },
    "id": "TFaCXJJbicWC"
   },
   "outputs": [
    {
     "output_type": "stream",
     "name": "stdout",
     "text": [
      "critical value: -1.6494982925069404\n"
     ]
    }
   ],
   "source": [
    "#Write your answer here\n",
    "criticalValue = stats.t.ppf(0.05, df=degreesOfFreedom)\n",
    "print(f\"critical value: {criticalValue}\")"
   ]
  },
  {
   "cell_type": "markdown",
   "metadata": {
    "id": "2SkhqMWOnxCt"
   },
   "source": [
    "**TF12) Perform the appropriate t test to evaluate the hypotheses for significance level 𝛼=0.05 . You must show your calculations, i.e., calculate the result analytically, but you may use the appropriate scipy.stats method to check your results.**"
   ]
  },
  {
   "cell_type": "code",
   "execution_count": 66,
   "metadata": {
    "executionInfo": {
     "elapsed": 403,
     "status": "ok",
     "timestamp": 1615105404944,
     "user": {
      "displayName": "Simos Gerasimou",
      "photoUrl": "https://lh3.googleusercontent.com/a-/AOh14GiyuWEDBGgnFKbsa3BAO5bWW-MwC5_V7MnUQz5JiA=s64",
      "userId": "13902192774339425778"
     },
     "user_tz": 0
    },
    "id": "wUsT3GwuicTH"
   },
   "outputs": [
    {
     "output_type": "stream",
     "name": "stdout",
     "text": [
      "the t value: 0.5420681818223977\nthe critical value: -1.6494982925069404\nthe results are not statistically significant enough to reject h0\n"
     ]
    }
   ],
   "source": [
    "#Write your answer here\n",
    "singleMean = np.mean(dataset['income'][dataset['married']=='NO'])\n",
    "marriedMean = np.mean(dataset['income'][dataset['married']=='YES'])\n",
    "marriedSTD = np.std(dataset['income'][dataset['married']=='YES'], ddof=1)\n",
    "marriedT = (marriedMean - singleMean) / (marriedSTD / (m.sqrt(dataset.shape[0])))\n",
    "print(f\"the t value: {marriedT}\")\n",
    "print(f\"the critical value: {criticalValue}\")\n",
    "print(\"the results are not statistically significant enough to reject h0\")"
   ]
  },
  {
   "cell_type": "markdown",
   "metadata": {
    "id": "OyLz7N8piRWk"
   },
   "source": [
    "**TF13) Plot the two distributions of income for married and single citizens**"
   ]
  },
  {
   "cell_type": "code",
   "execution_count": 81,
   "metadata": {
    "executionInfo": {
     "elapsed": 452,
     "status": "ok",
     "timestamp": 1615105437433,
     "user": {
      "displayName": "Simos Gerasimou",
      "photoUrl": "https://lh3.googleusercontent.com/a-/AOh14GiyuWEDBGgnFKbsa3BAO5bWW-MwC5_V7MnUQz5JiA=s64",
      "userId": "13902192774339425778"
     },
     "user_tz": 0
    },
    "id": "uNZB3okwiROy"
   },
   "outputs": [
    {
     "output_type": "execute_result",
     "data": {
      "text/plain": [
       "<AxesSubplot:xlabel='income', ylabel='Density'>"
      ]
     },
     "metadata": {},
     "execution_count": 81
    },
    {
     "output_type": "display_data",
     "data": {
      "text/plain": "<Figure size 300x400 with 1 Axes>",
      "image/svg+xml": "<?xml version=\"1.0\" encoding=\"utf-8\" standalone=\"no\"?>\r\n<!DOCTYPE svg PUBLIC \"-//W3C//DTD SVG 1.1//EN\"\r\n  \"http://www.w3.org/Graphics/SVG/1.1/DTD/svg11.dtd\">\r\n<!-- Created with matplotlib (https://matplotlib.org/) -->\r\n<svg height=\"272.794688pt\" version=\"1.1\" viewBox=\"0 0 218.38125 272.794688\" width=\"218.38125pt\" xmlns=\"http://www.w3.org/2000/svg\" xmlns:xlink=\"http://www.w3.org/1999/xlink\">\r\n <metadata>\r\n  <rdf:RDF xmlns:cc=\"http://creativecommons.org/ns#\" xmlns:dc=\"http://purl.org/dc/elements/1.1/\" xmlns:rdf=\"http://www.w3.org/1999/02/22-rdf-syntax-ns#\">\r\n   <cc:Work>\r\n    <dc:type rdf:resource=\"http://purl.org/dc/dcmitype/StillImage\"/>\r\n    <dc:date>2021-03-07T21:09:06.112464</dc:date>\r\n    <dc:format>image/svg+xml</dc:format>\r\n    <dc:creator>\r\n     <cc:Agent>\r\n      <dc:title>Matplotlib v3.3.4, https://matplotlib.org/</dc:title>\r\n     </cc:Agent>\r\n    </dc:creator>\r\n   </cc:Work>\r\n  </rdf:RDF>\r\n </metadata>\r\n <defs>\r\n  <style type=\"text/css\">*{stroke-linecap:butt;stroke-linejoin:round;}</style>\r\n </defs>\r\n <g id=\"figure_1\">\r\n  <g id=\"patch_1\">\r\n   <path d=\"M 0 272.794688 \r\nL 218.38125 272.794688 \r\nL 218.38125 0 \r\nL 0 0 \r\nz\r\n\" style=\"fill:none;\"/>\r\n  </g>\r\n  <g id=\"axes_1\">\r\n   <g id=\"patch_2\">\r\n    <path d=\"M 43.78125 235.238438 \r\nL 211.18125 235.238438 \r\nL 211.18125 17.798438 \r\nL 43.78125 17.798438 \r\nz\r\n\" style=\"fill:#ffffff;\"/>\r\n   </g>\r\n   <g id=\"PolyCollection_1\">\r\n    <defs>\r\n     <path d=\"M 53.091667 -37.606128 \r\nL 53.091667 -37.55625 \r\nL 53.832721 -37.55625 \r\nL 54.573776 -37.55625 \r\nL 55.31483 -37.55625 \r\nL 56.055885 -37.55625 \r\nL 56.796939 -37.55625 \r\nL 57.537993 -37.55625 \r\nL 58.279048 -37.55625 \r\nL 59.020102 -37.55625 \r\nL 59.761156 -37.55625 \r\nL 60.502211 -37.55625 \r\nL 61.243265 -37.55625 \r\nL 61.98432 -37.55625 \r\nL 62.725374 -37.55625 \r\nL 63.466428 -37.55625 \r\nL 64.207483 -37.55625 \r\nL 64.948537 -37.55625 \r\nL 65.689591 -37.55625 \r\nL 66.430646 -37.55625 \r\nL 67.1717 -37.55625 \r\nL 67.912755 -37.55625 \r\nL 68.653809 -37.55625 \r\nL 69.394863 -37.55625 \r\nL 70.135918 -37.55625 \r\nL 70.876972 -37.55625 \r\nL 71.618027 -37.55625 \r\nL 72.359081 -37.55625 \r\nL 73.100135 -37.55625 \r\nL 73.84119 -37.55625 \r\nL 74.582244 -37.55625 \r\nL 75.323298 -37.55625 \r\nL 76.064353 -37.55625 \r\nL 76.805407 -37.55625 \r\nL 77.546462 -37.55625 \r\nL 78.287516 -37.55625 \r\nL 79.02857 -37.55625 \r\nL 79.769625 -37.55625 \r\nL 80.510679 -37.55625 \r\nL 81.251733 -37.55625 \r\nL 81.992788 -37.55625 \r\nL 82.733842 -37.55625 \r\nL 83.474897 -37.55625 \r\nL 84.215951 -37.55625 \r\nL 84.957005 -37.55625 \r\nL 85.69806 -37.55625 \r\nL 86.439114 -37.55625 \r\nL 87.180168 -37.55625 \r\nL 87.921223 -37.55625 \r\nL 88.662277 -37.55625 \r\nL 89.403332 -37.55625 \r\nL 90.144386 -37.55625 \r\nL 90.88544 -37.55625 \r\nL 91.626495 -37.55625 \r\nL 92.367549 -37.55625 \r\nL 93.108604 -37.55625 \r\nL 93.849658 -37.55625 \r\nL 94.590712 -37.55625 \r\nL 95.331767 -37.55625 \r\nL 96.072821 -37.55625 \r\nL 96.813875 -37.55625 \r\nL 97.55493 -37.55625 \r\nL 98.295984 -37.55625 \r\nL 99.037039 -37.55625 \r\nL 99.778093 -37.55625 \r\nL 100.519147 -37.55625 \r\nL 101.260202 -37.55625 \r\nL 102.001256 -37.55625 \r\nL 102.74231 -37.55625 \r\nL 103.483365 -37.55625 \r\nL 104.224419 -37.55625 \r\nL 104.965474 -37.55625 \r\nL 105.706528 -37.55625 \r\nL 106.447582 -37.55625 \r\nL 107.188637 -37.55625 \r\nL 107.929691 -37.55625 \r\nL 108.670746 -37.55625 \r\nL 109.4118 -37.55625 \r\nL 110.152854 -37.55625 \r\nL 110.893909 -37.55625 \r\nL 111.634963 -37.55625 \r\nL 112.376017 -37.55625 \r\nL 113.117072 -37.55625 \r\nL 113.858126 -37.55625 \r\nL 114.599181 -37.55625 \r\nL 115.340235 -37.55625 \r\nL 116.081289 -37.55625 \r\nL 116.822344 -37.55625 \r\nL 117.563398 -37.55625 \r\nL 118.304452 -37.55625 \r\nL 119.045507 -37.55625 \r\nL 119.786561 -37.55625 \r\nL 120.527616 -37.55625 \r\nL 121.26867 -37.55625 \r\nL 122.009724 -37.55625 \r\nL 122.750779 -37.55625 \r\nL 123.491833 -37.55625 \r\nL 124.232887 -37.55625 \r\nL 124.973942 -37.55625 \r\nL 125.714996 -37.55625 \r\nL 126.456051 -37.55625 \r\nL 127.197105 -37.55625 \r\nL 127.938159 -37.55625 \r\nL 128.679214 -37.55625 \r\nL 129.420268 -37.55625 \r\nL 130.161323 -37.55625 \r\nL 130.902377 -37.55625 \r\nL 131.643431 -37.55625 \r\nL 132.384486 -37.55625 \r\nL 133.12554 -37.55625 \r\nL 133.866594 -37.55625 \r\nL 134.607649 -37.55625 \r\nL 135.348703 -37.55625 \r\nL 136.089758 -37.55625 \r\nL 136.830812 -37.55625 \r\nL 137.571866 -37.55625 \r\nL 138.312921 -37.55625 \r\nL 139.053975 -37.55625 \r\nL 139.795029 -37.55625 \r\nL 140.536084 -37.55625 \r\nL 141.277138 -37.55625 \r\nL 142.018193 -37.55625 \r\nL 142.759247 -37.55625 \r\nL 143.500301 -37.55625 \r\nL 144.241356 -37.55625 \r\nL 144.98241 -37.55625 \r\nL 145.723464 -37.55625 \r\nL 146.464519 -37.55625 \r\nL 147.205573 -37.55625 \r\nL 147.946628 -37.55625 \r\nL 148.687682 -37.55625 \r\nL 149.428736 -37.55625 \r\nL 150.169791 -37.55625 \r\nL 150.910845 -37.55625 \r\nL 151.6519 -37.55625 \r\nL 152.392954 -37.55625 \r\nL 153.134008 -37.55625 \r\nL 153.875063 -37.55625 \r\nL 154.616117 -37.55625 \r\nL 155.357171 -37.55625 \r\nL 156.098226 -37.55625 \r\nL 156.83928 -37.55625 \r\nL 157.580335 -37.55625 \r\nL 158.321389 -37.55625 \r\nL 159.062443 -37.55625 \r\nL 159.803498 -37.55625 \r\nL 160.544552 -37.55625 \r\nL 161.285606 -37.55625 \r\nL 162.026661 -37.55625 \r\nL 162.767715 -37.55625 \r\nL 163.50877 -37.55625 \r\nL 164.249824 -37.55625 \r\nL 164.990878 -37.55625 \r\nL 165.731933 -37.55625 \r\nL 166.472987 -37.55625 \r\nL 167.214042 -37.55625 \r\nL 167.955096 -37.55625 \r\nL 168.69615 -37.55625 \r\nL 169.437205 -37.55625 \r\nL 170.178259 -37.55625 \r\nL 170.919313 -37.55625 \r\nL 171.660368 -37.55625 \r\nL 172.401422 -37.55625 \r\nL 173.142477 -37.55625 \r\nL 173.883531 -37.55625 \r\nL 174.624585 -37.55625 \r\nL 175.36564 -37.55625 \r\nL 176.106694 -37.55625 \r\nL 176.847748 -37.55625 \r\nL 177.588803 -37.55625 \r\nL 178.329857 -37.55625 \r\nL 179.070912 -37.55625 \r\nL 179.811966 -37.55625 \r\nL 180.55302 -37.55625 \r\nL 181.294075 -37.55625 \r\nL 182.035129 -37.55625 \r\nL 182.776183 -37.55625 \r\nL 183.517238 -37.55625 \r\nL 184.258292 -37.55625 \r\nL 184.999347 -37.55625 \r\nL 185.740401 -37.55625 \r\nL 186.481455 -37.55625 \r\nL 187.22251 -37.55625 \r\nL 187.963564 -37.55625 \r\nL 188.704619 -37.55625 \r\nL 189.445673 -37.55625 \r\nL 190.186727 -37.55625 \r\nL 190.927782 -37.55625 \r\nL 191.668836 -37.55625 \r\nL 192.40989 -37.55625 \r\nL 193.150945 -37.55625 \r\nL 193.891999 -37.55625 \r\nL 194.633054 -37.55625 \r\nL 195.374108 -37.55625 \r\nL 196.115162 -37.55625 \r\nL 196.856217 -37.55625 \r\nL 197.597271 -37.55625 \r\nL 198.338325 -37.55625 \r\nL 199.07938 -37.55625 \r\nL 199.820434 -37.55625 \r\nL 200.561489 -37.55625 \r\nL 200.561489 -37.622174 \r\nL 200.561489 -37.622174 \r\nL 199.820434 -37.646057 \r\nL 199.07938 -37.67746 \r\nL 198.338325 -37.718336 \r\nL 197.597271 -37.771012 \r\nL 196.856217 -37.838219 \r\nL 196.115162 -37.923109 \r\nL 195.374108 -38.029273 \r\nL 194.633054 -38.160728 \r\nL 193.891999 -38.321892 \r\nL 193.150945 -38.517539 \r\nL 192.40989 -38.752723 \r\nL 191.668836 -39.032676 \r\nL 190.927782 -39.362693 \r\nL 190.186727 -39.747973 \r\nL 189.445673 -40.193461 \r\nL 188.704619 -40.703666 \r\nL 187.963564 -41.282472 \r\nL 187.22251 -41.932957 \r\nL 186.481455 -42.657222 \r\nL 185.740401 -43.456241 \r\nL 184.999347 -44.32975 \r\nL 184.258292 -45.276169 \r\nL 183.517238 -46.292576 \r\nL 182.776183 -47.374742 \r\nL 182.035129 -48.517204 \r\nL 181.294075 -49.713409 \r\nL 180.55302 -50.955902 \r\nL 179.811966 -52.236549 \r\nL 179.070912 -53.546803 \r\nL 178.329857 -54.877984 \r\nL 177.588803 -56.221563 \r\nL 176.847748 -57.569439 \r\nL 176.106694 -58.914189 \r\nL 175.36564 -60.249287 \r\nL 174.624585 -61.569266 \r\nL 173.883531 -62.86983 \r\nL 173.142477 -64.147904 \r\nL 172.401422 -65.401621 \r\nL 171.660368 -66.630261 \r\nL 170.919313 -67.834132 \r\nL 170.178259 -69.014432 \r\nL 169.437205 -70.173087 \r\nL 168.69615 -71.312588 \r\nL 167.955096 -72.435857 \r\nL 167.214042 -73.546142 \r\nL 166.472987 -74.646965 \r\nL 165.731933 -75.742122 \r\nL 164.990878 -76.835743 \r\nL 164.249824 -77.932399 \r\nL 163.50877 -79.037246 \r\nL 162.767715 -80.156173 \r\nL 162.026661 -81.295945 \r\nL 161.285606 -82.464297 \r\nL 160.544552 -83.669948 \r\nL 159.803498 -84.922531 \r\nL 159.062443 -86.232386 \r\nL 158.321389 -87.610247 \r\nL 157.580335 -89.066786 \r\nL 156.83928 -90.612069 \r\nL 156.098226 -92.254919 \r\nL 155.357171 -94.002252 \r\nL 154.616117 -95.858412 \r\nL 153.875063 -97.824574 \r\nL 153.134008 -99.898258 \r\nL 152.392954 -102.073002 \r\nL 151.6519 -104.338231 \r\nL 150.910845 -106.679359 \r\nL 150.169791 -109.078121 \r\nL 149.428736 -111.513139 \r\nL 148.687682 -113.960706 \r\nL 147.946628 -116.395748 \r\nL 147.205573 -118.792914 \r\nL 146.464519 -121.127756 \r\nL 145.723464 -123.377916 \r\nL 144.98241 -125.52428 \r\nL 144.241356 -127.552021 \r\nL 143.500301 -129.451483 \r\nL 142.759247 -131.218866 \r\nL 142.018193 -132.85666 \r\nL 141.277138 -134.373808 \r\nL 140.536084 -135.785587 \r\nL 139.795029 -137.113203 \r\nL 139.053975 -138.383111 \r\nL 138.312921 -139.626082 \r\nL 137.571866 -140.876066 \r\nL 136.830812 -142.168882 \r\nL 136.089758 -143.540805 \r\nL 135.348703 -145.027107 \r\nL 134.607649 -146.660623 \r\nL 133.866594 -148.470407 \r\nL 133.12554 -150.48054 \r\nL 132.384486 -152.709158 \r\nL 131.643431 -155.167734 \r\nL 130.902377 -157.860649 \r\nL 130.161323 -160.785086 \r\nL 129.420268 -163.931213 \r\nL 128.679214 -167.282682 \r\nL 127.938159 -170.817367 \r\nL 127.197105 -174.508328 \r\nL 126.456051 -178.324928 \r\nL 125.714996 -182.234042 \r\nL 124.973942 -186.201295 \r\nL 124.232887 -190.192263 \r\nL 123.491833 -194.173578 \r\nL 122.750779 -198.113894 \r\nL 122.009724 -201.984662 \r\nL 121.26867 -205.760698 \r\nL 120.527616 -209.42053 \r\nL 119.786561 -212.946503 \r\nL 119.045507 -216.324686 \r\nL 118.304452 -219.544555 \r\nL 117.563398 -222.598516 \r\nL 116.822344 -225.481277 \r\nL 116.081289 -228.189112 \r\nL 115.340235 -230.719056 \r\nL 114.599181 -233.068075 \r\nL 113.858126 -235.23225 \r\nL 113.117072 -237.206012 \r\nL 112.376017 -238.981481 \r\nL 111.634963 -240.547934 \r\nL 110.893909 -241.891442 \r\nL 110.152854 -242.994704 \r\nL 109.4118 -243.837093 \r\nL 108.670746 -244.394926 \r\nL 107.929691 -244.641964 \r\nL 107.188637 -244.550116 \r\nL 106.447582 -244.090335 \r\nL 105.706528 -243.233658 \r\nL 104.965474 -241.952353 \r\nL 104.224419 -240.221114 \r\nL 103.483365 -238.01824 \r\nL 102.74231 -235.326749 \r\nL 102.001256 -232.135367 \r\nL 101.260202 -228.439341 \r\nL 100.519147 -224.241042 \r\nL 99.778093 -219.550334 \r\nL 99.037039 -214.384695 \r\nL 98.295984 -208.769095 \r\nL 97.55493 -202.735643 \r\nL 96.813875 -196.323041 \r\nL 96.072821 -189.575856 \r\nL 95.331767 -182.543664 \r\nL 94.590712 -175.280101 \r\nL 93.849658 -167.841849 \r\nL 93.108604 -160.287582 \r\nL 92.367549 -152.676922 \r\nL 91.626495 -145.069391 \r\nL 90.88544 -137.523399 \r\nL 90.144386 -130.095265 \r\nL 89.403332 -122.838294 \r\nL 88.662277 -115.801898 \r\nL 87.921223 -109.030805 \r\nL 87.180168 -102.564341 \r\nL 86.439114 -96.435816 \r\nL 85.69806 -90.672046 \r\nL 84.957005 -85.293005 \r\nL 84.215951 -80.311649 \r\nL 83.474897 -75.733922 \r\nL 82.733842 -71.558946 \r\nL 81.992788 -67.779409 \r\nL 81.251733 -64.38213 \r\nL 80.510679 -61.348791 \r\nL 79.769625 -58.656808 \r\nL 79.02857 -56.280291 \r\nL 78.287516 -54.191075 \r\nL 77.546462 -52.359743 \r\nL 76.805407 -50.756622 \r\nL 76.064353 -49.352695 \r\nL 75.323298 -48.120394 \r\nL 74.582244 -47.034242 \r\nL 73.84119 -46.071337 \r\nL 73.100135 -45.211654 \r\nL 72.359081 -44.438181 \r\nL 71.618027 -43.7369 \r\nL 70.876972 -43.09663 \r\nL 70.135918 -42.508765 \r\nL 69.394863 -41.966932 \r\nL 68.653809 -41.466607 \r\nL 67.912755 -41.004713 \r\nL 67.1717 -40.579227 \r\nL 66.430646 -40.188827 \r\nL 65.689591 -39.832578 \r\nL 64.948537 -39.509683 \r\nL 64.207483 -39.219292 \r\nL 63.466428 -38.960375 \r\nL 62.725374 -38.73165 \r\nL 61.98432 -38.531557 \r\nL 61.243265 -38.358274 \r\nL 60.502211 -38.209763 \r\nL 59.761156 -38.083822 \r\nL 59.020102 -37.978162 \r\nL 58.279048 -37.890471 \r\nL 57.537993 -37.818481 \r\nL 56.796939 -37.760022 \r\nL 56.055885 -37.713066 \r\nL 55.31483 -37.67576 \r\nL 54.573776 -37.646443 \r\nL 53.832721 -37.623652 \r\nL 53.091667 -37.606128 \r\nz\r\n\" id=\"m1f928e751a\" style=\"stroke:#0000ff;\"/>\r\n    </defs>\r\n    <g clip-path=\"url(#p1e4d17f40d)\">\r\n     <use style=\"fill:#0000ff;fill-opacity:0.25;stroke:#0000ff;\" x=\"0\" xlink:href=\"#m1f928e751a\" y=\"272.794688\"/>\r\n    </g>\r\n   </g>\r\n   <g id=\"PolyCollection_2\">\r\n    <defs>\r\n     <path d=\"M 51.390341 -37.625952 \r\nL 51.390341 -37.55625 \r\nL 52.155074 -37.55625 \r\nL 52.919806 -37.55625 \r\nL 53.684539 -37.55625 \r\nL 54.449272 -37.55625 \r\nL 55.214005 -37.55625 \r\nL 55.978737 -37.55625 \r\nL 56.74347 -37.55625 \r\nL 57.508203 -37.55625 \r\nL 58.272936 -37.55625 \r\nL 59.037668 -37.55625 \r\nL 59.802401 -37.55625 \r\nL 60.567134 -37.55625 \r\nL 61.331867 -37.55625 \r\nL 62.096599 -37.55625 \r\nL 62.861332 -37.55625 \r\nL 63.626065 -37.55625 \r\nL 64.390798 -37.55625 \r\nL 65.15553 -37.55625 \r\nL 65.920263 -37.55625 \r\nL 66.684996 -37.55625 \r\nL 67.449729 -37.55625 \r\nL 68.214462 -37.55625 \r\nL 68.979194 -37.55625 \r\nL 69.743927 -37.55625 \r\nL 70.50866 -37.55625 \r\nL 71.273393 -37.55625 \r\nL 72.038125 -37.55625 \r\nL 72.802858 -37.55625 \r\nL 73.567591 -37.55625 \r\nL 74.332324 -37.55625 \r\nL 75.097056 -37.55625 \r\nL 75.861789 -37.55625 \r\nL 76.626522 -37.55625 \r\nL 77.391255 -37.55625 \r\nL 78.155987 -37.55625 \r\nL 78.92072 -37.55625 \r\nL 79.685453 -37.55625 \r\nL 80.450186 -37.55625 \r\nL 81.214918 -37.55625 \r\nL 81.979651 -37.55625 \r\nL 82.744384 -37.55625 \r\nL 83.509117 -37.55625 \r\nL 84.273849 -37.55625 \r\nL 85.038582 -37.55625 \r\nL 85.803315 -37.55625 \r\nL 86.568048 -37.55625 \r\nL 87.33278 -37.55625 \r\nL 88.097513 -37.55625 \r\nL 88.862246 -37.55625 \r\nL 89.626979 -37.55625 \r\nL 90.391711 -37.55625 \r\nL 91.156444 -37.55625 \r\nL 91.921177 -37.55625 \r\nL 92.68591 -37.55625 \r\nL 93.450642 -37.55625 \r\nL 94.215375 -37.55625 \r\nL 94.980108 -37.55625 \r\nL 95.744841 -37.55625 \r\nL 96.509573 -37.55625 \r\nL 97.274306 -37.55625 \r\nL 98.039039 -37.55625 \r\nL 98.803772 -37.55625 \r\nL 99.568504 -37.55625 \r\nL 100.333237 -37.55625 \r\nL 101.09797 -37.55625 \r\nL 101.862703 -37.55625 \r\nL 102.627435 -37.55625 \r\nL 103.392168 -37.55625 \r\nL 104.156901 -37.55625 \r\nL 104.921634 -37.55625 \r\nL 105.686366 -37.55625 \r\nL 106.451099 -37.55625 \r\nL 107.215832 -37.55625 \r\nL 107.980565 -37.55625 \r\nL 108.745298 -37.55625 \r\nL 109.51003 -37.55625 \r\nL 110.274763 -37.55625 \r\nL 111.039496 -37.55625 \r\nL 111.804229 -37.55625 \r\nL 112.568961 -37.55625 \r\nL 113.333694 -37.55625 \r\nL 114.098427 -37.55625 \r\nL 114.86316 -37.55625 \r\nL 115.627892 -37.55625 \r\nL 116.392625 -37.55625 \r\nL 117.157358 -37.55625 \r\nL 117.922091 -37.55625 \r\nL 118.686823 -37.55625 \r\nL 119.451556 -37.55625 \r\nL 120.216289 -37.55625 \r\nL 120.981022 -37.55625 \r\nL 121.745754 -37.55625 \r\nL 122.510487 -37.55625 \r\nL 123.27522 -37.55625 \r\nL 124.039953 -37.55625 \r\nL 124.804685 -37.55625 \r\nL 125.569418 -37.55625 \r\nL 126.334151 -37.55625 \r\nL 127.098884 -37.55625 \r\nL 127.863616 -37.55625 \r\nL 128.628349 -37.55625 \r\nL 129.393082 -37.55625 \r\nL 130.157815 -37.55625 \r\nL 130.922547 -37.55625 \r\nL 131.68728 -37.55625 \r\nL 132.452013 -37.55625 \r\nL 133.216746 -37.55625 \r\nL 133.981478 -37.55625 \r\nL 134.746211 -37.55625 \r\nL 135.510944 -37.55625 \r\nL 136.275677 -37.55625 \r\nL 137.040409 -37.55625 \r\nL 137.805142 -37.55625 \r\nL 138.569875 -37.55625 \r\nL 139.334608 -37.55625 \r\nL 140.09934 -37.55625 \r\nL 140.864073 -37.55625 \r\nL 141.628806 -37.55625 \r\nL 142.393539 -37.55625 \r\nL 143.158271 -37.55625 \r\nL 143.923004 -37.55625 \r\nL 144.687737 -37.55625 \r\nL 145.45247 -37.55625 \r\nL 146.217202 -37.55625 \r\nL 146.981935 -37.55625 \r\nL 147.746668 -37.55625 \r\nL 148.511401 -37.55625 \r\nL 149.276134 -37.55625 \r\nL 150.040866 -37.55625 \r\nL 150.805599 -37.55625 \r\nL 151.570332 -37.55625 \r\nL 152.335065 -37.55625 \r\nL 153.099797 -37.55625 \r\nL 153.86453 -37.55625 \r\nL 154.629263 -37.55625 \r\nL 155.393996 -37.55625 \r\nL 156.158728 -37.55625 \r\nL 156.923461 -37.55625 \r\nL 157.688194 -37.55625 \r\nL 158.452927 -37.55625 \r\nL 159.217659 -37.55625 \r\nL 159.982392 -37.55625 \r\nL 160.747125 -37.55625 \r\nL 161.511858 -37.55625 \r\nL 162.27659 -37.55625 \r\nL 163.041323 -37.55625 \r\nL 163.806056 -37.55625 \r\nL 164.570789 -37.55625 \r\nL 165.335521 -37.55625 \r\nL 166.100254 -37.55625 \r\nL 166.864987 -37.55625 \r\nL 167.62972 -37.55625 \r\nL 168.394452 -37.55625 \r\nL 169.159185 -37.55625 \r\nL 169.923918 -37.55625 \r\nL 170.688651 -37.55625 \r\nL 171.453383 -37.55625 \r\nL 172.218116 -37.55625 \r\nL 172.982849 -37.55625 \r\nL 173.747582 -37.55625 \r\nL 174.512314 -37.55625 \r\nL 175.277047 -37.55625 \r\nL 176.04178 -37.55625 \r\nL 176.806513 -37.55625 \r\nL 177.571245 -37.55625 \r\nL 178.335978 -37.55625 \r\nL 179.100711 -37.55625 \r\nL 179.865444 -37.55625 \r\nL 180.630176 -37.55625 \r\nL 181.394909 -37.55625 \r\nL 182.159642 -37.55625 \r\nL 182.924375 -37.55625 \r\nL 183.689107 -37.55625 \r\nL 184.45384 -37.55625 \r\nL 185.218573 -37.55625 \r\nL 185.983306 -37.55625 \r\nL 186.748038 -37.55625 \r\nL 187.512771 -37.55625 \r\nL 188.277504 -37.55625 \r\nL 189.042237 -37.55625 \r\nL 189.80697 -37.55625 \r\nL 190.571702 -37.55625 \r\nL 191.336435 -37.55625 \r\nL 192.101168 -37.55625 \r\nL 192.865901 -37.55625 \r\nL 193.630633 -37.55625 \r\nL 194.395366 -37.55625 \r\nL 195.160099 -37.55625 \r\nL 195.924832 -37.55625 \r\nL 196.689564 -37.55625 \r\nL 197.454297 -37.55625 \r\nL 198.21903 -37.55625 \r\nL 198.983763 -37.55625 \r\nL 199.748495 -37.55625 \r\nL 200.513228 -37.55625 \r\nL 201.277961 -37.55625 \r\nL 202.042694 -37.55625 \r\nL 202.807426 -37.55625 \r\nL 203.572159 -37.55625 \r\nL 203.572159 -37.630741 \r\nL 203.572159 -37.630741 \r\nL 202.807426 -37.654642 \r\nL 202.042694 -37.685284 \r\nL 201.277961 -37.724262 \r\nL 200.513228 -37.773462 \r\nL 199.748495 -37.835086 \r\nL 198.983763 -37.911675 \r\nL 198.21903 -38.006128 \r\nL 197.454297 -38.121716 \r\nL 196.689564 -38.262076 \r\nL 195.924832 -38.431205 \r\nL 195.160099 -38.633429 \r\nL 194.395366 -38.87336 \r\nL 193.630633 -39.155837 \r\nL 192.865901 -39.485843 \r\nL 192.101168 -39.868401 \r\nL 191.336435 -40.30846 \r\nL 190.571702 -40.810756 \r\nL 189.80697 -41.379659 \r\nL 189.042237 -42.019015 \r\nL 188.277504 -42.731974 \r\nL 187.512771 -43.520827 \r\nL 186.748038 -44.386845 \r\nL 185.983306 -45.330128 \r\nL 185.218573 -46.349486 \r\nL 184.45384 -47.442332 \r\nL 183.689107 -48.604622 \r\nL 182.924375 -49.830833 \r\nL 182.159642 -51.113975 \r\nL 181.394909 -52.445661 \r\nL 180.630176 -53.816216 \r\nL 179.865444 -55.214843 \r\nL 179.100711 -56.629821 \r\nL 178.335978 -58.048753 \r\nL 177.571245 -59.45884 \r\nL 176.806513 -60.847192 \r\nL 176.04178 -62.201145 \r\nL 175.277047 -63.508593 \r\nL 174.512314 -64.758323 \r\nL 173.747582 -65.94033 \r\nL 172.982849 -67.046113 \r\nL 172.218116 -68.068949 \r\nL 171.453383 -69.004119 \r\nL 170.688651 -69.849096 \r\nL 169.923918 -70.603675 \r\nL 169.159185 -71.270058 \r\nL 168.394452 -71.852872 \r\nL 167.62972 -72.359136 \r\nL 166.864987 -72.798172 \r\nL 166.100254 -73.181461 \r\nL 165.335521 -73.522447 \r\nL 164.570789 -73.83631 \r\nL 163.806056 -74.13969 \r\nL 163.041323 -74.450391 \r\nL 162.27659 -74.787059 \r\nL 161.511858 -75.16885 \r\nL 160.747125 -75.615085 \r\nL 159.982392 -76.144909 \r\nL 159.217659 -76.776948 \r\nL 158.452927 -77.528973 \r\nL 157.688194 -78.417577 \r\nL 156.923461 -79.457858 \r\nL 156.158728 -80.663122 \r\nL 155.393996 -82.044603 \r\nL 154.629263 -83.611204 \r\nL 153.86453 -85.369262 \r\nL 153.099797 -87.32236 \r\nL 152.335065 -89.471172 \r\nL 151.570332 -91.813367 \r\nL 150.805599 -94.343581 \r\nL 150.040866 -97.053464 \r\nL 149.276134 -99.931815 \r\nL 148.511401 -102.964808 \r\nL 147.746668 -106.136325 \r\nL 146.981935 -109.428376 \r\nL 146.217202 -112.821612 \r\nL 145.45247 -116.295914 \r\nL 144.687737 -119.831037 \r\nL 143.923004 -123.407283 \r\nL 143.158271 -127.00617 \r\nL 142.393539 -130.611069 \r\nL 141.628806 -134.207764 \r\nL 140.864073 -137.784906 \r\nL 140.09934 -141.334334 \r\nL 139.334608 -144.851226 \r\nL 138.569875 -148.334069 \r\nL 137.805142 -151.784446 \r\nL 137.040409 -155.206632 \r\nL 136.275677 -158.607012 \r\nL 135.510944 -161.993359 \r\nL 134.746211 -165.373987 \r\nL 133.981478 -168.756834 \r\nL 133.216746 -172.148508 \r\nL 132.452013 -175.553366 \r\nL 131.68728 -178.972651 \r\nL 130.922547 -182.403759 \r\nL 130.157815 -185.839664 \r\nL 129.393082 -189.268542 \r\nL 128.628349 -192.673629 \r\nL 127.863616 -196.033316 \r\nL 127.098884 -199.321502 \r\nL 126.334151 -202.508194 \r\nL 125.569418 -205.560339 \r\nL 124.804685 -208.44285 \r\nL 124.039953 -211.119809 \r\nL 123.27522 -213.55578 \r\nL 122.510487 -215.717188 \r\nL 121.745754 -217.573699 \r\nL 120.981022 -219.099547 \r\nL 120.216289 -220.274735 \r\nL 119.451556 -221.086059 \r\nL 118.686823 -221.527891 \r\nL 117.922091 -221.602693 \r\nL 117.157358 -221.321199 \r\nL 116.392625 -220.702274 \r\nL 115.627892 -219.772419 \r\nL 114.86316 -218.564945 \r\nL 114.098427 -217.118838 \r\nL 113.333694 -215.477352 \r\nL 112.568961 -213.686396 \r\nL 111.804229 -211.792775 \r\nL 111.039496 -209.842361 \r\nL 110.274763 -207.878284 \r\nL 109.51003 -205.939217 \r\nL 108.745298 -204.05784 \r\nL 107.980565 -202.259547 \r\nL 107.215832 -200.561474 \r\nL 106.451099 -198.971865 \r\nL 105.686366 -197.489834 \r\nL 104.921634 -196.10551 \r\nL 104.156901 -194.800568 \r\nL 103.392168 -193.549114 \r\nL 102.627435 -192.318877 \r\nL 101.862703 -191.072657 \r\nL 101.09797 -189.769951 \r\nL 100.333237 -188.368685 \r\nL 99.568504 -186.826981 \r\nL 98.803772 -185.104861 \r\nL 98.039039 -183.165843 \r\nL 97.274306 -180.97834 \r\nL 96.509573 -178.516829 \r\nL 95.744841 -175.76274 \r\nL 94.980108 -172.705046 \r\nL 94.215375 -169.340543 \r\nL 93.450642 -165.673829 \r\nL 92.68591 -161.71699 \r\nL 91.921177 -157.489048 \r\nL 91.156444 -153.015171 \r\nL 90.391711 -148.325739 \r\nL 89.626979 -143.455269 \r\nL 88.862246 -138.441292 \r\nL 88.097513 -133.323194 \r\nL 87.33278 -128.141104 \r\nL 86.568048 -122.934835 \r\nL 85.803315 -117.742937 \r\nL 85.038582 -112.601876 \r\nL 84.273849 -107.545357 \r\nL 83.509117 -102.603806 \r\nL 82.744384 -97.804001 \r\nL 81.979651 -93.168863 \r\nL 81.214918 -88.71738 \r\nL 80.450186 -84.464654 \r\nL 79.685453 -80.422052 \r\nL 78.92072 -76.597445 \r\nL 78.155987 -72.995499 \r\nL 77.391255 -69.61801 \r\nL 76.626522 -66.464264 \r\nL 75.861789 -63.53139 \r\nL 75.097056 -60.814711 \r\nL 74.332324 -58.308074 \r\nL 73.567591 -56.004142 \r\nL 72.802858 -53.894664 \r\nL 72.038125 -51.970707 \r\nL 71.273393 -50.222845 \r\nL 70.50866 -48.64133 \r\nL 69.743927 -47.216228 \r\nL 68.979194 -45.937527 \r\nL 68.214462 -44.795235 \r\nL 67.449729 -43.779453 \r\nL 66.684996 -42.880446 \r\nL 65.920263 -42.088701 \r\nL 65.15553 -41.394972 \r\nL 64.390798 -40.790337 \r\nL 63.626065 -40.266233 \r\nL 62.861332 -39.814495 \r\nL 62.096599 -39.427397 \r\nL 61.331867 -39.097671 \r\nL 60.567134 -38.818538 \r\nL 59.802401 -38.58372 \r\nL 59.037668 -38.387449 \r\nL 58.272936 -38.224473 \r\nL 57.508203 -38.090046 \r\nL 56.74347 -37.979919 \r\nL 55.978737 -37.890321 \r\nL 55.214005 -37.817932 \r\nL 54.449272 -37.759862 \r\nL 53.684539 -37.713609 \r\nL 52.919806 -37.677035 \r\nL 52.155074 -37.648325 \r\nL 51.390341 -37.625952 \r\nz\r\n\" id=\"m082d5f6f5c\" style=\"stroke:#ff0000;\"/>\r\n    </defs>\r\n    <g clip-path=\"url(#p1e4d17f40d)\">\r\n     <use style=\"fill:#ff0000;fill-opacity:0.25;stroke:#ff0000;\" x=\"0\" xlink:href=\"#m082d5f6f5c\" y=\"272.794688\"/>\r\n    </g>\r\n   </g>\r\n   <g id=\"matplotlib.axis_1\">\r\n    <g id=\"xtick_1\">\r\n     <g id=\"line2d_1\">\r\n      <defs>\r\n       <path d=\"M 0 0 \r\nL 0 3.5 \r\n\" id=\"m731432bdeb\" style=\"stroke:#000000;stroke-width:0.8;\"/>\r\n      </defs>\r\n      <g>\r\n       <use style=\"stroke:#000000;stroke-width:0.8;\" x=\"74.260211\" xlink:href=\"#m731432bdeb\" y=\"235.238438\"/>\r\n      </g>\r\n     </g>\r\n     <g id=\"text_1\">\r\n      <!-- 0 -->\r\n      <g transform=\"translate(71.078961 249.836875)scale(0.1 -0.1)\">\r\n       <defs>\r\n        <path d=\"M 31.78125 66.40625 \r\nQ 24.171875 66.40625 20.328125 58.90625 \r\nQ 16.5 51.421875 16.5 36.375 \r\nQ 16.5 21.390625 20.328125 13.890625 \r\nQ 24.171875 6.390625 31.78125 6.390625 \r\nQ 39.453125 6.390625 43.28125 13.890625 \r\nQ 47.125 21.390625 47.125 36.375 \r\nQ 47.125 51.421875 43.28125 58.90625 \r\nQ 39.453125 66.40625 31.78125 66.40625 \r\nz\r\nM 31.78125 74.21875 \r\nQ 44.046875 74.21875 50.515625 64.515625 \r\nQ 56.984375 54.828125 56.984375 36.375 \r\nQ 56.984375 17.96875 50.515625 8.265625 \r\nQ 44.046875 -1.421875 31.78125 -1.421875 \r\nQ 19.53125 -1.421875 13.0625 8.265625 \r\nQ 6.59375 17.96875 6.59375 36.375 \r\nQ 6.59375 54.828125 13.0625 64.515625 \r\nQ 19.53125 74.21875 31.78125 74.21875 \r\nz\r\n\" id=\"DejaVuSans-48\"/>\r\n       </defs>\r\n       <use xlink:href=\"#DejaVuSans-48\"/>\r\n      </g>\r\n     </g>\r\n    </g>\r\n    <g id=\"xtick_2\">\r\n     <g id=\"line2d_2\">\r\n      <g>\r\n       <use style=\"stroke:#000000;stroke-width:0.8;\" x=\"109.065546\" xlink:href=\"#m731432bdeb\" y=\"235.238438\"/>\r\n      </g>\r\n     </g>\r\n     <g id=\"text_2\">\r\n      <!-- 20000 -->\r\n      <g transform=\"translate(93.159296 249.836875)scale(0.1 -0.1)\">\r\n       <defs>\r\n        <path d=\"M 19.1875 8.296875 \r\nL 53.609375 8.296875 \r\nL 53.609375 0 \r\nL 7.328125 0 \r\nL 7.328125 8.296875 \r\nQ 12.9375 14.109375 22.625 23.890625 \r\nQ 32.328125 33.6875 34.8125 36.53125 \r\nQ 39.546875 41.84375 41.421875 45.53125 \r\nQ 43.3125 49.21875 43.3125 52.78125 \r\nQ 43.3125 58.59375 39.234375 62.25 \r\nQ 35.15625 65.921875 28.609375 65.921875 \r\nQ 23.96875 65.921875 18.8125 64.3125 \r\nQ 13.671875 62.703125 7.8125 59.421875 \r\nL 7.8125 69.390625 \r\nQ 13.765625 71.78125 18.9375 73 \r\nQ 24.125 74.21875 28.421875 74.21875 \r\nQ 39.75 74.21875 46.484375 68.546875 \r\nQ 53.21875 62.890625 53.21875 53.421875 \r\nQ 53.21875 48.921875 51.53125 44.890625 \r\nQ 49.859375 40.875 45.40625 35.40625 \r\nQ 44.1875 33.984375 37.640625 27.21875 \r\nQ 31.109375 20.453125 19.1875 8.296875 \r\nz\r\n\" id=\"DejaVuSans-50\"/>\r\n       </defs>\r\n       <use xlink:href=\"#DejaVuSans-50\"/>\r\n       <use x=\"63.623047\" xlink:href=\"#DejaVuSans-48\"/>\r\n       <use x=\"127.246094\" xlink:href=\"#DejaVuSans-48\"/>\r\n       <use x=\"190.869141\" xlink:href=\"#DejaVuSans-48\"/>\r\n       <use x=\"254.492188\" xlink:href=\"#DejaVuSans-48\"/>\r\n      </g>\r\n     </g>\r\n    </g>\r\n    <g id=\"xtick_3\">\r\n     <g id=\"line2d_3\">\r\n      <g>\r\n       <use style=\"stroke:#000000;stroke-width:0.8;\" x=\"143.87088\" xlink:href=\"#m731432bdeb\" y=\"235.238438\"/>\r\n      </g>\r\n     </g>\r\n     <g id=\"text_3\">\r\n      <!-- 40000 -->\r\n      <g transform=\"translate(127.96463 249.836875)scale(0.1 -0.1)\">\r\n       <defs>\r\n        <path d=\"M 37.796875 64.3125 \r\nL 12.890625 25.390625 \r\nL 37.796875 25.390625 \r\nz\r\nM 35.203125 72.90625 \r\nL 47.609375 72.90625 \r\nL 47.609375 25.390625 \r\nL 58.015625 25.390625 \r\nL 58.015625 17.1875 \r\nL 47.609375 17.1875 \r\nL 47.609375 0 \r\nL 37.796875 0 \r\nL 37.796875 17.1875 \r\nL 4.890625 17.1875 \r\nL 4.890625 26.703125 \r\nz\r\n\" id=\"DejaVuSans-52\"/>\r\n       </defs>\r\n       <use xlink:href=\"#DejaVuSans-52\"/>\r\n       <use x=\"63.623047\" xlink:href=\"#DejaVuSans-48\"/>\r\n       <use x=\"127.246094\" xlink:href=\"#DejaVuSans-48\"/>\r\n       <use x=\"190.869141\" xlink:href=\"#DejaVuSans-48\"/>\r\n       <use x=\"254.492188\" xlink:href=\"#DejaVuSans-48\"/>\r\n      </g>\r\n     </g>\r\n    </g>\r\n    <g id=\"xtick_4\">\r\n     <g id=\"line2d_4\">\r\n      <g>\r\n       <use style=\"stroke:#000000;stroke-width:0.8;\" x=\"178.676214\" xlink:href=\"#m731432bdeb\" y=\"235.238438\"/>\r\n      </g>\r\n     </g>\r\n     <g id=\"text_4\">\r\n      <!-- 60000 -->\r\n      <g transform=\"translate(162.769964 249.836875)scale(0.1 -0.1)\">\r\n       <defs>\r\n        <path d=\"M 33.015625 40.375 \r\nQ 26.375 40.375 22.484375 35.828125 \r\nQ 18.609375 31.296875 18.609375 23.390625 \r\nQ 18.609375 15.53125 22.484375 10.953125 \r\nQ 26.375 6.390625 33.015625 6.390625 \r\nQ 39.65625 6.390625 43.53125 10.953125 \r\nQ 47.40625 15.53125 47.40625 23.390625 \r\nQ 47.40625 31.296875 43.53125 35.828125 \r\nQ 39.65625 40.375 33.015625 40.375 \r\nz\r\nM 52.59375 71.296875 \r\nL 52.59375 62.3125 \r\nQ 48.875 64.0625 45.09375 64.984375 \r\nQ 41.3125 65.921875 37.59375 65.921875 \r\nQ 27.828125 65.921875 22.671875 59.328125 \r\nQ 17.53125 52.734375 16.796875 39.40625 \r\nQ 19.671875 43.65625 24.015625 45.921875 \r\nQ 28.375 48.1875 33.59375 48.1875 \r\nQ 44.578125 48.1875 50.953125 41.515625 \r\nQ 57.328125 34.859375 57.328125 23.390625 \r\nQ 57.328125 12.15625 50.6875 5.359375 \r\nQ 44.046875 -1.421875 33.015625 -1.421875 \r\nQ 20.359375 -1.421875 13.671875 8.265625 \r\nQ 6.984375 17.96875 6.984375 36.375 \r\nQ 6.984375 53.65625 15.1875 63.9375 \r\nQ 23.390625 74.21875 37.203125 74.21875 \r\nQ 40.921875 74.21875 44.703125 73.484375 \r\nQ 48.484375 72.75 52.59375 71.296875 \r\nz\r\n\" id=\"DejaVuSans-54\"/>\r\n       </defs>\r\n       <use xlink:href=\"#DejaVuSans-54\"/>\r\n       <use x=\"63.623047\" xlink:href=\"#DejaVuSans-48\"/>\r\n       <use x=\"127.246094\" xlink:href=\"#DejaVuSans-48\"/>\r\n       <use x=\"190.869141\" xlink:href=\"#DejaVuSans-48\"/>\r\n       <use x=\"254.492188\" xlink:href=\"#DejaVuSans-48\"/>\r\n      </g>\r\n     </g>\r\n    </g>\r\n    <g id=\"text_5\">\r\n     <!-- income -->\r\n     <g transform=\"translate(109.167969 263.515)scale(0.1 -0.1)\">\r\n      <defs>\r\n       <path d=\"M 9.421875 54.6875 \r\nL 18.40625 54.6875 \r\nL 18.40625 0 \r\nL 9.421875 0 \r\nz\r\nM 9.421875 75.984375 \r\nL 18.40625 75.984375 \r\nL 18.40625 64.59375 \r\nL 9.421875 64.59375 \r\nz\r\n\" id=\"DejaVuSans-105\"/>\r\n       <path d=\"M 54.890625 33.015625 \r\nL 54.890625 0 \r\nL 45.90625 0 \r\nL 45.90625 32.71875 \r\nQ 45.90625 40.484375 42.875 44.328125 \r\nQ 39.84375 48.1875 33.796875 48.1875 \r\nQ 26.515625 48.1875 22.3125 43.546875 \r\nQ 18.109375 38.921875 18.109375 30.90625 \r\nL 18.109375 0 \r\nL 9.078125 0 \r\nL 9.078125 54.6875 \r\nL 18.109375 54.6875 \r\nL 18.109375 46.1875 \r\nQ 21.34375 51.125 25.703125 53.5625 \r\nQ 30.078125 56 35.796875 56 \r\nQ 45.21875 56 50.046875 50.171875 \r\nQ 54.890625 44.34375 54.890625 33.015625 \r\nz\r\n\" id=\"DejaVuSans-110\"/>\r\n       <path d=\"M 48.78125 52.59375 \r\nL 48.78125 44.1875 \r\nQ 44.96875 46.296875 41.140625 47.34375 \r\nQ 37.3125 48.390625 33.40625 48.390625 \r\nQ 24.65625 48.390625 19.8125 42.84375 \r\nQ 14.984375 37.3125 14.984375 27.296875 \r\nQ 14.984375 17.28125 19.8125 11.734375 \r\nQ 24.65625 6.203125 33.40625 6.203125 \r\nQ 37.3125 6.203125 41.140625 7.25 \r\nQ 44.96875 8.296875 48.78125 10.40625 \r\nL 48.78125 2.09375 \r\nQ 45.015625 0.34375 40.984375 -0.53125 \r\nQ 36.96875 -1.421875 32.421875 -1.421875 \r\nQ 20.0625 -1.421875 12.78125 6.34375 \r\nQ 5.515625 14.109375 5.515625 27.296875 \r\nQ 5.515625 40.671875 12.859375 48.328125 \r\nQ 20.21875 56 33.015625 56 \r\nQ 37.15625 56 41.109375 55.140625 \r\nQ 45.0625 54.296875 48.78125 52.59375 \r\nz\r\n\" id=\"DejaVuSans-99\"/>\r\n       <path d=\"M 30.609375 48.390625 \r\nQ 23.390625 48.390625 19.1875 42.75 \r\nQ 14.984375 37.109375 14.984375 27.296875 \r\nQ 14.984375 17.484375 19.15625 11.84375 \r\nQ 23.34375 6.203125 30.609375 6.203125 \r\nQ 37.796875 6.203125 41.984375 11.859375 \r\nQ 46.1875 17.53125 46.1875 27.296875 \r\nQ 46.1875 37.015625 41.984375 42.703125 \r\nQ 37.796875 48.390625 30.609375 48.390625 \r\nz\r\nM 30.609375 56 \r\nQ 42.328125 56 49.015625 48.375 \r\nQ 55.71875 40.765625 55.71875 27.296875 \r\nQ 55.71875 13.875 49.015625 6.21875 \r\nQ 42.328125 -1.421875 30.609375 -1.421875 \r\nQ 18.84375 -1.421875 12.171875 6.21875 \r\nQ 5.515625 13.875 5.515625 27.296875 \r\nQ 5.515625 40.765625 12.171875 48.375 \r\nQ 18.84375 56 30.609375 56 \r\nz\r\n\" id=\"DejaVuSans-111\"/>\r\n       <path d=\"M 52 44.1875 \r\nQ 55.375 50.25 60.0625 53.125 \r\nQ 64.75 56 71.09375 56 \r\nQ 79.640625 56 84.28125 50.015625 \r\nQ 88.921875 44.046875 88.921875 33.015625 \r\nL 88.921875 0 \r\nL 79.890625 0 \r\nL 79.890625 32.71875 \r\nQ 79.890625 40.578125 77.09375 44.375 \r\nQ 74.3125 48.1875 68.609375 48.1875 \r\nQ 61.625 48.1875 57.5625 43.546875 \r\nQ 53.515625 38.921875 53.515625 30.90625 \r\nL 53.515625 0 \r\nL 44.484375 0 \r\nL 44.484375 32.71875 \r\nQ 44.484375 40.625 41.703125 44.40625 \r\nQ 38.921875 48.1875 33.109375 48.1875 \r\nQ 26.21875 48.1875 22.15625 43.53125 \r\nQ 18.109375 38.875 18.109375 30.90625 \r\nL 18.109375 0 \r\nL 9.078125 0 \r\nL 9.078125 54.6875 \r\nL 18.109375 54.6875 \r\nL 18.109375 46.1875 \r\nQ 21.1875 51.21875 25.484375 53.609375 \r\nQ 29.78125 56 35.6875 56 \r\nQ 41.65625 56 45.828125 52.96875 \r\nQ 50 49.953125 52 44.1875 \r\nz\r\n\" id=\"DejaVuSans-109\"/>\r\n       <path d=\"M 56.203125 29.59375 \r\nL 56.203125 25.203125 \r\nL 14.890625 25.203125 \r\nQ 15.484375 15.921875 20.484375 11.0625 \r\nQ 25.484375 6.203125 34.421875 6.203125 \r\nQ 39.59375 6.203125 44.453125 7.46875 \r\nQ 49.3125 8.734375 54.109375 11.28125 \r\nL 54.109375 2.78125 \r\nQ 49.265625 0.734375 44.1875 -0.34375 \r\nQ 39.109375 -1.421875 33.890625 -1.421875 \r\nQ 20.796875 -1.421875 13.15625 6.1875 \r\nQ 5.515625 13.8125 5.515625 26.8125 \r\nQ 5.515625 40.234375 12.765625 48.109375 \r\nQ 20.015625 56 32.328125 56 \r\nQ 43.359375 56 49.78125 48.890625 \r\nQ 56.203125 41.796875 56.203125 29.59375 \r\nz\r\nM 47.21875 32.234375 \r\nQ 47.125 39.59375 43.09375 43.984375 \r\nQ 39.0625 48.390625 32.421875 48.390625 \r\nQ 24.90625 48.390625 20.390625 44.140625 \r\nQ 15.875 39.890625 15.1875 32.171875 \r\nz\r\n\" id=\"DejaVuSans-101\"/>\r\n      </defs>\r\n      <use xlink:href=\"#DejaVuSans-105\"/>\r\n      <use x=\"27.783203\" xlink:href=\"#DejaVuSans-110\"/>\r\n      <use x=\"91.162109\" xlink:href=\"#DejaVuSans-99\"/>\r\n      <use x=\"146.142578\" xlink:href=\"#DejaVuSans-111\"/>\r\n      <use x=\"207.324219\" xlink:href=\"#DejaVuSans-109\"/>\r\n      <use x=\"304.736328\" xlink:href=\"#DejaVuSans-101\"/>\r\n     </g>\r\n    </g>\r\n   </g>\r\n   <g id=\"matplotlib.axis_2\">\r\n    <g id=\"ytick_1\">\r\n     <g id=\"line2d_5\">\r\n      <defs>\r\n       <path d=\"M 0 0 \r\nL -3.5 0 \r\n\" id=\"m74b8b37b56\" style=\"stroke:#000000;stroke-width:0.8;\"/>\r\n      </defs>\r\n      <g>\r\n       <use style=\"stroke:#000000;stroke-width:0.8;\" x=\"43.78125\" xlink:href=\"#m74b8b37b56\" y=\"235.238438\"/>\r\n      </g>\r\n     </g>\r\n     <g id=\"text_6\">\r\n      <!-- 0.0 -->\r\n      <g transform=\"translate(20.878125 239.037656)scale(0.1 -0.1)\">\r\n       <defs>\r\n        <path d=\"M 10.6875 12.40625 \r\nL 21 12.40625 \r\nL 21 0 \r\nL 10.6875 0 \r\nz\r\n\" id=\"DejaVuSans-46\"/>\r\n       </defs>\r\n       <use xlink:href=\"#DejaVuSans-48\"/>\r\n       <use x=\"63.623047\" xlink:href=\"#DejaVuSans-46\"/>\r\n       <use x=\"95.410156\" xlink:href=\"#DejaVuSans-48\"/>\r\n      </g>\r\n     </g>\r\n    </g>\r\n    <g id=\"ytick_2\">\r\n     <g id=\"line2d_6\">\r\n      <g>\r\n       <use style=\"stroke:#000000;stroke-width:0.8;\" x=\"43.78125\" xlink:href=\"#m74b8b37b56\" y=\"204.421769\"/>\r\n      </g>\r\n     </g>\r\n     <g id=\"text_7\">\r\n      <!-- 0.5 -->\r\n      <g transform=\"translate(20.878125 208.220988)scale(0.1 -0.1)\">\r\n       <defs>\r\n        <path d=\"M 10.796875 72.90625 \r\nL 49.515625 72.90625 \r\nL 49.515625 64.59375 \r\nL 19.828125 64.59375 \r\nL 19.828125 46.734375 \r\nQ 21.96875 47.46875 24.109375 47.828125 \r\nQ 26.265625 48.1875 28.421875 48.1875 \r\nQ 40.625 48.1875 47.75 41.5 \r\nQ 54.890625 34.8125 54.890625 23.390625 \r\nQ 54.890625 11.625 47.5625 5.09375 \r\nQ 40.234375 -1.421875 26.90625 -1.421875 \r\nQ 22.3125 -1.421875 17.546875 -0.640625 \r\nQ 12.796875 0.140625 7.71875 1.703125 \r\nL 7.71875 11.625 \r\nQ 12.109375 9.234375 16.796875 8.0625 \r\nQ 21.484375 6.890625 26.703125 6.890625 \r\nQ 35.15625 6.890625 40.078125 11.328125 \r\nQ 45.015625 15.765625 45.015625 23.390625 \r\nQ 45.015625 31 40.078125 35.4375 \r\nQ 35.15625 39.890625 26.703125 39.890625 \r\nQ 22.75 39.890625 18.8125 39.015625 \r\nQ 14.890625 38.140625 10.796875 36.28125 \r\nz\r\n\" id=\"DejaVuSans-53\"/>\r\n       </defs>\r\n       <use xlink:href=\"#DejaVuSans-48\"/>\r\n       <use x=\"63.623047\" xlink:href=\"#DejaVuSans-46\"/>\r\n       <use x=\"95.410156\" xlink:href=\"#DejaVuSans-53\"/>\r\n      </g>\r\n     </g>\r\n    </g>\r\n    <g id=\"ytick_3\">\r\n     <g id=\"line2d_7\">\r\n      <g>\r\n       <use style=\"stroke:#000000;stroke-width:0.8;\" x=\"43.78125\" xlink:href=\"#m74b8b37b56\" y=\"173.605101\"/>\r\n      </g>\r\n     </g>\r\n     <g id=\"text_8\">\r\n      <!-- 1.0 -->\r\n      <g transform=\"translate(20.878125 177.40432)scale(0.1 -0.1)\">\r\n       <defs>\r\n        <path d=\"M 12.40625 8.296875 \r\nL 28.515625 8.296875 \r\nL 28.515625 63.921875 \r\nL 10.984375 60.40625 \r\nL 10.984375 69.390625 \r\nL 28.421875 72.90625 \r\nL 38.28125 72.90625 \r\nL 38.28125 8.296875 \r\nL 54.390625 8.296875 \r\nL 54.390625 0 \r\nL 12.40625 0 \r\nz\r\n\" id=\"DejaVuSans-49\"/>\r\n       </defs>\r\n       <use xlink:href=\"#DejaVuSans-49\"/>\r\n       <use x=\"63.623047\" xlink:href=\"#DejaVuSans-46\"/>\r\n       <use x=\"95.410156\" xlink:href=\"#DejaVuSans-48\"/>\r\n      </g>\r\n     </g>\r\n    </g>\r\n    <g id=\"ytick_4\">\r\n     <g id=\"line2d_8\">\r\n      <g>\r\n       <use style=\"stroke:#000000;stroke-width:0.8;\" x=\"43.78125\" xlink:href=\"#m74b8b37b56\" y=\"142.788433\"/>\r\n      </g>\r\n     </g>\r\n     <g id=\"text_9\">\r\n      <!-- 1.5 -->\r\n      <g transform=\"translate(20.878125 146.587651)scale(0.1 -0.1)\">\r\n       <use xlink:href=\"#DejaVuSans-49\"/>\r\n       <use x=\"63.623047\" xlink:href=\"#DejaVuSans-46\"/>\r\n       <use x=\"95.410156\" xlink:href=\"#DejaVuSans-53\"/>\r\n      </g>\r\n     </g>\r\n    </g>\r\n    <g id=\"ytick_5\">\r\n     <g id=\"line2d_9\">\r\n      <g>\r\n       <use style=\"stroke:#000000;stroke-width:0.8;\" x=\"43.78125\" xlink:href=\"#m74b8b37b56\" y=\"111.971764\"/>\r\n      </g>\r\n     </g>\r\n     <g id=\"text_10\">\r\n      <!-- 2.0 -->\r\n      <g transform=\"translate(20.878125 115.770983)scale(0.1 -0.1)\">\r\n       <use xlink:href=\"#DejaVuSans-50\"/>\r\n       <use x=\"63.623047\" xlink:href=\"#DejaVuSans-46\"/>\r\n       <use x=\"95.410156\" xlink:href=\"#DejaVuSans-48\"/>\r\n      </g>\r\n     </g>\r\n    </g>\r\n    <g id=\"ytick_6\">\r\n     <g id=\"line2d_10\">\r\n      <g>\r\n       <use style=\"stroke:#000000;stroke-width:0.8;\" x=\"43.78125\" xlink:href=\"#m74b8b37b56\" y=\"81.155096\"/>\r\n      </g>\r\n     </g>\r\n     <g id=\"text_11\">\r\n      <!-- 2.5 -->\r\n      <g transform=\"translate(20.878125 84.954315)scale(0.1 -0.1)\">\r\n       <use xlink:href=\"#DejaVuSans-50\"/>\r\n       <use x=\"63.623047\" xlink:href=\"#DejaVuSans-46\"/>\r\n       <use x=\"95.410156\" xlink:href=\"#DejaVuSans-53\"/>\r\n      </g>\r\n     </g>\r\n    </g>\r\n    <g id=\"ytick_7\">\r\n     <g id=\"line2d_11\">\r\n      <g>\r\n       <use style=\"stroke:#000000;stroke-width:0.8;\" x=\"43.78125\" xlink:href=\"#m74b8b37b56\" y=\"50.338428\"/>\r\n      </g>\r\n     </g>\r\n     <g id=\"text_12\">\r\n      <!-- 3.0 -->\r\n      <g transform=\"translate(20.878125 54.137646)scale(0.1 -0.1)\">\r\n       <defs>\r\n        <path d=\"M 40.578125 39.3125 \r\nQ 47.65625 37.796875 51.625 33 \r\nQ 55.609375 28.21875 55.609375 21.1875 \r\nQ 55.609375 10.40625 48.1875 4.484375 \r\nQ 40.765625 -1.421875 27.09375 -1.421875 \r\nQ 22.515625 -1.421875 17.65625 -0.515625 \r\nQ 12.796875 0.390625 7.625 2.203125 \r\nL 7.625 11.71875 \r\nQ 11.71875 9.328125 16.59375 8.109375 \r\nQ 21.484375 6.890625 26.8125 6.890625 \r\nQ 36.078125 6.890625 40.9375 10.546875 \r\nQ 45.796875 14.203125 45.796875 21.1875 \r\nQ 45.796875 27.640625 41.28125 31.265625 \r\nQ 36.765625 34.90625 28.71875 34.90625 \r\nL 20.21875 34.90625 \r\nL 20.21875 43.015625 \r\nL 29.109375 43.015625 \r\nQ 36.375 43.015625 40.234375 45.921875 \r\nQ 44.09375 48.828125 44.09375 54.296875 \r\nQ 44.09375 59.90625 40.109375 62.90625 \r\nQ 36.140625 65.921875 28.71875 65.921875 \r\nQ 24.65625 65.921875 20.015625 65.03125 \r\nQ 15.375 64.15625 9.8125 62.3125 \r\nL 9.8125 71.09375 \r\nQ 15.4375 72.65625 20.34375 73.4375 \r\nQ 25.25 74.21875 29.59375 74.21875 \r\nQ 40.828125 74.21875 47.359375 69.109375 \r\nQ 53.90625 64.015625 53.90625 55.328125 \r\nQ 53.90625 49.265625 50.4375 45.09375 \r\nQ 46.96875 40.921875 40.578125 39.3125 \r\nz\r\n\" id=\"DejaVuSans-51\"/>\r\n       </defs>\r\n       <use xlink:href=\"#DejaVuSans-51\"/>\r\n       <use x=\"63.623047\" xlink:href=\"#DejaVuSans-46\"/>\r\n       <use x=\"95.410156\" xlink:href=\"#DejaVuSans-48\"/>\r\n      </g>\r\n     </g>\r\n    </g>\r\n    <g id=\"ytick_8\">\r\n     <g id=\"line2d_12\">\r\n      <g>\r\n       <use style=\"stroke:#000000;stroke-width:0.8;\" x=\"43.78125\" xlink:href=\"#m74b8b37b56\" y=\"19.521759\"/>\r\n      </g>\r\n     </g>\r\n     <g id=\"text_13\">\r\n      <!-- 3.5 -->\r\n      <g transform=\"translate(20.878125 23.320978)scale(0.1 -0.1)\">\r\n       <use xlink:href=\"#DejaVuSans-51\"/>\r\n       <use x=\"63.623047\" xlink:href=\"#DejaVuSans-46\"/>\r\n       <use x=\"95.410156\" xlink:href=\"#DejaVuSans-53\"/>\r\n      </g>\r\n     </g>\r\n    </g>\r\n    <g id=\"text_14\">\r\n     <!-- Density -->\r\n     <g transform=\"translate(14.798437 145.527031)rotate(-90)scale(0.1 -0.1)\">\r\n      <defs>\r\n       <path d=\"M 19.671875 64.796875 \r\nL 19.671875 8.109375 \r\nL 31.59375 8.109375 \r\nQ 46.6875 8.109375 53.6875 14.9375 \r\nQ 60.6875 21.78125 60.6875 36.53125 \r\nQ 60.6875 51.171875 53.6875 57.984375 \r\nQ 46.6875 64.796875 31.59375 64.796875 \r\nz\r\nM 9.8125 72.90625 \r\nL 30.078125 72.90625 \r\nQ 51.265625 72.90625 61.171875 64.09375 \r\nQ 71.09375 55.28125 71.09375 36.53125 \r\nQ 71.09375 17.671875 61.125 8.828125 \r\nQ 51.171875 0 30.078125 0 \r\nL 9.8125 0 \r\nz\r\n\" id=\"DejaVuSans-68\"/>\r\n       <path d=\"M 44.28125 53.078125 \r\nL 44.28125 44.578125 \r\nQ 40.484375 46.53125 36.375 47.5 \r\nQ 32.28125 48.484375 27.875 48.484375 \r\nQ 21.1875 48.484375 17.84375 46.4375 \r\nQ 14.5 44.390625 14.5 40.28125 \r\nQ 14.5 37.15625 16.890625 35.375 \r\nQ 19.28125 33.59375 26.515625 31.984375 \r\nL 29.59375 31.296875 \r\nQ 39.15625 29.25 43.1875 25.515625 \r\nQ 47.21875 21.78125 47.21875 15.09375 \r\nQ 47.21875 7.46875 41.1875 3.015625 \r\nQ 35.15625 -1.421875 24.609375 -1.421875 \r\nQ 20.21875 -1.421875 15.453125 -0.5625 \r\nQ 10.6875 0.296875 5.421875 2 \r\nL 5.421875 11.28125 \r\nQ 10.40625 8.6875 15.234375 7.390625 \r\nQ 20.0625 6.109375 24.8125 6.109375 \r\nQ 31.15625 6.109375 34.5625 8.28125 \r\nQ 37.984375 10.453125 37.984375 14.40625 \r\nQ 37.984375 18.0625 35.515625 20.015625 \r\nQ 33.0625 21.96875 24.703125 23.78125 \r\nL 21.578125 24.515625 \r\nQ 13.234375 26.265625 9.515625 29.90625 \r\nQ 5.8125 33.546875 5.8125 39.890625 \r\nQ 5.8125 47.609375 11.28125 51.796875 \r\nQ 16.75 56 26.8125 56 \r\nQ 31.78125 56 36.171875 55.265625 \r\nQ 40.578125 54.546875 44.28125 53.078125 \r\nz\r\n\" id=\"DejaVuSans-115\"/>\r\n       <path d=\"M 18.3125 70.21875 \r\nL 18.3125 54.6875 \r\nL 36.8125 54.6875 \r\nL 36.8125 47.703125 \r\nL 18.3125 47.703125 \r\nL 18.3125 18.015625 \r\nQ 18.3125 11.328125 20.140625 9.421875 \r\nQ 21.96875 7.515625 27.59375 7.515625 \r\nL 36.8125 7.515625 \r\nL 36.8125 0 \r\nL 27.59375 0 \r\nQ 17.1875 0 13.234375 3.875 \r\nQ 9.28125 7.765625 9.28125 18.015625 \r\nL 9.28125 47.703125 \r\nL 2.6875 47.703125 \r\nL 2.6875 54.6875 \r\nL 9.28125 54.6875 \r\nL 9.28125 70.21875 \r\nz\r\n\" id=\"DejaVuSans-116\"/>\r\n       <path d=\"M 32.171875 -5.078125 \r\nQ 28.375 -14.84375 24.75 -17.8125 \r\nQ 21.140625 -20.796875 15.09375 -20.796875 \r\nL 7.90625 -20.796875 \r\nL 7.90625 -13.28125 \r\nL 13.1875 -13.28125 \r\nQ 16.890625 -13.28125 18.9375 -11.515625 \r\nQ 21 -9.765625 23.484375 -3.21875 \r\nL 25.09375 0.875 \r\nL 2.984375 54.6875 \r\nL 12.5 54.6875 \r\nL 29.59375 11.921875 \r\nL 46.6875 54.6875 \r\nL 56.203125 54.6875 \r\nz\r\n\" id=\"DejaVuSans-121\"/>\r\n      </defs>\r\n      <use xlink:href=\"#DejaVuSans-68\"/>\r\n      <use x=\"77.001953\" xlink:href=\"#DejaVuSans-101\"/>\r\n      <use x=\"138.525391\" xlink:href=\"#DejaVuSans-110\"/>\r\n      <use x=\"201.904297\" xlink:href=\"#DejaVuSans-115\"/>\r\n      <use x=\"254.003906\" xlink:href=\"#DejaVuSans-105\"/>\r\n      <use x=\"281.787109\" xlink:href=\"#DejaVuSans-116\"/>\r\n      <use x=\"320.996094\" xlink:href=\"#DejaVuSans-121\"/>\r\n     </g>\r\n    </g>\r\n    <g id=\"text_15\">\r\n     <!-- 1e−5 -->\r\n     <g transform=\"translate(43.78125 14.798437)scale(0.1 -0.1)\">\r\n      <defs>\r\n       <path d=\"M 10.59375 35.5 \r\nL 73.1875 35.5 \r\nL 73.1875 27.203125 \r\nL 10.59375 27.203125 \r\nz\r\n\" id=\"DejaVuSans-8722\"/>\r\n      </defs>\r\n      <use xlink:href=\"#DejaVuSans-49\"/>\r\n      <use x=\"63.623047\" xlink:href=\"#DejaVuSans-101\"/>\r\n      <use x=\"125.146484\" xlink:href=\"#DejaVuSans-8722\"/>\r\n      <use x=\"208.935547\" xlink:href=\"#DejaVuSans-53\"/>\r\n     </g>\r\n    </g>\r\n   </g>\r\n   <g id=\"patch_3\">\r\n    <path d=\"M 43.78125 235.238438 \r\nL 43.78125 17.798438 \r\n\" style=\"fill:none;stroke:#000000;stroke-linecap:square;stroke-linejoin:miter;stroke-width:0.8;\"/>\r\n   </g>\r\n   <g id=\"patch_4\">\r\n    <path d=\"M 211.18125 235.238438 \r\nL 211.18125 17.798438 \r\n\" style=\"fill:none;stroke:#000000;stroke-linecap:square;stroke-linejoin:miter;stroke-width:0.8;\"/>\r\n   </g>\r\n   <g id=\"patch_5\">\r\n    <path d=\"M 43.78125 235.238438 \r\nL 211.18125 235.238438 \r\n\" style=\"fill:none;stroke:#000000;stroke-linecap:square;stroke-linejoin:miter;stroke-width:0.8;\"/>\r\n   </g>\r\n   <g id=\"patch_6\">\r\n    <path d=\"M 43.78125 17.798438 \r\nL 211.18125 17.798438 \r\n\" style=\"fill:none;stroke:#000000;stroke-linecap:square;stroke-linejoin:miter;stroke-width:0.8;\"/>\r\n   </g>\r\n  </g>\r\n </g>\r\n <defs>\r\n  <clipPath id=\"p1e4d17f40d\">\r\n   <rect height=\"217.44\" width=\"167.4\" x=\"43.78125\" y=\"17.798438\"/>\r\n  </clipPath>\r\n </defs>\r\n</svg>\r\n",
      "image/png": "[encoded data removed]"
     },
     "metadata": {
      "needs_background": "light"
     }
    }
   ],
   "source": [
    "#Write your answer here\n",
    "fig, ax = plt.subplots(figsize=(3,4), dpi=100)\n",
    "sns.kdeplot(dataset['income'][dataset['married']=='YES'], fill=True, color=\"blue\")\n",
    "sns.kdeplot(dataset['income'][dataset['married']=='NO'], fill=True, color=\"red\")"
   ]
  },
  {
   "cell_type": "markdown",
   "metadata": {
    "id": "6YIBm5jAiQ8F"
   },
   "source": [
    "**The Council is also interested in assessing whether there is any statistically significant difference in income depending on the region citizens live. They want to give equal opportunities to all Yorkies irrespective of where they live.**"
   ]
  },
  {
   "cell_type": "markdown",
   "metadata": {
    "id": "C8momaMrpXQi"
   },
   "source": [
    "**TF14) State the Null and Alternative hypotheses that will enable the Council to check whether there is any discrimination in income depending on location**"
   ]
  },
  {
   "cell_type": "markdown",
   "metadata": {
    "id": "B9ucH2pQprJs"
   },
   "source": [
    "**Write your answer here**\n",
    "\n"
   ]
  },
  {
   "cell_type": "markdown",
   "metadata": {
    "id": "pWqDs-MPpx1e"
   },
   "source": [
    "**TF15) Calculate the degrees of freedom**"
   ]
  },
  {
   "cell_type": "code",
   "execution_count": 23,
   "metadata": {
    "executionInfo": {
     "elapsed": 409,
     "status": "ok",
     "timestamp": 1615105451025,
     "user": {
      "displayName": "Simos Gerasimou",
      "photoUrl": "https://lh3.googleusercontent.com/a-/AOh14GiyuWEDBGgnFKbsa3BAO5bWW-MwC5_V7MnUQz5JiA=s64",
      "userId": "13902192774339425778"
     },
     "user_tz": 0
    },
    "id": "7QMMxlXviQBf"
   },
   "outputs": [],
   "source": [
    "#Write your answer here\n"
   ]
  },
  {
   "cell_type": "markdown",
   "metadata": {
    "id": "R7dvUQr1qcZH"
   },
   "source": [
    "**TF16) Find the critical value for a test with significance level α=0.05**"
   ]
  },
  {
   "cell_type": "code",
   "execution_count": 24,
   "metadata": {
    "executionInfo": {
     "elapsed": 423,
     "status": "ok",
     "timestamp": 1615105454658,
     "user": {
      "displayName": "Simos Gerasimou",
      "photoUrl": "https://lh3.googleusercontent.com/a-/AOh14GiyuWEDBGgnFKbsa3BAO5bWW-MwC5_V7MnUQz5JiA=s64",
      "userId": "13902192774339425778"
     },
     "user_tz": 0
    },
    "id": "l4BFIEz_qKwl"
   },
   "outputs": [],
   "source": [
    "#Write your answer here\n"
   ]
  },
  {
   "cell_type": "markdown",
   "metadata": {
    "id": "SLJhqrhltd3_"
   },
   "source": [
    "**TF17) Perform the appropriate test to evaluate the hypotheses for significance level $\\alpha = 0.05$. You must show your calculations, i.e., calculate the result analytically, but you may use the appropriate scipy.stats method to check your results.**"
   ]
  },
  {
   "cell_type": "code",
   "execution_count": 25,
   "metadata": {
    "executionInfo": {
     "elapsed": 2550,
     "status": "ok",
     "timestamp": 1615105459182,
     "user": {
      "displayName": "Simos Gerasimou",
      "photoUrl": "https://lh3.googleusercontent.com/a-/AOh14GiyuWEDBGgnFKbsa3BAO5bWW-MwC5_V7MnUQz5JiA=s64",
      "userId": "13902192774339425778"
     },
     "user_tz": 0
    },
    "id": "rLilrPHQsNZp"
   },
   "outputs": [],
   "source": [
    "#Write your answer here\n"
   ]
  },
  {
   "cell_type": "markdown",
   "metadata": {
    "id": "E4HZJTm2uRMT"
   },
   "source": [
    "**TF18) Plot a boxplot showing the income per region. Dooes the boxplot confirm your findings in task TF17?**"
   ]
  },
  {
   "cell_type": "code",
   "execution_count": 26,
   "metadata": {
    "executionInfo": {
     "elapsed": 404,
     "status": "ok",
     "timestamp": 1615105461453,
     "user": {
      "displayName": "Simos Gerasimou",
      "photoUrl": "https://lh3.googleusercontent.com/a-/AOh14GiyuWEDBGgnFKbsa3BAO5bWW-MwC5_V7MnUQz5JiA=s64",
      "userId": "13902192774339425778"
     },
     "user_tz": 0
    },
    "id": "i3aZkc_QsQBh"
   },
   "outputs": [],
   "source": [
    "#Write your answer here\n"
   ]
  },
  {
   "cell_type": "markdown",
   "metadata": {
    "id": "oXtzSyVNuv8g"
   },
   "source": [
    "**The Council is also interested in assessing whether there is any statistically significant difference in income depending on the age of citizens. The Council considers the following age groups [17-29], [30,41], [42,53], [54,67]**"
   ]
  },
  {
   "cell_type": "markdown",
   "metadata": {
    "id": "Ch3wjFq1uxXE"
   },
   "source": [
    "**TF19) State the Null and Alternative hypotheses that will enable the Council to check whether there is any discrimination in income depending on these age groups**"
   ]
  },
  {
   "cell_type": "markdown",
   "metadata": {
    "id": "MgqUcTkvu35J"
   },
   "source": [
    "**Write your answer here**"
   ]
  },
  {
   "cell_type": "markdown",
   "metadata": {
    "id": "P6guGhbPu96t"
   },
   "source": [
    "**TF20) Calculate the degrees of freedom**"
   ]
  },
  {
   "cell_type": "code",
   "execution_count": 27,
   "metadata": {
    "executionInfo": {
     "elapsed": 417,
     "status": "ok",
     "timestamp": 1615105472235,
     "user": {
      "displayName": "Simos Gerasimou",
      "photoUrl": "https://lh3.googleusercontent.com/a-/AOh14GiyuWEDBGgnFKbsa3BAO5bWW-MwC5_V7MnUQz5JiA=s64",
      "userId": "13902192774339425778"
     },
     "user_tz": 0
    },
    "id": "TbN0vAxcuU_1"
   },
   "outputs": [],
   "source": [
    "#Write your answer here\n"
   ]
  },
  {
   "cell_type": "markdown",
   "metadata": {
    "id": "COJl2J2zvHBR"
   },
   "source": [
    "**TF21)  Perform the appropriate test to evaluate the hypotheses for significance level $\\alpha =0.05$. You may use the appropriate scipy.stats method.**"
   ]
  },
  {
   "cell_type": "code",
   "execution_count": 28,
   "metadata": {
    "executionInfo": {
     "elapsed": 455,
     "status": "ok",
     "timestamp": 1615105473803,
     "user": {
      "displayName": "Simos Gerasimou",
      "photoUrl": "https://lh3.googleusercontent.com/a-/AOh14GiyuWEDBGgnFKbsa3BAO5bWW-MwC5_V7MnUQz5JiA=s64",
      "userId": "13902192774339425778"
     },
     "user_tz": 0
    },
    "id": "j_1VFgyPvCiK"
   },
   "outputs": [],
   "source": [
    "#Write your answer here\n"
   ]
  },
  {
   "cell_type": "markdown",
   "metadata": {
    "id": "cnDeNcEywDnM"
   },
   "source": [
    "**TF22) Plot the distributions for the four age groups**"
   ]
  },
  {
   "cell_type": "code",
   "execution_count": 29,
   "metadata": {
    "executionInfo": {
     "elapsed": 381,
     "status": "ok",
     "timestamp": 1615105474889,
     "user": {
      "displayName": "Simos Gerasimou",
      "photoUrl": "https://lh3.googleusercontent.com/a-/AOh14GiyuWEDBGgnFKbsa3BAO5bWW-MwC5_V7MnUQz5JiA=s64",
      "userId": "13902192774339425778"
     },
     "user_tz": 0
    },
    "id": "qwHwQ2jdvdZc"
   },
   "outputs": [],
   "source": [
    "#Write your answer here\n"
   ]
  },
  {
   "cell_type": "markdown",
   "metadata": {
    "id": "TvfM2cUCwz2u"
   },
   "source": [
    "**TF23) Perform a post hoc analysis using the Bonferroni correction to identify the pairs which exhibit statistically significant difference**"
   ]
  },
  {
   "cell_type": "code",
   "execution_count": 30,
   "metadata": {
    "executionInfo": {
     "elapsed": 385,
     "status": "ok",
     "timestamp": 1615105476088,
     "user": {
      "displayName": "Simos Gerasimou",
      "photoUrl": "https://lh3.googleusercontent.com/a-/AOh14GiyuWEDBGgnFKbsa3BAO5bWW-MwC5_V7MnUQz5JiA=s64",
      "userId": "13902192774339425778"
     },
     "user_tz": 0
    },
    "id": "oE_yOrf7vmAP"
   },
   "outputs": [],
   "source": [
    "#Write your answer here\n"
   ]
  },
  {
   "cell_type": "markdown",
   "metadata": {
    "id": "dANJ7N6_w95Z"
   },
   "source": [
    "**TF24) Plot a boxplot showing the income per age group**"
   ]
  },
  {
   "cell_type": "code",
   "execution_count": 31,
   "metadata": {
    "executionInfo": {
     "elapsed": 395,
     "status": "ok",
     "timestamp": 1615105477865,
     "user": {
      "displayName": "Simos Gerasimou",
      "photoUrl": "https://lh3.googleusercontent.com/a-/AOh14GiyuWEDBGgnFKbsa3BAO5bWW-MwC5_V7MnUQz5JiA=s64",
      "userId": "13902192774339425778"
     },
     "user_tz": 0
    },
    "id": "C_6u8fW-w3fa"
   },
   "outputs": [],
   "source": [
    "#Write your answer here\n"
   ]
  },
  {
   "cell_type": "markdown",
   "metadata": {
    "id": "pJmXr25fxLHF"
   },
   "source": [
    "***\n",
    "\n",
    "## Should you want to practice at home, you could\n",
    "\n",
    "* Go back to the previous practicals and run some statistical tests\n",
    "\n",
    "* The formula for sample standard deviation is $s = \\sqrt{\\frac{\\sum_{i=1}^{n}(x_i-\\overline{x})^2}{n-1}}$\n",
    "  Think about how you can demonstrate through simulation why $n-1$ (in the denominator) is appropriate; i.e., why not $n-2$, $n-3$ etc? For your information, this is called the Bessel's Correction.\n"
   ]
  }
 ],
 "metadata": {
  "colab": {
   "authorship_tag": "ABX9TyPolcV0ENM9wuVoDEjn6Nt4",
   "name": "DAT1-Practical8-Questions.ipynb",
   "provenance": []
  },
  "kernelspec": {
   "display_name": "Python 3",
   "language": "python",
   "name": "python3"
  },
  "language_info": {
   "codemirror_mode": {
    "name": "ipython",
    "version": 3
   },
   "file_extension": ".py",
   "mimetype": "text/x-python",
   "name": "python",
   "nbconvert_exporter": "python",
   "pygments_lexer": "ipython3",
   "version": "3.7.3-final"
  }
 },
 "nbformat": 4,
 "nbformat_minor": 1
}