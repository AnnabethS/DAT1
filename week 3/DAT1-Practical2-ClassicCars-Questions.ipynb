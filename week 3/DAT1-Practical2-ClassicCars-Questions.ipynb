{
 "cells": [
  {
   "cell_type": "markdown",
   "metadata": {
    "id": "rpxHdvCRsrYk"
   },
   "source": [
    "# DATA 1 Practical 2 - Questions\n",
    "\n",
    "Simos Gerasimou\n",
    "\n",
    "\n",
    "## Classic Cars & Co\n",
    "\n",
    "Classic Cars & Co is a UK company that has a large collection of classic cars from the 1980s. \n",
    "\n",
    "DataVision (the company you are working as a Data Scientist) has been contracted to analyse the data available for the cars and provide insights by analysing the different characteristics of the cars (e.g., speed, price). \n",
    "\n",
    "This Jupyter Notebook will be presented to the Classic Cars & Co main stakeholders who have limited knowledge about data science. So, your findings should be complemented by a suitable justification explaining what you observe and, when applicable, what does this observation mean and, possibly, why it occurs. The analysis along with the explanation will help them to understand whether they need to invest more to expand their collection."
   ]
  },
  {
   "cell_type": "markdown",
   "metadata": {
    "id": "Hk3xhSRIzz1L"
   },
   "source": [
    "### **Important Information**\n",
    "\n",
    "(1) To answer these exercises, you **must first read Chapter 2: Introduction to NumPy from the Python Data Science Handbook** (https://jakevdp.github.io/PythonDataScienceHandbook/02.00-introduction-to-numpy.html)\n",
    "\n",
    "\n",
    "(2) For each question (task) a description is provided accompanied (most of the time) by two cells: one for writing the Python code and another for providing the justification. Feel free to add more cells if you feel they are needed, but keep the cells corresponding to the same question close by.\n",
    "\n",
    "**Hint 1**: If you find difficulties in solving a task, look at Chapter 2 from the Python Data Science Handbook.\n",
    "\n",
    "**Hint 2**: Solving each task using NumPy should require less than 10 lines of code"
   ]
  },
  {
   "cell_type": "markdown",
   "metadata": {
    "id": "vX1Wmo8A7Lhm"
   },
   "source": [
    "#### **T1) Explore the dataset and for each column write its name, data type (categorical/numerical - nominal,ordinal,discrete,continuous) and its meaning (i.e., what does it capture?)**\n",
    "\n",
    "* You may want to open the CSV file using a text editor (e.g., Notepad) or a spreadsheet editor (e.g., Excel)"
   ]
  },
  {
   "cell_type": "markdown",
   "metadata": {
    "id": "cIkkf9Hi_XQb"
   },
   "source": [
    "**Write your answer here (the first is given)**\n",
    "* Make: Categorical (Nominal) - The model of the car\n",
    "* fueltype: Categorical (Nominal) - the type of fuel the car takes\n",
    "* numofdoors: Categorical (Ordered) - the amount of doors the car has\n",
    "* bodystyle: Categorical (Nominal) - the style/shape of body the car has\n",
    "* drivewheel: Categorical (Nominal) - Which wheels the car drives with\n",
    "* wheelbase: Numerical (Continuous) - Distance between the wheel axles\n",
    "* length: Numerical (Continuous) - How long the car is\n",
    "* width: Numerical (Continuous) - How wide the car is\n",
    "* height: Numerical (Continuous) - How tall the car is\n",
    "* numofcylinders: Categorical (Ordered) - how many cylinders are in the engine\n",
    "* enginesize: Numerical (Discrete) - size of the engine\n",
    "* horsepower: Numerical (Discrete) - engine power\n",
    "* citympg: Numerical (Discrete) - miles per gallon of fuel in the city\n",
    "* highwaympg: Numerical (Discrete) - miles per gallon of fuel on a highway\n",
    "* price: Numerical (Discrete) - price of car"
   ]
  },
  {
   "cell_type": "markdown",
   "metadata": {
    "id": "QAMj3BTLz5TJ"
   },
   "source": [
    "### 1) Reading dataset\n",
    "\n",
    "The classic cars dataset is available on VLE (look for classicCars.csv in the Practicals section)"
   ]
  },
  {
   "cell_type": "code",
   "execution_count": 83,
   "metadata": {
    "id": "PMju2Rd-nb6R"
   },
   "outputs": [],
   "source": [
    "#Using NumPy to read the dataset\n",
    "import numpy as np\n",
    "import math\n",
    "#Define the path to the dataset\n",
    "data_path = \"ClassicCars.csv\"\n",
    "#Define the type of each dataset column. \n",
    "#This is needed because NumPy arrays cannot directly read files with different data types\n",
    "#Hence, we are using Structured arrays. \n",
    "#But, we will soon move to Pandas which makes data manipulation easier\n",
    "types = ['U20', 'U10', 'U5', 'U20', 'U3', 'f4', 'f4', 'f4', 'f4', 'U10', 'i4', 'i4', 'i4', 'i4', 'i4']\n",
    "#Read the dataset\n",
    "data = np.genfromtxt(data_path, dtype=types, delimiter=',', names=True)"
   ]
  },
  {
   "cell_type": "markdown",
   "metadata": {
    "id": "2iEJBv9kdIiI"
   },
   "source": [
    "**Structured Arrays**\n",
    "* Read more about structured arrays:\n",
    "  * https://jakevdp.github.io/PythonDataScienceHandbook/02.09-structured-data-numpy.html\n",
    "  * https://numpy.org/doc/stable/user/basics.rec.html"
   ]
  },
  {
   "cell_type": "markdown",
   "metadata": {
    "id": "yHoM-NXN-puT"
   },
   "source": [
    "### Analysing the dataset\n"
   ]
  },
  {
   "cell_type": "markdown",
   "metadata": {
    "id": "0gqds3bJAfIu"
   },
   "source": [
    "#### **Extracting the column names**"
   ]
  },
  {
   "cell_type": "code",
   "execution_count": 84,
   "metadata": {
    "id": "DT1aEd9q0t8-"
   },
   "outputs": [
    {
     "output_type": "execute_result",
     "data": {
      "text/plain": [
       "('make',\n",
       " 'fueltype',\n",
       " 'numofdoors',\n",
       " 'bodystyle',\n",
       " 'drivewheels',\n",
       " 'wheelbase',\n",
       " 'length',\n",
       " 'width',\n",
       " 'height',\n",
       " 'numofcylinders',\n",
       " 'enginesize',\n",
       " 'horsepower',\n",
       " 'citympg',\n",
       " 'highwaympg',\n",
       " 'price')"
      ]
     },
     "metadata": {},
     "execution_count": 84
    }
   ],
   "source": [
    "data.dtype.names"
   ]
  },
  {
   "cell_type": "markdown",
   "metadata": {
    "id": "vPfhK50f7qEQ"
   },
   "source": [
    "#### **Extracting the shape of the array**"
   ]
  },
  {
   "cell_type": "code",
   "execution_count": 85,
   "metadata": {
    "id": "4CkIj9Yq-0a-"
   },
   "outputs": [
    {
     "output_type": "stream",
     "name": "stdout",
     "text": [
      "The shape of the array is:  (205,)\n"
     ]
    }
   ],
   "source": [
    "print(\"The shape of the array is: \", data.shape)"
   ]
  },
  {
   "source": [
    "print(len(data))"
   ],
   "cell_type": "code",
   "metadata": {},
   "execution_count": 86,
   "outputs": [
    {
     "output_type": "stream",
     "name": "stdout",
     "text": [
      "205\n"
     ]
    }
   ]
  },
  {
   "cell_type": "markdown",
   "metadata": {
    "id": "Fg3CoWGC--_q"
   },
   "source": [
    "#### **T2) What do you see?**\n",
    "* How many entries does the array have?\n",
    "* What does each entry include? \n",
    "* Hint: Print the elements of an entry\n"
   ]
  },
  {
   "cell_type": "markdown",
   "metadata": {
    "id": "VIdMJvfD_Otb"
   },
   "source": [
    "**Write your answer here**\n",
    "\n",
    "* The array has 205 entries\n",
    "* Each entry includes these fields:"
   ]
  },
  {
   "cell_type": "code",
   "execution_count": 87,
   "metadata": {},
   "outputs": [
    {
     "output_type": "execute_result",
     "data": {
      "text/plain": [
       "('make',\n",
       " 'fueltype',\n",
       " 'numofdoors',\n",
       " 'bodystyle',\n",
       " 'drivewheels',\n",
       " 'wheelbase',\n",
       " 'length',\n",
       " 'width',\n",
       " 'height',\n",
       " 'numofcylinders',\n",
       " 'enginesize',\n",
       " 'horsepower',\n",
       " 'citympg',\n",
       " 'highwaympg',\n",
       " 'price')"
      ]
     },
     "metadata": {},
     "execution_count": 87
    }
   ],
   "source": [
    "data.dtype.names"
   ]
  },
  {
   "cell_type": "markdown",
   "metadata": {
    "id": "XhUpJlMf_wV8"
   },
   "source": [
    "#### **Extracting the entries of a column given its name**\n",
    "\n",
    "* By specifying the name of a column, you can get all the entries within the array for this column (reminder: you are using Structured Arrays)\n"
   ]
  },
  {
   "cell_type": "code",
   "execution_count": 88,
   "metadata": {
    "id": "6QMPnMLo_QwO"
   },
   "outputs": [
    {
     "output_type": "stream",
     "name": "stdout",
     "text": [
      "['alfa-romero' 'alfa-romero' 'alfa-romero' 'audi' 'audi' 'audi' 'audi'\n 'audi' 'audi' 'audi' 'bmw' 'bmw' 'bmw' 'bmw' 'bmw' 'bmw' 'bmw' 'bmw'\n 'chevrolet' 'chevrolet' 'chevrolet' 'dodge' 'dodge' 'dodge' 'dodge'\n 'dodge' 'dodge' 'dodge' 'dodge' 'dodge' 'honda' 'honda' 'honda' 'honda'\n 'honda' 'honda' 'honda' 'honda' 'honda' 'honda' 'honda' 'honda' 'honda'\n 'isuzu' 'isuzu' 'isuzu' 'isuzu' 'jaguar' 'jaguar' 'jaguar' 'mazda'\n 'mazda' 'mazda' 'mazda' 'mazda' 'mazda' 'mazda' 'mazda' 'mazda' 'mazda'\n 'mazda' 'mazda' 'mazda' 'mazda' 'mazda' 'mazda' 'mazda' 'mercedes-benz'\n 'mercedes-benz' 'mercedes-benz' 'mercedes-benz' 'mercedes-benz'\n 'mercedes-benz' 'mercedes-benz' 'mercedes-benz' 'mercury' 'mitsubishi'\n 'mitsubishi' 'mitsubishi' 'mitsubishi' 'mitsubishi' 'mitsubishi'\n 'mitsubishi' 'mitsubishi' 'mitsubishi' 'mitsubishi' 'mitsubishi'\n 'mitsubishi' 'mitsubishi' 'nissan' 'nissan' 'nissan' 'nissan' 'nissan'\n 'nissan' 'nissan' 'nissan' 'nissan' 'nissan' 'nissan' 'nissan' 'nissan'\n 'nissan' 'nissan' 'nissan' 'nissan' 'nissan' 'peugot' 'peugot' 'peugot'\n 'peugot' 'peugot' 'peugot' 'peugot' 'peugot' 'peugot' 'peugot' 'peugot'\n 'plymouth' 'plymouth' 'plymouth' 'plymouth' 'plymouth' 'plymouth'\n 'plymouth' 'porsche' 'porsche' 'porsche' 'porsche' 'porsche' 'renault'\n 'renault' 'saab' 'saab' 'saab' 'saab' 'saab' 'saab' 'subaru' 'subaru'\n 'subaru' 'subaru' 'subaru' 'subaru' 'subaru' 'subaru' 'subaru' 'subaru'\n 'subaru' 'subaru' 'toyota' 'toyota' 'toyota' 'toyota' 'toyota' 'toyota'\n 'toyota' 'toyota' 'toyota' 'toyota' 'toyota' 'toyota' 'toyota' 'toyota'\n 'toyota' 'toyota' 'toyota' 'toyota' 'toyota' 'toyota' 'toyota' 'toyota'\n 'toyota' 'toyota' 'toyota' 'toyota' 'toyota' 'toyota' 'toyota' 'toyota'\n 'toyota' 'toyota' 'volkswagen' 'volkswagen' 'volkswagen' 'volkswagen'\n 'volkswagen' 'volkswagen' 'volkswagen' 'volkswagen' 'volkswagen'\n 'volkswagen' 'volkswagen' 'volkswagen' 'volvo' 'volvo' 'volvo' 'volvo'\n 'volvo' 'volvo' 'volvo' 'volvo' 'volvo' 'volvo' 'volvo']\n"
     ]
    }
   ],
   "source": [
    "#Print the entries within the 'make' column\n",
    "print(data['make'])"
   ]
  },
  {
   "cell_type": "markdown",
   "metadata": {
    "id": "yOO8Q7W5A9Cf"
   },
   "source": [
    "#### **T3) Extract the bodystyles within the dataset**\n"
   ]
  },
  {
   "cell_type": "code",
   "execution_count": 89,
   "metadata": {
    "id": "O18vqYhL0_91"
   },
   "outputs": [
    {
     "output_type": "stream",
     "name": "stdout",
     "text": [
      "['convertible' 'convertible' 'hatchback' 'sedan' 'sedan' 'sedan' 'sedan'\n 'wagon' 'sedan' 'hatchback' 'sedan' 'sedan' 'sedan' 'sedan' 'sedan'\n 'sedan' 'sedan' 'sedan' 'hatchback' 'hatchback' 'sedan' 'hatchback'\n 'hatchback' 'hatchback' 'hatchback' 'sedan' 'sedan' 'sedan' 'wagon'\n 'hatchback' 'hatchback' 'hatchback' 'hatchback' 'hatchback' 'hatchback'\n 'sedan' 'wagon' 'hatchback' 'hatchback' 'sedan' 'sedan' 'sedan' 'sedan'\n 'sedan' 'sedan' 'sedan' 'hatchback' 'sedan' 'sedan' 'sedan' 'hatchback'\n 'hatchback' 'hatchback' 'sedan' 'sedan' 'hatchback' 'hatchback'\n 'hatchback' 'hatchback' 'hatchback' 'sedan' 'hatchback' 'sedan' 'sedan'\n 'hatchback' 'sedan' 'sedan' 'sedan' 'wagon' 'hardtop' 'sedan' 'sedan'\n 'convertible' 'sedan' 'hardtop' 'hatchback' 'hatchback' 'hatchback'\n 'hatchback' 'hatchback' 'hatchback' 'hatchback' 'hatchback' 'hatchback'\n 'hatchback' 'sedan' 'sedan' 'sedan' 'sedan' 'sedan' 'sedan' 'sedan'\n 'sedan' 'wagon' 'sedan' 'hatchback' 'sedan' 'wagon' 'hardtop' 'hatchback'\n 'sedan' 'sedan' 'wagon' 'sedan' 'hatchback' 'hatchback' 'hatchback'\n 'sedan' 'sedan' 'wagon' 'wagon' 'sedan' 'sedan' 'wagon' 'wagon' 'sedan'\n 'sedan' 'sedan' 'hatchback' 'hatchback' 'hatchback' 'sedan' 'sedan'\n 'wagon' 'hatchback' 'hatchback' 'hardtop' 'hardtop' 'convertible'\n 'hatchback' 'wagon' 'hatchback' 'hatchback' 'sedan' 'hatchback' 'sedan'\n 'hatchback' 'sedan' 'hatchback' 'hatchback' 'hatchback' 'sedan' 'sedan'\n 'sedan' 'sedan' 'sedan' 'wagon' 'wagon' 'wagon' 'wagon' 'hatchback'\n 'hatchback' 'hatchback' 'wagon' 'wagon' 'wagon' 'sedan' 'hatchback'\n 'sedan' 'hatchback' 'sedan' 'hatchback' 'sedan' 'sedan' 'hatchback'\n 'sedan' 'hatchback' 'hardtop' 'hardtop' 'hatchback' 'hardtop' 'hatchback'\n 'convertible' 'sedan' 'sedan' 'hatchback' 'sedan' 'hatchback' 'hatchback'\n 'hatchback' 'sedan' 'wagon' 'sedan' 'sedan' 'sedan' 'sedan' 'sedan'\n 'sedan' 'sedan' 'convertible' 'hatchback' 'sedan' 'sedan' 'wagon' 'sedan'\n 'wagon' 'sedan' 'wagon' 'sedan' 'wagon' 'sedan' 'sedan' 'sedan' 'sedan'\n 'sedan']\n"
     ]
    }
   ],
   "source": [
    "#Write your answer here\n",
    "print(data[\"bodystyle\"])"
   ]
  },
  {
   "cell_type": "markdown",
   "metadata": {
    "id": "bIcT8mO1gIca"
   },
   "source": [
    "### How do the car prices look like?\n"
   ]
  },
  {
   "cell_type": "markdown",
   "metadata": {
    "id": "yDfhYbopgUZ6"
   },
   "source": [
    "#### **T4) Calculate the range of car prices for the entire dataset**\n"
   ]
  },
  {
   "cell_type": "code",
   "execution_count": 90,
   "metadata": {
    "id": "QQcVX89v9uZ3"
   },
   "outputs": [
    {
     "output_type": "stream",
     "name": "stdout",
     "text": [
      "40282\n"
     ]
    }
   ],
   "source": [
    "#Write your answer here\n",
    "minPrice = np.min(data[\"price\"])\n",
    "maxPrice = np.max(data[\"price\"])\n",
    "rangePrice = maxPrice - minPrice\n",
    "print(rangePrice)"
   ]
  },
  {
   "cell_type": "markdown",
   "metadata": {
    "id": "KpIcl1T0kpIS"
   },
   "source": [
    "#### **T5) Calculate the min, max, mean and median prices of the cars**\n"
   ]
  },
  {
   "cell_type": "code",
   "execution_count": 91,
   "metadata": {
    "id": "KAm74_4ShDA_"
   },
   "outputs": [
    {
     "output_type": "stream",
     "name": "stdout",
     "text": [
      "MIN PRICE: $5118, MAX PRICE: $45400, MEAN PRICE: $13300.239024390245, MEDIAN PRICE: $10345.0\n"
     ]
    }
   ],
   "source": [
    "#Write your answer here\n",
    "meanPrice = np.mean(data[\"price\"])\n",
    "medianPrice = np.median(data[\"price\"])\n",
    "print(f\"MIN PRICE: ${minPrice}, MAX PRICE: ${maxPrice}, MEAN PRICE: ${meanPrice}, MEDIAN PRICE: ${medianPrice}\")"
   ]
  },
  {
   "cell_type": "markdown",
   "metadata": {
    "id": "HCy66heJlRw9"
   },
   "source": [
    "#### **T6) Considering the values calculated above, what insights can you extract? Where do you think the majority of car prices will be clustered?**\n"
   ]
  },
  {
   "cell_type": "markdown",
   "metadata": {
    "id": "DcaTJEKIlroR"
   },
   "source": [
    "**Write your answer here**\n",
    "\n",
    "Generally the car prices will be clustered around 10k - 13k range as they are the median and mean values, which are fairly close together, meaning that most of the car prices should be fairly close by to these"
   ]
  },
  {
   "cell_type": "markdown",
   "metadata": {
    "id": "fAjvb8alhtHm"
   },
   "source": [
    "#### **T7) Write code to calculate the standard deviation for the car prices. Then use the corresponding NumPy function to confirm the correctness of your calculation**\n",
    "\n"
   ]
  },
  {
   "cell_type": "code",
   "execution_count": 92,
   "metadata": {
    "id": "JDwSTd5Zggg_"
   },
   "outputs": [
    {
     "output_type": "stream",
     "name": "stdout",
     "text": [
      "Calculated Standard Deviation: 7969.541401038539, NumPy Standard Deviation: 7969.54140103854\n"
     ]
    }
   ],
   "source": [
    "#Write your answer here\n",
    "diffSquaredSum = 0\n",
    "for i in data[\"price\"]:\n",
    "    diffSquaredSum += math.pow((meanPrice - i), 2)\n",
    "calculatedSD = math.sqrt(diffSquaredSum / len(data[\"price\"]))\n",
    "numpySD = np.std(data[\"price\"])\n",
    "print(f\"Calculated Standard Deviation: {calculatedSD}, NumPy Standard Deviation: {numpySD}\")"
   ]
  },
  {
   "cell_type": "markdown",
   "metadata": {
    "id": "W7tcuWdtnZGV"
   },
   "source": [
    "#### **T8) Find the details of cars with the smallest and largest car volumes**\n",
    "* Hint: see how to calculate the volume of a car https://info.japanesecartrade.com/content-item/297-what-is-m3-cubic-meter-size-of-a-vehicle\n"
   ]
  },
  {
   "cell_type": "code",
   "execution_count": 93,
   "metadata": {
    "id": "mXdzNLqnhfQX"
   },
   "outputs": [
    {
     "output_type": "stream",
     "name": "stdout",
     "text": [
      "CAR WITH THE SMALLEST M3\nMake: volvo, Fuel Type: gas, Body Style: sedan, Drive Wheel: rwd, Wheel Base: 109.0999984741211, Length: 188.8000030517578, Width: 68.9000015258789, Height: 55.5, M3: 452643.15625, Num Cylinders: four, Engine Size: 141, Horse Power: 114, City MPG: 19, Highway MPG: 25, Price: 22625\nCAR WITH THE LARGEST M3\nMake: volvo, Fuel Type: gas, Body Style: sedan, Drive Wheel: rwd, Wheel Base: 109.0999984741211, Length: 188.8000030517578, Width: 68.9000015258789, Height: 55.5, M3: 846007.625, Num Cylinders: four, Engine Size: 141, Horse Power: 114, City MPG: 19, Highway MPG: 25, Price: 22625\n"
     ]
    }
   ],
   "source": [
    "#Write your answer here\n",
    "minM3 = data[\"length\"][0] * data[\"width\"][0] * data[\"height\"][0]\n",
    "minM3ID = 0\n",
    "maxM3 = data[\"length\"][0] * data[\"width\"][0] * data[\"height\"][0]\n",
    "maxM3ID = 0\n",
    "for i in range(1, len(data[\"length\"])):\n",
    "    currentM3 = data[\"length\"][i] * data[\"width\"][i] * data[\"height\"][i]\n",
    "    if currentM3<minM3:\n",
    "        minM3 = currentM3\n",
    "        minID = i\n",
    "    if currentM3>maxM3:\n",
    "        maxM3 = currentM3\n",
    "        maxID = i\n",
    "def printCarDetails(id, m3):\n",
    "    print(f\"Make: {data['make'][i]}, Fuel Type: {data['fueltype'][i]}, Body Style: {data['bodystyle'][i]}, Drive Wheel: {data['drivewheels'][i]}, Wheel Base: {data['wheelbase'][i]}, Length: {data['length'][i]}, Width: {data['width'][i]}, Height: {data['height'][i]}, M3: {m3}, Num Cylinders: {data['numofcylinders'][i]}, Engine Size: {data['enginesize'][i]}, Horse Power: {data['horsepower'][i]}, City MPG: {data['citympg'][i]}, Highway MPG: {data['highwaympg'][i]}, Price: {data['price'][i]}\")\n",
    "print(\"CAR WITH THE SMALLEST M3\")\n",
    "printCarDetails(minM3ID, minM3)\n",
    "print(\"CAR WITH THE LARGEST M3\")\n",
    "printCarDetails(maxM3ID, maxM3)"
   ]
  },
  {
   "cell_type": "markdown",
   "metadata": {
    "id": "cmck40GQqfoR"
   },
   "source": [
    "#### **T9) Find the different types of bodystyles for the cars in the dataset**\n",
    "\n",
    "* Hint: You may want to check: https://numpy.org/doc/stable/reference/generated/numpy.unique.html"
   ]
  },
  {
   "cell_type": "code",
   "execution_count": 94,
   "metadata": {
    "id": "DeTMBSCJp3gD"
   },
   "outputs": [
    {
     "output_type": "stream",
     "name": "stdout",
     "text": [
      "['convertible' 'hardtop' 'hatchback' 'sedan' 'wagon']\n"
     ]
    }
   ],
   "source": [
    "#Write your answer here\n",
    "print(np.unique(data[\"bodystyle\"]))"
   ]
  },
  {
   "cell_type": "markdown",
   "metadata": {
    "id": "BXF8kjW-sJaq"
   },
   "source": [
    "#### **T10) Find the number of different car *brands* (makes)**\n"
   ]
  },
  {
   "cell_type": "code",
   "execution_count": 95,
   "metadata": {
    "id": "zJTWSXxrsJE3"
   },
   "outputs": [
    {
     "output_type": "stream",
     "name": "stdout",
     "text": [
      "There are 22 different car brands\n"
     ]
    }
   ],
   "source": [
    "#Write your answer here\n",
    "differentCarBrands = len(np.unique(data[\"make\"]))\n",
    "print(f\"There are {differentCarBrands} different car brands\")"
   ]
  },
  {
   "cell_type": "markdown",
   "metadata": {
    "id": "h4Ab2ovntRV-"
   },
   "source": [
    "#### **T11) Find the engine size and the horsepower for the most and least efficient cars when driven in the city and the highway (i.e., the cars with the smallest and largest difference in fuel consumption when driven in the city and the highway)**"
   ]
  },
  {
   "cell_type": "code",
   "execution_count": 96,
   "metadata": {
    "id": "fzzrezV8rQ3O"
   },
   "outputs": [
    {
     "output_type": "stream",
     "name": "stdout",
     "text": [
      "Minimum City MPG:\nEngine Size: 326, Horse Power: 262\n\nMaximum City MPG:\nEngine Size: 92, Horse Power: 58\n\n\nMinimum Highway MPG:\nEngine Size: 308, Horse Power: 184\n\nMaximum Highway MPG:\nEngine Size: 92, Horse Power: 58\n"
     ]
    }
   ],
   "source": [
    "#Write your answer here\n",
    "minCityMPGID = np.argmin(data[\"citympg\"])\n",
    "maxCityMPGID = np.argmax(data[\"citympg\"])\n",
    "minHighwayMPGID = np.argmin(data[\"highwaympg\"])\n",
    "maxHighwayMPGID = np.argmax(data[\"highwaympg\"])\n",
    "def outputEngineAndHorsepower(ID):\n",
    "    print(f\"Engine Size: {data['enginesize'][ID]}, Horse Power: {data['horsepower'][ID]}\")\n",
    "print(\"Minimum City MPG:\")\n",
    "outputEngineAndHorsepower(minCityMPGID)\n",
    "print(\"\\nMaximum City MPG:\")\n",
    "outputEngineAndHorsepower(maxCityMPGID)\n",
    "print(\"\\n\\nMinimum Highway MPG:\")\n",
    "outputEngineAndHorsepower(minHighwayMPGID)\n",
    "print(\"\\nMaximum Highway MPG:\")\n",
    "outputEngineAndHorsepower(maxHighwayMPGID)"
   ]
  },
  {
   "cell_type": "markdown",
   "metadata": {
    "id": "Er9o39z8xge3"
   },
   "source": [
    "#### **T12) Find the make with the largest number of cars and how many they are**"
   ]
  },
  {
   "cell_type": "code",
   "execution_count": 97,
   "metadata": {
    "id": "pWyEz0bTueot"
   },
   "outputs": [
    {
     "output_type": "stream",
     "name": "stdout",
     "text": [
      "[['alfa-romero', 'audi', 'bmw', 'chevrolet', 'dodge', 'honda', 'isuzu', 'jaguar', 'mazda', 'mercedes-benz', 'mercury', 'mitsubishi', 'nissan', 'peugot', 'plymouth', 'porsche', 'renault', 'saab', 'subaru', 'toyota', 'volkswagen', 'volvo'], [3, 7, 8, 3, 9, 13, 4, 3, 17, 8, 1, 13, 18, 11, 7, 5, 2, 6, 12, 32, 12, 11]]\n[ 3  7  8  3  9 13  4  3 17  8  1 13 18 11  7  5  2  6 12 32 12 11]\n19\ntoyota has the most cars, with 32 cars.\n"
     ]
    }
   ],
   "source": [
    "#Write your answer here\n",
    "counts = [[],[]]\n",
    "for i in np.unique(data[\"make\"]):\n",
    "    counts[0].append(i)\n",
    "    counts[1].append(np.count_nonzero(data[\"make\"]==i))\n",
    "print(counts)\n",
    "numArr = np.array(counts[1])\n",
    "print(numArr)\n",
    "maxIndex = np.argmax(numArr)\n",
    "print(maxIndex)\n",
    "print(f\"{counts[0][maxIndex]} has the most cars, with {counts[1][maxIndex]} cars.\")"
   ]
  },
  {
   "cell_type": "markdown",
   "metadata": {
    "id": "Kmy1NtyW0tzm"
   },
   "source": [
    "#### **T13) Find how many cars have a wheel base greater than 100**\n",
    "\n",
    "* Hint: See https://jakevdp.github.io/PythonDataScienceHandbook/02.06-boolean-arrays-and-masks.html"
   ]
  },
  {
   "cell_type": "code",
   "execution_count": 98,
   "metadata": {
    "id": "ZG-vBKvjxrR7"
   },
   "outputs": [
    {
     "output_type": "stream",
     "name": "stdout",
     "text": [
      "63\n"
     ]
    }
   ],
   "source": [
    "#Write your answer here\n",
    "print(np.count_nonzero(data[\"wheelbase\"]>100))"
   ]
  },
  {
   "cell_type": "markdown",
   "metadata": {
    "id": "t3-PcX9C4VLi"
   },
   "source": [
    "#### **T14) Find if there are any convertible cars that cost less than £15000**\n",
    "\n",
    "* Hint: See https://jakevdp.github.io/PythonDataScienceHandbook/02.06-boolean-arrays-and-masks.html"
   ]
  },
  {
   "cell_type": "code",
   "execution_count": 99,
   "metadata": {
    "id": "CkVfwmoG4ewY"
   },
   "outputs": [
    {
     "output_type": "stream",
     "name": "stdout",
     "text": [
      "[0 0 0 0 0 0 0 0 0 0 0 0 0 0 0 0 0 0 0 0 0 0 0 0 0 0 0 0 0 0 0 0 0 0 0 0 0\n 0 0 0 0 0 0 0 0 0 0 0 0 0 0 0 0 0 0 0 0 0 0 0 0 0 0 0 0 0 0 0 0 0 0 0 0 0\n 0 0 0 0 0 0 0 0 0 0 0 0 0 0 0 0 0 0 0 0 0 0 0 0 0 0 0 0 0 0 0 0 0 0 0 0 0\n 0 0 0 0 0 0 0 0 0 0 0 0 0 0 0 0 0 0 0 0 0 0 0 0 0 0 0 0 0 0 0 0 0 0 0 0 0\n 0 0 0 0 0 0 0 0 0 0 0 0 0 0 0 0 0 0 0 0 0 0 0 0 0 0 0 0 0 0 0 0 0 0 0 0 0\n 0 0 0 0 0 0 0 0 0 0 0 0 0 0 0 0 0 0 0 0]\n"
     ]
    }
   ],
   "source": [
    "#Write your answer here\n",
    "print(np.sum((data[\"bodystyle\"]==\"convertible\")) & (data[\"price\"]<15000))"
   ]
  },
  {
   "cell_type": "markdown",
   "metadata": {
    "id": "ywJYQraH1onP"
   },
   "source": [
    "#### **T15) Calculate the interquartile range for the price of all cars**"
   ]
  },
  {
   "cell_type": "code",
   "execution_count": 100,
   "metadata": {
    "id": "8M9_FnENyWWU"
   },
   "outputs": [
    {
     "output_type": "stream",
     "name": "stdout",
     "text": [
      "8715.0\n"
     ]
    }
   ],
   "source": [
    "#Write your answer here\n",
    "lq = np.percentile(data[\"price\"], 25, interpolation=\"midpoint\")\n",
    "uq = np.percentile(data[\"price\"], 75, interpolation=\"midpoint\")\n",
    "iqr = uq - lq\n",
    "print(iqr)"
   ]
  },
  {
   "cell_type": "markdown",
   "metadata": {
    "id": "K81ZLhTh2jyc"
   },
   "source": [
    "#### **T16) Calculate the 50th percentile range for the horsepower of all cars. Which value is the 50th percentile equal to?**"
   ]
  },
  {
   "cell_type": "code",
   "execution_count": 101,
   "metadata": {
    "id": "q1QNhunw2Lnr"
   },
   "outputs": [
    {
     "output_type": "stream",
     "name": "stdout",
     "text": [
      "10345.0\n"
     ]
    }
   ],
   "source": [
    "#Write your answer here\n",
    "percentile50 = lq = np.percentile(data[\"price\"], 50, interpolation=\"midpoint\")\n",
    "print(percentile50)"
   ]
  },
  {
   "cell_type": "markdown",
   "metadata": {
    "id": "GporTyn66Rkz"
   },
   "source": [
    "### Ideas for practicing further at home\n",
    "\n",
    "* Find the engine and horsepower of 4wd cars\n",
    "* Find whether diesel or gas cars are more efficient in the city/highway\n",
    "* Any other analysis that you might could generate some useful insight.\n"
   ]
  }
 ],
 "metadata": {
  "colab": {
   "authorship_tag": "ABX9TyPgs+k0a0z6n+bqTsaPcWej",
   "name": "DAT1-Practical2-ClassicCars-ModelAnswers.ipynb",
   "provenance": []
  },
  "kernelspec": {
   "display_name": "Python 3",
   "language": "python",
   "name": "python3"
  },
  "language_info": {
   "codemirror_mode": {
    "name": "ipython",
    "version": 3
   },
   "file_extension": ".py",
   "mimetype": "text/x-python",
   "name": "python",
   "nbconvert_exporter": "python",
   "pygments_lexer": "ipython3",
   "version": "3.7.3-final"
  }
 },
 "nbformat": 4,
 "nbformat_minor": 1
}