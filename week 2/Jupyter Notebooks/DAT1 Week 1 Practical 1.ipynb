{
 "cells": [
  {
   "cell_type": "code",
   "execution_count": 17,
   "metadata": {},
   "outputs": [],
   "source": [
    "import math\n",
    "import numpy as np\n",
    "#list with % of low emission Licensed Taxis operating in York per year from 2011 to 2019\n",
    "yorkTaxis=[0.00,1.00,3.00,6.00,8.00,13.00,16.10,17.60,19.90]\n",
    "#list with % of low emission Licensed Taxis operating in Leeds per year from 2011 to 2019\n",
    "leedsTaxis=[0.50,1.20,2.30,5.00,7.80,14.30,17.10,17.30,20.90]\n",
    "york = np.array(yorkTaxis)\n",
    "leeds = np.array(leedsTaxis)"
   ]
  },
  {
   "cell_type": "code",
   "execution_count": 18,
   "metadata": {},
   "outputs": [
    {
     "output_type": "stream",
     "name": "stdout",
     "text": [
      "(9,)\n(9,)\n"
     ]
    }
   ],
   "source": [
    "print(york.shape)\n",
    "print(leeds.shape)"
   ]
  },
  {
   "cell_type": "code",
   "execution_count": 19,
   "metadata": {},
   "outputs": [
    {
     "output_type": "stream",
     "name": "stdout",
     "text": [
      "float64\nfloat64\n"
     ]
    }
   ],
   "source": [
    "print(york.dtype)\n",
    "print(leeds.dtype)"
   ]
  },
  {
   "cell_type": "code",
   "execution_count": 20,
   "metadata": {},
   "outputs": [
    {
     "output_type": "stream",
     "name": "stdout",
     "text": [
      "[ 8.  13.  16.1 17.6 19.9]\n",
      "[ 7.8 14.3 17.1 17.3 20.9]\n"
     ]
    }
   ],
   "source": [
    "print(york[4:])\n",
    "print(leeds[4:])"
   ]
  },
  {
   "cell_type": "code",
   "execution_count": 21,
   "metadata": {},
   "outputs": [
    {
     "output_type": "stream",
     "name": "stdout",
     "text": [
      "0.0 19.9 9.399999999999999\n0.5 20.9 9.600000000000001\n"
     ]
    }
   ],
   "source": [
    "yorkMin = np.min(york)\n",
    "yorkMax = np.max(york)\n",
    "yorkMean = np.mean(york)\n",
    "print(yorkMin, yorkMax, yorkMean)\n",
    "\n",
    "leedsMin = np.min(leeds)\n",
    "leedsMax = np.max(leeds)\n",
    "leedsMean = np.mean(leeds)\n",
    "print(leedsMin, leedsMax, leedsMean)\n"
   ]
  },
  {
   "cell_type": "code",
   "execution_count": 22,
   "metadata": {},
   "outputs": [
    {
     "output_type": "stream",
     "name": "stdout",
     "text": [
      "[ 0.   0.5  1.   1.2  2.3  3.   5.   6.   7.8  8.  13.  14.3 16.1 17.1\n 17.3 17.6 19.9 20.9]\n"
     ]
    }
   ],
   "source": [
    "allData = np.concatenate((york, leeds))\n",
    "sortedAllData = np.sort(allData)\n",
    "print(sortedAllData)\n"
   ]
  },
  {
   "cell_type": "code",
   "execution_count": 23,
   "metadata": {},
   "outputs": [
    {
     "output_type": "stream",
     "name": "stdout",
     "text": [
      "[[ 0.   1. ]\n [ 3.   6. ]\n [ 8.  13. ]\n [16.1 17.6]\n [19.9  0.5]\n [ 1.2  2.3]\n [ 5.   7.8]\n [14.3 17.1]\n [17.3 20.9]]\n"
     ]
    }
   ],
   "source": [
    "allData2D = allData.reshape(9,2)\n",
    "print(allData2D)"
   ]
  },
  {
   "cell_type": "code",
   "execution_count": 24,
   "metadata": {},
   "outputs": [
    {
     "output_type": "stream",
     "name": "stdout",
     "text": [
      "[[ 0.   3.   8.  16.1 19.9  1.2  5.  14.3 17.3]\n [ 1.   6.  13.  17.6  0.5  2.3  7.8 17.1 20.9]]\n"
     ]
    }
   ],
   "source": [
    "print(allData2D.T)"
   ]
  },
  {
   "cell_type": "code",
   "execution_count": 25,
   "metadata": {},
   "outputs": [
    {
     "output_type": "stream",
     "name": "stdout",
     "text": [
      "[0.5 0.2 0.7 1.  0.2 1.3 1.  0.3 1. ]\n"
     ]
    }
   ],
   "source": [
    "percentageDiff = []\n",
    "for i in range(len(york)):\n",
    "    percentageDiff.append(abs(york[i]-leeds[i]))\n",
    "percentageDiff = np.array(percentageDiff)\n",
    "print(percentageDiff)"
   ]
  },
  {
   "cell_type": "code",
   "execution_count": 26,
   "metadata": {},
   "outputs": [
    {
     "output_type": "stream",
     "name": "stdout",
     "text": [
      "0.19999999999999996 1.3000000000000007 0.6888888888888891\n"
     ]
    }
   ],
   "source": [
    "def maxMinDiff(diffs):\n",
    "    maxDiff = np.max(diffs)\n",
    "    minDiff = np.min(diffs)\n",
    "    meanDiff = np.mean(diffs)\n",
    "    print(minDiff, maxDiff, meanDiff)\n",
    "maxMinDiff(percentageDiff)"
   ]
  },
  {
   "cell_type": "code",
   "execution_count": 27,
   "metadata": {},
   "outputs": [
    {
     "output_type": "stream",
     "name": "stdout",
     "text": [
      "5\n"
     ]
    }
   ],
   "source": [
    "def countEmissions():\n",
    "    count = 0\n",
    "    for i in range(len(york)):\n",
    "        if york[i] < leeds[i]:\n",
    "            count += 1\n",
    "    print(count)\n",
    "countEmissions()"
   ]
  },
  {
   "cell_type": "code",
   "execution_count": 38,
   "metadata": {},
   "outputs": [
    {
     "output_type": "stream",
     "name": "stdout",
     "text": [
      "[2011 2012 2013 2014 2015 2016 2017 2018 2019]\n[[2011.0    0.0]\n [2012.0    1.0]\n [2013.0    3.0]\n [2014.0    6.0]\n [2015.0    8.0]\n [2016.0   13.0]\n [2017.0   16.1]\n [2018.0   17.6]\n [2019.0   19.9]]\n"
     ]
    }
   ],
   "source": [
    "yearStart = 2011\n",
    "years = np.arange(2011, 2011+len(york))\n",
    "years = years.astype(int)\n",
    "np.set_printoptions(suppress=True)\n",
    "print(years)\n",
    "array2d = (years, york)\n",
    "array2d = np.stack(array2d, 1)\n",
    "print(array2d)"
   ]
  },
  {
   "cell_type": "code",
   "execution_count": null,
   "metadata": {},
   "outputs": [],
   "source": []
  }
 ],
 "metadata": {
  "kernelspec": {
   "display_name": "Python 3",
   "language": "python",
   "name": "python3"
  },
  "language_info": {
   "codemirror_mode": {
    "name": "ipython",
    "version": 3
   },
   "file_extension": ".py",
   "mimetype": "text/x-python",
   "name": "python",
   "nbconvert_exporter": "python",
   "pygments_lexer": "ipython3",
   "version": "3.7.3-final"
  }
 },
 "nbformat": 4,
 "nbformat_minor": 4
}