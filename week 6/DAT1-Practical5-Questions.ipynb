{
 "cells": [
  {
   "cell_type": "markdown",
   "metadata": {
    "id": "zF7tBkX4pilf"
   },
   "source": [
    "# DATA 1 Practical 5\n",
    "\n",
    "Simos Gerasimou\n",
    "\n",
    "\n",
    "## All You Need to Know About Google Play Store\n",
    "\n",
    "**Google Play store** ([https://play.google.com/store?hl=en](https://play.google.com/store?hl=en)) is a digital distribution service operated and developed by Google. It serves as the official app store for the Android operating system, allowing users to browse and download applications developed with the Android software development kit (SDK) and published through Google. [Wikipedia](https://en.wikipedia.org/wiki/Google_Play).\n",
    "\n",
    "**DataVision** has scraped the Google Play store  and acquired data for several Android applications. Since data from the Play Store apps has great potential to drive app-making businesses to success, DataVision wants to investigate whether any actionable insights can be drawn for developers to work on and capture the Android market!\n",
    "\n",
    "#### Your tasks are to explore this dataset and generade some actionable knowledge. \n",
    "\n",
    "\n",
    "#### This Jupyter Notebook will be presented to  Google stakeholders who have limited knowledge about data science. So, your findings should be complemented by a suitable justification explaining what you observe and, when applicable, what does this observation  mean and, possibly, why it occurs.\n",
    "\n",
    "* For each question (task) a description is provided accompanied (most of the time) by two cells: one for writing the Python code and another for providing the justification. Feel free to add more cells if you feel they are needed, but keep the cells corresponding to the same question close by.\n",
    "\n",
    "(1) To answer these exercises, you **must first read Chapter 3: Dapa Manipulation with Pandas from the Python Data Science Handbook** (https://jakevdp.github.io/PythonDataScienceHandbook/03.00-introduction-to-pandas.html)\n",
    "\n",
    "(2) If you haven't already done so, complete the exercises on Pandas tutorial to become familiar with the library.\n",
    "\n",
    "**Pandas API Reference**: https://pandas.pydata.org/pandas-docs/stable/reference/index.html\n",
    "\n",
    "***"
   ]
  },
  {
   "source": [
    "QUESTIONS I COULDNT DO\n",
    "\n",
    "**********************************************************************\n",
    "\n",
    "10, 11, 12, 21\n",
    "\n",
    "**********************************************************************\n"
   ],
   "cell_type": "markdown",
   "metadata": {}
  },
  {
   "cell_type": "markdown",
   "metadata": {
    "id": "JSMd71Q2pill"
   },
   "source": [
    "### Part 1: Reading dataset\n",
    "\n",
    "The Google dataset is available on VLE (look for googleplaystore.csv in the Practicals section)\n",
    "\n",
    "Before doing the tasks below, you may want to explore the dataset using a spreadsheet editor (e.g., Excel) to get a high-level view of the dataset.\n",
    "\n",
    "**T1) Load the Google Play Store dataset using Pandas**\n",
    "\n",
    "**Note**: You have to download the dataset on your local machine and then load it onto the Jupyter Notebook"
   ]
  },
  {
   "cell_type": "code",
   "execution_count": 2,
   "metadata": {
    "id": "Nd3k6O6Gpilo"
   },
   "outputs": [],
   "source": [
    "import pandas as pd \n",
    "import numpy as np\n",
    "\n",
    "#Write your answer here\n",
    "apps = pd.read_csv(\"googleplaystore.csv\")"
   ]
  },
  {
   "cell_type": "markdown",
   "metadata": {
    "id": "GA46YePHpilr"
   },
   "source": [
    "***\n",
    "\n",
    "### Part 2: Cleaning and analysing the dataset"
   ]
  },
  {
   "cell_type": "markdown",
   "metadata": {
    "id": "tNP03BoptJCV"
   },
   "source": [
    "**T2i) Print the first 10 records of the dataframe**"
   ]
  },
  {
   "cell_type": "code",
   "execution_count": 3,
   "metadata": {
    "id": "JIL4cdSqpilt"
   },
   "outputs": [
    {
     "output_type": "execute_result",
     "data": {
      "text/plain": [
       "                                                 App        Category  Rating  \\\n",
       "0     Photo Editor & Candy Camera & Grid & ScrapBook  ART_AND_DESIGN     4.1   \n",
       "1                                Coloring book moana  ART_AND_DESIGN     3.9   \n",
       "2  U Launcher Lite – FREE Live Cool Themes, Hide ...  ART_AND_DESIGN     4.7   \n",
       "3                              Sketch - Draw & Paint  ART_AND_DESIGN     4.5   \n",
       "4              Pixel Draw - Number Art Coloring Book  ART_AND_DESIGN     4.3   \n",
       "5                         Paper flowers instructions  ART_AND_DESIGN     4.4   \n",
       "6            Smoke Effect Photo Maker - Smoke Editor  ART_AND_DESIGN     3.8   \n",
       "7                                   Infinite Painter  ART_AND_DESIGN     4.1   \n",
       "8                               Garden Coloring Book  ART_AND_DESIGN     4.4   \n",
       "9                      Kids Paint Free - Drawing Fun  ART_AND_DESIGN     4.7   \n",
       "\n",
       "   Reviews  Size     Installs  Type Price Content Rating  \\\n",
       "0      159   19M      10,000+  Free     0       Everyone   \n",
       "1      967   14M     500,000+  Free     0       Everyone   \n",
       "2    87510  8.7M   5,000,000+  Free     0       Everyone   \n",
       "3   215644   25M  50,000,000+  Free     0           Teen   \n",
       "4      967  2.8M     100,000+  Free     0       Everyone   \n",
       "5      167  5.6M      50,000+  Free     0       Everyone   \n",
       "6      178   19M      50,000+  Free     0       Everyone   \n",
       "7    36815   29M   1,000,000+  Free     0       Everyone   \n",
       "8    13791   33M   1,000,000+  Free     0       Everyone   \n",
       "9      121  3.1M      10,000+  Free     0       Everyone   \n",
       "\n",
       "                      Genres        Last Updated         Current Ver  \\\n",
       "0               Art & Design     January 7, 2018               1.0.0   \n",
       "1  Art & Design;Pretend Play    January 15, 2018               2.0.0   \n",
       "2               Art & Design      August 1, 2018               1.2.4   \n",
       "3               Art & Design        June 8, 2018  Varies with device   \n",
       "4    Art & Design;Creativity       June 20, 2018                 1.1   \n",
       "5               Art & Design      March 26, 2017                   1   \n",
       "6               Art & Design      April 26, 2018                 1.1   \n",
       "7               Art & Design       June 14, 2018            6.1.61.1   \n",
       "8               Art & Design  September 20, 2017               2.9.2   \n",
       "9    Art & Design;Creativity        July 3, 2018                 2.8   \n",
       "\n",
       "    Android Ver  \n",
       "0  4.0.3 and up  \n",
       "1  4.0.3 and up  \n",
       "2  4.0.3 and up  \n",
       "3    4.2 and up  \n",
       "4    4.4 and up  \n",
       "5    2.3 and up  \n",
       "6  4.0.3 and up  \n",
       "7    4.2 and up  \n",
       "8    3.0 and up  \n",
       "9  4.0.3 and up  "
      ],
      "text/html": "<div>\n<style scoped>\n    .dataframe tbody tr th:only-of-type {\n        vertical-align: middle;\n    }\n\n    .dataframe tbody tr th {\n        vertical-align: top;\n    }\n\n    .dataframe thead th {\n        text-align: right;\n    }\n</style>\n<table border=\"1\" class=\"dataframe\">\n  <thead>\n    <tr style=\"text-align: right;\">\n      <th></th>\n      <th>App</th>\n      <th>Category</th>\n      <th>Rating</th>\n      <th>Reviews</th>\n      <th>Size</th>\n      <th>Installs</th>\n      <th>Type</th>\n      <th>Price</th>\n      <th>Content Rating</th>\n      <th>Genres</th>\n      <th>Last Updated</th>\n      <th>Current Ver</th>\n      <th>Android Ver</th>\n    </tr>\n  </thead>\n  <tbody>\n    <tr>\n      <th>0</th>\n      <td>Photo Editor &amp; Candy Camera &amp; Grid &amp; ScrapBook</td>\n      <td>ART_AND_DESIGN</td>\n      <td>4.1</td>\n      <td>159</td>\n      <td>19M</td>\n      <td>10,000+</td>\n      <td>Free</td>\n      <td>0</td>\n      <td>Everyone</td>\n      <td>Art &amp; Design</td>\n      <td>January 7, 2018</td>\n      <td>1.0.0</td>\n      <td>4.0.3 and up</td>\n    </tr>\n    <tr>\n      <th>1</th>\n      <td>Coloring book moana</td>\n      <td>ART_AND_DESIGN</td>\n      <td>3.9</td>\n      <td>967</td>\n      <td>14M</td>\n      <td>500,000+</td>\n      <td>Free</td>\n      <td>0</td>\n      <td>Everyone</td>\n      <td>Art &amp; Design;Pretend Play</td>\n      <td>January 15, 2018</td>\n      <td>2.0.0</td>\n      <td>4.0.3 and up</td>\n    </tr>\n    <tr>\n      <th>2</th>\n      <td>U Launcher Lite – FREE Live Cool Themes, Hide ...</td>\n      <td>ART_AND_DESIGN</td>\n      <td>4.7</td>\n      <td>87510</td>\n      <td>8.7M</td>\n      <td>5,000,000+</td>\n      <td>Free</td>\n      <td>0</td>\n      <td>Everyone</td>\n      <td>Art &amp; Design</td>\n      <td>August 1, 2018</td>\n      <td>1.2.4</td>\n      <td>4.0.3 and up</td>\n    </tr>\n    <tr>\n      <th>3</th>\n      <td>Sketch - Draw &amp; Paint</td>\n      <td>ART_AND_DESIGN</td>\n      <td>4.5</td>\n      <td>215644</td>\n      <td>25M</td>\n      <td>50,000,000+</td>\n      <td>Free</td>\n      <td>0</td>\n      <td>Teen</td>\n      <td>Art &amp; Design</td>\n      <td>June 8, 2018</td>\n      <td>Varies with device</td>\n      <td>4.2 and up</td>\n    </tr>\n    <tr>\n      <th>4</th>\n      <td>Pixel Draw - Number Art Coloring Book</td>\n      <td>ART_AND_DESIGN</td>\n      <td>4.3</td>\n      <td>967</td>\n      <td>2.8M</td>\n      <td>100,000+</td>\n      <td>Free</td>\n      <td>0</td>\n      <td>Everyone</td>\n      <td>Art &amp; Design;Creativity</td>\n      <td>June 20, 2018</td>\n      <td>1.1</td>\n      <td>4.4 and up</td>\n    </tr>\n    <tr>\n      <th>5</th>\n      <td>Paper flowers instructions</td>\n      <td>ART_AND_DESIGN</td>\n      <td>4.4</td>\n      <td>167</td>\n      <td>5.6M</td>\n      <td>50,000+</td>\n      <td>Free</td>\n      <td>0</td>\n      <td>Everyone</td>\n      <td>Art &amp; Design</td>\n      <td>March 26, 2017</td>\n      <td>1</td>\n      <td>2.3 and up</td>\n    </tr>\n    <tr>\n      <th>6</th>\n      <td>Smoke Effect Photo Maker - Smoke Editor</td>\n      <td>ART_AND_DESIGN</td>\n      <td>3.8</td>\n      <td>178</td>\n      <td>19M</td>\n      <td>50,000+</td>\n      <td>Free</td>\n      <td>0</td>\n      <td>Everyone</td>\n      <td>Art &amp; Design</td>\n      <td>April 26, 2018</td>\n      <td>1.1</td>\n      <td>4.0.3 and up</td>\n    </tr>\n    <tr>\n      <th>7</th>\n      <td>Infinite Painter</td>\n      <td>ART_AND_DESIGN</td>\n      <td>4.1</td>\n      <td>36815</td>\n      <td>29M</td>\n      <td>1,000,000+</td>\n      <td>Free</td>\n      <td>0</td>\n      <td>Everyone</td>\n      <td>Art &amp; Design</td>\n      <td>June 14, 2018</td>\n      <td>6.1.61.1</td>\n      <td>4.2 and up</td>\n    </tr>\n    <tr>\n      <th>8</th>\n      <td>Garden Coloring Book</td>\n      <td>ART_AND_DESIGN</td>\n      <td>4.4</td>\n      <td>13791</td>\n      <td>33M</td>\n      <td>1,000,000+</td>\n      <td>Free</td>\n      <td>0</td>\n      <td>Everyone</td>\n      <td>Art &amp; Design</td>\n      <td>September 20, 2017</td>\n      <td>2.9.2</td>\n      <td>3.0 and up</td>\n    </tr>\n    <tr>\n      <th>9</th>\n      <td>Kids Paint Free - Drawing Fun</td>\n      <td>ART_AND_DESIGN</td>\n      <td>4.7</td>\n      <td>121</td>\n      <td>3.1M</td>\n      <td>10,000+</td>\n      <td>Free</td>\n      <td>0</td>\n      <td>Everyone</td>\n      <td>Art &amp; Design;Creativity</td>\n      <td>July 3, 2018</td>\n      <td>2.8</td>\n      <td>4.0.3 and up</td>\n    </tr>\n  </tbody>\n</table>\n</div>"
     },
     "metadata": {},
     "execution_count": 3
    }
   ],
   "source": [
    "#Write your answer here\n",
    "apps.head(10)"
   ]
  },
  {
   "cell_type": "markdown",
   "metadata": {
    "id": "J-3Llu8tuD3U"
   },
   "source": [
    "**T2ii) Print the last 3 records of the dataframe**"
   ]
  },
  {
   "cell_type": "code",
   "execution_count": 4,
   "metadata": {
    "id": "JX6ch_uopilv"
   },
   "outputs": [
    {
     "output_type": "execute_result",
     "data": {
      "text/plain": [
       "                                                 App             Category  \\\n",
       "10836                         Parkinson Exercices FR              MEDICAL   \n",
       "10837                  The SCP Foundation DB fr nn5n  BOOKS_AND_REFERENCE   \n",
       "10838  iHoroscope - 2018 Daily Horoscope & Astrology            LIFESTYLE   \n",
       "\n",
       "       Rating  Reviews                Size     Installs  Type Price  \\\n",
       "10836     NaN        3                9.5M       1,000+  Free     0   \n",
       "10837     4.5      114  Varies with device       1,000+  Free     0   \n",
       "10838     4.5   398307                 19M  10,000,000+  Free     0   \n",
       "\n",
       "      Content Rating             Genres      Last Updated         Current Ver  \\\n",
       "10836       Everyone            Medical  January 20, 2017                   1   \n",
       "10837     Mature 17+  Books & Reference  January 19, 2015  Varies with device   \n",
       "10838       Everyone          Lifestyle     July 25, 2018  Varies with device   \n",
       "\n",
       "              Android Ver  \n",
       "10836          2.2 and up  \n",
       "10837  Varies with device  \n",
       "10838  Varies with device  "
      ],
      "text/html": "<div>\n<style scoped>\n    .dataframe tbody tr th:only-of-type {\n        vertical-align: middle;\n    }\n\n    .dataframe tbody tr th {\n        vertical-align: top;\n    }\n\n    .dataframe thead th {\n        text-align: right;\n    }\n</style>\n<table border=\"1\" class=\"dataframe\">\n  <thead>\n    <tr style=\"text-align: right;\">\n      <th></th>\n      <th>App</th>\n      <th>Category</th>\n      <th>Rating</th>\n      <th>Reviews</th>\n      <th>Size</th>\n      <th>Installs</th>\n      <th>Type</th>\n      <th>Price</th>\n      <th>Content Rating</th>\n      <th>Genres</th>\n      <th>Last Updated</th>\n      <th>Current Ver</th>\n      <th>Android Ver</th>\n    </tr>\n  </thead>\n  <tbody>\n    <tr>\n      <th>10836</th>\n      <td>Parkinson Exercices FR</td>\n      <td>MEDICAL</td>\n      <td>NaN</td>\n      <td>3</td>\n      <td>9.5M</td>\n      <td>1,000+</td>\n      <td>Free</td>\n      <td>0</td>\n      <td>Everyone</td>\n      <td>Medical</td>\n      <td>January 20, 2017</td>\n      <td>1</td>\n      <td>2.2 and up</td>\n    </tr>\n    <tr>\n      <th>10837</th>\n      <td>The SCP Foundation DB fr nn5n</td>\n      <td>BOOKS_AND_REFERENCE</td>\n      <td>4.5</td>\n      <td>114</td>\n      <td>Varies with device</td>\n      <td>1,000+</td>\n      <td>Free</td>\n      <td>0</td>\n      <td>Mature 17+</td>\n      <td>Books &amp; Reference</td>\n      <td>January 19, 2015</td>\n      <td>Varies with device</td>\n      <td>Varies with device</td>\n    </tr>\n    <tr>\n      <th>10838</th>\n      <td>iHoroscope - 2018 Daily Horoscope &amp; Astrology</td>\n      <td>LIFESTYLE</td>\n      <td>4.5</td>\n      <td>398307</td>\n      <td>19M</td>\n      <td>10,000,000+</td>\n      <td>Free</td>\n      <td>0</td>\n      <td>Everyone</td>\n      <td>Lifestyle</td>\n      <td>July 25, 2018</td>\n      <td>Varies with device</td>\n      <td>Varies with device</td>\n    </tr>\n  </tbody>\n</table>\n</div>"
     },
     "metadata": {},
     "execution_count": 4
    }
   ],
   "source": [
    "#Write your answer here\n",
    "apps.tail(3)"
   ]
  },
  {
   "cell_type": "markdown",
   "metadata": {
    "id": "0ypuvQBvpilx"
   },
   "source": [
    "**T3) Get general info about the dataset**"
   ]
  },
  {
   "cell_type": "code",
   "execution_count": 5,
   "metadata": {
    "id": "FbzVNiLEpily"
   },
   "outputs": [
    {
     "output_type": "stream",
     "name": "stdout",
     "text": [
      "<class 'pandas.core.frame.DataFrame'>\nRangeIndex: 10839 entries, 0 to 10838\nData columns (total 13 columns):\n #   Column          Non-Null Count  Dtype  \n---  ------          --------------  -----  \n 0   App             10839 non-null  object \n 1   Category        10839 non-null  object \n 2   Rating          9365 non-null   float64\n 3   Reviews         10839 non-null  int64  \n 4   Size            10839 non-null  object \n 5   Installs        10839 non-null  object \n 6   Type            10838 non-null  object \n 7   Price           10839 non-null  object \n 8   Content Rating  10839 non-null  object \n 9   Genres          10839 non-null  object \n 10  Last Updated    10839 non-null  object \n 11  Current Ver     10831 non-null  object \n 12  Android Ver     10837 non-null  object \ndtypes: float64(1), int64(1), object(11)\nmemory usage: 635.2+ KB\n"
     ]
    }
   ],
   "source": [
    "#Write your answer here\n",
    "apps.info()"
   ]
  },
  {
   "cell_type": "markdown",
   "metadata": {
    "id": "okNuSdnjpilz"
   },
   "source": [
    "**T4) Explore the dataset and try to understand the meaning of each column. For each column, write its meaning and its data type**"
   ]
  },
  {
   "source": [
    "App - String - The title of the app in the app store\n",
    "\n",
    "Category - String - The Category of the app store that the app is in\n",
    "\n",
    "Rating - Float - The amount of stars the app has on average from reviews\n",
    "\n",
    "Reviews - Integer - The amount of reviews the app has in total\n",
    "\n",
    "Size - String - The amount of space the app takes up on a phone\n",
    "\n",
    "Installs - Integer - The amount of times the app has been installed\n",
    "\n",
    "Type - String - Whether the app is free or paid\n",
    "\n",
    "Price - String - how much the app costs to download\n",
    "\n",
    "Content Rating - String - What age range the app is appropriate from\n",
    "\n",
    "Genres - String - What genres the app is a part of\n",
    "\n",
    "Last Updated - String / Date - When the app was last Updated\n",
    "\n",
    "Current Ver - String - What version the app is currently on\n",
    "\n",
    "Android Ver - String - What minimum android version is required for the app to be installed"
   ],
   "cell_type": "markdown",
   "metadata": {}
  },
  {
   "cell_type": "markdown",
   "metadata": {
    "id": "HYxnGDLKpil2"
   },
   "source": [
    "**T5) Get the shape of the dataframe**"
   ]
  },
  {
   "cell_type": "code",
   "execution_count": 6,
   "metadata": {
    "id": "8Z0XUlOSpil5"
   },
   "outputs": [
    {
     "output_type": "execute_result",
     "data": {
      "text/plain": [
       "(10839, 13)"
      ]
     },
     "metadata": {},
     "execution_count": 6
    }
   ],
   "source": [
    "#Write your answer here\n",
    "apps.shape"
   ]
  },
  {
   "cell_type": "markdown",
   "metadata": {
    "id": "BMmauN4Opil7"
   },
   "source": [
    "**T6) Get the name of the columns for the dataframe**"
   ]
  },
  {
   "cell_type": "code",
   "execution_count": 7,
   "metadata": {
    "id": "iEpHm4g7pil7"
   },
   "outputs": [
    {
     "output_type": "execute_result",
     "data": {
      "text/plain": [
       "Index(['App', 'Category', 'Rating', 'Reviews', 'Size', 'Installs', 'Type',\n",
       "       'Price', 'Content Rating', 'Genres', 'Last Updated', 'Current Ver',\n",
       "       'Android Ver'],\n",
       "      dtype='object')"
      ]
     },
     "metadata": {},
     "execution_count": 7
    }
   ],
   "source": [
    "#Write your answer here\n",
    "apps.columns"
   ]
  },
  {
   "cell_type": "markdown",
   "metadata": {
    "id": "kTny7cHppil7"
   },
   "source": [
    "**T7) Do you think the columns (variables) need to be more readable? If so, rename them (e.g., suitable capitalisation, eliminate underscores, full words)**"
   ]
  },
  {
   "cell_type": "code",
   "execution_count": 8,
   "metadata": {
    "id": "6mQqaiejpil9"
   },
   "outputs": [
    {
     "output_type": "execute_result",
     "data": {
      "text/plain": [
       "Index(['app', 'category', 'rating', 'reviews', 'size', 'installs', 'type',\n",
       "       'price', 'contentRating', 'genres', 'lastUpdated', 'currentVersion',\n",
       "       'androidVersion'],\n",
       "      dtype='object')"
      ]
     },
     "metadata": {},
     "execution_count": 8
    }
   ],
   "source": [
    "#Write your answer here\n",
    "apps.columns = ['app', 'category', 'rating', 'reviews', 'size', 'installs', 'type', 'price', 'contentRating', 'genres', 'lastUpdated', 'currentVersion', \"androidVersion\"]\n",
    "\n",
    "apps.columns"
   ]
  },
  {
   "cell_type": "markdown",
   "metadata": {
    "id": "5o5-LKDEpil9"
   },
   "source": [
    "**T8) How many duplicated records exist?**\n",
    "\n",
    "**Note**: A record is duplicated if all its entries are identical with another record\n",
    "\n"
   ]
  },
  {
   "cell_type": "code",
   "execution_count": 9,
   "metadata": {
    "id": "fmJa-u1mpil-"
   },
   "outputs": [
    {
     "output_type": "stream",
     "name": "stdout",
     "text": [
      "There are 483 duplicated records\n"
     ]
    }
   ],
   "source": [
    "#Write your answer here\n",
    "print(f\"There are {apps.duplicated().sum()} duplicated records\")"
   ]
  },
  {
   "cell_type": "markdown",
   "metadata": {
    "id": "8NAcEIUPpimB"
   },
   "source": [
    "**T9i) How many of the duplicated records refer to 'blood pressure' in their name?**"
   ]
  },
  {
   "cell_type": "code",
   "execution_count": 10,
   "metadata": {
    "id": "DjBTHp5vEu-U"
   },
   "outputs": [
    {
     "output_type": "execute_result",
     "data": {
      "text/plain": [
       "9"
      ]
     },
     "metadata": {},
     "execution_count": 10
    }
   ],
   "source": [
    "#Write your answer here\n",
    "dupedApps = apps[(apps.duplicated())]\n",
    "dupedApps['app'] = dupedApps['app'].str.lower()\n",
    "dupedApps['app'][dupedApps['app'].str.contains('blood pressure')].count()"
   ]
  },
  {
   "cell_type": "markdown",
   "metadata": {
    "id": "diz4XEm2FuJ3"
   },
   "source": [
    "**T9ii) Print the records you found in task T9i**"
   ]
  },
  {
   "cell_type": "code",
   "execution_count": 11,
   "metadata": {
    "id": "6V6RRcYeF3HF"
   },
   "outputs": [
    {
     "output_type": "execute_result",
     "data": {
      "text/plain": [
       "                                    app category  rating  reviews  size  \\\n",
       "2502                free blood pressure  MEDICAL     NaN        7  5.7M   \n",
       "2512          jh blood pressure monitor  MEDICAL     3.7        9  2.9M   \n",
       "6584                 ibp blood pressure  MEDICAL     4.4      578  704k   \n",
       "6585                     blood pressure  MEDICAL     4.2    33033  7.4M   \n",
       "6590           blood pressure(bp) diary  MEDICAL     3.7     3596  8.4M   \n",
       "6593  bp journal - blood pressure diary  MEDICAL     5.0        6   26M   \n",
       "6594             blood pressure monitor  MEDICAL     4.3       17  6.0M   \n",
       "6595           blood pressure companion  MEDICAL     4.2      178  4.8M   \n",
       "6598                free blood pressure  MEDICAL     NaN        7  5.7M   \n",
       "\n",
       "        installs  type  price contentRating   genres        lastUpdated  \\\n",
       "2502      5,000+  Free      0      Everyone  Medical   October 13, 2016   \n",
       "2512        500+  Free      0      Everyone  Medical      July 21, 2018   \n",
       "6584     10,000+  Paid  $0.99      Everyone  Medical  November 30, 2014   \n",
       "6585  5,000,000+  Free      0      Everyone  Medical      July 24, 2018   \n",
       "6590  1,000,000+  Free      0      Everyone  Medical      July 18, 2018   \n",
       "6593      1,000+  Free      0      Everyone  Medical       May 25, 2018   \n",
       "6594     10,000+  Free      0      Everyone  Medical  February 25, 2017   \n",
       "6595      1,000+  Paid  $0.99      Everyone  Medical      July 22, 2018   \n",
       "6598      5,000+  Free      0      Everyone  Medical   October 13, 2016   \n",
       "\n",
       "        currentVersion androidVersion  \n",
       "2502             3.0.0   4.0.3 and up  \n",
       "2512               1.1   4.0.3 and up  \n",
       "6584             7.0.1     2.2 and up  \n",
       "6585            3.27.3     4.1 and up  \n",
       "6590             4.0.9   4.0.3 and up  \n",
       "6593            1.0.32     4.4 and up  \n",
       "6594             1.0.1     4.4 and up  \n",
       "6595  4.1.5 (Steglitz)     4.1 and up  \n",
       "6598             3.0.0   4.0.3 and up  "
      ],
      "text/html": "<div>\n<style scoped>\n    .dataframe tbody tr th:only-of-type {\n        vertical-align: middle;\n    }\n\n    .dataframe tbody tr th {\n        vertical-align: top;\n    }\n\n    .dataframe thead th {\n        text-align: right;\n    }\n</style>\n<table border=\"1\" class=\"dataframe\">\n  <thead>\n    <tr style=\"text-align: right;\">\n      <th></th>\n      <th>app</th>\n      <th>category</th>\n      <th>rating</th>\n      <th>reviews</th>\n      <th>size</th>\n      <th>installs</th>\n      <th>type</th>\n      <th>price</th>\n      <th>contentRating</th>\n      <th>genres</th>\n      <th>lastUpdated</th>\n      <th>currentVersion</th>\n      <th>androidVersion</th>\n    </tr>\n  </thead>\n  <tbody>\n    <tr>\n      <th>2502</th>\n      <td>free blood pressure</td>\n      <td>MEDICAL</td>\n      <td>NaN</td>\n      <td>7</td>\n      <td>5.7M</td>\n      <td>5,000+</td>\n      <td>Free</td>\n      <td>0</td>\n      <td>Everyone</td>\n      <td>Medical</td>\n      <td>October 13, 2016</td>\n      <td>3.0.0</td>\n      <td>4.0.3 and up</td>\n    </tr>\n    <tr>\n      <th>2512</th>\n      <td>jh blood pressure monitor</td>\n      <td>MEDICAL</td>\n      <td>3.7</td>\n      <td>9</td>\n      <td>2.9M</td>\n      <td>500+</td>\n      <td>Free</td>\n      <td>0</td>\n      <td>Everyone</td>\n      <td>Medical</td>\n      <td>July 21, 2018</td>\n      <td>1.1</td>\n      <td>4.0.3 and up</td>\n    </tr>\n    <tr>\n      <th>6584</th>\n      <td>ibp blood pressure</td>\n      <td>MEDICAL</td>\n      <td>4.4</td>\n      <td>578</td>\n      <td>704k</td>\n      <td>10,000+</td>\n      <td>Paid</td>\n      <td>$0.99</td>\n      <td>Everyone</td>\n      <td>Medical</td>\n      <td>November 30, 2014</td>\n      <td>7.0.1</td>\n      <td>2.2 and up</td>\n    </tr>\n    <tr>\n      <th>6585</th>\n      <td>blood pressure</td>\n      <td>MEDICAL</td>\n      <td>4.2</td>\n      <td>33033</td>\n      <td>7.4M</td>\n      <td>5,000,000+</td>\n      <td>Free</td>\n      <td>0</td>\n      <td>Everyone</td>\n      <td>Medical</td>\n      <td>July 24, 2018</td>\n      <td>3.27.3</td>\n      <td>4.1 and up</td>\n    </tr>\n    <tr>\n      <th>6590</th>\n      <td>blood pressure(bp) diary</td>\n      <td>MEDICAL</td>\n      <td>3.7</td>\n      <td>3596</td>\n      <td>8.4M</td>\n      <td>1,000,000+</td>\n      <td>Free</td>\n      <td>0</td>\n      <td>Everyone</td>\n      <td>Medical</td>\n      <td>July 18, 2018</td>\n      <td>4.0.9</td>\n      <td>4.0.3 and up</td>\n    </tr>\n    <tr>\n      <th>6593</th>\n      <td>bp journal - blood pressure diary</td>\n      <td>MEDICAL</td>\n      <td>5.0</td>\n      <td>6</td>\n      <td>26M</td>\n      <td>1,000+</td>\n      <td>Free</td>\n      <td>0</td>\n      <td>Everyone</td>\n      <td>Medical</td>\n      <td>May 25, 2018</td>\n      <td>1.0.32</td>\n      <td>4.4 and up</td>\n    </tr>\n    <tr>\n      <th>6594</th>\n      <td>blood pressure monitor</td>\n      <td>MEDICAL</td>\n      <td>4.3</td>\n      <td>17</td>\n      <td>6.0M</td>\n      <td>10,000+</td>\n      <td>Free</td>\n      <td>0</td>\n      <td>Everyone</td>\n      <td>Medical</td>\n      <td>February 25, 2017</td>\n      <td>1.0.1</td>\n      <td>4.4 and up</td>\n    </tr>\n    <tr>\n      <th>6595</th>\n      <td>blood pressure companion</td>\n      <td>MEDICAL</td>\n      <td>4.2</td>\n      <td>178</td>\n      <td>4.8M</td>\n      <td>1,000+</td>\n      <td>Paid</td>\n      <td>$0.99</td>\n      <td>Everyone</td>\n      <td>Medical</td>\n      <td>July 22, 2018</td>\n      <td>4.1.5 (Steglitz)</td>\n      <td>4.1 and up</td>\n    </tr>\n    <tr>\n      <th>6598</th>\n      <td>free blood pressure</td>\n      <td>MEDICAL</td>\n      <td>NaN</td>\n      <td>7</td>\n      <td>5.7M</td>\n      <td>5,000+</td>\n      <td>Free</td>\n      <td>0</td>\n      <td>Everyone</td>\n      <td>Medical</td>\n      <td>October 13, 2016</td>\n      <td>3.0.0</td>\n      <td>4.0.3 and up</td>\n    </tr>\n  </tbody>\n</table>\n</div>"
     },
     "metadata": {},
     "execution_count": 11
    }
   ],
   "source": [
    "#Write your answer here\n",
    "dupedApps[dupedApps['app'].str.contains('blood pressure')]"
   ]
  },
  {
   "cell_type": "markdown",
   "metadata": {
    "id": "lO_TXFuT7xUx"
   },
   "source": [
    "**T10) Let's look more closely into the dataset. Are there more duplicates?**\n",
    "\n",
    "**Hint:** Check the duplicated function of Pandas to understand how the function operates. Do you need to specify what information to consider when checking for duplicates?"
   ]
  },
  {
   "cell_type": "code",
   "execution_count": 12,
   "metadata": {
    "id": "albqSW1t83Ms"
   },
   "outputs": [
    {
     "output_type": "execute_result",
     "data": {
      "text/plain": [
       "                                    app category  rating  reviews  size  \\\n",
       "2244                 ibp blood pressure  MEDICAL     4.4      578  704k   \n",
       "2275           blood pressure companion  MEDICAL     4.2      178  4.8M   \n",
       "2310                     blood pressure  MEDICAL     4.2    33033  7.4M   \n",
       "2356                free blood pressure  MEDICAL     NaN        7  5.7M   \n",
       "2426          jh blood pressure monitor  MEDICAL     3.7        9  2.9M   \n",
       "2502                free blood pressure  MEDICAL     NaN        7  5.7M   \n",
       "2510           blood pressure(bp) diary  MEDICAL     3.7     3596  8.4M   \n",
       "2512          jh blood pressure monitor  MEDICAL     3.7        9  2.9M   \n",
       "2525             blood pressure monitor  MEDICAL     4.3       17  6.0M   \n",
       "2527  bp journal - blood pressure diary  MEDICAL     5.0        6   26M   \n",
       "6584                 ibp blood pressure  MEDICAL     4.4      578  704k   \n",
       "6585                     blood pressure  MEDICAL     4.2    33033  7.4M   \n",
       "6590           blood pressure(bp) diary  MEDICAL     3.7     3596  8.4M   \n",
       "6593  bp journal - blood pressure diary  MEDICAL     5.0        6   26M   \n",
       "6594             blood pressure monitor  MEDICAL     4.3       17  6.0M   \n",
       "6595           blood pressure companion  MEDICAL     4.2      178  4.8M   \n",
       "6598                free blood pressure  MEDICAL     NaN        7  5.7M   \n",
       "\n",
       "        installs  type  price contentRating   genres        lastUpdated  \\\n",
       "2244     10,000+  Paid  $0.99      Everyone  Medical  November 30, 2014   \n",
       "2275      1,000+  Paid  $0.99      Everyone  Medical      July 22, 2018   \n",
       "2310  5,000,000+  Free      0      Everyone  Medical      July 24, 2018   \n",
       "2356      5,000+  Free      0      Everyone  Medical   October 13, 2016   \n",
       "2426        500+  Free      0      Everyone  Medical      July 21, 2018   \n",
       "2502      5,000+  Free      0      Everyone  Medical   October 13, 2016   \n",
       "2510  1,000,000+  Free      0      Everyone  Medical      July 18, 2018   \n",
       "2512        500+  Free      0      Everyone  Medical      July 21, 2018   \n",
       "2525     10,000+  Free      0      Everyone  Medical  February 25, 2017   \n",
       "2527      1,000+  Free      0      Everyone  Medical       May 25, 2018   \n",
       "6584     10,000+  Paid  $0.99      Everyone  Medical  November 30, 2014   \n",
       "6585  5,000,000+  Free      0      Everyone  Medical      July 24, 2018   \n",
       "6590  1,000,000+  Free      0      Everyone  Medical      July 18, 2018   \n",
       "6593      1,000+  Free      0      Everyone  Medical       May 25, 2018   \n",
       "6594     10,000+  Free      0      Everyone  Medical  February 25, 2017   \n",
       "6595      1,000+  Paid  $0.99      Everyone  Medical      July 22, 2018   \n",
       "6598      5,000+  Free      0      Everyone  Medical   October 13, 2016   \n",
       "\n",
       "        currentVersion androidVersion  \n",
       "2244             7.0.1     2.2 and up  \n",
       "2275  4.1.5 (Steglitz)     4.1 and up  \n",
       "2310            3.27.3     4.1 and up  \n",
       "2356             3.0.0   4.0.3 and up  \n",
       "2426               1.1   4.0.3 and up  \n",
       "2502             3.0.0   4.0.3 and up  \n",
       "2510             4.0.9   4.0.3 and up  \n",
       "2512               1.1   4.0.3 and up  \n",
       "2525             1.0.1     4.4 and up  \n",
       "2527            1.0.32     4.4 and up  \n",
       "6584             7.0.1     2.2 and up  \n",
       "6585            3.27.3     4.1 and up  \n",
       "6590             4.0.9   4.0.3 and up  \n",
       "6593            1.0.32     4.4 and up  \n",
       "6594             1.0.1     4.4 and up  \n",
       "6595  4.1.5 (Steglitz)     4.1 and up  \n",
       "6598             3.0.0   4.0.3 and up  "
      ],
      "text/html": "<div>\n<style scoped>\n    .dataframe tbody tr th:only-of-type {\n        vertical-align: middle;\n    }\n\n    .dataframe tbody tr th {\n        vertical-align: top;\n    }\n\n    .dataframe thead th {\n        text-align: right;\n    }\n</style>\n<table border=\"1\" class=\"dataframe\">\n  <thead>\n    <tr style=\"text-align: right;\">\n      <th></th>\n      <th>app</th>\n      <th>category</th>\n      <th>rating</th>\n      <th>reviews</th>\n      <th>size</th>\n      <th>installs</th>\n      <th>type</th>\n      <th>price</th>\n      <th>contentRating</th>\n      <th>genres</th>\n      <th>lastUpdated</th>\n      <th>currentVersion</th>\n      <th>androidVersion</th>\n    </tr>\n  </thead>\n  <tbody>\n    <tr>\n      <th>2244</th>\n      <td>ibp blood pressure</td>\n      <td>MEDICAL</td>\n      <td>4.4</td>\n      <td>578</td>\n      <td>704k</td>\n      <td>10,000+</td>\n      <td>Paid</td>\n      <td>$0.99</td>\n      <td>Everyone</td>\n      <td>Medical</td>\n      <td>November 30, 2014</td>\n      <td>7.0.1</td>\n      <td>2.2 and up</td>\n    </tr>\n    <tr>\n      <th>2275</th>\n      <td>blood pressure companion</td>\n      <td>MEDICAL</td>\n      <td>4.2</td>\n      <td>178</td>\n      <td>4.8M</td>\n      <td>1,000+</td>\n      <td>Paid</td>\n      <td>$0.99</td>\n      <td>Everyone</td>\n      <td>Medical</td>\n      <td>July 22, 2018</td>\n      <td>4.1.5 (Steglitz)</td>\n      <td>4.1 and up</td>\n    </tr>\n    <tr>\n      <th>2310</th>\n      <td>blood pressure</td>\n      <td>MEDICAL</td>\n      <td>4.2</td>\n      <td>33033</td>\n      <td>7.4M</td>\n      <td>5,000,000+</td>\n      <td>Free</td>\n      <td>0</td>\n      <td>Everyone</td>\n      <td>Medical</td>\n      <td>July 24, 2018</td>\n      <td>3.27.3</td>\n      <td>4.1 and up</td>\n    </tr>\n    <tr>\n      <th>2356</th>\n      <td>free blood pressure</td>\n      <td>MEDICAL</td>\n      <td>NaN</td>\n      <td>7</td>\n      <td>5.7M</td>\n      <td>5,000+</td>\n      <td>Free</td>\n      <td>0</td>\n      <td>Everyone</td>\n      <td>Medical</td>\n      <td>October 13, 2016</td>\n      <td>3.0.0</td>\n      <td>4.0.3 and up</td>\n    </tr>\n    <tr>\n      <th>2426</th>\n      <td>jh blood pressure monitor</td>\n      <td>MEDICAL</td>\n      <td>3.7</td>\n      <td>9</td>\n      <td>2.9M</td>\n      <td>500+</td>\n      <td>Free</td>\n      <td>0</td>\n      <td>Everyone</td>\n      <td>Medical</td>\n      <td>July 21, 2018</td>\n      <td>1.1</td>\n      <td>4.0.3 and up</td>\n    </tr>\n    <tr>\n      <th>2502</th>\n      <td>free blood pressure</td>\n      <td>MEDICAL</td>\n      <td>NaN</td>\n      <td>7</td>\n      <td>5.7M</td>\n      <td>5,000+</td>\n      <td>Free</td>\n      <td>0</td>\n      <td>Everyone</td>\n      <td>Medical</td>\n      <td>October 13, 2016</td>\n      <td>3.0.0</td>\n      <td>4.0.3 and up</td>\n    </tr>\n    <tr>\n      <th>2510</th>\n      <td>blood pressure(bp) diary</td>\n      <td>MEDICAL</td>\n      <td>3.7</td>\n      <td>3596</td>\n      <td>8.4M</td>\n      <td>1,000,000+</td>\n      <td>Free</td>\n      <td>0</td>\n      <td>Everyone</td>\n      <td>Medical</td>\n      <td>July 18, 2018</td>\n      <td>4.0.9</td>\n      <td>4.0.3 and up</td>\n    </tr>\n    <tr>\n      <th>2512</th>\n      <td>jh blood pressure monitor</td>\n      <td>MEDICAL</td>\n      <td>3.7</td>\n      <td>9</td>\n      <td>2.9M</td>\n      <td>500+</td>\n      <td>Free</td>\n      <td>0</td>\n      <td>Everyone</td>\n      <td>Medical</td>\n      <td>July 21, 2018</td>\n      <td>1.1</td>\n      <td>4.0.3 and up</td>\n    </tr>\n    <tr>\n      <th>2525</th>\n      <td>blood pressure monitor</td>\n      <td>MEDICAL</td>\n      <td>4.3</td>\n      <td>17</td>\n      <td>6.0M</td>\n      <td>10,000+</td>\n      <td>Free</td>\n      <td>0</td>\n      <td>Everyone</td>\n      <td>Medical</td>\n      <td>February 25, 2017</td>\n      <td>1.0.1</td>\n      <td>4.4 and up</td>\n    </tr>\n    <tr>\n      <th>2527</th>\n      <td>bp journal - blood pressure diary</td>\n      <td>MEDICAL</td>\n      <td>5.0</td>\n      <td>6</td>\n      <td>26M</td>\n      <td>1,000+</td>\n      <td>Free</td>\n      <td>0</td>\n      <td>Everyone</td>\n      <td>Medical</td>\n      <td>May 25, 2018</td>\n      <td>1.0.32</td>\n      <td>4.4 and up</td>\n    </tr>\n    <tr>\n      <th>6584</th>\n      <td>ibp blood pressure</td>\n      <td>MEDICAL</td>\n      <td>4.4</td>\n      <td>578</td>\n      <td>704k</td>\n      <td>10,000+</td>\n      <td>Paid</td>\n      <td>$0.99</td>\n      <td>Everyone</td>\n      <td>Medical</td>\n      <td>November 30, 2014</td>\n      <td>7.0.1</td>\n      <td>2.2 and up</td>\n    </tr>\n    <tr>\n      <th>6585</th>\n      <td>blood pressure</td>\n      <td>MEDICAL</td>\n      <td>4.2</td>\n      <td>33033</td>\n      <td>7.4M</td>\n      <td>5,000,000+</td>\n      <td>Free</td>\n      <td>0</td>\n      <td>Everyone</td>\n      <td>Medical</td>\n      <td>July 24, 2018</td>\n      <td>3.27.3</td>\n      <td>4.1 and up</td>\n    </tr>\n    <tr>\n      <th>6590</th>\n      <td>blood pressure(bp) diary</td>\n      <td>MEDICAL</td>\n      <td>3.7</td>\n      <td>3596</td>\n      <td>8.4M</td>\n      <td>1,000,000+</td>\n      <td>Free</td>\n      <td>0</td>\n      <td>Everyone</td>\n      <td>Medical</td>\n      <td>July 18, 2018</td>\n      <td>4.0.9</td>\n      <td>4.0.3 and up</td>\n    </tr>\n    <tr>\n      <th>6593</th>\n      <td>bp journal - blood pressure diary</td>\n      <td>MEDICAL</td>\n      <td>5.0</td>\n      <td>6</td>\n      <td>26M</td>\n      <td>1,000+</td>\n      <td>Free</td>\n      <td>0</td>\n      <td>Everyone</td>\n      <td>Medical</td>\n      <td>May 25, 2018</td>\n      <td>1.0.32</td>\n      <td>4.4 and up</td>\n    </tr>\n    <tr>\n      <th>6594</th>\n      <td>blood pressure monitor</td>\n      <td>MEDICAL</td>\n      <td>4.3</td>\n      <td>17</td>\n      <td>6.0M</td>\n      <td>10,000+</td>\n      <td>Free</td>\n      <td>0</td>\n      <td>Everyone</td>\n      <td>Medical</td>\n      <td>February 25, 2017</td>\n      <td>1.0.1</td>\n      <td>4.4 and up</td>\n    </tr>\n    <tr>\n      <th>6595</th>\n      <td>blood pressure companion</td>\n      <td>MEDICAL</td>\n      <td>4.2</td>\n      <td>178</td>\n      <td>4.8M</td>\n      <td>1,000+</td>\n      <td>Paid</td>\n      <td>$0.99</td>\n      <td>Everyone</td>\n      <td>Medical</td>\n      <td>July 22, 2018</td>\n      <td>4.1.5 (Steglitz)</td>\n      <td>4.1 and up</td>\n    </tr>\n    <tr>\n      <th>6598</th>\n      <td>free blood pressure</td>\n      <td>MEDICAL</td>\n      <td>NaN</td>\n      <td>7</td>\n      <td>5.7M</td>\n      <td>5,000+</td>\n      <td>Free</td>\n      <td>0</td>\n      <td>Everyone</td>\n      <td>Medical</td>\n      <td>October 13, 2016</td>\n      <td>3.0.0</td>\n      <td>4.0.3 and up</td>\n    </tr>\n  </tbody>\n</table>\n</div>"
     },
     "metadata": {},
     "execution_count": 12
    }
   ],
   "source": [
    "#Write your answer here\n",
    "dupedApps = apps[(apps.duplicated(keep=False))]\n",
    "dupedApps['app'] = dupedApps['app'].str.lower()\n",
    "dupedApps[dupedApps['app'].str.contains('blood pressure')]"
   ]
  },
  {
   "cell_type": "markdown",
   "metadata": {
    "id": "rAjnzdgt-XeP"
   },
   "source": [
    "**T11) Find the app with the highest number of duplicated records and the number of duplicated records for this app**\n",
    "\n",
    "**Hint:** How can you count the records of a dataframe?"
   ]
  },
  {
   "cell_type": "code",
   "execution_count": 13,
   "metadata": {
    "id": "6kx0QrFk98LT"
   },
   "outputs": [
    {
     "output_type": "execute_result",
     "data": {
      "text/plain": [
       "                     category  rating  reviews  size  installs  type  price  \\\n",
       "app                                                                           \n",
       "free blood pressure         3       0        3     3         3     3      3   \n",
       "\n",
       "                     contentRating  genres  lastUpdated  currentVersion  \\\n",
       "app                                                                       \n",
       "free blood pressure              3       3            3               3   \n",
       "\n",
       "                     androidVersion  \n",
       "app                                  \n",
       "free blood pressure               3  "
      ],
      "text/html": "<div>\n<style scoped>\n    .dataframe tbody tr th:only-of-type {\n        vertical-align: middle;\n    }\n\n    .dataframe tbody tr th {\n        vertical-align: top;\n    }\n\n    .dataframe thead th {\n        text-align: right;\n    }\n</style>\n<table border=\"1\" class=\"dataframe\">\n  <thead>\n    <tr style=\"text-align: right;\">\n      <th></th>\n      <th>category</th>\n      <th>rating</th>\n      <th>reviews</th>\n      <th>size</th>\n      <th>installs</th>\n      <th>type</th>\n      <th>price</th>\n      <th>contentRating</th>\n      <th>genres</th>\n      <th>lastUpdated</th>\n      <th>currentVersion</th>\n      <th>androidVersion</th>\n    </tr>\n    <tr>\n      <th>app</th>\n      <th></th>\n      <th></th>\n      <th></th>\n      <th></th>\n      <th></th>\n      <th></th>\n      <th></th>\n      <th></th>\n      <th></th>\n      <th></th>\n      <th></th>\n      <th></th>\n    </tr>\n  </thead>\n  <tbody>\n    <tr>\n      <th>free blood pressure</th>\n      <td>3</td>\n      <td>0</td>\n      <td>3</td>\n      <td>3</td>\n      <td>3</td>\n      <td>3</td>\n      <td>3</td>\n      <td>3</td>\n      <td>3</td>\n      <td>3</td>\n      <td>3</td>\n      <td>3</td>\n    </tr>\n  </tbody>\n</table>\n</div>"
     },
     "metadata": {},
     "execution_count": 13
    }
   ],
   "source": [
    "#Write your answer here\n",
    "dupedApps[dupedApps['app'].str.contains('blood pressure')].groupby(\"app\").count().sort_values('category', ascending=False).head(1)"
   ]
  },
  {
   "cell_type": "markdown",
   "metadata": {
    "id": "YrcVW-xaCVYq"
   },
   "source": [
    "**T12) Investigate the records for the app you found in task T10. What can you observe? Can you identiy the reason why the duplicate records exist?**"
   ]
  },
  {
   "source": [
    "#Write your answer here\n",
    "apps[apps['app']==\"ROBLOX\"]"
   ],
   "cell_type": "code",
   "metadata": {
    "id": "mpvkOjwHGbk8"
   },
   "execution_count": 18,
   "outputs": [
    {
     "output_type": "execute_result",
     "data": {
      "text/plain": [
       "         app category  rating  reviews size      installs  type price  \\\n",
       "1653  ROBLOX     GAME     4.5  4447388  67M  100,000,000+  Free     0   \n",
       "1701  ROBLOX     GAME     4.5  4447346  67M  100,000,000+  Free     0   \n",
       "1748  ROBLOX     GAME     4.5  4448791  67M  100,000,000+  Free     0   \n",
       "1841  ROBLOX     GAME     4.5  4449882  67M  100,000,000+  Free     0   \n",
       "1870  ROBLOX     GAME     4.5  4449910  67M  100,000,000+  Free     0   \n",
       "2016  ROBLOX   FAMILY     4.5  4449910  67M  100,000,000+  Free     0   \n",
       "2088  ROBLOX   FAMILY     4.5  4450855  67M  100,000,000+  Free     0   \n",
       "2206  ROBLOX   FAMILY     4.5  4450890  67M  100,000,000+  Free     0   \n",
       "4527  ROBLOX   FAMILY     4.5  4443407  67M  100,000,000+  Free     0   \n",
       "\n",
       "     contentRating                        genres    lastUpdated  \\\n",
       "1653  Everyone 10+  Adventure;Action & Adventure  July 31, 2018   \n",
       "1701  Everyone 10+  Adventure;Action & Adventure  July 31, 2018   \n",
       "1748  Everyone 10+  Adventure;Action & Adventure  July 31, 2018   \n",
       "1841  Everyone 10+  Adventure;Action & Adventure  July 31, 2018   \n",
       "1870  Everyone 10+  Adventure;Action & Adventure  July 31, 2018   \n",
       "2016  Everyone 10+  Adventure;Action & Adventure  July 31, 2018   \n",
       "2088  Everyone 10+  Adventure;Action & Adventure  July 31, 2018   \n",
       "2206  Everyone 10+  Adventure;Action & Adventure  July 31, 2018   \n",
       "4527  Everyone 10+  Adventure;Action & Adventure  July 31, 2018   \n",
       "\n",
       "     currentVersion androidVersion  \n",
       "1653   2.347.225742     4.1 and up  \n",
       "1701   2.347.225742     4.1 and up  \n",
       "1748   2.347.225742     4.1 and up  \n",
       "1841   2.347.225742     4.1 and up  \n",
       "1870   2.347.225742     4.1 and up  \n",
       "2016   2.347.225742     4.1 and up  \n",
       "2088   2.347.225742     4.1 and up  \n",
       "2206   2.347.225742     4.1 and up  \n",
       "4527   2.347.225742     4.1 and up  "
      ],
      "text/html": "<div>\n<style scoped>\n    .dataframe tbody tr th:only-of-type {\n        vertical-align: middle;\n    }\n\n    .dataframe tbody tr th {\n        vertical-align: top;\n    }\n\n    .dataframe thead th {\n        text-align: right;\n    }\n</style>\n<table border=\"1\" class=\"dataframe\">\n  <thead>\n    <tr style=\"text-align: right;\">\n      <th></th>\n      <th>app</th>\n      <th>category</th>\n      <th>rating</th>\n      <th>reviews</th>\n      <th>size</th>\n      <th>installs</th>\n      <th>type</th>\n      <th>price</th>\n      <th>contentRating</th>\n      <th>genres</th>\n      <th>lastUpdated</th>\n      <th>currentVersion</th>\n      <th>androidVersion</th>\n    </tr>\n  </thead>\n  <tbody>\n    <tr>\n      <th>1653</th>\n      <td>ROBLOX</td>\n      <td>GAME</td>\n      <td>4.5</td>\n      <td>4447388</td>\n      <td>67M</td>\n      <td>100,000,000+</td>\n      <td>Free</td>\n      <td>0</td>\n      <td>Everyone 10+</td>\n      <td>Adventure;Action &amp; Adventure</td>\n      <td>July 31, 2018</td>\n      <td>2.347.225742</td>\n      <td>4.1 and up</td>\n    </tr>\n    <tr>\n      <th>1701</th>\n      <td>ROBLOX</td>\n      <td>GAME</td>\n      <td>4.5</td>\n      <td>4447346</td>\n      <td>67M</td>\n      <td>100,000,000+</td>\n      <td>Free</td>\n      <td>0</td>\n      <td>Everyone 10+</td>\n      <td>Adventure;Action &amp; Adventure</td>\n      <td>July 31, 2018</td>\n      <td>2.347.225742</td>\n      <td>4.1 and up</td>\n    </tr>\n    <tr>\n      <th>1748</th>\n      <td>ROBLOX</td>\n      <td>GAME</td>\n      <td>4.5</td>\n      <td>4448791</td>\n      <td>67M</td>\n      <td>100,000,000+</td>\n      <td>Free</td>\n      <td>0</td>\n      <td>Everyone 10+</td>\n      <td>Adventure;Action &amp; Adventure</td>\n      <td>July 31, 2018</td>\n      <td>2.347.225742</td>\n      <td>4.1 and up</td>\n    </tr>\n    <tr>\n      <th>1841</th>\n      <td>ROBLOX</td>\n      <td>GAME</td>\n      <td>4.5</td>\n      <td>4449882</td>\n      <td>67M</td>\n      <td>100,000,000+</td>\n      <td>Free</td>\n      <td>0</td>\n      <td>Everyone 10+</td>\n      <td>Adventure;Action &amp; Adventure</td>\n      <td>July 31, 2018</td>\n      <td>2.347.225742</td>\n      <td>4.1 and up</td>\n    </tr>\n    <tr>\n      <th>1870</th>\n      <td>ROBLOX</td>\n      <td>GAME</td>\n      <td>4.5</td>\n      <td>4449910</td>\n      <td>67M</td>\n      <td>100,000,000+</td>\n      <td>Free</td>\n      <td>0</td>\n      <td>Everyone 10+</td>\n      <td>Adventure;Action &amp; Adventure</td>\n      <td>July 31, 2018</td>\n      <td>2.347.225742</td>\n      <td>4.1 and up</td>\n    </tr>\n    <tr>\n      <th>2016</th>\n      <td>ROBLOX</td>\n      <td>FAMILY</td>\n      <td>4.5</td>\n      <td>4449910</td>\n      <td>67M</td>\n      <td>100,000,000+</td>\n      <td>Free</td>\n      <td>0</td>\n      <td>Everyone 10+</td>\n      <td>Adventure;Action &amp; Adventure</td>\n      <td>July 31, 2018</td>\n      <td>2.347.225742</td>\n      <td>4.1 and up</td>\n    </tr>\n    <tr>\n      <th>2088</th>\n      <td>ROBLOX</td>\n      <td>FAMILY</td>\n      <td>4.5</td>\n      <td>4450855</td>\n      <td>67M</td>\n      <td>100,000,000+</td>\n      <td>Free</td>\n      <td>0</td>\n      <td>Everyone 10+</td>\n      <td>Adventure;Action &amp; Adventure</td>\n      <td>July 31, 2018</td>\n      <td>2.347.225742</td>\n      <td>4.1 and up</td>\n    </tr>\n    <tr>\n      <th>2206</th>\n      <td>ROBLOX</td>\n      <td>FAMILY</td>\n      <td>4.5</td>\n      <td>4450890</td>\n      <td>67M</td>\n      <td>100,000,000+</td>\n      <td>Free</td>\n      <td>0</td>\n      <td>Everyone 10+</td>\n      <td>Adventure;Action &amp; Adventure</td>\n      <td>July 31, 2018</td>\n      <td>2.347.225742</td>\n      <td>4.1 and up</td>\n    </tr>\n    <tr>\n      <th>4527</th>\n      <td>ROBLOX</td>\n      <td>FAMILY</td>\n      <td>4.5</td>\n      <td>4443407</td>\n      <td>67M</td>\n      <td>100,000,000+</td>\n      <td>Free</td>\n      <td>0</td>\n      <td>Everyone 10+</td>\n      <td>Adventure;Action &amp; Adventure</td>\n      <td>July 31, 2018</td>\n      <td>2.347.225742</td>\n      <td>4.1 and up</td>\n    </tr>\n  </tbody>\n</table>\n</div>"
     },
     "metadata": {},
     "execution_count": 18
    }
   ]
  },
  {
   "cell_type": "markdown",
   "metadata": {
    "id": "xlmfXnU6FnDe"
   },
   "source": [
    "**T13) Assuming that the data has been scaped sequentially, remove all duplicates by specifying which record to keep**\n",
    "\n",
    "**Hint:** You may want to check the documentation of the drop_duplicates function"
   ]
  },
  {
   "cell_type": "code",
   "execution_count": 279,
   "metadata": {
    "id": "zZJrqxFwGJIT"
   },
   "outputs": [
    {
     "output_type": "stream",
     "name": "stdout",
     "text": [
      "Number of apps incl. duplicates: 10839\nNumber of apps excl. duplicates: 10356\n"
     ]
    }
   ],
   "source": [
    "#Write your answer here\n",
    "print(f\"Number of apps incl. duplicates: {apps['app'].count()}\")\n",
    "cleanApps = apps.drop_duplicates(keep=\"last\")\n",
    "print(f\"Number of apps excl. duplicates: {cleanApps['app'].count()}\")"
   ]
  },
  {
   "cell_type": "markdown",
   "metadata": {
    "id": "75BvTequ2TOE"
   },
   "source": [
    "**T14i) Check the type of variable indicating the last timethe application was update and convert it into the appropriate format**\n",
    "\n",
    "**Hint:** \n",
    "\n",
    "* You may want to check https://pandas.pydata.org/pandas-docs/stable/reference/api/pandas.to_datetime.html\n",
    "\n",
    "* Pay attention to the date format and the month type\n",
    "\n",
    "* You may also want to check https://pandas.pydata.org/pandas-docs/stable/reference/api/pandas.DataFrame.loc.html"
   ]
  },
  {
   "cell_type": "code",
   "execution_count": 280,
   "metadata": {
    "id": "WfqLzfWpvLCW"
   },
   "outputs": [
    {
     "output_type": "execute_result",
     "data": {
      "text/plain": [
       "0       2018-01-07\n",
       "1       2018-01-15\n",
       "2       2018-08-01\n",
       "3       2018-06-08\n",
       "4       2018-06-20\n",
       "           ...    \n",
       "10834   2017-07-25\n",
       "10835   2018-07-06\n",
       "10836   2017-01-20\n",
       "10837   2015-01-19\n",
       "10838   2018-07-25\n",
       "Name: lastUpdated, Length: 10839, dtype: datetime64[ns]"
      ]
     },
     "metadata": {},
     "execution_count": 280
    }
   ],
   "source": [
    "#Write your answer here\n",
    "apps['lastUpdated'] = pd.to_datetime(apps['lastUpdated'])\n",
    "apps['lastUpdated']"
   ]
  },
  {
   "cell_type": "markdown",
   "metadata": {
    "id": "ADn1cUAJ4lgY"
   },
   "source": [
    "**T14ii) Which application was updated least recently and when did this happen?**"
   ]
  },
  {
   "cell_type": "code",
   "execution_count": 281,
   "metadata": {
    "id": "bhGlOTgzyqf5"
   },
   "outputs": [
    {
     "output_type": "stream",
     "name": "stdout",
     "text": [
      "The most recently updated app is: Video Downloader For FB: Save FB Videos 2018 which was updated on: 2018-08-08T00:00:00.000000000.\n"
     ]
    }
   ],
   "source": [
    "#Write your answer here\n",
    "mostRecentUpdatedApp = apps.sort_values('lastUpdated', ascending=False).head(1)\n",
    "print(f\"The most recently updated app is: {mostRecentUpdatedApp['app'].values[0]} which was updated on: {mostRecentUpdatedApp['lastUpdated'].values[0]}.\")"
   ]
  },
  {
   "cell_type": "markdown",
   "metadata": {
    "id": "0FCz6WwAdqBi"
   },
   "source": [
    "**T15) How many unique values exist under the Price variable? Print the first five unique prices.**"
   ]
  },
  {
   "cell_type": "code",
   "execution_count": 282,
   "metadata": {
    "id": "FnxwCk2sdxiM"
   },
   "outputs": [
    {
     "output_type": "stream",
     "name": "stdout",
     "text": [
      "there are 92 unique price values\nthe first 5 unique prices: \n"
     ]
    },
    {
     "output_type": "execute_result",
     "data": {
      "text/plain": [
       "array(['0', '$4.99', '$3.99', '$6.99', '$1.49'], dtype=object)"
      ]
     },
     "metadata": {},
     "execution_count": 282
    }
   ],
   "source": [
    "#Write your answer here\n",
    "print(f\"there are {apps['price'].nunique()} unique price values\")\n",
    "print('the first 5 unique prices: ')\n",
    "apps['price'].unique()[:5]"
   ]
  },
  {
   "cell_type": "markdown",
   "metadata": {
    "id": "NNuuClnoeoJv"
   },
   "source": [
    "**T16i) Write a function moneyWithoutCurrencySymbol that takes a string and returns the string as a float without the currency symbol (if exists)**"
   ]
  },
  {
   "cell_type": "code",
   "execution_count": 283,
   "metadata": {
    "id": "SnMVUnVLqK35"
   },
   "outputs": [],
   "source": [
    "#Write your answer here\n",
    "def moneyWithoutCurrencySymbol(inputString):\n",
    "    if type(inputString)==str:\n",
    "        if \"$\" in inputString:\n",
    "            return float(inputString.replace('$', \"\"))\n",
    "        else:\n",
    "            return float(inputString)\n",
    "    else:\n",
    "        return inputString\n"
   ]
  },
  {
   "cell_type": "markdown",
   "metadata": {
    "id": "mzyr0QyYqR9P"
   },
   "source": [
    "**T16ii) Perform the necessary processing tasks to convert the Price variable into a float**\n",
    "\n",
    "**Hint:**\n",
    "\n",
    "* You may want to use the function from task T16i\n",
    "* You may want to check https://pandas.pydata.org/pandas-docs/stable/reference/api/pandas.Series.apply.html\n",
    "* Alternatively, you may want to check https://pandas.pydata.org/pandas-docs/stable/reference/api/pandas.to_numeric.html"
   ]
  },
  {
   "cell_type": "code",
   "execution_count": 284,
   "metadata": {
    "id": "k4RCDZ9GqgV1"
   },
   "outputs": [],
   "source": [
    "#Write your answer here\n",
    "apps['price'] = apps['price'].apply(moneyWithoutCurrencySymbol)\n",
    "# apps['price'].dtype"
   ]
  },
  {
   "cell_type": "markdown",
   "metadata": {
    "id": "KOgK0zeU-h3G"
   },
   "source": [
    "**T17i) How many missing data exist for each variable? Is this a messy or a clean dataset?**"
   ]
  },
  {
   "cell_type": "code",
   "execution_count": 285,
   "metadata": {
    "id": "IIQidrOA-DgL"
   },
   "outputs": [
    {
     "output_type": "stream",
     "name": "stdout",
     "text": [
      "The amount of missing data per column:\nThe data set is quite clean\n"
     ]
    }
   ],
   "source": [
    "#Write your answer here\n",
    "print(\"The amount of missing data per column:\")\n",
    "apps.isnull().sum()\n",
    "print(\"The data set is quite clean\")"
   ]
  },
  {
   "cell_type": "markdown",
   "metadata": {
    "id": "M3gS7DfP-tCy"
   },
   "source": [
    "**T17ii) Impute the categorical columns with the mode value**\n",
    "\n",
    "**Hint:** Check Chapter 3 of the Python Data Science Handbook "
   ]
  },
  {
   "cell_type": "code",
   "execution_count": 286,
   "metadata": {
    "id": "U7Tx_qat_EaF"
   },
   "outputs": [
    {
     "output_type": "stream",
     "name": "stdout",
     "text": [
      "Free\nVaries with device\n4.1 and up\n"
     ]
    }
   ],
   "source": [
    "#Write your answer here\n",
    "categoricalTypes = ['type', 'currentVersion', 'androidVersion']\n",
    "for i in categoricalTypes:\n",
    "    modeVal = apps[i].mode().values[0]\n",
    "    print(modeVal)\n",
    "    apps[i].fillna(modeVal, inplace=True)\n"
   ]
  },
  {
   "cell_type": "code",
   "execution_count": 287,
   "metadata": {},
   "outputs": [
    {
     "output_type": "stream",
     "name": "stdout",
     "text": [
      "The amount of missing data per column:\n"
     ]
    },
    {
     "output_type": "execute_result",
     "data": {
      "text/plain": [
       "app                  0\n",
       "category             0\n",
       "rating            1474\n",
       "reviews              0\n",
       "size                 0\n",
       "installs             0\n",
       "type                 0\n",
       "price                0\n",
       "contentRating        0\n",
       "genres               0\n",
       "lastUpdated          0\n",
       "currentVersion       0\n",
       "androidVersion       0\n",
       "dtype: int64"
      ]
     },
     "metadata": {},
     "execution_count": 287
    }
   ],
   "source": [
    "print(\"The amount of missing data per column:\")\n",
    "apps.isnull().sum()"
   ]
  },
  {
   "cell_type": "markdown",
   "metadata": {
    "id": "0Ci6Jr7i_zFU"
   },
   "source": [
    "**T17iii) What would be an appropriate value to impute for the other variable? Apply the imputation.**"
   ]
  },
  {
   "cell_type": "code",
   "execution_count": 288,
   "metadata": {
    "id": "eXrzXx1z_4O9"
   },
   "outputs": [],
   "source": [
    "#Write your answer here\n",
    "ratingMean = apps['rating'].mean()\n",
    "apps['rating'].fillna(ratingMean, inplace=True)"
   ]
  },
  {
   "cell_type": "code",
   "execution_count": 289,
   "metadata": {},
   "outputs": [
    {
     "output_type": "stream",
     "name": "stdout",
     "text": [
      "The amount of missing data per column:\n"
     ]
    },
    {
     "output_type": "execute_result",
     "data": {
      "text/plain": [
       "app               0\n",
       "category          0\n",
       "rating            0\n",
       "reviews           0\n",
       "size              0\n",
       "installs          0\n",
       "type              0\n",
       "price             0\n",
       "contentRating     0\n",
       "genres            0\n",
       "lastUpdated       0\n",
       "currentVersion    0\n",
       "androidVersion    0\n",
       "dtype: int64"
      ]
     },
     "metadata": {},
     "execution_count": 289
    }
   ],
   "source": [
    "print(\"The amount of missing data per column:\")\n",
    "apps.isnull().sum()"
   ]
  },
  {
   "cell_type": "markdown",
   "metadata": {
    "id": "o4HCestaAtua"
   },
   "source": [
    "**T18i) Which are the possible values for the variable Installs?**"
   ]
  },
  {
   "cell_type": "code",
   "execution_count": 290,
   "metadata": {
    "id": "Cv1b-ceaCU43"
   },
   "outputs": [
    {
     "output_type": "stream",
     "name": "stdout",
     "text": [
      "The possible values for the variables installs are: \n"
     ]
    },
    {
     "output_type": "execute_result",
     "data": {
      "text/plain": [
       "array(['10,000+', '500,000+', '5,000,000+', '50,000,000+', '100,000+',\n",
       "       '50,000+', '1,000,000+', '10,000,000+', '5,000+', '100,000,000+',\n",
       "       '1,000,000,000+', '1,000+', '500,000,000+', '50+', '100+', '500+',\n",
       "       '10+', '1+', '5+', '0+', '0'], dtype=object)"
      ]
     },
     "metadata": {},
     "execution_count": 290
    }
   ],
   "source": [
    "#Write your answer here\n",
    "print(\"The possible values for the variables installs are: \")\n",
    "apps['installs'].unique()"
   ]
  },
  {
   "cell_type": "markdown",
   "metadata": {
    "id": "T-eNNDDuCaxk"
   },
   "source": [
    "**T18ii) Based on the result from task T18i, do you see any odd value? Do think any cleaning is needed?**"
   ]
  },
  {
   "source": [
    "#Write your answer here\n",
    "\n",
    "0 should be replaced with 0+"
   ],
   "cell_type": "markdown",
   "metadata": {
    "id": "Dt30oayZCmUp"
   }
  },
  {
   "cell_type": "code",
   "execution_count": 291,
   "metadata": {},
   "outputs": [],
   "source": [
    "apps['installs'].replace({'0':'0+'}, inplace=True)"
   ]
  },
  {
   "source": [
    "**T18iii) If you did any cleaning in task T18ii, check that the cleaning has taken place**"
   ],
   "cell_type": "markdown",
   "metadata": {
    "id": "Fp6Z9u22DLiB"
   }
  },
  {
   "cell_type": "code",
   "execution_count": 292,
   "metadata": {
    "id": "6nLgMXiqAtXb"
   },
   "outputs": [
    {
     "output_type": "execute_result",
     "data": {
      "text/plain": [
       "array(['10,000+', '500,000+', '5,000,000+', '50,000,000+', '100,000+',\n",
       "       '50,000+', '1,000,000+', '10,000,000+', '5,000+', '100,000,000+',\n",
       "       '1,000,000,000+', '1,000+', '500,000,000+', '50+', '100+', '500+',\n",
       "       '10+', '1+', '5+', '0+'], dtype=object)"
      ]
     },
     "metadata": {},
     "execution_count": 292
    }
   ],
   "source": [
    "#Write your answer here\n",
    "apps['installs'].unique()"
   ]
  },
  {
   "source": [
    "**T19i) Perform the necessary processing tasks to convert the Size variable into a float using a common metric (i.e., which will enable to compare records between each other using the size value). Set records whose value is \"Varies with device\" to 1**"
   ],
   "cell_type": "markdown",
   "metadata": {
    "id": "3hKrivsXHUNv"
   }
  },
  {
   "cell_type": "code",
   "execution_count": 293,
   "metadata": {
    "id": "-qxVrfRbGg6X"
   },
   "outputs": [
    {
     "output_type": "stream",
     "name": "stdout",
     "text": [
      "The size of each app in bytes with apps where it varies by device, size=1\n"
     ]
    },
    {
     "output_type": "execute_result",
     "data": {
      "text/plain": [
       "0        19000000.0\n",
       "1        14000000.0\n",
       "2         8700000.0\n",
       "3        25000000.0\n",
       "4         2800000.0\n",
       "            ...    \n",
       "10834    53000000.0\n",
       "10835     3600000.0\n",
       "10836     9500000.0\n",
       "10837           1.0\n",
       "10838    19000000.0\n",
       "Name: size, Length: 10839, dtype: float64"
      ]
     },
     "metadata": {},
     "execution_count": 293
    }
   ],
   "source": [
    "#Write your answer here\n",
    "apps['size'].replace({'Varies with device':1.0}, inplace=True)\n",
    "apps['size'].dtype\n",
    "\n",
    "def convertSize(inputSize):\n",
    "    if type(inputSize)==float:\n",
    "        return inputSize\n",
    "    elif type(inputSize)==int:\n",
    "        return float(inputSize)\n",
    "    elif type(inputSize)==str:\n",
    "        sizeClass = inputSize[-1:]\n",
    "        inputSize = inputSize[:-1]\n",
    "        if sizeClass.lower() == \"k\":\n",
    "            return float(inputSize)*1000\n",
    "        elif sizeClass.lower() == \"m\":\n",
    "            return float(inputSize)*1000*1000\n",
    "        elif sizeClass.lower() == \"g\":\n",
    "            return float(inputSize)*1000*1000*1000\n",
    "        else:\n",
    "            print(\"UNKNOWN SIZE CLASS : \" + sizeClass)\n",
    "            raise ValueError\n",
    "    else:\n",
    "        print(\"UNKNOWN TYPE INPUT:\", type(inputSize))\n",
    "        raise TypeError\n",
    "\n",
    "apps['size'] = apps['size'].apply(convertSize)\n",
    "print(\"The size of each app in bytes with apps where it varies by device, size=1\")\n",
    "apps['size']"
   ]
  },
  {
   "cell_type": "markdown",
   "metadata": {
    "id": "K9IUOqNJJz2k"
   },
   "source": [
    "**T19ii) Which is the smallest application and what is its size?**"
   ]
  },
  {
   "cell_type": "code",
   "execution_count": 294,
   "metadata": {
    "id": "IPJNN6GdJ8G4"
   },
   "outputs": [
    {
     "output_type": "stream",
     "name": "stdout",
     "text": [
      "the smallest app:\n"
     ]
    },
    {
     "output_type": "execute_result",
     "data": {
      "text/plain": [
       "app               \"i DT\" Fútbol. Todos Somos Técnicos.\n",
       "category                                ART_AND_DESIGN\n",
       "rating                                             1.0\n",
       "reviews                                              0\n",
       "size                                            8500.0\n",
       "installs                                            0+\n",
       "type                                              Free\n",
       "price                                              0.0\n",
       "contentRating                          Adults only 18+\n",
       "genres                                          Action\n",
       "lastUpdated                        2011-01-30 00:00:00\n",
       "currentVersion                                 0.0.0.2\n",
       "androidVersion                              1.0 and up\n",
       "dtype: object"
      ]
     },
     "metadata": {},
     "execution_count": 294
    }
   ],
   "source": [
    "#Write your answer here\n",
    "print(\"the smallest app:\")\n",
    "apps[apps['size']!=1.0].min()"
   ]
  },
  {
   "cell_type": "markdown",
   "metadata": {
    "id": "PrwbjmM_LW_P"
   },
   "source": [
    "**T19iii) What is the most common Category of the largest applications and which applications belong to this Category?**"
   ]
  },
  {
   "cell_type": "code",
   "execution_count": 295,
   "metadata": {
    "id": "qBYY1FCnKugz"
   },
   "outputs": [
    {
     "output_type": "stream",
     "name": "stdout",
     "text": [
      "the most common category is: FAMILY which has these apps:\n"
     ]
    },
    {
     "output_type": "execute_result",
     "data": {
      "text/plain": [
       "                                    app category    rating  reviews  \\\n",
       "2014                       YouTube Kids   FAMILY  4.500000   470694   \n",
       "2015                         Candy Bomb   FAMILY  4.400000    42145   \n",
       "2016                             ROBLOX   FAMILY  4.500000  4449910   \n",
       "2017       Jewels Crush- Match 3 Puzzle   FAMILY  4.400000    14774   \n",
       "2018                   Coloring & Learn   FAMILY  4.400000    12753   \n",
       "...                                 ...      ...       ...      ...   \n",
       "10819                           Poop FR   FAMILY  4.191757        6   \n",
       "10825                Fr Agnel Ambarnath   FAMILY  4.200000      117   \n",
       "10832                     FR Calculator   FAMILY  4.000000        7   \n",
       "10834                  Sya9a Maroc - FR   FAMILY  4.500000       38   \n",
       "10835  Fr. Mike Schmitz Audio Teachings   FAMILY  5.000000        4   \n",
       "\n",
       "             size      installs  type  price contentRating  \\\n",
       "2014          1.0   50,000,000+  Free    0.0      Everyone   \n",
       "2015   20000000.0   10,000,000+  Free    0.0      Everyone   \n",
       "2016   67000000.0  100,000,000+  Free    0.0  Everyone 10+   \n",
       "2017   19000000.0    1,000,000+  Free    0.0      Everyone   \n",
       "2018   51000000.0    5,000,000+  Free    0.0      Everyone   \n",
       "...           ...           ...   ...    ...           ...   \n",
       "10819   2500000.0           50+  Free    0.0      Everyone   \n",
       "10825  13000000.0        5,000+  Free    0.0      Everyone   \n",
       "10832   2600000.0          500+  Free    0.0      Everyone   \n",
       "10834  53000000.0        5,000+  Free    0.0      Everyone   \n",
       "10835   3600000.0          100+  Free    0.0      Everyone   \n",
       "\n",
       "                             genres lastUpdated currentVersion androidVersion  \n",
       "2014    Entertainment;Music & Video  2018-08-03         3.43.3     4.1 and up  \n",
       "2015             Casual;Brain Games  2018-07-04       2.9.3181   4.0.3 and up  \n",
       "2016   Adventure;Action & Adventure  2018-07-31   2.347.225742     4.1 and up  \n",
       "2017             Casual;Brain Games  2018-07-23       1.9.3901   4.0.3 and up  \n",
       "2018         Educational;Creativity  2018-07-17           1.49   4.0.3 and up  \n",
       "...                             ...         ...            ...            ...  \n",
       "10819                 Entertainment  2018-05-29              1   4.0.3 and up  \n",
       "10825                     Education  2018-06-13         2.0.20   4.0.3 and up  \n",
       "10832                     Education  2017-06-18          1.0.0     4.1 and up  \n",
       "10834                     Education  2017-07-25           1.48     4.1 and up  \n",
       "10835                     Education  2018-07-06              1     4.1 and up  \n",
       "\n",
       "[1971 rows x 13 columns]"
      ],
      "text/html": "<div>\n<style scoped>\n    .dataframe tbody tr th:only-of-type {\n        vertical-align: middle;\n    }\n\n    .dataframe tbody tr th {\n        vertical-align: top;\n    }\n\n    .dataframe thead th {\n        text-align: right;\n    }\n</style>\n<table border=\"1\" class=\"dataframe\">\n  <thead>\n    <tr style=\"text-align: right;\">\n      <th></th>\n      <th>app</th>\n      <th>category</th>\n      <th>rating</th>\n      <th>reviews</th>\n      <th>size</th>\n      <th>installs</th>\n      <th>type</th>\n      <th>price</th>\n      <th>contentRating</th>\n      <th>genres</th>\n      <th>lastUpdated</th>\n      <th>currentVersion</th>\n      <th>androidVersion</th>\n    </tr>\n  </thead>\n  <tbody>\n    <tr>\n      <th>2014</th>\n      <td>YouTube Kids</td>\n      <td>FAMILY</td>\n      <td>4.500000</td>\n      <td>470694</td>\n      <td>1.0</td>\n      <td>50,000,000+</td>\n      <td>Free</td>\n      <td>0.0</td>\n      <td>Everyone</td>\n      <td>Entertainment;Music &amp; Video</td>\n      <td>2018-08-03</td>\n      <td>3.43.3</td>\n      <td>4.1 and up</td>\n    </tr>\n    <tr>\n      <th>2015</th>\n      <td>Candy Bomb</td>\n      <td>FAMILY</td>\n      <td>4.400000</td>\n      <td>42145</td>\n      <td>20000000.0</td>\n      <td>10,000,000+</td>\n      <td>Free</td>\n      <td>0.0</td>\n      <td>Everyone</td>\n      <td>Casual;Brain Games</td>\n      <td>2018-07-04</td>\n      <td>2.9.3181</td>\n      <td>4.0.3 and up</td>\n    </tr>\n    <tr>\n      <th>2016</th>\n      <td>ROBLOX</td>\n      <td>FAMILY</td>\n      <td>4.500000</td>\n      <td>4449910</td>\n      <td>67000000.0</td>\n      <td>100,000,000+</td>\n      <td>Free</td>\n      <td>0.0</td>\n      <td>Everyone 10+</td>\n      <td>Adventure;Action &amp; Adventure</td>\n      <td>2018-07-31</td>\n      <td>2.347.225742</td>\n      <td>4.1 and up</td>\n    </tr>\n    <tr>\n      <th>2017</th>\n      <td>Jewels Crush- Match 3 Puzzle</td>\n      <td>FAMILY</td>\n      <td>4.400000</td>\n      <td>14774</td>\n      <td>19000000.0</td>\n      <td>1,000,000+</td>\n      <td>Free</td>\n      <td>0.0</td>\n      <td>Everyone</td>\n      <td>Casual;Brain Games</td>\n      <td>2018-07-23</td>\n      <td>1.9.3901</td>\n      <td>4.0.3 and up</td>\n    </tr>\n    <tr>\n      <th>2018</th>\n      <td>Coloring &amp; Learn</td>\n      <td>FAMILY</td>\n      <td>4.400000</td>\n      <td>12753</td>\n      <td>51000000.0</td>\n      <td>5,000,000+</td>\n      <td>Free</td>\n      <td>0.0</td>\n      <td>Everyone</td>\n      <td>Educational;Creativity</td>\n      <td>2018-07-17</td>\n      <td>1.49</td>\n      <td>4.0.3 and up</td>\n    </tr>\n    <tr>\n      <th>...</th>\n      <td>...</td>\n      <td>...</td>\n      <td>...</td>\n      <td>...</td>\n      <td>...</td>\n      <td>...</td>\n      <td>...</td>\n      <td>...</td>\n      <td>...</td>\n      <td>...</td>\n      <td>...</td>\n      <td>...</td>\n      <td>...</td>\n    </tr>\n    <tr>\n      <th>10819</th>\n      <td>Poop FR</td>\n      <td>FAMILY</td>\n      <td>4.191757</td>\n      <td>6</td>\n      <td>2500000.0</td>\n      <td>50+</td>\n      <td>Free</td>\n      <td>0.0</td>\n      <td>Everyone</td>\n      <td>Entertainment</td>\n      <td>2018-05-29</td>\n      <td>1</td>\n      <td>4.0.3 and up</td>\n    </tr>\n    <tr>\n      <th>10825</th>\n      <td>Fr Agnel Ambarnath</td>\n      <td>FAMILY</td>\n      <td>4.200000</td>\n      <td>117</td>\n      <td>13000000.0</td>\n      <td>5,000+</td>\n      <td>Free</td>\n      <td>0.0</td>\n      <td>Everyone</td>\n      <td>Education</td>\n      <td>2018-06-13</td>\n      <td>2.0.20</td>\n      <td>4.0.3 and up</td>\n    </tr>\n    <tr>\n      <th>10832</th>\n      <td>FR Calculator</td>\n      <td>FAMILY</td>\n      <td>4.000000</td>\n      <td>7</td>\n      <td>2600000.0</td>\n      <td>500+</td>\n      <td>Free</td>\n      <td>0.0</td>\n      <td>Everyone</td>\n      <td>Education</td>\n      <td>2017-06-18</td>\n      <td>1.0.0</td>\n      <td>4.1 and up</td>\n    </tr>\n    <tr>\n      <th>10834</th>\n      <td>Sya9a Maroc - FR</td>\n      <td>FAMILY</td>\n      <td>4.500000</td>\n      <td>38</td>\n      <td>53000000.0</td>\n      <td>5,000+</td>\n      <td>Free</td>\n      <td>0.0</td>\n      <td>Everyone</td>\n      <td>Education</td>\n      <td>2017-07-25</td>\n      <td>1.48</td>\n      <td>4.1 and up</td>\n    </tr>\n    <tr>\n      <th>10835</th>\n      <td>Fr. Mike Schmitz Audio Teachings</td>\n      <td>FAMILY</td>\n      <td>5.000000</td>\n      <td>4</td>\n      <td>3600000.0</td>\n      <td>100+</td>\n      <td>Free</td>\n      <td>0.0</td>\n      <td>Everyone</td>\n      <td>Education</td>\n      <td>2018-07-06</td>\n      <td>1</td>\n      <td>4.1 and up</td>\n    </tr>\n  </tbody>\n</table>\n<p>1971 rows × 13 columns</p>\n</div>"
     },
     "metadata": {},
     "execution_count": 295
    }
   ],
   "source": [
    "#Write your answer here\n",
    "modeCategory = apps['category'].mode().values[0]\n",
    "print(f\"the most common category is: {modeCategory} which has these apps:\")\n",
    "apps[apps['category']==modeCategory]"
   ]
  },
  {
   "cell_type": "markdown",
   "metadata": {
    "id": "U0Legs9DO8wx"
   },
   "source": [
    "**T20) Are there any logical errors in the Type and Price variables? Are there any applications whose type if Free and you have to pay? Are there any application with type Paid which you can get for free? Check the integrity of the dataset using these conditions**"
   ]
  },
  {
   "cell_type": "code",
   "execution_count": 296,
   "metadata": {
    "id": "x18qkWP8DroK"
   },
   "outputs": [
    {
     "output_type": "stream",
     "name": "stdout",
     "text": [
      "apps with logical errors in the price and type columns:\n"
     ]
    },
    {
     "output_type": "execute_result",
     "data": {
      "text/plain": [
       "Empty DataFrame\n",
       "Columns: [app, price, type]\n",
       "Index: []"
      ],
      "text/html": "<div>\n<style scoped>\n    .dataframe tbody tr th:only-of-type {\n        vertical-align: middle;\n    }\n\n    .dataframe tbody tr th {\n        vertical-align: top;\n    }\n\n    .dataframe thead th {\n        text-align: right;\n    }\n</style>\n<table border=\"1\" class=\"dataframe\">\n  <thead>\n    <tr style=\"text-align: right;\">\n      <th></th>\n      <th>app</th>\n      <th>price</th>\n      <th>type</th>\n    </tr>\n  </thead>\n  <tbody>\n  </tbody>\n</table>\n</div>"
     },
     "metadata": {},
     "execution_count": 296
    }
   ],
   "source": [
    "#Write your answer here\n",
    "print(\"apps with logical errors in the price and type columns:\")\n",
    "apps[['app', 'price', 'type']][(((apps['price']==0.0) & (apps['type']==\"Paid\")) | ((apps['price']>0.0) & (apps['type']==\"Free\")))]"
   ]
  },
  {
   "cell_type": "markdown",
   "metadata": {
    "id": "vKilGP1dP9th"
   },
   "source": [
    "**T21) A reviewer of an application may or may not rate the review. Check the consistency of the dataset concerning this matter**"
   ]
  },
  {
   "source": [
    "#Write your answer here\n",
    "\n",
    "???"
   ],
   "cell_type": "markdown",
   "metadata": {
    "id": "eGlKl_L3P9bq"
   }
  },
  {
   "cell_type": "markdown",
   "metadata": {
    "id": "KlX4ueSUpimG"
   },
   "source": [
    "**T22) Get some descriptive statistics for the dataset**\n"
   ]
  },
  {
   "cell_type": "code",
   "execution_count": 297,
   "metadata": {
    "id": "tFunlPgBpimH"
   },
   "outputs": [
    {
     "output_type": "execute_result",
     "data": {
      "text/plain": [
       "             rating       reviews          size         price\n",
       "count  10839.000000  1.083900e+04  1.083900e+04  10839.000000\n",
       "mean       4.191757  4.441937e+05  1.815375e+07      1.027463\n",
       "std        0.478929  2.927893e+06  2.217096e+07     15.950436\n",
       "min        1.000000  0.000000e+00  1.000000e+00      0.000000\n",
       "25%        4.100000  3.800000e+01  2.600000e+06      0.000000\n",
       "50%        4.200000  2.094000e+03  9.200000e+06      0.000000\n",
       "75%        4.500000  5.478300e+04  2.600000e+07      0.000000\n",
       "max        5.000000  7.815831e+07  1.000000e+08    400.000000"
      ],
      "text/html": "<div>\n<style scoped>\n    .dataframe tbody tr th:only-of-type {\n        vertical-align: middle;\n    }\n\n    .dataframe tbody tr th {\n        vertical-align: top;\n    }\n\n    .dataframe thead th {\n        text-align: right;\n    }\n</style>\n<table border=\"1\" class=\"dataframe\">\n  <thead>\n    <tr style=\"text-align: right;\">\n      <th></th>\n      <th>rating</th>\n      <th>reviews</th>\n      <th>size</th>\n      <th>price</th>\n    </tr>\n  </thead>\n  <tbody>\n    <tr>\n      <th>count</th>\n      <td>10839.000000</td>\n      <td>1.083900e+04</td>\n      <td>1.083900e+04</td>\n      <td>10839.000000</td>\n    </tr>\n    <tr>\n      <th>mean</th>\n      <td>4.191757</td>\n      <td>4.441937e+05</td>\n      <td>1.815375e+07</td>\n      <td>1.027463</td>\n    </tr>\n    <tr>\n      <th>std</th>\n      <td>0.478929</td>\n      <td>2.927893e+06</td>\n      <td>2.217096e+07</td>\n      <td>15.950436</td>\n    </tr>\n    <tr>\n      <th>min</th>\n      <td>1.000000</td>\n      <td>0.000000e+00</td>\n      <td>1.000000e+00</td>\n      <td>0.000000</td>\n    </tr>\n    <tr>\n      <th>25%</th>\n      <td>4.100000</td>\n      <td>3.800000e+01</td>\n      <td>2.600000e+06</td>\n      <td>0.000000</td>\n    </tr>\n    <tr>\n      <th>50%</th>\n      <td>4.200000</td>\n      <td>2.094000e+03</td>\n      <td>9.200000e+06</td>\n      <td>0.000000</td>\n    </tr>\n    <tr>\n      <th>75%</th>\n      <td>4.500000</td>\n      <td>5.478300e+04</td>\n      <td>2.600000e+07</td>\n      <td>0.000000</td>\n    </tr>\n    <tr>\n      <th>max</th>\n      <td>5.000000</td>\n      <td>7.815831e+07</td>\n      <td>1.000000e+08</td>\n      <td>400.000000</td>\n    </tr>\n  </tbody>\n</table>\n</div>"
     },
     "metadata": {},
     "execution_count": 297
    }
   ],
   "source": [
    "#Write your answer here\n",
    "apps.describe()"
   ]
  },
  {
   "cell_type": "markdown",
   "metadata": {
    "id": "gznzJ93NpimV"
   },
   "source": [
    "**T23) Create a new column that indicates the difference between the Last Updated variable column and the current date.**\n"
   ]
  },
  {
   "cell_type": "code",
   "execution_count": 298,
   "metadata": {
    "id": "n3bbieRdpimV"
   },
   "outputs": [
    {
     "output_type": "execute_result",
     "data": {
      "text/plain": [
       "0       1136 days 17:35:12.895912\n",
       "1       1128 days 17:35:12.895912\n",
       "2        930 days 17:35:12.895912\n",
       "3        984 days 17:35:12.895912\n",
       "4        972 days 17:35:12.895912\n",
       "                   ...           \n",
       "10834   1302 days 17:35:12.895912\n",
       "10835    956 days 17:35:12.895912\n",
       "10836   1488 days 17:35:12.895912\n",
       "10837   2220 days 17:35:12.895912\n",
       "10838    937 days 17:35:12.895912\n",
       "Name: timeSinceLastUpdated, Length: 10839, dtype: timedelta64[ns]"
      ]
     },
     "metadata": {},
     "execution_count": 298
    }
   ],
   "source": [
    "#Write your answer here\n",
    "apps['timeSinceLastUpdated'] = pd.to_datetime('today') - apps['lastUpdated']\n",
    "apps['timeSinceLastUpdated']"
   ]
  },
  {
   "cell_type": "markdown",
   "metadata": {
    "id": "5rpldxmopimd"
   },
   "source": [
    "**T24) (Funny) What is weird about the most expensive appslications which are at or above the 99.9th percentile?**"
   ]
  },
  {
   "cell_type": "code",
   "execution_count": 299,
   "metadata": {
    "id": "dNQjZSZ3pimd"
   },
   "outputs": [
    {
     "output_type": "execute_result",
     "data": {
      "text/plain": [
       "                           app   category  rating  reviews       size  \\\n",
       "4367  I'm Rich - Trump Edition  LIFESTYLE     3.6      275  7300000.0   \n",
       "\n",
       "     installs  type  price contentRating     genres lastUpdated  \\\n",
       "4367  10,000+  Paid  400.0      Everyone  Lifestyle  2018-05-03   \n",
       "\n",
       "     currentVersion androidVersion      timeSinceLastUpdated  \n",
       "4367          1.0.1     4.1 and up 1020 days 17:35:12.895912  "
      ],
      "text/html": "<div>\n<style scoped>\n    .dataframe tbody tr th:only-of-type {\n        vertical-align: middle;\n    }\n\n    .dataframe tbody tr th {\n        vertical-align: top;\n    }\n\n    .dataframe thead th {\n        text-align: right;\n    }\n</style>\n<table border=\"1\" class=\"dataframe\">\n  <thead>\n    <tr style=\"text-align: right;\">\n      <th></th>\n      <th>app</th>\n      <th>category</th>\n      <th>rating</th>\n      <th>reviews</th>\n      <th>size</th>\n      <th>installs</th>\n      <th>type</th>\n      <th>price</th>\n      <th>contentRating</th>\n      <th>genres</th>\n      <th>lastUpdated</th>\n      <th>currentVersion</th>\n      <th>androidVersion</th>\n      <th>timeSinceLastUpdated</th>\n    </tr>\n  </thead>\n  <tbody>\n    <tr>\n      <th>4367</th>\n      <td>I'm Rich - Trump Edition</td>\n      <td>LIFESTYLE</td>\n      <td>3.6</td>\n      <td>275</td>\n      <td>7300000.0</td>\n      <td>10,000+</td>\n      <td>Paid</td>\n      <td>400.0</td>\n      <td>Everyone</td>\n      <td>Lifestyle</td>\n      <td>2018-05-03</td>\n      <td>1.0.1</td>\n      <td>4.1 and up</td>\n      <td>1020 days 17:35:12.895912</td>\n    </tr>\n  </tbody>\n</table>\n</div>"
     },
     "metadata": {},
     "execution_count": 299
    }
   ],
   "source": [
    "#Write your answer here\n",
    "percentile999 = apps['price'].quantile(0.999)\n",
    "apps[apps['price']>percentile999]"
   ]
  },
  {
   "cell_type": "markdown",
   "metadata": {
    "id": "nvCqJSl_pimd"
   },
   "source": [
    "### Should you finish earlier/want to practice at home, you could\n",
    "\n",
    "* Check that the Price variable does not have logical error (values below 0)\n",
    "* Check that the values of Rating variable is within the limits [0,5]\n",
    "* Any other analysis that you might could generate some useful insight."
   ]
  }
 ],
 "metadata": {
  "colab": {
   "collapsed_sections": [],
   "name": "DAT1-Practical5-Questions.ipynb",
   "provenance": []
  },
  "kernelspec": {
   "display_name": "Python 3",
   "language": "python",
   "name": "python3"
  },
  "language_info": {
   "codemirror_mode": {
    "name": "ipython",
    "version": 3
   },
   "file_extension": ".py",
   "mimetype": "text/x-python",
   "name": "python",
   "nbconvert_exporter": "python",
   "pygments_lexer": "ipython3",
   "version": "3.7.3"
  }
 },
 "nbformat": 4,
 "nbformat_minor": 1
}