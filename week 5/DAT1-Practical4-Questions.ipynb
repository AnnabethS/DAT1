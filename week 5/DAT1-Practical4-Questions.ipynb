{
 "cells": [
  {
   "cell_type": "markdown",
   "metadata": {
    "id": "myigq6n8nO-X"
   },
   "source": [
    "# DATA 1 Practical 4\n",
    "\n",
    "Simos Gerasimou\n",
    "\n",
    "\n",
    "## Internet Movie Database Exploration and Analysis\n",
    "\n",
    "**IMDB** ([http://imdb.com](http://imdb.com)) is an online database of information related to films, television programs, home videos, video games, and streaming content online – including cast, production crew and personal biographies, plot summaries, trivia, fan and critical reviews, and ratings. You can find more information at [Wikipedia](https://en.wikipedia.org/wiki/IMDb).\n",
    "\n",
    "**DataVision** has scraped the website and acquired data for a wide number of movies from IMDB. The company wants to analyse this data to extract insights from its products and answer questions including:\n",
    "* the most successful movies, directors, actors\n",
    "* patterns that might lead to predicting successful movies in the future\n",
    "\n",
    "#### Your tasks are to explore this dataset and generade some actionable knowledge. \n",
    "\n",
    "\n",
    "#### This Jupyter Notebook will be presented to the Warner Bros main stakeholders who have limited knowledge about data science. So, your findings should be complemented by a suitable justification explaining what you observe and, when applicable, what does this observation  mean and, possibly, why it occurs.\n",
    "\n",
    "* For each question (task) a description is provided accompanied (most of the time) by two cells: one for writing the Python code and another for providing the justification. Feel free to add more cells if you feel they are needed, but keep the cells corresponding to the same question close by.\n",
    "\n",
    "### **Important Information**\n",
    "\n",
    "(1) To answer these exercises, you **must first read Chapter 3: Dapa Manipulation with Pandas from the Python Data Science Handbook** (https://jakevdp.github.io/PythonDataScienceHandbook/03.00-introduction-to-pandas.html)\n",
    "\n",
    "(2) If you haven't already done so, complete the exercises on Pandas tutorial to become familiar with the library.\n",
    "\n",
    "**Pandas API Reference**: https://pandas.pydata.org/pandas-docs/stable/reference/index.html\n",
    "\n",
    "***"
   ]
  },
  {
   "cell_type": "markdown",
   "metadata": {
    "id": "HxunYZkEnO-i"
   },
   "source": [
    "### Part 1: Reading dataset\n",
    "\n",
    "The IMDB dataset is available on VLE (look for IMDB-Movie-Data-Filtered.csv in the Practicals section)\n",
    "\n",
    "**T1) Load the IMDB dataset using Pandas**\n",
    "\n",
    "**Note**: You have to download the dataset on your local machine and then load it onto the Jupyter Notebook"
   ]
  },
  {
   "cell_type": "code",
   "execution_count": 22,
   "metadata": {
    "colab": {
     "base_uri": "https://localhost:8080/",
     "height": 415
    },
    "executionInfo": {
     "elapsed": 559,
     "status": "error",
     "timestamp": 1612468883976,
     "user": {
      "displayName": "Simos Gerasimou",
      "photoUrl": "https://lh3.googleusercontent.com/a-/AOh14GiyuWEDBGgnFKbsa3BAO5bWW-MwC5_V7MnUQz5JiA=s64",
      "userId": "13902192774339425778"
     },
     "user_tz": 0
    },
    "id": "TQ7vR6IUnO-l",
    "outputId": "dacd2445-1168-4965-ad40-f0da8fa03937"
   },
   "outputs": [],
   "source": [
    "import pandas as pd \n",
    "datasetName = \"IMDB-Movie-Data-Filtered.csv\"\n",
    "movies = pd.read_csv(datasetName) "
   ]
  },
  {
   "cell_type": "markdown",
   "metadata": {
    "id": "6WXI7_mMqK7k"
   },
   "source": [
    "***\n",
    "\n",
    "### Part 2: Cleaning the dataset\n"
   ]
  },
  {
   "cell_type": "markdown",
   "metadata": {
    "id": "CwWehmu4nO-n"
   },
   "source": [
    "**T2) Print (i) the first and (ii) the last five records of the dataframe**"
   ]
  },
  {
   "cell_type": "code",
   "execution_count": 23,
   "metadata": {
    "id": "MBznifePnO-p"
   },
   "outputs": [
    {
     "output_type": "execute_result",
     "data": {
      "text/plain": [
       "   color      director_name  num_critic_for_reviews  duration  \\\n",
       "0  Color      James Cameron                   723.0     178.0   \n",
       "1  Color     Gore Verbinski                   302.0     169.0   \n",
       "2  Color         Sam Mendes                   602.0     148.0   \n",
       "3  Color  Christopher Nolan                   813.0     164.0   \n",
       "4  Color     Andrew Stanton                   462.0     132.0   \n",
       "\n",
       "       actor_2_name        gross                           genres  \\\n",
       "0  Joel David Moore  760505847.0  Action|Adventure|Fantasy|Sci-Fi   \n",
       "1     Orlando Bloom  309404152.0         Action|Adventure|Fantasy   \n",
       "2      Rory Kinnear  200074175.0        Action|Adventure|Thriller   \n",
       "3    Christian Bale  448130642.0                  Action|Thriller   \n",
       "4   Samantha Morton   73058679.0          Action|Adventure|Sci-Fi   \n",
       "\n",
       "      actor_1_name                                movie_title  \\\n",
       "0      CCH Pounder                                    Avatar    \n",
       "1      Johnny Depp  Pirates of the Caribbean: At World's End    \n",
       "2  Christoph Waltz                                   Spectre    \n",
       "3        Tom Hardy                     The Dark Knight Rises    \n",
       "4     Daryl Sabara                               John Carter    \n",
       "\n",
       "   num_voted_users  ...                                      plot_keywords  \\\n",
       "0           886204  ...             avatar|future|marine|native|paraplegic   \n",
       "1           471220  ...  goddess|marriage ceremony|marriage proposal|pi...   \n",
       "2           275868  ...                bomb|espionage|sequel|spy|terrorist   \n",
       "3          1144337  ...  deception|imprisonment|lawlessness|police offi...   \n",
       "4           212204  ...  alien|american civil war|male nipple|mars|prin...   \n",
       "\n",
       "                                     movie_imdb_link num_user_for_reviews  \\\n",
       "0  http://www.imdb.com/title/tt0499549/?ref_=fn_t...               3054.0   \n",
       "1  http://www.imdb.com/title/tt0449088/?ref_=fn_t...               1238.0   \n",
       "2  http://www.imdb.com/title/tt2379713/?ref_=fn_t...                994.0   \n",
       "3  http://www.imdb.com/title/tt1345836/?ref_=fn_t...               2701.0   \n",
       "4  http://www.imdb.com/title/tt0401729/?ref_=fn_t...                738.0   \n",
       "\n",
       "   language country content_rating       budget  title_year  imdb_score  \\\n",
       "0   English     USA          PG-13  237000000.0      2009.0         7.9   \n",
       "1   English     USA          PG-13  300000000.0      2007.0         7.1   \n",
       "2   English      UK          PG-13  245000000.0      2015.0         6.8   \n",
       "3   English     USA          PG-13  250000000.0      2012.0         8.5   \n",
       "4   English     USA          PG-13  263700000.0      2012.0         6.6   \n",
       "\n",
       "   movie_facebook_likes  \n",
       "0                 33000  \n",
       "1                     0  \n",
       "2                 85000  \n",
       "3                164000  \n",
       "4                 24000  \n",
       "\n",
       "[5 rows x 21 columns]"
      ],
      "text/html": "<div>\n<style scoped>\n    .dataframe tbody tr th:only-of-type {\n        vertical-align: middle;\n    }\n\n    .dataframe tbody tr th {\n        vertical-align: top;\n    }\n\n    .dataframe thead th {\n        text-align: right;\n    }\n</style>\n<table border=\"1\" class=\"dataframe\">\n  <thead>\n    <tr style=\"text-align: right;\">\n      <th></th>\n      <th>color</th>\n      <th>director_name</th>\n      <th>num_critic_for_reviews</th>\n      <th>duration</th>\n      <th>actor_2_name</th>\n      <th>gross</th>\n      <th>genres</th>\n      <th>actor_1_name</th>\n      <th>movie_title</th>\n      <th>num_voted_users</th>\n      <th>...</th>\n      <th>plot_keywords</th>\n      <th>movie_imdb_link</th>\n      <th>num_user_for_reviews</th>\n      <th>language</th>\n      <th>country</th>\n      <th>content_rating</th>\n      <th>budget</th>\n      <th>title_year</th>\n      <th>imdb_score</th>\n      <th>movie_facebook_likes</th>\n    </tr>\n  </thead>\n  <tbody>\n    <tr>\n      <th>0</th>\n      <td>Color</td>\n      <td>James Cameron</td>\n      <td>723.0</td>\n      <td>178.0</td>\n      <td>Joel David Moore</td>\n      <td>760505847.0</td>\n      <td>Action|Adventure|Fantasy|Sci-Fi</td>\n      <td>CCH Pounder</td>\n      <td>Avatar</td>\n      <td>886204</td>\n      <td>...</td>\n      <td>avatar|future|marine|native|paraplegic</td>\n      <td>http://www.imdb.com/title/tt0499549/?ref_=fn_t...</td>\n      <td>3054.0</td>\n      <td>English</td>\n      <td>USA</td>\n      <td>PG-13</td>\n      <td>237000000.0</td>\n      <td>2009.0</td>\n      <td>7.9</td>\n      <td>33000</td>\n    </tr>\n    <tr>\n      <th>1</th>\n      <td>Color</td>\n      <td>Gore Verbinski</td>\n      <td>302.0</td>\n      <td>169.0</td>\n      <td>Orlando Bloom</td>\n      <td>309404152.0</td>\n      <td>Action|Adventure|Fantasy</td>\n      <td>Johnny Depp</td>\n      <td>Pirates of the Caribbean: At World's End</td>\n      <td>471220</td>\n      <td>...</td>\n      <td>goddess|marriage ceremony|marriage proposal|pi...</td>\n      <td>http://www.imdb.com/title/tt0449088/?ref_=fn_t...</td>\n      <td>1238.0</td>\n      <td>English</td>\n      <td>USA</td>\n      <td>PG-13</td>\n      <td>300000000.0</td>\n      <td>2007.0</td>\n      <td>7.1</td>\n      <td>0</td>\n    </tr>\n    <tr>\n      <th>2</th>\n      <td>Color</td>\n      <td>Sam Mendes</td>\n      <td>602.0</td>\n      <td>148.0</td>\n      <td>Rory Kinnear</td>\n      <td>200074175.0</td>\n      <td>Action|Adventure|Thriller</td>\n      <td>Christoph Waltz</td>\n      <td>Spectre</td>\n      <td>275868</td>\n      <td>...</td>\n      <td>bomb|espionage|sequel|spy|terrorist</td>\n      <td>http://www.imdb.com/title/tt2379713/?ref_=fn_t...</td>\n      <td>994.0</td>\n      <td>English</td>\n      <td>UK</td>\n      <td>PG-13</td>\n      <td>245000000.0</td>\n      <td>2015.0</td>\n      <td>6.8</td>\n      <td>85000</td>\n    </tr>\n    <tr>\n      <th>3</th>\n      <td>Color</td>\n      <td>Christopher Nolan</td>\n      <td>813.0</td>\n      <td>164.0</td>\n      <td>Christian Bale</td>\n      <td>448130642.0</td>\n      <td>Action|Thriller</td>\n      <td>Tom Hardy</td>\n      <td>The Dark Knight Rises</td>\n      <td>1144337</td>\n      <td>...</td>\n      <td>deception|imprisonment|lawlessness|police offi...</td>\n      <td>http://www.imdb.com/title/tt1345836/?ref_=fn_t...</td>\n      <td>2701.0</td>\n      <td>English</td>\n      <td>USA</td>\n      <td>PG-13</td>\n      <td>250000000.0</td>\n      <td>2012.0</td>\n      <td>8.5</td>\n      <td>164000</td>\n    </tr>\n    <tr>\n      <th>4</th>\n      <td>Color</td>\n      <td>Andrew Stanton</td>\n      <td>462.0</td>\n      <td>132.0</td>\n      <td>Samantha Morton</td>\n      <td>73058679.0</td>\n      <td>Action|Adventure|Sci-Fi</td>\n      <td>Daryl Sabara</td>\n      <td>John Carter</td>\n      <td>212204</td>\n      <td>...</td>\n      <td>alien|american civil war|male nipple|mars|prin...</td>\n      <td>http://www.imdb.com/title/tt0401729/?ref_=fn_t...</td>\n      <td>738.0</td>\n      <td>English</td>\n      <td>USA</td>\n      <td>PG-13</td>\n      <td>263700000.0</td>\n      <td>2012.0</td>\n      <td>6.6</td>\n      <td>24000</td>\n    </tr>\n  </tbody>\n</table>\n<p>5 rows × 21 columns</p>\n</div>"
     },
     "metadata": {},
     "execution_count": 23
    }
   ],
   "source": [
    "# Write your answer here\n",
    "movies.head()"
   ]
  },
  {
   "cell_type": "code",
   "execution_count": 24,
   "metadata": {
    "id": "juyQzmqinO-q"
   },
   "outputs": [
    {
     "output_type": "execute_result",
     "data": {
      "text/plain": [
       "      color     director_name  num_critic_for_reviews  duration  \\\n",
       "3804  Color     Shane Carruth                   143.0      77.0   \n",
       "3805  Color  Neill Dela Llana                    35.0      80.0   \n",
       "3806  Color  Robert Rodriguez                    56.0      81.0   \n",
       "3807  Color      Edward Burns                    14.0      95.0   \n",
       "3808  Color          Jon Gunn                    43.0      90.0   \n",
       "\n",
       "            actor_2_name      gross                               genres  \\\n",
       "3804      David Sullivan   424760.0                Drama|Sci-Fi|Thriller   \n",
       "3805     Edgar Tancangco    70071.0                             Thriller   \n",
       "3806     Peter Marquardt  2040920.0  Action|Crime|Drama|Romance|Thriller   \n",
       "3807  Caitlin FitzGerald     4584.0                         Comedy|Drama   \n",
       "3808    Brian Herzlinger    85222.0                          Documentary   \n",
       "\n",
       "         actor_1_name         movie_title  num_voted_users  ...  \\\n",
       "3804    Shane Carruth             Primer             72639  ...   \n",
       "3805      Ian Gamazon             Cavite               589  ...   \n",
       "3806  Carlos Gallardo        El Mariachi             52055  ...   \n",
       "3807      Kerry Bishé          Newlyweds              1338  ...   \n",
       "3808      John August  My Date with Drew              4285  ...   \n",
       "\n",
       "                                          plot_keywords  \\\n",
       "3804  changing the future|independent film|invention...   \n",
       "3805  jihad|mindanao|philippines|security guard|squa...   \n",
       "3806                 assassin|death|guitar|gun|mariachi   \n",
       "3807                written and directed by cast member   \n",
       "3808  actress name in title|crush|date|four word tit...   \n",
       "\n",
       "                                        movie_imdb_link num_user_for_reviews  \\\n",
       "3804  http://www.imdb.com/title/tt0390384/?ref_=fn_t...                371.0   \n",
       "3805  http://www.imdb.com/title/tt0428303/?ref_=fn_t...                 35.0   \n",
       "3806  http://www.imdb.com/title/tt0104815/?ref_=fn_t...                130.0   \n",
       "3807  http://www.imdb.com/title/tt1880418/?ref_=fn_t...                 14.0   \n",
       "3808  http://www.imdb.com/title/tt0378407/?ref_=fn_t...                 84.0   \n",
       "\n",
       "      language      country content_rating  budget  title_year  imdb_score  \\\n",
       "3804   English          USA          PG-13  7000.0      2004.0         7.0   \n",
       "3805   English  Philippines      Not Rated  7000.0      2005.0         6.3   \n",
       "3806   Spanish          USA              R  7000.0      1992.0         6.9   \n",
       "3807   English          USA      Not Rated  9000.0      2011.0         6.4   \n",
       "3808   English          USA             PG  1100.0      2004.0         6.6   \n",
       "\n",
       "      movie_facebook_likes  \n",
       "3804                 19000  \n",
       "3805                    74  \n",
       "3806                     0  \n",
       "3807                   413  \n",
       "3808                   456  \n",
       "\n",
       "[5 rows x 21 columns]"
      ],
      "text/html": "<div>\n<style scoped>\n    .dataframe tbody tr th:only-of-type {\n        vertical-align: middle;\n    }\n\n    .dataframe tbody tr th {\n        vertical-align: top;\n    }\n\n    .dataframe thead th {\n        text-align: right;\n    }\n</style>\n<table border=\"1\" class=\"dataframe\">\n  <thead>\n    <tr style=\"text-align: right;\">\n      <th></th>\n      <th>color</th>\n      <th>director_name</th>\n      <th>num_critic_for_reviews</th>\n      <th>duration</th>\n      <th>actor_2_name</th>\n      <th>gross</th>\n      <th>genres</th>\n      <th>actor_1_name</th>\n      <th>movie_title</th>\n      <th>num_voted_users</th>\n      <th>...</th>\n      <th>plot_keywords</th>\n      <th>movie_imdb_link</th>\n      <th>num_user_for_reviews</th>\n      <th>language</th>\n      <th>country</th>\n      <th>content_rating</th>\n      <th>budget</th>\n      <th>title_year</th>\n      <th>imdb_score</th>\n      <th>movie_facebook_likes</th>\n    </tr>\n  </thead>\n  <tbody>\n    <tr>\n      <th>3804</th>\n      <td>Color</td>\n      <td>Shane Carruth</td>\n      <td>143.0</td>\n      <td>77.0</td>\n      <td>David Sullivan</td>\n      <td>424760.0</td>\n      <td>Drama|Sci-Fi|Thriller</td>\n      <td>Shane Carruth</td>\n      <td>Primer</td>\n      <td>72639</td>\n      <td>...</td>\n      <td>changing the future|independent film|invention...</td>\n      <td>http://www.imdb.com/title/tt0390384/?ref_=fn_t...</td>\n      <td>371.0</td>\n      <td>English</td>\n      <td>USA</td>\n      <td>PG-13</td>\n      <td>7000.0</td>\n      <td>2004.0</td>\n      <td>7.0</td>\n      <td>19000</td>\n    </tr>\n    <tr>\n      <th>3805</th>\n      <td>Color</td>\n      <td>Neill Dela Llana</td>\n      <td>35.0</td>\n      <td>80.0</td>\n      <td>Edgar Tancangco</td>\n      <td>70071.0</td>\n      <td>Thriller</td>\n      <td>Ian Gamazon</td>\n      <td>Cavite</td>\n      <td>589</td>\n      <td>...</td>\n      <td>jihad|mindanao|philippines|security guard|squa...</td>\n      <td>http://www.imdb.com/title/tt0428303/?ref_=fn_t...</td>\n      <td>35.0</td>\n      <td>English</td>\n      <td>Philippines</td>\n      <td>Not Rated</td>\n      <td>7000.0</td>\n      <td>2005.0</td>\n      <td>6.3</td>\n      <td>74</td>\n    </tr>\n    <tr>\n      <th>3806</th>\n      <td>Color</td>\n      <td>Robert Rodriguez</td>\n      <td>56.0</td>\n      <td>81.0</td>\n      <td>Peter Marquardt</td>\n      <td>2040920.0</td>\n      <td>Action|Crime|Drama|Romance|Thriller</td>\n      <td>Carlos Gallardo</td>\n      <td>El Mariachi</td>\n      <td>52055</td>\n      <td>...</td>\n      <td>assassin|death|guitar|gun|mariachi</td>\n      <td>http://www.imdb.com/title/tt0104815/?ref_=fn_t...</td>\n      <td>130.0</td>\n      <td>Spanish</td>\n      <td>USA</td>\n      <td>R</td>\n      <td>7000.0</td>\n      <td>1992.0</td>\n      <td>6.9</td>\n      <td>0</td>\n    </tr>\n    <tr>\n      <th>3807</th>\n      <td>Color</td>\n      <td>Edward Burns</td>\n      <td>14.0</td>\n      <td>95.0</td>\n      <td>Caitlin FitzGerald</td>\n      <td>4584.0</td>\n      <td>Comedy|Drama</td>\n      <td>Kerry Bishé</td>\n      <td>Newlyweds</td>\n      <td>1338</td>\n      <td>...</td>\n      <td>written and directed by cast member</td>\n      <td>http://www.imdb.com/title/tt1880418/?ref_=fn_t...</td>\n      <td>14.0</td>\n      <td>English</td>\n      <td>USA</td>\n      <td>Not Rated</td>\n      <td>9000.0</td>\n      <td>2011.0</td>\n      <td>6.4</td>\n      <td>413</td>\n    </tr>\n    <tr>\n      <th>3808</th>\n      <td>Color</td>\n      <td>Jon Gunn</td>\n      <td>43.0</td>\n      <td>90.0</td>\n      <td>Brian Herzlinger</td>\n      <td>85222.0</td>\n      <td>Documentary</td>\n      <td>John August</td>\n      <td>My Date with Drew</td>\n      <td>4285</td>\n      <td>...</td>\n      <td>actress name in title|crush|date|four word tit...</td>\n      <td>http://www.imdb.com/title/tt0378407/?ref_=fn_t...</td>\n      <td>84.0</td>\n      <td>English</td>\n      <td>USA</td>\n      <td>PG</td>\n      <td>1100.0</td>\n      <td>2004.0</td>\n      <td>6.6</td>\n      <td>456</td>\n    </tr>\n  </tbody>\n</table>\n<p>5 rows × 21 columns</p>\n</div>"
     },
     "metadata": {},
     "execution_count": 24
    }
   ],
   "source": [
    "# Write your answer here\n",
    "movies.tail()"
   ]
  },
  {
   "cell_type": "markdown",
   "metadata": {
    "id": "1h99OGkknO-r"
   },
   "source": [
    "**T3) Get general info about the dataset**"
   ]
  },
  {
   "cell_type": "code",
   "execution_count": 25,
   "metadata": {
    "id": "7N0o33V8nO-r"
   },
   "outputs": [
    {
     "output_type": "stream",
     "name": "stdout",
     "text": [
      "<class 'pandas.core.frame.DataFrame'>\nRangeIndex: 3809 entries, 0 to 3808\nData columns (total 21 columns):\n #   Column                  Non-Null Count  Dtype  \n---  ------                  --------------  -----  \n 0   color                   3809 non-null   object \n 1   director_name           3809 non-null   object \n 2   num_critic_for_reviews  3809 non-null   float64\n 3   duration                3809 non-null   float64\n 4   actor_2_name            3809 non-null   object \n 5   gross                   3809 non-null   float64\n 6   genres                  3809 non-null   object \n 7   actor_1_name            3809 non-null   object \n 8   movie_title             3809 non-null   object \n 9   num_voted_users         3809 non-null   int64  \n 10  actor_3_name            3809 non-null   object \n 11  plot_keywords           3809 non-null   object \n 12  movie_imdb_link         3809 non-null   object \n 13  num_user_for_reviews    3809 non-null   float64\n 14  language                3809 non-null   object \n 15  country                 3809 non-null   object \n 16  content_rating          3809 non-null   object \n 17  budget                  3809 non-null   float64\n 18  title_year              3809 non-null   float64\n 19  imdb_score              3809 non-null   float64\n 20  movie_facebook_likes    3809 non-null   int64  \ndtypes: float64(7), int64(2), object(12)\nmemory usage: 446.4+ KB\n"
     ]
    }
   ],
   "source": [
    "# Write your answer here\n",
    "movies.info()"
   ]
  },
  {
   "cell_type": "markdown",
   "metadata": {
    "id": "4fjzCFJSnO-t"
   },
   "source": [
    "**T4) Explore the dataset and try to understand the meaning of each column. For each column, write its meaning and its data type. Also, which columns might be irrelevant?**"
   ]
  },
  {
   "source": [
    "The imdb link is irrelevant, the facebook likes and plot keywords are irrelevant"
   ],
   "cell_type": "markdown",
   "metadata": {
    "executionInfo": {
     "elapsed": 551,
     "status": "ok",
     "timestamp": 1612468956653,
     "user": {
      "displayName": "Simos Gerasimou",
      "photoUrl": "https://lh3.googleusercontent.com/a-/AOh14GiyuWEDBGgnFKbsa3BAO5bWW-MwC5_V7MnUQz5JiA=s64",
      "userId": "13902192774339425778"
     },
     "user_tz": 0
    },
    "id": "ECm4jenUnO-t"
   }
  },
  {
   "cell_type": "markdown",
   "metadata": {
    "id": "_7HEGGGKnO-v"
   },
   "source": [
    "**T5) Get the shape of the dataframe**"
   ]
  },
  {
   "cell_type": "code",
   "execution_count": 26,
   "metadata": {
    "executionInfo": {
     "elapsed": 1019,
     "status": "ok",
     "timestamp": 1612468964336,
     "user": {
      "displayName": "Simos Gerasimou",
      "photoUrl": "https://lh3.googleusercontent.com/a-/AOh14GiyuWEDBGgnFKbsa3BAO5bWW-MwC5_V7MnUQz5JiA=s64",
      "userId": "13902192774339425778"
     },
     "user_tz": 0
    },
    "id": "xx7_cADtnO-x"
   },
   "outputs": [
    {
     "output_type": "execute_result",
     "data": {
      "text/plain": [
       "(3809, 21)"
      ]
     },
     "metadata": {},
     "execution_count": 26
    }
   ],
   "source": [
    "# Write your answer here\n",
    "movies.shape"
   ]
  },
  {
   "cell_type": "markdown",
   "metadata": {
    "id": "11FbqB5NnO-y"
   },
   "source": [
    "**T6) Get the name of the columns of the dataframe**"
   ]
  },
  {
   "cell_type": "code",
   "execution_count": 27,
   "metadata": {
    "id": "dLY6pUjOnO-y"
   },
   "outputs": [
    {
     "output_type": "execute_result",
     "data": {
      "text/plain": [
       "Index(['color', 'director_name', 'num_critic_for_reviews', 'duration',\n",
       "       'actor_2_name', 'gross', 'genres', 'actor_1_name', 'movie_title',\n",
       "       'num_voted_users', 'actor_3_name', 'plot_keywords', 'movie_imdb_link',\n",
       "       'num_user_for_reviews', 'language', 'country', 'content_rating',\n",
       "       'budget', 'title_year', 'imdb_score', 'movie_facebook_likes'],\n",
       "      dtype='object')"
      ]
     },
     "metadata": {},
     "execution_count": 27
    }
   ],
   "source": [
    "# Write your answer here\n",
    "movies.columns"
   ]
  },
  {
   "cell_type": "markdown",
   "metadata": {
    "id": "S-Nk1AtbnO-0"
   },
   "source": [
    "**T7) Give more readable names to the columns with suitable capitalisation and eliminating underscores (\"_\")**"
   ]
  },
  {
   "cell_type": "code",
   "execution_count": 28,
   "metadata": {
    "id": "gT6j3RsVnO-0"
   },
   "outputs": [
    {
     "output_type": "execute_result",
     "data": {
      "text/plain": [
       "Index(['color', 'directorName', 'numCriticForReviews', 'duration', 'actor2',\n",
       "       'gross', 'genres', 'actor1', 'movieTitle', 'numVotedUsers', 'actor3',\n",
       "       'plotKeywords', 'imdbLink', 'numUserForReviews', 'language', 'country',\n",
       "       'contentRating', 'budget', 'titleYear', 'imdbScore',\n",
       "       'movieFacebookLikes'],\n",
       "      dtype='object')"
      ]
     },
     "metadata": {},
     "execution_count": 28
    }
   ],
   "source": [
    "# Write your answer here\n",
    "movies.rename(columns = {\"director_name\":\"directorName\", \"num_critic_for_reviews\":\"numCriticForReviews\", \"actor_1_name\":\"actor1\", \"actor_2_name\":\"actor2\", \"actor_3_name\":'actor3', 'movie_title':'movieTitle', 'num_voted_users':'numVotedUsers', 'plot_keywords':'plotKeywords', 'movie_imdb_link':'imdbLink', 'content_rating':'contentRating', 'num_user_for_reviews':'numUserForReviews', 'title_year':'titleYear', 'imdb_score':'imdbScore', 'movie_facebook_likes':'movieFacebookLikes'}, inplace=True)\n",
    "movies.columns"
   ]
  },
  {
   "cell_type": "markdown",
   "metadata": {
    "id": "zAE2u4ZynO-0"
   },
   "source": [
    "**T8) Find and print the duplicated records**\n",
    "\n",
    "**Note**: A record is duplicated if all its entries are identical with another record"
   ]
  },
  {
   "cell_type": "code",
   "execution_count": 29,
   "metadata": {
    "id": "Iy0lcpzSnO-1"
   },
   "outputs": [
    {
     "output_type": "stream",
     "name": "stdout",
     "text": [
      "                 color          directorName  numCriticForReviews  duration  \\\n133              Color           David Yates                248.0     110.0   \n182              Color           Bill Condon                322.0     115.0   \n292              Color            Joe Wright                256.0     111.0   \n377              Color            Josh Trank                369.0     100.0   \n383              Color             Rob Cohen                187.0     106.0   \n565              Color          Brett Ratner                245.0     101.0   \n627              Color        Paul Verhoeven                196.0     113.0   \n758              Color           Joss Whedon                703.0     173.0   \n1155             Color   Angelina Jolie Pitt                322.0     137.0   \n1237             Color         Paul McGuigan                159.0     110.0   \n1369             Color         Albert Hughes                208.0     122.0   \n1910             Color           Andy Cadiff                 65.0     101.0   \n2005             Color         Paul McGuigan                 98.0     114.0   \n2115             Color              Frank Oz                168.0      87.0   \n2272   Black and White           Yimou Zhang                283.0      80.0   \n2305             Color           Neil Burger                236.0     110.0   \n2332             Color             Jon Lucas                 81.0     100.0   \n2338             Color         Vic Armstrong                169.0     110.0   \n2377             Color        John Carpenter                318.0     101.0   \n2505             Color          Ole Bornedal                264.0      92.0   \n2509             Color        Stephen Frears                 51.0     119.0   \n2526             Color            Shawn Levy                 69.0      88.0   \n2674             Color      John Lee Hancock                106.0     137.0   \n2788             Color           Guy Ritchie                151.0     104.0   \n2941             Color          Herbert Ross                 60.0     107.0   \n3012             Color           Paul Haggis                287.0     115.0   \n3034             Color  Michael Winterbottom                 71.0     115.0   \n3208             Color      Tim Blake Nelson                 92.0      95.0   \n3310             Color            Wes Craven                160.0     107.0   \n3445             Color            Rob Zombie                220.0     119.0   \n3496             Color       Kenneth Branagh                 85.0     150.0   \n3510             Color       Bruce McCulloch                 52.0      85.0   \n3616             Color        Peter Cattaneo                122.0      91.0   \n3645             Color           Danny Boyle                393.0     101.0   \n3714             Color           Tamra Davis                111.0      93.0   \n\n                   actor2        gross                                 genres  \\\n133   Alexander Skarsgård  124051759.0         Action|Adventure|Drama|Romance   \n182       Kristen Stewart  292298923.0        Adventure|Drama|Fantasy|Romance   \n292       Cara Delevingne   34964818.0               Adventure|Family|Fantasy   \n377         Reg E. Cathey   56114221.0                Action|Adventure|Sci-Fi   \n383            Vin Diesel  144512310.0                  Action|Crime|Thriller   \n565          Rufus Sewell   72660029.0                       Action|Adventure   \n627        Rachel Ticotin  119412921.0                          Action|Sci-Fi   \n758     Robert Downey Jr.  623279547.0                Action|Adventure|Sci-Fi   \n1155       Jack O'Connell  115603980.0              Biography|Drama|Sport|War   \n1237      Spencer Wilding    5773519.0           Drama|Horror|Sci-Fi|Thriller   \n1369        Jason Flemyng   31598308.0                Horror|Mystery|Thriller   \n1910          Stark Sands   12189514.0                         Comedy|Romance   \n2005  Christopher Cousins   12831121.0         Drama|Mystery|Romance|Thriller   \n2115         Ewen Bremner    8579684.0                                 Comedy   \n2272  Tony Chiu Wai Leung      84961.0               Action|Adventure|History   \n2305         Eddie Marsan   39825798.0         Drama|Mystery|Romance|Thriller   \n2332        Jay Hernandez   55461307.0                                 Comedy   \n2338         Lea Thompson   13998282.0  Action|Drama|Fantasy|Mystery|Thriller   \n2377     Donald Pleasence   47000000.0                        Horror|Thriller   \n2505    Madison Davenport   49122319.0                        Horror|Thriller   \n2509        Peter Capaldi   34700000.0                          Drama|Romance   \n2526        Donald Faison   47811275.0                Adventure|Comedy|Family   \n2674          Marc Blucas   22406362.0              Drama|History|War|Western   \n2788            Brad Pitt   30093107.0                           Comedy|Crime   \n2941           Chris Penn   80000000.0                    Drama|Music|Romance   \n3012       Loretta Devine   54557348.0                   Crime|Drama|Thriller   \n3034         Sarah Polley     403932.0                  Drama|Romance|Western   \n3208        Andrew Keegan   16017403.0                 Drama|Romance|Thriller   \n3310          Emily Meade   14637490.0                Horror|Mystery|Thriller   \n3445           Tyler Mane   33386128.0                                 Horror   \n3496        Brian Blessed    4414535.0                                  Drama   \n3510       Megan Mullally   13973532.0                           Comedy|Crime   \n3616            Mark Addy   45857453.0                     Comedy|Drama|Music   \n3645      Spencer Wilding    2319187.0           Crime|Drama|Mystery|Thriller   \n3714    Katherine Boecher   37188667.0                           Comedy|Drama   \n\n                    actor1                                  movieTitle  \\\n133        Christoph Waltz                       The Legend of Tarzan    \n182       Robert Pattinson  The Twilight Saga: Breaking Dawn - Part 2    \n292           Hugh Jackman                                        Pan    \n377       Tim Blake Nelson                             Fantastic Four    \n383            Paul Walker                   The Fast and the Furious    \n565         Dwayne Johnson                                   Hercules    \n627              Ronny Cox                               Total Recall    \n758        Chris Hemsworth                               The Avengers    \n1155         Finn Wittrock                                   Unbroken    \n1237      Daniel Radcliffe                        Victor Frankenstein    \n1369           Johnny Depp                                  From Hell    \n1910     Annabella Sciorra                            Chasing Liberty    \n2005          Jessica Paré                                Wicker Park    \n2115        Peter Dinklage                         Death at a Funeral    \n2272                Jet Li                                       Hero    \n2305          Rufus Sewell                            The Illusionist    \n2332            Mila Kunis                                   Bad Moms    \n2338          Nicolas Cage                                Left Behind    \n2377      Jamie Lee Curtis                                  Halloween    \n2505         Kyra Sedgwick                             The Possession    \n2509          Keanu Reeves                         Dangerous Liaisons    \n2526         Frankie Muniz                               Big Fat Liar    \n2674          Dennis Quaid                                  The Alamo    \n2788         Jason Statham                                     Snatch    \n2941          Dianne Wiest                                  Footloose    \n3012           Don Cheadle                                      Crash    \n3034        Milla Jovovich                                  The Claim    \n3208          Mekhi Phifer                                          O    \n3310          Frank Grillo                            My Soul to Take    \n3445  Scout Taylor-Compton                               Halloween II    \n3496        Julie Christie                                     Hamlet    \n3510          Martin Starr                           Stealing Harvard    \n3616         Tom Wilkinson                             The Full Monty    \n3645        Rosario Dawson                                     Trance    \n3714        Britney Spears                                 Crossroads    \n\n      numVotedUsers  ...                                       plotKeywords  \\\n133           42372  ...  africa|capture|jungle|male objectification|tarzan   \n182          185394  ...        battle|friend|super strength|vampire|vision   \n292           39956  ...  1940s|child hero|fantasy world|orphan|referenc...   \n377          110486  ...  box office flop|critically bashed|portal|telep...   \n383          272223  ...  eighteen wheeler|illegal street racing|truck|t...   \n565          115687  ...       army|greek mythology|hercules|king|mercenary   \n627          240241  ...  ambiguous ending|false memory|implanted memory...   \n758          995415  ...    alien invasion|assassin|battle|iron man|soldier   \n1155         103589  ...  emaciation|male nudity|plane crash|prisoner of...   \n1237          28618  ...  assistant|experiment|frankenstein|medical stud...   \n1369         124765  ...  freemason|jack the ripper|opium|prostitute|vic...   \n1910          30092  ...  first daughter|photographer|prague|president|s...   \n2005          44979  ...  flashback|flashback within a flashback|multipl...   \n2115          89547  ...  end credits roll call|four word title|funeral|...   \n2272         149414  ...                     china|flying|king|palace|sword   \n2305         295375  ...  duchess|illusionist|magician|prince|supernatur...   \n2332           4654  ...  lesbian kiss|mom|pta|reference to mad max|scen...   \n2338          24854  ...                bible quote|chaos|faith|riot|shrine   \n2377         157857  ...  halloween|masked killer|michael myers|slasher|...   \n2505          47169  ...        basketball coach|box|jewish|rabbi|yard sale   \n2509          52846  ...  catholic|corruption|emotional abuse|france|sed...   \n2526          29008  ...            brunette|film producer|liar|prank|stunt   \n2674          16832  ...                  army|dictator|general|texan|texas   \n2788         600996  ...                   boxer|boxing|diamond|fight|gypsy   \n2941          51459  ...  church|cowboy boots|dancing|high school dance|...   \n3012         361169  ...  race relations|racism|racist|social problem|st...   \n3034           5254  ...             gold|gold mine|miner|railroad|surveyor   \n3208          17333  ...  basketball|basketball player|boarding school|l...   \n3310          16411  ...        evil|killer|murder|psychopath|serial killer   \n3445          36372  ...  halloween|hospital|michael myers|rampage|vomiting   \n3496          30618  ...  classic literature|denmark|funeral|madness|prince   \n3510          11211  ...  black humor|crying during sex|harvard|humor|ma...   \n3616          82232  ...  dole|male stripper|northern england|steel work...   \n3645          92640  ...  amnesia|criminal|heist|hypnotherapy|lost painting   \n3714          34219  ...  audition|friendship|graduation|high school gra...   \n\n                                               imdbLink numUserForReviews  \\\n133   http://www.imdb.com/title/tt0918940/?ref_=fn_t...             239.0   \n182   http://www.imdb.com/title/tt1673434/?ref_=fn_t...             329.0   \n292   http://www.imdb.com/title/tt3332064/?ref_=fn_t...             186.0   \n377   http://www.imdb.com/title/tt1502712/?ref_=fn_t...             695.0   \n383   http://www.imdb.com/title/tt0232500/?ref_=fn_t...             988.0   \n565   http://www.imdb.com/title/tt1267297/?ref_=fn_t...             269.0   \n627   http://www.imdb.com/title/tt0100802/?ref_=fn_t...             391.0   \n758   http://www.imdb.com/title/tt0848228/?ref_=fn_t...            1722.0   \n1155  http://www.imdb.com/title/tt1809398/?ref_=fn_t...             351.0   \n1237  http://www.imdb.com/title/tt1976009/?ref_=fn_t...              91.0   \n1369  http://www.imdb.com/title/tt0120681/?ref_=fn_t...             541.0   \n1910  http://www.imdb.com/title/tt0360139/?ref_=fn_t...             129.0   \n2005  http://www.imdb.com/title/tt0324554/?ref_=fn_t...             298.0   \n2115  http://www.imdb.com/title/tt0795368/?ref_=fn_t...             199.0   \n2272  http://www.imdb.com/title/tt0299977/?ref_=fn_t...             841.0   \n2305  http://www.imdb.com/title/tt0443543/?ref_=fn_t...             645.0   \n2332  http://www.imdb.com/title/tt4651520/?ref_=fn_t...              46.0   \n2338  http://www.imdb.com/title/tt2467046/?ref_=fn_t...             374.0   \n2377  http://www.imdb.com/title/tt0077651/?ref_=fn_t...            1191.0   \n2505  http://www.imdb.com/title/tt0431021/?ref_=fn_t...             162.0   \n2509  http://www.imdb.com/title/tt0094947/?ref_=fn_t...             143.0   \n2526  http://www.imdb.com/title/tt0265298/?ref_=fn_t...              99.0   \n2674  http://www.imdb.com/title/tt0318974/?ref_=fn_t...             267.0   \n2788  http://www.imdb.com/title/tt0208092/?ref_=fn_t...             726.0   \n2941  http://www.imdb.com/title/tt0087277/?ref_=fn_t...             113.0   \n3012  http://www.imdb.com/title/tt0375679/?ref_=fn_t...            1624.0   \n3034  http://www.imdb.com/title/tt0218378/?ref_=fn_t...              92.0   \n3208  http://www.imdb.com/title/tt0184791/?ref_=fn_t...             153.0   \n3310  http://www.imdb.com/title/tt0872230/?ref_=fn_t...             136.0   \n3445  http://www.imdb.com/title/tt1311067/?ref_=fn_t...             491.0   \n3496  http://www.imdb.com/title/tt0116477/?ref_=fn_t...             224.0   \n3510  http://www.imdb.com/title/tt0265808/?ref_=fn_t...              92.0   \n3616  http://www.imdb.com/title/tt0119164/?ref_=fn_t...             174.0   \n3645  http://www.imdb.com/title/tt1924429/?ref_=fn_t...             212.0   \n3714  http://www.imdb.com/title/tt0275022/?ref_=fn_t...             578.0   \n\n      language  country contentRating       budget  titleYear  imdbScore  \\\n133    English      USA         PG-13  180000000.0     2016.0        6.6   \n182    English      USA         PG-13  120000000.0     2012.0        5.5   \n292    English      USA            PG  150000000.0     2015.0        5.8   \n377    English      USA         PG-13  120000000.0     2015.0        4.3   \n383    English      USA         PG-13   38000000.0     2001.0        6.7   \n565    English      USA         PG-13  100000000.0     2014.0        6.0   \n627    English      USA             R   65000000.0     1990.0        7.5   \n758    English      USA         PG-13  220000000.0     2012.0        8.1   \n1155   English      USA         PG-13   65000000.0     2014.0        7.2   \n1237   English      USA         PG-13   40000000.0     2015.0        6.0   \n1369   English      USA             R   35000000.0     2001.0        6.8   \n1910   English      USA         PG-13   23000000.0     2004.0        6.1   \n2005   English      USA         PG-13   30000000.0     2004.0        7.0   \n2115   English      USA             R    9000000.0     2007.0        7.4   \n2272  Mandarin    China         PG-13   31000000.0     2002.0        7.9   \n2305   English      USA         PG-13   16000000.0     2006.0        7.6   \n2332   English      USA             R   20000000.0     2016.0        6.7   \n2338   English      USA         PG-13   16000000.0     2014.0        3.1   \n2377   English      USA             R     300000.0     1978.0        7.9   \n2505   English      USA         PG-13   14000000.0     2012.0        5.9   \n2509   English      USA             R   14000000.0     1988.0        7.7   \n2526   English      USA            PG   15000000.0     2002.0        5.4   \n2674   English      USA         PG-13  107000000.0     2004.0        6.0   \n2788   English       UK             R    6000000.0     2000.0        8.3   \n2941   English      USA            PG    8200000.0     1984.0        6.5   \n3012   English  Germany             R    6500000.0     2004.0        7.9   \n3034   English       UK             R   20000000.0     2000.0        6.5   \n3208   English      USA             R    5000000.0     2001.0        6.2   \n3310   English      USA             R   25000000.0     2010.0        4.8   \n3445   English      USA             R   15000000.0     2009.0        4.9   \n3496   English       UK         PG-13   18000000.0     1996.0        7.8   \n3510   English      USA         PG-13   25000000.0     2002.0        5.1   \n3616   English       UK             R    3500000.0     1997.0        7.2   \n3645   English       UK             R   20000000.0     2013.0        7.0   \n3714   English      USA         PG-13   12000000.0     2002.0        3.3   \n\n      movieFacebookLikes  \n133                29000  \n182                65000  \n292                24000  \n377                41000  \n383                14000  \n565                21000  \n627                    0  \n758               123000  \n1155               35000  \n1237               11000  \n1369                   0  \n1910                   0  \n2005                   0  \n2115                   0  \n2272                   0  \n2305               15000  \n2332               18000  \n2338               31000  \n2377               12000  \n2505               17000  \n2509                   0  \n2526                 896  \n2674                 701  \n2788               27000  \n2941                   0  \n3012               18000  \n3034                 141  \n3208                   0  \n3310                   0  \n3445                3000  \n3496                   0  \n3510                 215  \n3616                   0  \n3645               23000  \n3714                   0  \n\n[35 rows x 21 columns]\n"
     ]
    }
   ],
   "source": [
    "# Write your answer here\n",
    "print(movies[movies.duplicated()])"
   ]
  },
  {
   "cell_type": "markdown",
   "metadata": {
    "id": "GcwlBeWsnO-5"
   },
   "source": [
    "**T9) Remove all duplicates**"
   ]
  },
  {
   "source": [
    "# Write your answer here\n",
    "print(len(movies))\n",
    "movies.drop_duplicates(inplace=True)\n",
    "print(len(movies))"
   ],
   "cell_type": "code",
   "metadata": {
    "id": "-PVeSCLVnO-6"
   },
   "execution_count": 30,
   "outputs": [
    {
     "output_type": "stream",
     "name": "stdout",
     "text": [
      "3809\n3774\n"
     ]
    }
   ]
  },
  {
   "cell_type": "markdown",
   "metadata": {
    "id": "zeMho2Y3qWaM"
   },
   "source": [
    "***\n",
    "\n",
    "### Part 3: Analysing the dataset\n"
   ]
  },
  {
   "cell_type": "markdown",
   "metadata": {
    "id": "_HHp6bZmnO-6"
   },
   "source": [
    "**T10)  Get some descriptive statistics for the dataset**"
   ]
  },
  {
   "cell_type": "code",
   "execution_count": 31,
   "metadata": {
    "id": "U0TneeZnnO-6"
   },
   "outputs": [
    {
     "output_type": "execute_result",
     "data": {
      "text/plain": [
       "       numCriticForReviews     duration         gross  numVotedUsers  \\\n",
       "count          3774.000000  3774.000000  3.774000e+03   3.774000e+03   \n",
       "mean            165.626391   110.085056  5.196059e+07   1.043776e+05   \n",
       "std             123.676886    22.652983  6.967338e+07   1.512196e+05   \n",
       "min               2.000000    37.000000  1.620000e+02   4.800000e+01   \n",
       "25%              75.000000    95.000000  7.743569e+06   1.865775e+04   \n",
       "50%             137.000000   106.000000  2.911016e+07   5.290100e+04   \n",
       "75%             223.000000   120.000000  6.648315e+07   1.269035e+05   \n",
       "max             813.000000   330.000000  7.605058e+08   1.689764e+06   \n",
       "\n",
       "       numUserForReviews        budget    titleYear    imdbScore  \\\n",
       "count        3774.000000  3.774000e+03  3774.000000  3774.000000   \n",
       "mean          332.372814  4.576120e+07  2003.015368     6.462666   \n",
       "std           410.023180  2.254778e+08     9.890751     1.054046   \n",
       "min             2.000000  2.180000e+02  1927.000000     1.600000   \n",
       "25%           106.000000  1.000000e+07  1999.000000     5.900000   \n",
       "50%           207.000000  2.500000e+07  2005.000000     6.600000   \n",
       "75%           395.000000  5.000000e+07  2010.000000     7.200000   \n",
       "max          5060.000000  1.221550e+10  2016.000000     9.300000   \n",
       "\n",
       "       movieFacebookLikes  \n",
       "count         3774.000000  \n",
       "mean          9249.777954  \n",
       "std          21459.205923  \n",
       "min              0.000000  \n",
       "25%              0.000000  \n",
       "50%            218.000000  \n",
       "75%          11000.000000  \n",
       "max         349000.000000  "
      ],
      "text/html": "<div>\n<style scoped>\n    .dataframe tbody tr th:only-of-type {\n        vertical-align: middle;\n    }\n\n    .dataframe tbody tr th {\n        vertical-align: top;\n    }\n\n    .dataframe thead th {\n        text-align: right;\n    }\n</style>\n<table border=\"1\" class=\"dataframe\">\n  <thead>\n    <tr style=\"text-align: right;\">\n      <th></th>\n      <th>numCriticForReviews</th>\n      <th>duration</th>\n      <th>gross</th>\n      <th>numVotedUsers</th>\n      <th>numUserForReviews</th>\n      <th>budget</th>\n      <th>titleYear</th>\n      <th>imdbScore</th>\n      <th>movieFacebookLikes</th>\n    </tr>\n  </thead>\n  <tbody>\n    <tr>\n      <th>count</th>\n      <td>3774.000000</td>\n      <td>3774.000000</td>\n      <td>3.774000e+03</td>\n      <td>3.774000e+03</td>\n      <td>3774.000000</td>\n      <td>3.774000e+03</td>\n      <td>3774.000000</td>\n      <td>3774.000000</td>\n      <td>3774.000000</td>\n    </tr>\n    <tr>\n      <th>mean</th>\n      <td>165.626391</td>\n      <td>110.085056</td>\n      <td>5.196059e+07</td>\n      <td>1.043776e+05</td>\n      <td>332.372814</td>\n      <td>4.576120e+07</td>\n      <td>2003.015368</td>\n      <td>6.462666</td>\n      <td>9249.777954</td>\n    </tr>\n    <tr>\n      <th>std</th>\n      <td>123.676886</td>\n      <td>22.652983</td>\n      <td>6.967338e+07</td>\n      <td>1.512196e+05</td>\n      <td>410.023180</td>\n      <td>2.254778e+08</td>\n      <td>9.890751</td>\n      <td>1.054046</td>\n      <td>21459.205923</td>\n    </tr>\n    <tr>\n      <th>min</th>\n      <td>2.000000</td>\n      <td>37.000000</td>\n      <td>1.620000e+02</td>\n      <td>4.800000e+01</td>\n      <td>2.000000</td>\n      <td>2.180000e+02</td>\n      <td>1927.000000</td>\n      <td>1.600000</td>\n      <td>0.000000</td>\n    </tr>\n    <tr>\n      <th>25%</th>\n      <td>75.000000</td>\n      <td>95.000000</td>\n      <td>7.743569e+06</td>\n      <td>1.865775e+04</td>\n      <td>106.000000</td>\n      <td>1.000000e+07</td>\n      <td>1999.000000</td>\n      <td>5.900000</td>\n      <td>0.000000</td>\n    </tr>\n    <tr>\n      <th>50%</th>\n      <td>137.000000</td>\n      <td>106.000000</td>\n      <td>2.911016e+07</td>\n      <td>5.290100e+04</td>\n      <td>207.000000</td>\n      <td>2.500000e+07</td>\n      <td>2005.000000</td>\n      <td>6.600000</td>\n      <td>218.000000</td>\n    </tr>\n    <tr>\n      <th>75%</th>\n      <td>223.000000</td>\n      <td>120.000000</td>\n      <td>6.648315e+07</td>\n      <td>1.269035e+05</td>\n      <td>395.000000</td>\n      <td>5.000000e+07</td>\n      <td>2010.000000</td>\n      <td>7.200000</td>\n      <td>11000.000000</td>\n    </tr>\n    <tr>\n      <th>max</th>\n      <td>813.000000</td>\n      <td>330.000000</td>\n      <td>7.605058e+08</td>\n      <td>1.689764e+06</td>\n      <td>5060.000000</td>\n      <td>1.221550e+10</td>\n      <td>2016.000000</td>\n      <td>9.300000</td>\n      <td>349000.000000</td>\n    </tr>\n  </tbody>\n</table>\n</div>"
     },
     "metadata": {},
     "execution_count": 31
    }
   ],
   "source": [
    "# Write your answer here\n",
    "movies.describe()"
   ]
  },
  {
   "cell_type": "markdown",
   "metadata": {
    "id": "qPhMfIf-nO-7"
   },
   "source": [
    "**T11)  For each movie, print its title, director and three main actors**"
   ]
  },
  {
   "cell_type": "code",
   "execution_count": 32,
   "metadata": {
    "id": "EVWylAsnnO-8"
   },
   "outputs": [
    {
     "output_type": "execute_result",
     "data": {
      "text/plain": [
       "                                     movieTitle       directorName  \\\n",
       "0                                       Avatar       James Cameron   \n",
       "1     Pirates of the Caribbean: At World's End      Gore Verbinski   \n",
       "2                                      Spectre          Sam Mendes   \n",
       "3                        The Dark Knight Rises   Christopher Nolan   \n",
       "4                                  John Carter      Andrew Stanton   \n",
       "...                                         ...                ...   \n",
       "3804                                    Primer       Shane Carruth   \n",
       "3805                                    Cavite    Neill Dela Llana   \n",
       "3806                               El Mariachi    Robert Rodriguez   \n",
       "3807                                 Newlyweds        Edward Burns   \n",
       "3808                         My Date with Drew            Jon Gunn   \n",
       "\n",
       "               actor1              actor2                actor3  \n",
       "0         CCH Pounder    Joel David Moore             Wes Studi  \n",
       "1         Johnny Depp       Orlando Bloom        Jack Davenport  \n",
       "2     Christoph Waltz        Rory Kinnear      Stephanie Sigman  \n",
       "3           Tom Hardy      Christian Bale  Joseph Gordon-Levitt  \n",
       "4        Daryl Sabara     Samantha Morton          Polly Walker  \n",
       "...               ...                 ...                   ...  \n",
       "3804    Shane Carruth      David Sullivan          Casey Gooden  \n",
       "3805      Ian Gamazon     Edgar Tancangco             Quynn Ton  \n",
       "3806  Carlos Gallardo     Peter Marquardt        Consuelo Gómez  \n",
       "3807      Kerry Bishé  Caitlin FitzGerald       Daniella Pineda  \n",
       "3808      John August    Brian Herzlinger              Jon Gunn  \n",
       "\n",
       "[3774 rows x 5 columns]"
      ],
      "text/html": "<div>\n<style scoped>\n    .dataframe tbody tr th:only-of-type {\n        vertical-align: middle;\n    }\n\n    .dataframe tbody tr th {\n        vertical-align: top;\n    }\n\n    .dataframe thead th {\n        text-align: right;\n    }\n</style>\n<table border=\"1\" class=\"dataframe\">\n  <thead>\n    <tr style=\"text-align: right;\">\n      <th></th>\n      <th>movieTitle</th>\n      <th>directorName</th>\n      <th>actor1</th>\n      <th>actor2</th>\n      <th>actor3</th>\n    </tr>\n  </thead>\n  <tbody>\n    <tr>\n      <th>0</th>\n      <td>Avatar</td>\n      <td>James Cameron</td>\n      <td>CCH Pounder</td>\n      <td>Joel David Moore</td>\n      <td>Wes Studi</td>\n    </tr>\n    <tr>\n      <th>1</th>\n      <td>Pirates of the Caribbean: At World's End</td>\n      <td>Gore Verbinski</td>\n      <td>Johnny Depp</td>\n      <td>Orlando Bloom</td>\n      <td>Jack Davenport</td>\n    </tr>\n    <tr>\n      <th>2</th>\n      <td>Spectre</td>\n      <td>Sam Mendes</td>\n      <td>Christoph Waltz</td>\n      <td>Rory Kinnear</td>\n      <td>Stephanie Sigman</td>\n    </tr>\n    <tr>\n      <th>3</th>\n      <td>The Dark Knight Rises</td>\n      <td>Christopher Nolan</td>\n      <td>Tom Hardy</td>\n      <td>Christian Bale</td>\n      <td>Joseph Gordon-Levitt</td>\n    </tr>\n    <tr>\n      <th>4</th>\n      <td>John Carter</td>\n      <td>Andrew Stanton</td>\n      <td>Daryl Sabara</td>\n      <td>Samantha Morton</td>\n      <td>Polly Walker</td>\n    </tr>\n    <tr>\n      <th>...</th>\n      <td>...</td>\n      <td>...</td>\n      <td>...</td>\n      <td>...</td>\n      <td>...</td>\n    </tr>\n    <tr>\n      <th>3804</th>\n      <td>Primer</td>\n      <td>Shane Carruth</td>\n      <td>Shane Carruth</td>\n      <td>David Sullivan</td>\n      <td>Casey Gooden</td>\n    </tr>\n    <tr>\n      <th>3805</th>\n      <td>Cavite</td>\n      <td>Neill Dela Llana</td>\n      <td>Ian Gamazon</td>\n      <td>Edgar Tancangco</td>\n      <td>Quynn Ton</td>\n    </tr>\n    <tr>\n      <th>3806</th>\n      <td>El Mariachi</td>\n      <td>Robert Rodriguez</td>\n      <td>Carlos Gallardo</td>\n      <td>Peter Marquardt</td>\n      <td>Consuelo Gómez</td>\n    </tr>\n    <tr>\n      <th>3807</th>\n      <td>Newlyweds</td>\n      <td>Edward Burns</td>\n      <td>Kerry Bishé</td>\n      <td>Caitlin FitzGerald</td>\n      <td>Daniella Pineda</td>\n    </tr>\n    <tr>\n      <th>3808</th>\n      <td>My Date with Drew</td>\n      <td>Jon Gunn</td>\n      <td>John August</td>\n      <td>Brian Herzlinger</td>\n      <td>Jon Gunn</td>\n    </tr>\n  </tbody>\n</table>\n<p>3774 rows × 5 columns</p>\n</div>"
     },
     "metadata": {},
     "execution_count": 32
    }
   ],
   "source": [
    "# Write your answer here\n",
    "movies[[\"movieTitle\", \"directorName\", \"actor1\", \"actor2\", \"actor3\"]]"
   ]
  },
  {
   "cell_type": "markdown",
   "metadata": {
    "id": "YC_TvAiCnO-8"
   },
   "source": [
    "**T12)  Find the movies with the shortest and longest duration, respectively. What are your observations?**"
   ]
  },
  {
   "cell_type": "code",
   "execution_count": 33,
   "metadata": {
    "id": "gSzn_djHnO-9"
   },
   "outputs": [
    {
     "output_type": "execute_result",
     "data": {
      "text/plain": [
       "      color     directorName  numCriticForReviews  duration         actor2  \\\n",
       "1416  Color  Taylor Hackford                 12.0     330.0  Jesse Borrego   \n",
       "3359  Color        Sam Raimi                252.0      37.0      Dan Hicks   \n",
       "\n",
       "          gross                          genres        actor1  \\\n",
       "1416  4496583.0                     Crime|Drama  Delroy Lindo   \n",
       "3359  5923044.0  Comedy|Fantasy|Horror|Thriller     Ted Raimi   \n",
       "\n",
       "                movieTitle  numVotedUsers  ...  \\\n",
       "1416  Blood In, Blood Out           23181  ...   \n",
       "3359         Evil Dead II          113451  ...   \n",
       "\n",
       "                                        plotKeywords  \\\n",
       "1416             1970s|1980s|barrio|gang war|mexican   \n",
       "3359  cabin|cabin in the woods|demon|evil dead|woods   \n",
       "\n",
       "                                               imdbLink numUserForReviews  \\\n",
       "1416  http://www.imdb.com/title/tt0106469/?ref_=fn_t...             129.0   \n",
       "3359  http://www.imdb.com/title/tt0092991/?ref_=fn_t...             537.0   \n",
       "\n",
       "      language country contentRating      budget  titleYear  imdbScore  \\\n",
       "1416   English     USA             R  35000000.0     1993.0        8.0   \n",
       "3359   English     USA             X   3600000.0     1987.0        7.8   \n",
       "\n",
       "      movieFacebookLikes  \n",
       "1416                6000  \n",
       "3359                   0  \n",
       "\n",
       "[2 rows x 21 columns]"
      ],
      "text/html": "<div>\n<style scoped>\n    .dataframe tbody tr th:only-of-type {\n        vertical-align: middle;\n    }\n\n    .dataframe tbody tr th {\n        vertical-align: top;\n    }\n\n    .dataframe thead th {\n        text-align: right;\n    }\n</style>\n<table border=\"1\" class=\"dataframe\">\n  <thead>\n    <tr style=\"text-align: right;\">\n      <th></th>\n      <th>color</th>\n      <th>directorName</th>\n      <th>numCriticForReviews</th>\n      <th>duration</th>\n      <th>actor2</th>\n      <th>gross</th>\n      <th>genres</th>\n      <th>actor1</th>\n      <th>movieTitle</th>\n      <th>numVotedUsers</th>\n      <th>...</th>\n      <th>plotKeywords</th>\n      <th>imdbLink</th>\n      <th>numUserForReviews</th>\n      <th>language</th>\n      <th>country</th>\n      <th>contentRating</th>\n      <th>budget</th>\n      <th>titleYear</th>\n      <th>imdbScore</th>\n      <th>movieFacebookLikes</th>\n    </tr>\n  </thead>\n  <tbody>\n    <tr>\n      <th>1416</th>\n      <td>Color</td>\n      <td>Taylor Hackford</td>\n      <td>12.0</td>\n      <td>330.0</td>\n      <td>Jesse Borrego</td>\n      <td>4496583.0</td>\n      <td>Crime|Drama</td>\n      <td>Delroy Lindo</td>\n      <td>Blood In, Blood Out</td>\n      <td>23181</td>\n      <td>...</td>\n      <td>1970s|1980s|barrio|gang war|mexican</td>\n      <td>http://www.imdb.com/title/tt0106469/?ref_=fn_t...</td>\n      <td>129.0</td>\n      <td>English</td>\n      <td>USA</td>\n      <td>R</td>\n      <td>35000000.0</td>\n      <td>1993.0</td>\n      <td>8.0</td>\n      <td>6000</td>\n    </tr>\n    <tr>\n      <th>3359</th>\n      <td>Color</td>\n      <td>Sam Raimi</td>\n      <td>252.0</td>\n      <td>37.0</td>\n      <td>Dan Hicks</td>\n      <td>5923044.0</td>\n      <td>Comedy|Fantasy|Horror|Thriller</td>\n      <td>Ted Raimi</td>\n      <td>Evil Dead II</td>\n      <td>113451</td>\n      <td>...</td>\n      <td>cabin|cabin in the woods|demon|evil dead|woods</td>\n      <td>http://www.imdb.com/title/tt0092991/?ref_=fn_t...</td>\n      <td>537.0</td>\n      <td>English</td>\n      <td>USA</td>\n      <td>X</td>\n      <td>3600000.0</td>\n      <td>1987.0</td>\n      <td>7.8</td>\n      <td>0</td>\n    </tr>\n  </tbody>\n</table>\n<p>2 rows × 21 columns</p>\n</div>"
     },
     "metadata": {},
     "execution_count": 33
    }
   ],
   "source": [
    "# Write your answer here\n",
    "movies[(movies['duration']==movies['duration'].max()) | (movies['duration']==movies['duration'].min())]"
   ]
  },
  {
   "cell_type": "markdown",
   "metadata": {
    "id": "vB_ec9s_nO--"
   },
   "source": [
    "**T13)  Find the countries in which at least one movie has been recorded**"
   ]
  },
  {
   "cell_type": "code",
   "execution_count": 34,
   "metadata": {
    "id": "UjTd5TuBnO--"
   },
   "outputs": [
    {
     "output_type": "execute_result",
     "data": {
      "text/plain": [
       "array(['USA', 'UK', 'New Zealand', 'Canada', 'Australia', 'Germany',\n",
       "       'China', 'New Line', 'France', 'Japan', 'Spain', 'Hong Kong',\n",
       "       'Czech Republic', 'Peru', 'South Korea', 'Aruba', 'Denmark',\n",
       "       'Ireland', 'South Africa', 'Italy', 'Romania', 'Chile',\n",
       "       'Netherlands', 'Hungary', 'Russia', 'Belgium', 'Greece', 'Taiwan',\n",
       "       'Official site', 'Thailand', 'Iran', 'West Germany', 'Georgia',\n",
       "       'India', 'Mexico', 'Brazil', 'Finland', 'Norway', 'Iceland',\n",
       "       'Argentina', 'Colombia', 'Poland', 'Israel', 'Indonesia',\n",
       "       'Afghanistan', 'Philippines'], dtype=object)"
      ]
     },
     "metadata": {},
     "execution_count": 34
    }
   ],
   "source": [
    "# Write your answer here\n",
    "movies['country'].unique()"
   ]
  },
  {
   "cell_type": "markdown",
   "metadata": {
    "id": "0Dgs327KnO--"
   },
   "source": [
    "**T14)  Get the movies with score above 8.3 and duration less than 2h**"
   ]
  },
  {
   "cell_type": "code",
   "execution_count": 35,
   "metadata": {
    "id": "UZN2YZgunO-_"
   },
   "outputs": [
    {
     "output_type": "execute_result",
     "data": {
      "text/plain": [
       "                 color           directorName  numCriticForReviews  duration  \\\n",
       "56               Color         Andrew Stanton                421.0      98.0   \n",
       "487              Color           Roger Allers                186.0      73.0   \n",
       "1988             Color       Steven Spielberg                234.0     115.0   \n",
       "2069   Black and White       Alfred Hitchcock                290.0     108.0   \n",
       "2167             Color        Robert Zemeckis                198.0     116.0   \n",
       "2837   Black and White              Tony Kaye                162.0     101.0   \n",
       "2900             Color           Ridley Scott                392.0     116.0   \n",
       "3116             Color           Bryan Singer                162.0     106.0   \n",
       "3198   Black and White      Christopher Nolan                274.0     113.0   \n",
       "3274             Color       Darren Aronofsky                234.0     102.0   \n",
       "3323             Color             Ron Fricke                115.0     102.0   \n",
       "3370             Color        Damien Chazelle                535.0     107.0   \n",
       "3555   Black and White        Charles Chaplin                120.0      87.0   \n",
       "3584             Color      Quentin Tarantino                173.0      99.0   \n",
       "3705             Color  Marius A. Markevicius                 26.0      89.0   \n",
       "3770             Color           Majid Majidi                 46.0      89.0   \n",
       "\n",
       "                            actor2        gross  \\\n",
       "56                    Fred Willard  223806889.0   \n",
       "487                    Nathan Lane  422783777.0   \n",
       "1988                   Karen Allen  242374454.0   \n",
       "2069                    Vera Miles   32000000.0   \n",
       "2167              Thomas F. Wilson  210609762.0   \n",
       "2837              Beverly D'Angelo    6712241.0   \n",
       "2900                  Yaphet Kotto   78900000.0   \n",
       "3116              Chazz Palminteri   23272306.0   \n",
       "3198                 Thomas Lennon   25530884.0   \n",
       "3274                 Mark Margolis    3609278.0   \n",
       "3323  Balinese Tari Legong Dancers    2601847.0   \n",
       "3370               Melissa Benoist   13092000.0   \n",
       "3555              Stanley Blystone     163245.0   \n",
       "3584                 Steve Buscemi    2812029.0   \n",
       "3705                   Greg Speirs     133778.0   \n",
       "3770        Amir Farrokh Hashemian     925402.0   \n",
       "\n",
       "                                        genres                  actor1  \\\n",
       "56           Adventure|Animation|Family|Sci-Fi       John Ratzenberger   \n",
       "487   Adventure|Animation|Drama|Family|Musical       Matthew Broderick   \n",
       "1988                          Action|Adventure           Harrison Ford   \n",
       "2069                   Horror|Mystery|Thriller             Janet Leigh   \n",
       "2167                   Adventure|Comedy|Sci-Fi            Lea Thompson   \n",
       "2837                               Crime|Drama            Ethan Suplee   \n",
       "2900                             Horror|Sci-Fi            Tom Skerritt   \n",
       "3116              Crime|Drama|Mystery|Thriller            Kevin Spacey   \n",
       "3198                          Mystery|Thriller           Callum Rennie   \n",
       "3274                                     Drama           Ellen Burstyn   \n",
       "3323                         Documentary|Music  Collin Alfredo St. Dic   \n",
       "3370                               Drama|Music            J.K. Simmons   \n",
       "3555                       Comedy|Drama|Family        Paulette Goddard   \n",
       "3584                      Crime|Drama|Thriller       Quentin Tarantino   \n",
       "3705                         Documentary|Sport          Tommy Sheppard   \n",
       "3770                              Drama|Family          Bahare Seddiqi   \n",
       "\n",
       "                    movieTitle  numVotedUsers  ...  \\\n",
       "56                     WALL·E          718837  ...   \n",
       "487             The Lion King          644348  ...   \n",
       "1988  Raiders of the Lost Ark          661017  ...   \n",
       "2069                   Psycho          422432  ...   \n",
       "2167       Back to the Future          732212  ...   \n",
       "2837       American History X          782437  ...   \n",
       "2900                    Alien          563827  ...   \n",
       "3116       The Usual Suspects          740918  ...   \n",
       "3198                  Memento          845580  ...   \n",
       "3274      Requiem for a Dream          573541  ...   \n",
       "3323                  Samsara           22457  ...   \n",
       "3370                 Whiplash          399138  ...   \n",
       "3555             Modern Times          143086  ...   \n",
       "3584           Reservoir Dogs          664719  ...   \n",
       "3705     The Other Dream Team            3086  ...   \n",
       "3770       Children of Heaven           27882  ...   \n",
       "\n",
       "                                           plotKeywords  \\\n",
       "56                       earth|obesity|plant|robot|soil   \n",
       "487            king|prince|scar|uncle|unnecessary guilt   \n",
       "1988  archeological dig|archeologist|ark of the cove...   \n",
       "2069                      money|motel|rain|shower|theft   \n",
       "2167  clock tower|delorean|future|time travel|time t...   \n",
       "2837  curb stomping|neo nazi|prison|son dislikes mot...   \n",
       "2900        alien|creature|future|outer space|spaceship   \n",
       "3116       criminal|dirty cop|flashback|limping|suspect   \n",
       "3198  flashback|memory|murder|short term memory|tele...   \n",
       "3274  addiction|diet pill|drug addiction|fast motion...   \n",
       "3323  hall of mirrors|mont saint michel france|palac...   \n",
       "3370  conservatory|drummer|emotional abuse|music sch...   \n",
       "3555  actor director writer|invention|machine|music ...   \n",
       "3584  gang|heist|heist gone wrong|nonlinear timeline...   \n",
       "3705  basketball|basketball team|grateful dead|lithu...   \n",
       "3770                   class|gardening|race|school|shoe   \n",
       "\n",
       "                                               imdbLink numUserForReviews  \\\n",
       "56    http://www.imdb.com/title/tt0910970/?ref_=fn_t...            1043.0   \n",
       "487   http://www.imdb.com/title/tt0110357/?ref_=fn_t...             656.0   \n",
       "1988  http://www.imdb.com/title/tt0082971/?ref_=fn_t...             771.0   \n",
       "2069  http://www.imdb.com/title/tt0054215/?ref_=fn_t...            1040.0   \n",
       "2167  http://www.imdb.com/title/tt0088763/?ref_=fn_t...             809.0   \n",
       "2837  http://www.imdb.com/title/tt0120586/?ref_=fn_t...            1420.0   \n",
       "2900  http://www.imdb.com/title/tt0078748/?ref_=fn_t...            1110.0   \n",
       "3116  http://www.imdb.com/title/tt0114814/?ref_=fn_t...            1182.0   \n",
       "3198  http://www.imdb.com/title/tt0209144/?ref_=fn_t...            2067.0   \n",
       "3274  http://www.imdb.com/title/tt0180093/?ref_=fn_t...            1916.0   \n",
       "3323  http://www.imdb.com/title/tt0770802/?ref_=fn_t...              69.0   \n",
       "3370  http://www.imdb.com/title/tt2582802/?ref_=fn_t...             731.0   \n",
       "3555  http://www.imdb.com/title/tt0027977/?ref_=fn_t...             211.0   \n",
       "3584  http://www.imdb.com/title/tt0105236/?ref_=fn_t...             931.0   \n",
       "3705  http://www.imdb.com/title/tt1606829/?ref_=fn_t...               9.0   \n",
       "3770  http://www.imdb.com/title/tt0118849/?ref_=fn_t...             130.0   \n",
       "\n",
       "      language country contentRating       budget  titleYear  imdbScore  \\\n",
       "56     English     USA             G  180000000.0     2008.0        8.4   \n",
       "487    English     USA             G   45000000.0     1994.0        8.5   \n",
       "1988   English     USA            PG   18000000.0     1981.0        8.5   \n",
       "2069   English     USA             R     806947.0     1960.0        8.5   \n",
       "2167   English     USA            PG   19000000.0     1985.0        8.5   \n",
       "2837   English     USA             R    7500000.0     1998.0        8.6   \n",
       "2900   English      UK             R   11000000.0     1979.0        8.5   \n",
       "3116   English     USA             R    6000000.0     1995.0        8.6   \n",
       "3198   English     USA             R    9000000.0     2000.0        8.5   \n",
       "3274   English     USA             R    4500000.0     2000.0        8.4   \n",
       "3323      None     USA         PG-13    4000000.0     2011.0        8.5   \n",
       "3370   English     USA             R    3300000.0     2014.0        8.5   \n",
       "3555   English     USA             G    1500000.0     1936.0        8.6   \n",
       "3584   English     USA             R    1200000.0     1992.0        8.4   \n",
       "3705   English     USA     Not Rated     500000.0     2012.0        8.4   \n",
       "3770   Persian    Iran            PG     180000.0     1997.0        8.5   \n",
       "\n",
       "      movieFacebookLikes  \n",
       "56                 16000  \n",
       "487                17000  \n",
       "1988               16000  \n",
       "2069               18000  \n",
       "2167               39000  \n",
       "2837               35000  \n",
       "2900               23000  \n",
       "3116               28000  \n",
       "3198               40000  \n",
       "3274               38000  \n",
       "3323               26000  \n",
       "3370              129000  \n",
       "3555                   0  \n",
       "3584               19000  \n",
       "3705                   0  \n",
       "3770                   0  \n",
       "\n",
       "[16 rows x 21 columns]"
      ],
      "text/html": "<div>\n<style scoped>\n    .dataframe tbody tr th:only-of-type {\n        vertical-align: middle;\n    }\n\n    .dataframe tbody tr th {\n        vertical-align: top;\n    }\n\n    .dataframe thead th {\n        text-align: right;\n    }\n</style>\n<table border=\"1\" class=\"dataframe\">\n  <thead>\n    <tr style=\"text-align: right;\">\n      <th></th>\n      <th>color</th>\n      <th>directorName</th>\n      <th>numCriticForReviews</th>\n      <th>duration</th>\n      <th>actor2</th>\n      <th>gross</th>\n      <th>genres</th>\n      <th>actor1</th>\n      <th>movieTitle</th>\n      <th>numVotedUsers</th>\n      <th>...</th>\n      <th>plotKeywords</th>\n      <th>imdbLink</th>\n      <th>numUserForReviews</th>\n      <th>language</th>\n      <th>country</th>\n      <th>contentRating</th>\n      <th>budget</th>\n      <th>titleYear</th>\n      <th>imdbScore</th>\n      <th>movieFacebookLikes</th>\n    </tr>\n  </thead>\n  <tbody>\n    <tr>\n      <th>56</th>\n      <td>Color</td>\n      <td>Andrew Stanton</td>\n      <td>421.0</td>\n      <td>98.0</td>\n      <td>Fred Willard</td>\n      <td>223806889.0</td>\n      <td>Adventure|Animation|Family|Sci-Fi</td>\n      <td>John Ratzenberger</td>\n      <td>WALL·E</td>\n      <td>718837</td>\n      <td>...</td>\n      <td>earth|obesity|plant|robot|soil</td>\n      <td>http://www.imdb.com/title/tt0910970/?ref_=fn_t...</td>\n      <td>1043.0</td>\n      <td>English</td>\n      <td>USA</td>\n      <td>G</td>\n      <td>180000000.0</td>\n      <td>2008.0</td>\n      <td>8.4</td>\n      <td>16000</td>\n    </tr>\n    <tr>\n      <th>487</th>\n      <td>Color</td>\n      <td>Roger Allers</td>\n      <td>186.0</td>\n      <td>73.0</td>\n      <td>Nathan Lane</td>\n      <td>422783777.0</td>\n      <td>Adventure|Animation|Drama|Family|Musical</td>\n      <td>Matthew Broderick</td>\n      <td>The Lion King</td>\n      <td>644348</td>\n      <td>...</td>\n      <td>king|prince|scar|uncle|unnecessary guilt</td>\n      <td>http://www.imdb.com/title/tt0110357/?ref_=fn_t...</td>\n      <td>656.0</td>\n      <td>English</td>\n      <td>USA</td>\n      <td>G</td>\n      <td>45000000.0</td>\n      <td>1994.0</td>\n      <td>8.5</td>\n      <td>17000</td>\n    </tr>\n    <tr>\n      <th>1988</th>\n      <td>Color</td>\n      <td>Steven Spielberg</td>\n      <td>234.0</td>\n      <td>115.0</td>\n      <td>Karen Allen</td>\n      <td>242374454.0</td>\n      <td>Action|Adventure</td>\n      <td>Harrison Ford</td>\n      <td>Raiders of the Lost Ark</td>\n      <td>661017</td>\n      <td>...</td>\n      <td>archeological dig|archeologist|ark of the cove...</td>\n      <td>http://www.imdb.com/title/tt0082971/?ref_=fn_t...</td>\n      <td>771.0</td>\n      <td>English</td>\n      <td>USA</td>\n      <td>PG</td>\n      <td>18000000.0</td>\n      <td>1981.0</td>\n      <td>8.5</td>\n      <td>16000</td>\n    </tr>\n    <tr>\n      <th>2069</th>\n      <td>Black and White</td>\n      <td>Alfred Hitchcock</td>\n      <td>290.0</td>\n      <td>108.0</td>\n      <td>Vera Miles</td>\n      <td>32000000.0</td>\n      <td>Horror|Mystery|Thriller</td>\n      <td>Janet Leigh</td>\n      <td>Psycho</td>\n      <td>422432</td>\n      <td>...</td>\n      <td>money|motel|rain|shower|theft</td>\n      <td>http://www.imdb.com/title/tt0054215/?ref_=fn_t...</td>\n      <td>1040.0</td>\n      <td>English</td>\n      <td>USA</td>\n      <td>R</td>\n      <td>806947.0</td>\n      <td>1960.0</td>\n      <td>8.5</td>\n      <td>18000</td>\n    </tr>\n    <tr>\n      <th>2167</th>\n      <td>Color</td>\n      <td>Robert Zemeckis</td>\n      <td>198.0</td>\n      <td>116.0</td>\n      <td>Thomas F. Wilson</td>\n      <td>210609762.0</td>\n      <td>Adventure|Comedy|Sci-Fi</td>\n      <td>Lea Thompson</td>\n      <td>Back to the Future</td>\n      <td>732212</td>\n      <td>...</td>\n      <td>clock tower|delorean|future|time travel|time t...</td>\n      <td>http://www.imdb.com/title/tt0088763/?ref_=fn_t...</td>\n      <td>809.0</td>\n      <td>English</td>\n      <td>USA</td>\n      <td>PG</td>\n      <td>19000000.0</td>\n      <td>1985.0</td>\n      <td>8.5</td>\n      <td>39000</td>\n    </tr>\n    <tr>\n      <th>2837</th>\n      <td>Black and White</td>\n      <td>Tony Kaye</td>\n      <td>162.0</td>\n      <td>101.0</td>\n      <td>Beverly D'Angelo</td>\n      <td>6712241.0</td>\n      <td>Crime|Drama</td>\n      <td>Ethan Suplee</td>\n      <td>American History X</td>\n      <td>782437</td>\n      <td>...</td>\n      <td>curb stomping|neo nazi|prison|son dislikes mot...</td>\n      <td>http://www.imdb.com/title/tt0120586/?ref_=fn_t...</td>\n      <td>1420.0</td>\n      <td>English</td>\n      <td>USA</td>\n      <td>R</td>\n      <td>7500000.0</td>\n      <td>1998.0</td>\n      <td>8.6</td>\n      <td>35000</td>\n    </tr>\n    <tr>\n      <th>2900</th>\n      <td>Color</td>\n      <td>Ridley Scott</td>\n      <td>392.0</td>\n      <td>116.0</td>\n      <td>Yaphet Kotto</td>\n      <td>78900000.0</td>\n      <td>Horror|Sci-Fi</td>\n      <td>Tom Skerritt</td>\n      <td>Alien</td>\n      <td>563827</td>\n      <td>...</td>\n      <td>alien|creature|future|outer space|spaceship</td>\n      <td>http://www.imdb.com/title/tt0078748/?ref_=fn_t...</td>\n      <td>1110.0</td>\n      <td>English</td>\n      <td>UK</td>\n      <td>R</td>\n      <td>11000000.0</td>\n      <td>1979.0</td>\n      <td>8.5</td>\n      <td>23000</td>\n    </tr>\n    <tr>\n      <th>3116</th>\n      <td>Color</td>\n      <td>Bryan Singer</td>\n      <td>162.0</td>\n      <td>106.0</td>\n      <td>Chazz Palminteri</td>\n      <td>23272306.0</td>\n      <td>Crime|Drama|Mystery|Thriller</td>\n      <td>Kevin Spacey</td>\n      <td>The Usual Suspects</td>\n      <td>740918</td>\n      <td>...</td>\n      <td>criminal|dirty cop|flashback|limping|suspect</td>\n      <td>http://www.imdb.com/title/tt0114814/?ref_=fn_t...</td>\n      <td>1182.0</td>\n      <td>English</td>\n      <td>USA</td>\n      <td>R</td>\n      <td>6000000.0</td>\n      <td>1995.0</td>\n      <td>8.6</td>\n      <td>28000</td>\n    </tr>\n    <tr>\n      <th>3198</th>\n      <td>Black and White</td>\n      <td>Christopher Nolan</td>\n      <td>274.0</td>\n      <td>113.0</td>\n      <td>Thomas Lennon</td>\n      <td>25530884.0</td>\n      <td>Mystery|Thriller</td>\n      <td>Callum Rennie</td>\n      <td>Memento</td>\n      <td>845580</td>\n      <td>...</td>\n      <td>flashback|memory|murder|short term memory|tele...</td>\n      <td>http://www.imdb.com/title/tt0209144/?ref_=fn_t...</td>\n      <td>2067.0</td>\n      <td>English</td>\n      <td>USA</td>\n      <td>R</td>\n      <td>9000000.0</td>\n      <td>2000.0</td>\n      <td>8.5</td>\n      <td>40000</td>\n    </tr>\n    <tr>\n      <th>3274</th>\n      <td>Color</td>\n      <td>Darren Aronofsky</td>\n      <td>234.0</td>\n      <td>102.0</td>\n      <td>Mark Margolis</td>\n      <td>3609278.0</td>\n      <td>Drama</td>\n      <td>Ellen Burstyn</td>\n      <td>Requiem for a Dream</td>\n      <td>573541</td>\n      <td>...</td>\n      <td>addiction|diet pill|drug addiction|fast motion...</td>\n      <td>http://www.imdb.com/title/tt0180093/?ref_=fn_t...</td>\n      <td>1916.0</td>\n      <td>English</td>\n      <td>USA</td>\n      <td>R</td>\n      <td>4500000.0</td>\n      <td>2000.0</td>\n      <td>8.4</td>\n      <td>38000</td>\n    </tr>\n    <tr>\n      <th>3323</th>\n      <td>Color</td>\n      <td>Ron Fricke</td>\n      <td>115.0</td>\n      <td>102.0</td>\n      <td>Balinese Tari Legong Dancers</td>\n      <td>2601847.0</td>\n      <td>Documentary|Music</td>\n      <td>Collin Alfredo St. Dic</td>\n      <td>Samsara</td>\n      <td>22457</td>\n      <td>...</td>\n      <td>hall of mirrors|mont saint michel france|palac...</td>\n      <td>http://www.imdb.com/title/tt0770802/?ref_=fn_t...</td>\n      <td>69.0</td>\n      <td>None</td>\n      <td>USA</td>\n      <td>PG-13</td>\n      <td>4000000.0</td>\n      <td>2011.0</td>\n      <td>8.5</td>\n      <td>26000</td>\n    </tr>\n    <tr>\n      <th>3370</th>\n      <td>Color</td>\n      <td>Damien Chazelle</td>\n      <td>535.0</td>\n      <td>107.0</td>\n      <td>Melissa Benoist</td>\n      <td>13092000.0</td>\n      <td>Drama|Music</td>\n      <td>J.K. Simmons</td>\n      <td>Whiplash</td>\n      <td>399138</td>\n      <td>...</td>\n      <td>conservatory|drummer|emotional abuse|music sch...</td>\n      <td>http://www.imdb.com/title/tt2582802/?ref_=fn_t...</td>\n      <td>731.0</td>\n      <td>English</td>\n      <td>USA</td>\n      <td>R</td>\n      <td>3300000.0</td>\n      <td>2014.0</td>\n      <td>8.5</td>\n      <td>129000</td>\n    </tr>\n    <tr>\n      <th>3555</th>\n      <td>Black and White</td>\n      <td>Charles Chaplin</td>\n      <td>120.0</td>\n      <td>87.0</td>\n      <td>Stanley Blystone</td>\n      <td>163245.0</td>\n      <td>Comedy|Drama|Family</td>\n      <td>Paulette Goddard</td>\n      <td>Modern Times</td>\n      <td>143086</td>\n      <td>...</td>\n      <td>actor director writer|invention|machine|music ...</td>\n      <td>http://www.imdb.com/title/tt0027977/?ref_=fn_t...</td>\n      <td>211.0</td>\n      <td>English</td>\n      <td>USA</td>\n      <td>G</td>\n      <td>1500000.0</td>\n      <td>1936.0</td>\n      <td>8.6</td>\n      <td>0</td>\n    </tr>\n    <tr>\n      <th>3584</th>\n      <td>Color</td>\n      <td>Quentin Tarantino</td>\n      <td>173.0</td>\n      <td>99.0</td>\n      <td>Steve Buscemi</td>\n      <td>2812029.0</td>\n      <td>Crime|Drama|Thriller</td>\n      <td>Quentin Tarantino</td>\n      <td>Reservoir Dogs</td>\n      <td>664719</td>\n      <td>...</td>\n      <td>gang|heist|heist gone wrong|nonlinear timeline...</td>\n      <td>http://www.imdb.com/title/tt0105236/?ref_=fn_t...</td>\n      <td>931.0</td>\n      <td>English</td>\n      <td>USA</td>\n      <td>R</td>\n      <td>1200000.0</td>\n      <td>1992.0</td>\n      <td>8.4</td>\n      <td>19000</td>\n    </tr>\n    <tr>\n      <th>3705</th>\n      <td>Color</td>\n      <td>Marius A. Markevicius</td>\n      <td>26.0</td>\n      <td>89.0</td>\n      <td>Greg Speirs</td>\n      <td>133778.0</td>\n      <td>Documentary|Sport</td>\n      <td>Tommy Sheppard</td>\n      <td>The Other Dream Team</td>\n      <td>3086</td>\n      <td>...</td>\n      <td>basketball|basketball team|grateful dead|lithu...</td>\n      <td>http://www.imdb.com/title/tt1606829/?ref_=fn_t...</td>\n      <td>9.0</td>\n      <td>English</td>\n      <td>USA</td>\n      <td>Not Rated</td>\n      <td>500000.0</td>\n      <td>2012.0</td>\n      <td>8.4</td>\n      <td>0</td>\n    </tr>\n    <tr>\n      <th>3770</th>\n      <td>Color</td>\n      <td>Majid Majidi</td>\n      <td>46.0</td>\n      <td>89.0</td>\n      <td>Amir Farrokh Hashemian</td>\n      <td>925402.0</td>\n      <td>Drama|Family</td>\n      <td>Bahare Seddiqi</td>\n      <td>Children of Heaven</td>\n      <td>27882</td>\n      <td>...</td>\n      <td>class|gardening|race|school|shoe</td>\n      <td>http://www.imdb.com/title/tt0118849/?ref_=fn_t...</td>\n      <td>130.0</td>\n      <td>Persian</td>\n      <td>Iran</td>\n      <td>PG</td>\n      <td>180000.0</td>\n      <td>1997.0</td>\n      <td>8.5</td>\n      <td>0</td>\n    </tr>\n  </tbody>\n</table>\n<p>16 rows × 21 columns</p>\n</div>"
     },
     "metadata": {},
     "execution_count": 35
    }
   ],
   "source": [
    "# Write your answer here\n",
    "movies[(movies['duration']<120) & (movies['imdbScore']>8.3)]"
   ]
  },
  {
   "cell_type": "markdown",
   "metadata": {
    "id": "Vtc8zGFRnO-_"
   },
   "source": [
    "**T15)  Find the movies directed by Ridley Scott**\n",
    "\n",
    "Hint: Slicing may be easier for this task; querying is also doable but slightly more difficult"
   ]
  },
  {
   "cell_type": "code",
   "execution_count": 36,
   "metadata": {
    "id": "ovquuFftnO_B"
   },
   "outputs": [
    {
     "output_type": "execute_result",
     "data": {
      "text/plain": [
       "      color  directorName  numCriticForReviews  duration           actor2  \\\n",
       "21    Color  Ridley Scott                343.0     156.0     William Hurt   \n",
       "155   Color  Ridley Scott                314.0     150.0   María Valverde   \n",
       "219   Color  Ridley Scott                775.0     124.0  Charlize Theron   \n",
       "265   Color  Ridley Scott                239.0     194.0    Orlando Bloom   \n",
       "268   Color  Ridley Scott                568.0     151.0    Donald Glover   \n",
       "272   Color  Ridley Scott                265.0     171.0   Connie Nielsen   \n",
       "279   Color  Ridley Scott                300.0     176.0         Ruby Dee   \n",
       "319   Color  Ridley Scott                200.0     152.0      Sam Shepard   \n",
       "614   Color  Ridley Scott                238.0     128.0   Simon McBurney   \n",
       "926   Color  Ridley Scott                 97.0     125.0       Demi Moore   \n",
       "1283  Color  Ridley Scott                 37.0     129.0    Jason Marsden   \n",
       "1414  Color  Ridley Scott                147.0     117.0    Albert Finney   \n",
       "1542  Color  Ridley Scott                 63.0     125.0     Ken Takakura   \n",
       "1658  Color  Ridley Scott                302.0     117.0       Sean Young   \n",
       "1862  Color  Ridley Scott                336.0     138.0        Brad Pitt   \n",
       "2900  Color  Ridley Scott                392.0     116.0     Yaphet Kotto   \n",
       "3295  Color  Ridley Scott                314.0     150.0   María Valverde   \n",
       "\n",
       "            gross                              genres              actor1  \\\n",
       "21    105219735.0      Action|Adventure|Drama|History           Mark Addy   \n",
       "155    65007045.0              Action|Adventure|Drama      Christian Bale   \n",
       "219   126464904.0            Adventure|Mystery|Sci-Fi  Michael Fassbender   \n",
       "265    47396698.0  Action|Adventure|Drama|History|War         Liam Neeson   \n",
       "268   228430993.0              Adventure|Drama|Sci-Fi          Matt Damon   \n",
       "272   187670866.0                Action|Drama|Romance      Djimon Hounsou   \n",
       "279   130127620.0               Biography|Crime|Drama   Denzel Washington   \n",
       "319   108638745.0                   Drama|History|War       Ioan Gruffudd   \n",
       "614    39380442.0               Action|Drama|Thriller   Leonardo DiCaprio   \n",
       "926    48154732.0                    Action|Drama|War     Viggo Mortensen   \n",
       "1283   10300000.0                     Adventure|Drama        Jeff Bridges   \n",
       "1414    7458269.0                Comedy|Drama|Romance      Archie Panjabi   \n",
       "1542   45645204.0               Action|Crime|Thriller        Stephen Root   \n",
       "1658   27000000.0                     Sci-Fi|Thriller       Harrison Ford   \n",
       "1862   16969390.0                Crime|Drama|Thriller  Michael Fassbender   \n",
       "2900   78900000.0                       Horror|Sci-Fi        Tom Skerritt   \n",
       "3295   65007045.0              Action|Adventure|Drama      Christian Bale   \n",
       "\n",
       "                   movieTitle  numVotedUsers  ...  \\\n",
       "21                Robin Hood          211765  ...   \n",
       "155   Exodus: Gods and Kings          128682  ...   \n",
       "219               Prometheus          456260  ...   \n",
       "265        Kingdom of Heaven          217373  ...   \n",
       "268              The Martian          472488  ...   \n",
       "272                Gladiator          982637  ...   \n",
       "279        American Gangster          324671  ...   \n",
       "319          Black Hawk Down          292022  ...   \n",
       "614             Body of Lies          174248  ...   \n",
       "926                G.I. Jane           60326  ...   \n",
       "1283            White Squall           17859  ...   \n",
       "1414             A Good Year           70698  ...   \n",
       "1542              Black Rain           39306  ...   \n",
       "1658            Blade Runner          461609  ...   \n",
       "1862           The Counselor           80861  ...   \n",
       "2900                   Alien          563827  ...   \n",
       "3295  Exodus: Gods and Kings          128694  ...   \n",
       "\n",
       "                                           plotKeywords  \\\n",
       "21      1190s|archer|england|king of england|robin hood   \n",
       "155                   egypt|exodus|moses|pharaoh|plague   \n",
       "219   cave painting|medical scanner|planet|pregnant ...   \n",
       "265   12th century|crusader|jerusalem|knight|medieva...   \n",
       "268   astronaut|international cooperation|left for d...   \n",
       "272     battlefield|blood|combat|gladiator|roman empire   \n",
       "279              death|heroin|popcorn|smuggling|vietnam   \n",
       "319              army|helicopter|somali|somalia|warlord   \n",
       "614                cia|jordan|middle east|spy|terrorist   \n",
       "926   feminism|hit in the crotch|kicked in the crotc...   \n",
       "1283  acrophobia|jamaica|male bonding|prostitute|tra...   \n",
       "1414     based on novel|inheritance|provence|uncle|wine   \n",
       "1542    counterfeit|detective|japan|police chase|yakuza   \n",
       "1658  artificial intelligence|human android relation...   \n",
       "1862  cunnilingus|drug trafficking|lawyer|no panties...   \n",
       "2900        alien|creature|future|outer space|spaceship   \n",
       "3295                  egypt|exodus|moses|pharaoh|plague   \n",
       "\n",
       "                                               imdbLink numUserForReviews  \\\n",
       "21    http://www.imdb.com/title/tt0955308/?ref_=fn_t...             546.0   \n",
       "155   http://www.imdb.com/title/tt1528100/?ref_=fn_t...             657.0   \n",
       "219   http://www.imdb.com/title/tt1446714/?ref_=fn_t...            2326.0   \n",
       "265   http://www.imdb.com/title/tt0320661/?ref_=fn_t...             942.0   \n",
       "268   http://www.imdb.com/title/tt3659388/?ref_=fn_t...            1023.0   \n",
       "272   http://www.imdb.com/title/tt0172495/?ref_=fn_t...            2368.0   \n",
       "279   http://www.imdb.com/title/tt0765429/?ref_=fn_t...             458.0   \n",
       "319   http://www.imdb.com/title/tt0265086/?ref_=fn_t...            1103.0   \n",
       "614   http://www.imdb.com/title/tt0758774/?ref_=fn_t...             263.0   \n",
       "926   http://www.imdb.com/title/tt0119173/?ref_=fn_t...             142.0   \n",
       "1283  http://www.imdb.com/title/tt0118158/?ref_=fn_t...              89.0   \n",
       "1414  http://www.imdb.com/title/tt0401445/?ref_=fn_t...             196.0   \n",
       "1542  http://www.imdb.com/title/tt0096933/?ref_=fn_t...             119.0   \n",
       "1658  http://www.imdb.com/title/tt0083658/?ref_=fn_t...            1168.0   \n",
       "1862  http://www.imdb.com/title/tt2193215/?ref_=fn_t...             431.0   \n",
       "2900  http://www.imdb.com/title/tt0078748/?ref_=fn_t...            1110.0   \n",
       "3295  http://www.imdb.com/title/tt1528100/?ref_=fn_t...             657.0   \n",
       "\n",
       "      language country contentRating       budget  titleYear  imdbScore  \\\n",
       "21     English     USA         PG-13  200000000.0     2010.0        6.7   \n",
       "155    English      UK         PG-13  140000000.0     2014.0        6.1   \n",
       "219    English     USA             R  130000000.0     2012.0        7.0   \n",
       "265    English     USA             R  130000000.0     2005.0        7.2   \n",
       "268    English     USA         PG-13  108000000.0     2015.0        8.1   \n",
       "272    English     USA             R  103000000.0     2000.0        8.5   \n",
       "279    English     USA             R  100000000.0     2007.0        7.8   \n",
       "319    English     USA             R   92000000.0     2001.0        7.7   \n",
       "614    English     USA             R   70000000.0     2008.0        7.1   \n",
       "926    English     USA             R   50000000.0     1997.0        5.8   \n",
       "1283   English     USA         PG-13   38000000.0     1996.0        6.6   \n",
       "1414   English     USA         PG-13   35000000.0     2006.0        6.9   \n",
       "1542   English     USA             R   30000000.0     1989.0        6.6   \n",
       "1658   English     USA             R   28000000.0     1982.0        8.2   \n",
       "1862   English     USA             R   25000000.0     2013.0        5.3   \n",
       "2900   English      UK             R   11000000.0     1979.0        8.5   \n",
       "3295   English      UK         PG-13  140000000.0     2014.0        6.1   \n",
       "\n",
       "      movieFacebookLikes  \n",
       "21                 17000  \n",
       "155                51000  \n",
       "219                97000  \n",
       "265                    0  \n",
       "268               153000  \n",
       "272                21000  \n",
       "279                    0  \n",
       "319                10000  \n",
       "614                    0  \n",
       "926                 2000  \n",
       "1283                 911  \n",
       "1414                9000  \n",
       "1542                   0  \n",
       "1658               34000  \n",
       "1862               24000  \n",
       "2900               23000  \n",
       "3295               51000  \n",
       "\n",
       "[17 rows x 21 columns]"
      ],
      "text/html": "<div>\n<style scoped>\n    .dataframe tbody tr th:only-of-type {\n        vertical-align: middle;\n    }\n\n    .dataframe tbody tr th {\n        vertical-align: top;\n    }\n\n    .dataframe thead th {\n        text-align: right;\n    }\n</style>\n<table border=\"1\" class=\"dataframe\">\n  <thead>\n    <tr style=\"text-align: right;\">\n      <th></th>\n      <th>color</th>\n      <th>directorName</th>\n      <th>numCriticForReviews</th>\n      <th>duration</th>\n      <th>actor2</th>\n      <th>gross</th>\n      <th>genres</th>\n      <th>actor1</th>\n      <th>movieTitle</th>\n      <th>numVotedUsers</th>\n      <th>...</th>\n      <th>plotKeywords</th>\n      <th>imdbLink</th>\n      <th>numUserForReviews</th>\n      <th>language</th>\n      <th>country</th>\n      <th>contentRating</th>\n      <th>budget</th>\n      <th>titleYear</th>\n      <th>imdbScore</th>\n      <th>movieFacebookLikes</th>\n    </tr>\n  </thead>\n  <tbody>\n    <tr>\n      <th>21</th>\n      <td>Color</td>\n      <td>Ridley Scott</td>\n      <td>343.0</td>\n      <td>156.0</td>\n      <td>William Hurt</td>\n      <td>105219735.0</td>\n      <td>Action|Adventure|Drama|History</td>\n      <td>Mark Addy</td>\n      <td>Robin Hood</td>\n      <td>211765</td>\n      <td>...</td>\n      <td>1190s|archer|england|king of england|robin hood</td>\n      <td>http://www.imdb.com/title/tt0955308/?ref_=fn_t...</td>\n      <td>546.0</td>\n      <td>English</td>\n      <td>USA</td>\n      <td>PG-13</td>\n      <td>200000000.0</td>\n      <td>2010.0</td>\n      <td>6.7</td>\n      <td>17000</td>\n    </tr>\n    <tr>\n      <th>155</th>\n      <td>Color</td>\n      <td>Ridley Scott</td>\n      <td>314.0</td>\n      <td>150.0</td>\n      <td>María Valverde</td>\n      <td>65007045.0</td>\n      <td>Action|Adventure|Drama</td>\n      <td>Christian Bale</td>\n      <td>Exodus: Gods and Kings</td>\n      <td>128682</td>\n      <td>...</td>\n      <td>egypt|exodus|moses|pharaoh|plague</td>\n      <td>http://www.imdb.com/title/tt1528100/?ref_=fn_t...</td>\n      <td>657.0</td>\n      <td>English</td>\n      <td>UK</td>\n      <td>PG-13</td>\n      <td>140000000.0</td>\n      <td>2014.0</td>\n      <td>6.1</td>\n      <td>51000</td>\n    </tr>\n    <tr>\n      <th>219</th>\n      <td>Color</td>\n      <td>Ridley Scott</td>\n      <td>775.0</td>\n      <td>124.0</td>\n      <td>Charlize Theron</td>\n      <td>126464904.0</td>\n      <td>Adventure|Mystery|Sci-Fi</td>\n      <td>Michael Fassbender</td>\n      <td>Prometheus</td>\n      <td>456260</td>\n      <td>...</td>\n      <td>cave painting|medical scanner|planet|pregnant ...</td>\n      <td>http://www.imdb.com/title/tt1446714/?ref_=fn_t...</td>\n      <td>2326.0</td>\n      <td>English</td>\n      <td>USA</td>\n      <td>R</td>\n      <td>130000000.0</td>\n      <td>2012.0</td>\n      <td>7.0</td>\n      <td>97000</td>\n    </tr>\n    <tr>\n      <th>265</th>\n      <td>Color</td>\n      <td>Ridley Scott</td>\n      <td>239.0</td>\n      <td>194.0</td>\n      <td>Orlando Bloom</td>\n      <td>47396698.0</td>\n      <td>Action|Adventure|Drama|History|War</td>\n      <td>Liam Neeson</td>\n      <td>Kingdom of Heaven</td>\n      <td>217373</td>\n      <td>...</td>\n      <td>12th century|crusader|jerusalem|knight|medieva...</td>\n      <td>http://www.imdb.com/title/tt0320661/?ref_=fn_t...</td>\n      <td>942.0</td>\n      <td>English</td>\n      <td>USA</td>\n      <td>R</td>\n      <td>130000000.0</td>\n      <td>2005.0</td>\n      <td>7.2</td>\n      <td>0</td>\n    </tr>\n    <tr>\n      <th>268</th>\n      <td>Color</td>\n      <td>Ridley Scott</td>\n      <td>568.0</td>\n      <td>151.0</td>\n      <td>Donald Glover</td>\n      <td>228430993.0</td>\n      <td>Adventure|Drama|Sci-Fi</td>\n      <td>Matt Damon</td>\n      <td>The Martian</td>\n      <td>472488</td>\n      <td>...</td>\n      <td>astronaut|international cooperation|left for d...</td>\n      <td>http://www.imdb.com/title/tt3659388/?ref_=fn_t...</td>\n      <td>1023.0</td>\n      <td>English</td>\n      <td>USA</td>\n      <td>PG-13</td>\n      <td>108000000.0</td>\n      <td>2015.0</td>\n      <td>8.1</td>\n      <td>153000</td>\n    </tr>\n    <tr>\n      <th>272</th>\n      <td>Color</td>\n      <td>Ridley Scott</td>\n      <td>265.0</td>\n      <td>171.0</td>\n      <td>Connie Nielsen</td>\n      <td>187670866.0</td>\n      <td>Action|Drama|Romance</td>\n      <td>Djimon Hounsou</td>\n      <td>Gladiator</td>\n      <td>982637</td>\n      <td>...</td>\n      <td>battlefield|blood|combat|gladiator|roman empire</td>\n      <td>http://www.imdb.com/title/tt0172495/?ref_=fn_t...</td>\n      <td>2368.0</td>\n      <td>English</td>\n      <td>USA</td>\n      <td>R</td>\n      <td>103000000.0</td>\n      <td>2000.0</td>\n      <td>8.5</td>\n      <td>21000</td>\n    </tr>\n    <tr>\n      <th>279</th>\n      <td>Color</td>\n      <td>Ridley Scott</td>\n      <td>300.0</td>\n      <td>176.0</td>\n      <td>Ruby Dee</td>\n      <td>130127620.0</td>\n      <td>Biography|Crime|Drama</td>\n      <td>Denzel Washington</td>\n      <td>American Gangster</td>\n      <td>324671</td>\n      <td>...</td>\n      <td>death|heroin|popcorn|smuggling|vietnam</td>\n      <td>http://www.imdb.com/title/tt0765429/?ref_=fn_t...</td>\n      <td>458.0</td>\n      <td>English</td>\n      <td>USA</td>\n      <td>R</td>\n      <td>100000000.0</td>\n      <td>2007.0</td>\n      <td>7.8</td>\n      <td>0</td>\n    </tr>\n    <tr>\n      <th>319</th>\n      <td>Color</td>\n      <td>Ridley Scott</td>\n      <td>200.0</td>\n      <td>152.0</td>\n      <td>Sam Shepard</td>\n      <td>108638745.0</td>\n      <td>Drama|History|War</td>\n      <td>Ioan Gruffudd</td>\n      <td>Black Hawk Down</td>\n      <td>292022</td>\n      <td>...</td>\n      <td>army|helicopter|somali|somalia|warlord</td>\n      <td>http://www.imdb.com/title/tt0265086/?ref_=fn_t...</td>\n      <td>1103.0</td>\n      <td>English</td>\n      <td>USA</td>\n      <td>R</td>\n      <td>92000000.0</td>\n      <td>2001.0</td>\n      <td>7.7</td>\n      <td>10000</td>\n    </tr>\n    <tr>\n      <th>614</th>\n      <td>Color</td>\n      <td>Ridley Scott</td>\n      <td>238.0</td>\n      <td>128.0</td>\n      <td>Simon McBurney</td>\n      <td>39380442.0</td>\n      <td>Action|Drama|Thriller</td>\n      <td>Leonardo DiCaprio</td>\n      <td>Body of Lies</td>\n      <td>174248</td>\n      <td>...</td>\n      <td>cia|jordan|middle east|spy|terrorist</td>\n      <td>http://www.imdb.com/title/tt0758774/?ref_=fn_t...</td>\n      <td>263.0</td>\n      <td>English</td>\n      <td>USA</td>\n      <td>R</td>\n      <td>70000000.0</td>\n      <td>2008.0</td>\n      <td>7.1</td>\n      <td>0</td>\n    </tr>\n    <tr>\n      <th>926</th>\n      <td>Color</td>\n      <td>Ridley Scott</td>\n      <td>97.0</td>\n      <td>125.0</td>\n      <td>Demi Moore</td>\n      <td>48154732.0</td>\n      <td>Action|Drama|War</td>\n      <td>Viggo Mortensen</td>\n      <td>G.I. Jane</td>\n      <td>60326</td>\n      <td>...</td>\n      <td>feminism|hit in the crotch|kicked in the crotc...</td>\n      <td>http://www.imdb.com/title/tt0119173/?ref_=fn_t...</td>\n      <td>142.0</td>\n      <td>English</td>\n      <td>USA</td>\n      <td>R</td>\n      <td>50000000.0</td>\n      <td>1997.0</td>\n      <td>5.8</td>\n      <td>2000</td>\n    </tr>\n    <tr>\n      <th>1283</th>\n      <td>Color</td>\n      <td>Ridley Scott</td>\n      <td>37.0</td>\n      <td>129.0</td>\n      <td>Jason Marsden</td>\n      <td>10300000.0</td>\n      <td>Adventure|Drama</td>\n      <td>Jeff Bridges</td>\n      <td>White Squall</td>\n      <td>17859</td>\n      <td>...</td>\n      <td>acrophobia|jamaica|male bonding|prostitute|tra...</td>\n      <td>http://www.imdb.com/title/tt0118158/?ref_=fn_t...</td>\n      <td>89.0</td>\n      <td>English</td>\n      <td>USA</td>\n      <td>PG-13</td>\n      <td>38000000.0</td>\n      <td>1996.0</td>\n      <td>6.6</td>\n      <td>911</td>\n    </tr>\n    <tr>\n      <th>1414</th>\n      <td>Color</td>\n      <td>Ridley Scott</td>\n      <td>147.0</td>\n      <td>117.0</td>\n      <td>Albert Finney</td>\n      <td>7458269.0</td>\n      <td>Comedy|Drama|Romance</td>\n      <td>Archie Panjabi</td>\n      <td>A Good Year</td>\n      <td>70698</td>\n      <td>...</td>\n      <td>based on novel|inheritance|provence|uncle|wine</td>\n      <td>http://www.imdb.com/title/tt0401445/?ref_=fn_t...</td>\n      <td>196.0</td>\n      <td>English</td>\n      <td>USA</td>\n      <td>PG-13</td>\n      <td>35000000.0</td>\n      <td>2006.0</td>\n      <td>6.9</td>\n      <td>9000</td>\n    </tr>\n    <tr>\n      <th>1542</th>\n      <td>Color</td>\n      <td>Ridley Scott</td>\n      <td>63.0</td>\n      <td>125.0</td>\n      <td>Ken Takakura</td>\n      <td>45645204.0</td>\n      <td>Action|Crime|Thriller</td>\n      <td>Stephen Root</td>\n      <td>Black Rain</td>\n      <td>39306</td>\n      <td>...</td>\n      <td>counterfeit|detective|japan|police chase|yakuza</td>\n      <td>http://www.imdb.com/title/tt0096933/?ref_=fn_t...</td>\n      <td>119.0</td>\n      <td>English</td>\n      <td>USA</td>\n      <td>R</td>\n      <td>30000000.0</td>\n      <td>1989.0</td>\n      <td>6.6</td>\n      <td>0</td>\n    </tr>\n    <tr>\n      <th>1658</th>\n      <td>Color</td>\n      <td>Ridley Scott</td>\n      <td>302.0</td>\n      <td>117.0</td>\n      <td>Sean Young</td>\n      <td>27000000.0</td>\n      <td>Sci-Fi|Thriller</td>\n      <td>Harrison Ford</td>\n      <td>Blade Runner</td>\n      <td>461609</td>\n      <td>...</td>\n      <td>artificial intelligence|human android relation...</td>\n      <td>http://www.imdb.com/title/tt0083658/?ref_=fn_t...</td>\n      <td>1168.0</td>\n      <td>English</td>\n      <td>USA</td>\n      <td>R</td>\n      <td>28000000.0</td>\n      <td>1982.0</td>\n      <td>8.2</td>\n      <td>34000</td>\n    </tr>\n    <tr>\n      <th>1862</th>\n      <td>Color</td>\n      <td>Ridley Scott</td>\n      <td>336.0</td>\n      <td>138.0</td>\n      <td>Brad Pitt</td>\n      <td>16969390.0</td>\n      <td>Crime|Drama|Thriller</td>\n      <td>Michael Fassbender</td>\n      <td>The Counselor</td>\n      <td>80861</td>\n      <td>...</td>\n      <td>cunnilingus|drug trafficking|lawyer|no panties...</td>\n      <td>http://www.imdb.com/title/tt2193215/?ref_=fn_t...</td>\n      <td>431.0</td>\n      <td>English</td>\n      <td>USA</td>\n      <td>R</td>\n      <td>25000000.0</td>\n      <td>2013.0</td>\n      <td>5.3</td>\n      <td>24000</td>\n    </tr>\n    <tr>\n      <th>2900</th>\n      <td>Color</td>\n      <td>Ridley Scott</td>\n      <td>392.0</td>\n      <td>116.0</td>\n      <td>Yaphet Kotto</td>\n      <td>78900000.0</td>\n      <td>Horror|Sci-Fi</td>\n      <td>Tom Skerritt</td>\n      <td>Alien</td>\n      <td>563827</td>\n      <td>...</td>\n      <td>alien|creature|future|outer space|spaceship</td>\n      <td>http://www.imdb.com/title/tt0078748/?ref_=fn_t...</td>\n      <td>1110.0</td>\n      <td>English</td>\n      <td>UK</td>\n      <td>R</td>\n      <td>11000000.0</td>\n      <td>1979.0</td>\n      <td>8.5</td>\n      <td>23000</td>\n    </tr>\n    <tr>\n      <th>3295</th>\n      <td>Color</td>\n      <td>Ridley Scott</td>\n      <td>314.0</td>\n      <td>150.0</td>\n      <td>María Valverde</td>\n      <td>65007045.0</td>\n      <td>Action|Adventure|Drama</td>\n      <td>Christian Bale</td>\n      <td>Exodus: Gods and Kings</td>\n      <td>128694</td>\n      <td>...</td>\n      <td>egypt|exodus|moses|pharaoh|plague</td>\n      <td>http://www.imdb.com/title/tt1528100/?ref_=fn_t...</td>\n      <td>657.0</td>\n      <td>English</td>\n      <td>UK</td>\n      <td>PG-13</td>\n      <td>140000000.0</td>\n      <td>2014.0</td>\n      <td>6.1</td>\n      <td>51000</td>\n    </tr>\n  </tbody>\n</table>\n<p>17 rows × 21 columns</p>\n</div>"
     },
     "metadata": {},
     "execution_count": 36
    }
   ],
   "source": [
    "# Write your answer here\n",
    "movies[movies['directorName']==\"Ridley Scott\"]"
   ]
  },
  {
   "cell_type": "markdown",
   "metadata": {
    "id": "jf56gneenO_B"
   },
   "source": [
    "**T16)  Find the movies in which Hugh Jackman played as 1st, 2nd or 3rd actor**"
   ]
  },
  {
   "cell_type": "code",
   "execution_count": 37,
   "metadata": {
    "id": "_9fuw0HSnO_B"
   },
   "outputs": [
    {
     "output_type": "execute_result",
     "data": {
      "text/plain": [
       "      color       directorName  numCriticForReviews  duration  \\\n",
       "33    Color       Brett Ratner                334.0     104.0   \n",
       "46    Color       Bryan Singer                539.0     149.0   \n",
       "119   Color         Gavin Hood                350.0     119.0   \n",
       "140   Color       David Bowers                135.0      85.0   \n",
       "141   Color         Joe Wright                256.0     111.0   \n",
       "152   Color       Peter Ramsey                256.0      97.0   \n",
       "202   Color       Bryan Singer                289.0     134.0   \n",
       "231   Color      James Mangold                440.0     138.0   \n",
       "255   Color         Shawn Levy                327.0     127.0   \n",
       "385   Color      George Miller                206.0     108.0   \n",
       "464   Color       Dominic Sena                166.0      99.0   \n",
       "504   Color       Bryan Singer                290.0     104.0   \n",
       "629   Color         Tom Hooper                488.0     158.0   \n",
       "987   Color     Neill Blomkamp                371.0     120.0   \n",
       "994   Color      James Mangold                125.0     123.0   \n",
       "1024  Color   Denis Villeneuve                454.0     153.0   \n",
       "1167  Color  Christopher Nolan                341.0     130.0   \n",
       "1423  Color   Darren Aronofsky                274.0      96.0   \n",
       "1808  Color    Dexter Fletcher                216.0     106.0   \n",
       "1904  Color       Tony Goldwyn                 92.0      97.0   \n",
       "1906  Color    Dexter Fletcher                216.0     106.0   \n",
       "2833  Color    Elizabeth Banks                180.0      94.0   \n",
       "3287  Color         Joe Wright                256.0     111.0   \n",
       "\n",
       "                    actor2        gross  \\\n",
       "33          Kelsey Grammer  234360014.0   \n",
       "46          Peter Dinklage  233914986.0   \n",
       "119          Ryan Reynolds  179883016.0   \n",
       "140           Kate Winslet   64459316.0   \n",
       "141        Cara Delevingne   34964818.0   \n",
       "152         Kamil McFadden  103400692.0   \n",
       "202          Bruce Davison  214948780.0   \n",
       "231            Tao Okamoto  132550960.0   \n",
       "255   Torey Michael Adkins   85463309.0   \n",
       "385           Hugh Jackman  197992827.0   \n",
       "464            Don Cheadle   69772969.0   \n",
       "504             Tyler Mane  157299717.0   \n",
       "629         Eddie Redmayne  148775460.0   \n",
       "987         Sharlto Copley   31569268.0   \n",
       "994         Natasha Lyonne   47095453.0   \n",
       "1024       Jake Gyllenhaal   60962878.0   \n",
       "1167          Hugh Jackman   53082743.0   \n",
       "1423         Ellen Burstyn   10139254.0   \n",
       "1808         Taron Egerton   15785632.0   \n",
       "1904          Ellen Barkin   27338033.0   \n",
       "1906         Taron Egerton   15785632.0   \n",
       "2833          Kate Winslet    8828771.0   \n",
       "3287       Cara Delevingne   34964818.0   \n",
       "\n",
       "                                        genres             actor1  \\\n",
       "33    Action|Adventure|Fantasy|Sci-Fi|Thriller       Hugh Jackman   \n",
       "46    Action|Adventure|Fantasy|Sci-Fi|Thriller  Jennifer Lawrence   \n",
       "119   Action|Adventure|Fantasy|Sci-Fi|Thriller       Hugh Jackman   \n",
       "140          Adventure|Animation|Comedy|Family       Hugh Jackman   \n",
       "141                   Adventure|Family|Fantasy       Hugh Jackman   \n",
       "152         Adventure|Animation|Family|Fantasy       Hugh Jackman   \n",
       "202   Action|Adventure|Fantasy|Sci-Fi|Thriller       Hugh Jackman   \n",
       "231           Action|Adventure|Sci-Fi|Thriller       Hugh Jackman   \n",
       "255                  Action|Drama|Sci-Fi|Sport       Hugh Jackman   \n",
       "385      Animation|Comedy|Family|Music|Romance     Robin Williams   \n",
       "464                      Action|Crime|Thriller       Hugh Jackman   \n",
       "504                    Action|Adventure|Sci-Fi       Hugh Jackman   \n",
       "629                      Drama|Musical|Romance       Hugh Jackman   \n",
       "987         Action|Crime|Drama|Sci-Fi|Thriller       Hugh Jackman   \n",
       "994                     Comedy|Fantasy|Romance       Hugh Jackman   \n",
       "1024              Crime|Drama|Mystery|Thriller       Hugh Jackman   \n",
       "1167             Drama|Mystery|Sci-Fi|Thriller     Christian Bale   \n",
       "1423                              Drama|Sci-Fi       Hugh Jackman   \n",
       "1808              Biography|Comedy|Drama|Sport       Hugh Jackman   \n",
       "1904                            Comedy|Romance       Hugh Jackman   \n",
       "1906              Biography|Comedy|Drama|Sport       Hugh Jackman   \n",
       "2833                                    Comedy       Hugh Jackman   \n",
       "3287                  Adventure|Family|Fantasy       Hugh Jackman   \n",
       "\n",
       "                       movieTitle  numVotedUsers  ...  \\\n",
       "33         X-Men: The Last Stand          383427  ...   \n",
       "46    X-Men: Days of Future Past          514125  ...   \n",
       "119     X-Men Origins: Wolverine          361924  ...   \n",
       "140                 Flushed Away           85086  ...   \n",
       "141                          Pan           39956  ...   \n",
       "152        Rise of the Guardians          123553  ...   \n",
       "202                      X-Men 2          405973  ...   \n",
       "231                The Wolverine          328067  ...   \n",
       "255                   Real Steel          254841  ...   \n",
       "385                   Happy Feet          132501  ...   \n",
       "464                    Swordfish          155532  ...   \n",
       "504                        X-Men          452928  ...   \n",
       "629               Les Misérables          243834  ...   \n",
       "987                      Chappie          172965  ...   \n",
       "994               Kate & Leopold           64595  ...   \n",
       "1024                   Prisoners          383591  ...   \n",
       "1167                The Prestige          844052  ...   \n",
       "1423                The Fountain          190990  ...   \n",
       "1808             Eddie the Eagle           32507  ...   \n",
       "1904         Someone Like You...           19709  ...   \n",
       "1906             Eddie the Eagle           32513  ...   \n",
       "2833                    Movie 43           79146  ...   \n",
       "3287                         Pan           39975  ...   \n",
       "\n",
       "                                           plotKeywords  \\\n",
       "33    battle|mutant|outrage|walking through a wall|x...   \n",
       "46    dystopia|super strength|supernatural power|tim...   \n",
       "119   army|civil war|claw fight|commando|wolverine t...   \n",
       "140                            boat|frog|rat|sewer|toad   \n",
       "141   1940s|child hero|fantasy world|orphan|referenc...   \n",
       "152   belief|box office hit|children|new york city|t...   \n",
       "202                mutant|prison|professor|school|x men   \n",
       "231   healing power|marvel comics|mecha|regeneration...   \n",
       "255        arena|boxing|boxing movie|robot|robot battle   \n",
       "385           dance|emperor penguin|friend|penguin|song   \n",
       "464   computer|secret agent|terrorism|told in flashb...   \n",
       "504   first part|mutant|professor|superhero|superher...   \n",
       "629        barricade|innkeeper|parole|rebellion|student   \n",
       "987   artificial intelligence|consciousness|future|m...   \n",
       "994   bridge|brooklyn bridge|falling down an elevato...   \n",
       "1024  child abduction|detective|investigation|police...   \n",
       "1167         illusion|magician|obsession|rivalry|secret   \n",
       "1423              eternity|love|mayan|tree|tree of life   \n",
       "1808  1988 winter olympics|coach|ski jumper|winter|w...   \n",
       "1904  apartment|girl in panties|roommate|thong panti...   \n",
       "1906  1988 winter olympics|coach|ski jumper|winter|w...   \n",
       "2833  awkwardness|embarrassment|gross out|irreverenc...   \n",
       "3287  1940s|child hero|fantasy world|orphan|referenc...   \n",
       "\n",
       "                                               imdbLink numUserForReviews  \\\n",
       "33    http://www.imdb.com/title/tt0376994/?ref_=fn_t...            1912.0   \n",
       "46    http://www.imdb.com/title/tt1877832/?ref_=fn_t...             752.0   \n",
       "119   http://www.imdb.com/title/tt0458525/?ref_=fn_t...             641.0   \n",
       "140   http://www.imdb.com/title/tt0424095/?ref_=fn_t...             122.0   \n",
       "141   http://www.imdb.com/title/tt3332064/?ref_=fn_t...             186.0   \n",
       "152   http://www.imdb.com/title/tt1446192/?ref_=fn_t...             174.0   \n",
       "202   http://www.imdb.com/title/tt0290334/?ref_=fn_t...            1055.0   \n",
       "231   http://www.imdb.com/title/tt1430132/?ref_=fn_t...             533.0   \n",
       "255   http://www.imdb.com/title/tt0433035/?ref_=fn_t...             426.0   \n",
       "385   http://www.imdb.com/title/tt0366548/?ref_=fn_t...             548.0   \n",
       "464   http://www.imdb.com/title/tt0244244/?ref_=fn_t...             543.0   \n",
       "504   http://www.imdb.com/title/tt0120903/?ref_=fn_t...            1401.0   \n",
       "629   http://www.imdb.com/title/tt1707386/?ref_=fn_t...             845.0   \n",
       "987   http://www.imdb.com/title/tt1823672/?ref_=fn_t...             627.0   \n",
       "994   http://www.imdb.com/title/tt0035423/?ref_=fn_t...             316.0   \n",
       "1024  http://www.imdb.com/title/tt1392214/?ref_=fn_t...             620.0   \n",
       "1167  http://www.imdb.com/title/tt0482571/?ref_=fn_t...            1100.0   \n",
       "1423  http://www.imdb.com/title/tt0414993/?ref_=fn_t...             915.0   \n",
       "1808  http://www.imdb.com/title/tt1083452/?ref_=fn_t...             119.0   \n",
       "1904  http://www.imdb.com/title/tt0244970/?ref_=fn_t...             167.0   \n",
       "1906  http://www.imdb.com/title/tt1083452/?ref_=fn_t...             119.0   \n",
       "2833  http://www.imdb.com/title/tt1333125/?ref_=fn_t...             352.0   \n",
       "3287  http://www.imdb.com/title/tt3332064/?ref_=fn_t...             186.0   \n",
       "\n",
       "      language country contentRating       budget  titleYear  imdbScore  \\\n",
       "33     English  Canada         PG-13  210000000.0     2006.0        6.8   \n",
       "46     English     USA         PG-13  200000000.0     2014.0        8.0   \n",
       "119    English     USA         PG-13  150000000.0     2009.0        6.7   \n",
       "140    English      UK            PG  149000000.0     2006.0        6.7   \n",
       "141    English     USA            PG  150000000.0     2015.0        5.8   \n",
       "152    English     USA            PG  145000000.0     2012.0        7.3   \n",
       "202    English  Canada         PG-13  110000000.0     2003.0        7.5   \n",
       "231    English     USA         PG-13  120000000.0     2013.0        6.7   \n",
       "255    English     USA         PG-13  110000000.0     2011.0        7.1   \n",
       "385    English     USA            PG  100000000.0     2006.0        6.5   \n",
       "464    English     USA             R   80000000.0     2001.0        6.5   \n",
       "504    English     USA         PG-13   75000000.0     2000.0        7.4   \n",
       "629    English     USA         PG-13   61000000.0     2012.0        7.6   \n",
       "987    English     USA             R   49000000.0     2015.0        6.9   \n",
       "994    English     USA         PG-13   48000000.0     2001.0        6.4   \n",
       "1024   English     USA             R   46000000.0     2013.0        8.1   \n",
       "1167   English     USA         PG-13   40000000.0     2006.0        8.5   \n",
       "1423   English     USA         PG-13   35000000.0     2006.0        7.3   \n",
       "1808   English      UK         PG-13   23000000.0     2016.0        7.5   \n",
       "1904   English     USA         PG-13   23000000.0     2001.0        6.1   \n",
       "1906   English      UK         PG-13   23000000.0     2016.0        7.5   \n",
       "2833   English     USA             R    6000000.0     2013.0        4.3   \n",
       "3287   English     USA            PG  150000000.0     2015.0        5.8   \n",
       "\n",
       "      movieFacebookLikes  \n",
       "33                     0  \n",
       "46                 82000  \n",
       "119                    0  \n",
       "140                    0  \n",
       "141                24000  \n",
       "152                25000  \n",
       "202                    0  \n",
       "231                68000  \n",
       "255                36000  \n",
       "385                    0  \n",
       "464                    0  \n",
       "504                    0  \n",
       "629               144000  \n",
       "987                67000  \n",
       "994                    0  \n",
       "1024               86000  \n",
       "1167               49000  \n",
       "1423               23000  \n",
       "1808               15000  \n",
       "1904                   0  \n",
       "1906               15000  \n",
       "2833               25000  \n",
       "3287               24000  \n",
       "\n",
       "[23 rows x 21 columns]"
      ],
      "text/html": "<div>\n<style scoped>\n    .dataframe tbody tr th:only-of-type {\n        vertical-align: middle;\n    }\n\n    .dataframe tbody tr th {\n        vertical-align: top;\n    }\n\n    .dataframe thead th {\n        text-align: right;\n    }\n</style>\n<table border=\"1\" class=\"dataframe\">\n  <thead>\n    <tr style=\"text-align: right;\">\n      <th></th>\n      <th>color</th>\n      <th>directorName</th>\n      <th>numCriticForReviews</th>\n      <th>duration</th>\n      <th>actor2</th>\n      <th>gross</th>\n      <th>genres</th>\n      <th>actor1</th>\n      <th>movieTitle</th>\n      <th>numVotedUsers</th>\n      <th>...</th>\n      <th>plotKeywords</th>\n      <th>imdbLink</th>\n      <th>numUserForReviews</th>\n      <th>language</th>\n      <th>country</th>\n      <th>contentRating</th>\n      <th>budget</th>\n      <th>titleYear</th>\n      <th>imdbScore</th>\n      <th>movieFacebookLikes</th>\n    </tr>\n  </thead>\n  <tbody>\n    <tr>\n      <th>33</th>\n      <td>Color</td>\n      <td>Brett Ratner</td>\n      <td>334.0</td>\n      <td>104.0</td>\n      <td>Kelsey Grammer</td>\n      <td>234360014.0</td>\n      <td>Action|Adventure|Fantasy|Sci-Fi|Thriller</td>\n      <td>Hugh Jackman</td>\n      <td>X-Men: The Last Stand</td>\n      <td>383427</td>\n      <td>...</td>\n      <td>battle|mutant|outrage|walking through a wall|x...</td>\n      <td>http://www.imdb.com/title/tt0376994/?ref_=fn_t...</td>\n      <td>1912.0</td>\n      <td>English</td>\n      <td>Canada</td>\n      <td>PG-13</td>\n      <td>210000000.0</td>\n      <td>2006.0</td>\n      <td>6.8</td>\n      <td>0</td>\n    </tr>\n    <tr>\n      <th>46</th>\n      <td>Color</td>\n      <td>Bryan Singer</td>\n      <td>539.0</td>\n      <td>149.0</td>\n      <td>Peter Dinklage</td>\n      <td>233914986.0</td>\n      <td>Action|Adventure|Fantasy|Sci-Fi|Thriller</td>\n      <td>Jennifer Lawrence</td>\n      <td>X-Men: Days of Future Past</td>\n      <td>514125</td>\n      <td>...</td>\n      <td>dystopia|super strength|supernatural power|tim...</td>\n      <td>http://www.imdb.com/title/tt1877832/?ref_=fn_t...</td>\n      <td>752.0</td>\n      <td>English</td>\n      <td>USA</td>\n      <td>PG-13</td>\n      <td>200000000.0</td>\n      <td>2014.0</td>\n      <td>8.0</td>\n      <td>82000</td>\n    </tr>\n    <tr>\n      <th>119</th>\n      <td>Color</td>\n      <td>Gavin Hood</td>\n      <td>350.0</td>\n      <td>119.0</td>\n      <td>Ryan Reynolds</td>\n      <td>179883016.0</td>\n      <td>Action|Adventure|Fantasy|Sci-Fi|Thriller</td>\n      <td>Hugh Jackman</td>\n      <td>X-Men Origins: Wolverine</td>\n      <td>361924</td>\n      <td>...</td>\n      <td>army|civil war|claw fight|commando|wolverine t...</td>\n      <td>http://www.imdb.com/title/tt0458525/?ref_=fn_t...</td>\n      <td>641.0</td>\n      <td>English</td>\n      <td>USA</td>\n      <td>PG-13</td>\n      <td>150000000.0</td>\n      <td>2009.0</td>\n      <td>6.7</td>\n      <td>0</td>\n    </tr>\n    <tr>\n      <th>140</th>\n      <td>Color</td>\n      <td>David Bowers</td>\n      <td>135.0</td>\n      <td>85.0</td>\n      <td>Kate Winslet</td>\n      <td>64459316.0</td>\n      <td>Adventure|Animation|Comedy|Family</td>\n      <td>Hugh Jackman</td>\n      <td>Flushed Away</td>\n      <td>85086</td>\n      <td>...</td>\n      <td>boat|frog|rat|sewer|toad</td>\n      <td>http://www.imdb.com/title/tt0424095/?ref_=fn_t...</td>\n      <td>122.0</td>\n      <td>English</td>\n      <td>UK</td>\n      <td>PG</td>\n      <td>149000000.0</td>\n      <td>2006.0</td>\n      <td>6.7</td>\n      <td>0</td>\n    </tr>\n    <tr>\n      <th>141</th>\n      <td>Color</td>\n      <td>Joe Wright</td>\n      <td>256.0</td>\n      <td>111.0</td>\n      <td>Cara Delevingne</td>\n      <td>34964818.0</td>\n      <td>Adventure|Family|Fantasy</td>\n      <td>Hugh Jackman</td>\n      <td>Pan</td>\n      <td>39956</td>\n      <td>...</td>\n      <td>1940s|child hero|fantasy world|orphan|referenc...</td>\n      <td>http://www.imdb.com/title/tt3332064/?ref_=fn_t...</td>\n      <td>186.0</td>\n      <td>English</td>\n      <td>USA</td>\n      <td>PG</td>\n      <td>150000000.0</td>\n      <td>2015.0</td>\n      <td>5.8</td>\n      <td>24000</td>\n    </tr>\n    <tr>\n      <th>152</th>\n      <td>Color</td>\n      <td>Peter Ramsey</td>\n      <td>256.0</td>\n      <td>97.0</td>\n      <td>Kamil McFadden</td>\n      <td>103400692.0</td>\n      <td>Adventure|Animation|Family|Fantasy</td>\n      <td>Hugh Jackman</td>\n      <td>Rise of the Guardians</td>\n      <td>123553</td>\n      <td>...</td>\n      <td>belief|box office hit|children|new york city|t...</td>\n      <td>http://www.imdb.com/title/tt1446192/?ref_=fn_t...</td>\n      <td>174.0</td>\n      <td>English</td>\n      <td>USA</td>\n      <td>PG</td>\n      <td>145000000.0</td>\n      <td>2012.0</td>\n      <td>7.3</td>\n      <td>25000</td>\n    </tr>\n    <tr>\n      <th>202</th>\n      <td>Color</td>\n      <td>Bryan Singer</td>\n      <td>289.0</td>\n      <td>134.0</td>\n      <td>Bruce Davison</td>\n      <td>214948780.0</td>\n      <td>Action|Adventure|Fantasy|Sci-Fi|Thriller</td>\n      <td>Hugh Jackman</td>\n      <td>X-Men 2</td>\n      <td>405973</td>\n      <td>...</td>\n      <td>mutant|prison|professor|school|x men</td>\n      <td>http://www.imdb.com/title/tt0290334/?ref_=fn_t...</td>\n      <td>1055.0</td>\n      <td>English</td>\n      <td>Canada</td>\n      <td>PG-13</td>\n      <td>110000000.0</td>\n      <td>2003.0</td>\n      <td>7.5</td>\n      <td>0</td>\n    </tr>\n    <tr>\n      <th>231</th>\n      <td>Color</td>\n      <td>James Mangold</td>\n      <td>440.0</td>\n      <td>138.0</td>\n      <td>Tao Okamoto</td>\n      <td>132550960.0</td>\n      <td>Action|Adventure|Sci-Fi|Thriller</td>\n      <td>Hugh Jackman</td>\n      <td>The Wolverine</td>\n      <td>328067</td>\n      <td>...</td>\n      <td>healing power|marvel comics|mecha|regeneration...</td>\n      <td>http://www.imdb.com/title/tt1430132/?ref_=fn_t...</td>\n      <td>533.0</td>\n      <td>English</td>\n      <td>USA</td>\n      <td>PG-13</td>\n      <td>120000000.0</td>\n      <td>2013.0</td>\n      <td>6.7</td>\n      <td>68000</td>\n    </tr>\n    <tr>\n      <th>255</th>\n      <td>Color</td>\n      <td>Shawn Levy</td>\n      <td>327.0</td>\n      <td>127.0</td>\n      <td>Torey Michael Adkins</td>\n      <td>85463309.0</td>\n      <td>Action|Drama|Sci-Fi|Sport</td>\n      <td>Hugh Jackman</td>\n      <td>Real Steel</td>\n      <td>254841</td>\n      <td>...</td>\n      <td>arena|boxing|boxing movie|robot|robot battle</td>\n      <td>http://www.imdb.com/title/tt0433035/?ref_=fn_t...</td>\n      <td>426.0</td>\n      <td>English</td>\n      <td>USA</td>\n      <td>PG-13</td>\n      <td>110000000.0</td>\n      <td>2011.0</td>\n      <td>7.1</td>\n      <td>36000</td>\n    </tr>\n    <tr>\n      <th>385</th>\n      <td>Color</td>\n      <td>George Miller</td>\n      <td>206.0</td>\n      <td>108.0</td>\n      <td>Hugh Jackman</td>\n      <td>197992827.0</td>\n      <td>Animation|Comedy|Family|Music|Romance</td>\n      <td>Robin Williams</td>\n      <td>Happy Feet</td>\n      <td>132501</td>\n      <td>...</td>\n      <td>dance|emperor penguin|friend|penguin|song</td>\n      <td>http://www.imdb.com/title/tt0366548/?ref_=fn_t...</td>\n      <td>548.0</td>\n      <td>English</td>\n      <td>USA</td>\n      <td>PG</td>\n      <td>100000000.0</td>\n      <td>2006.0</td>\n      <td>6.5</td>\n      <td>0</td>\n    </tr>\n    <tr>\n      <th>464</th>\n      <td>Color</td>\n      <td>Dominic Sena</td>\n      <td>166.0</td>\n      <td>99.0</td>\n      <td>Don Cheadle</td>\n      <td>69772969.0</td>\n      <td>Action|Crime|Thriller</td>\n      <td>Hugh Jackman</td>\n      <td>Swordfish</td>\n      <td>155532</td>\n      <td>...</td>\n      <td>computer|secret agent|terrorism|told in flashb...</td>\n      <td>http://www.imdb.com/title/tt0244244/?ref_=fn_t...</td>\n      <td>543.0</td>\n      <td>English</td>\n      <td>USA</td>\n      <td>R</td>\n      <td>80000000.0</td>\n      <td>2001.0</td>\n      <td>6.5</td>\n      <td>0</td>\n    </tr>\n    <tr>\n      <th>504</th>\n      <td>Color</td>\n      <td>Bryan Singer</td>\n      <td>290.0</td>\n      <td>104.0</td>\n      <td>Tyler Mane</td>\n      <td>157299717.0</td>\n      <td>Action|Adventure|Sci-Fi</td>\n      <td>Hugh Jackman</td>\n      <td>X-Men</td>\n      <td>452928</td>\n      <td>...</td>\n      <td>first part|mutant|professor|superhero|superher...</td>\n      <td>http://www.imdb.com/title/tt0120903/?ref_=fn_t...</td>\n      <td>1401.0</td>\n      <td>English</td>\n      <td>USA</td>\n      <td>PG-13</td>\n      <td>75000000.0</td>\n      <td>2000.0</td>\n      <td>7.4</td>\n      <td>0</td>\n    </tr>\n    <tr>\n      <th>629</th>\n      <td>Color</td>\n      <td>Tom Hooper</td>\n      <td>488.0</td>\n      <td>158.0</td>\n      <td>Eddie Redmayne</td>\n      <td>148775460.0</td>\n      <td>Drama|Musical|Romance</td>\n      <td>Hugh Jackman</td>\n      <td>Les Misérables</td>\n      <td>243834</td>\n      <td>...</td>\n      <td>barricade|innkeeper|parole|rebellion|student</td>\n      <td>http://www.imdb.com/title/tt1707386/?ref_=fn_t...</td>\n      <td>845.0</td>\n      <td>English</td>\n      <td>USA</td>\n      <td>PG-13</td>\n      <td>61000000.0</td>\n      <td>2012.0</td>\n      <td>7.6</td>\n      <td>144000</td>\n    </tr>\n    <tr>\n      <th>987</th>\n      <td>Color</td>\n      <td>Neill Blomkamp</td>\n      <td>371.0</td>\n      <td>120.0</td>\n      <td>Sharlto Copley</td>\n      <td>31569268.0</td>\n      <td>Action|Crime|Drama|Sci-Fi|Thriller</td>\n      <td>Hugh Jackman</td>\n      <td>Chappie</td>\n      <td>172965</td>\n      <td>...</td>\n      <td>artificial intelligence|consciousness|future|m...</td>\n      <td>http://www.imdb.com/title/tt1823672/?ref_=fn_t...</td>\n      <td>627.0</td>\n      <td>English</td>\n      <td>USA</td>\n      <td>R</td>\n      <td>49000000.0</td>\n      <td>2015.0</td>\n      <td>6.9</td>\n      <td>67000</td>\n    </tr>\n    <tr>\n      <th>994</th>\n      <td>Color</td>\n      <td>James Mangold</td>\n      <td>125.0</td>\n      <td>123.0</td>\n      <td>Natasha Lyonne</td>\n      <td>47095453.0</td>\n      <td>Comedy|Fantasy|Romance</td>\n      <td>Hugh Jackman</td>\n      <td>Kate &amp; Leopold</td>\n      <td>64595</td>\n      <td>...</td>\n      <td>bridge|brooklyn bridge|falling down an elevato...</td>\n      <td>http://www.imdb.com/title/tt0035423/?ref_=fn_t...</td>\n      <td>316.0</td>\n      <td>English</td>\n      <td>USA</td>\n      <td>PG-13</td>\n      <td>48000000.0</td>\n      <td>2001.0</td>\n      <td>6.4</td>\n      <td>0</td>\n    </tr>\n    <tr>\n      <th>1024</th>\n      <td>Color</td>\n      <td>Denis Villeneuve</td>\n      <td>454.0</td>\n      <td>153.0</td>\n      <td>Jake Gyllenhaal</td>\n      <td>60962878.0</td>\n      <td>Crime|Drama|Mystery|Thriller</td>\n      <td>Hugh Jackman</td>\n      <td>Prisoners</td>\n      <td>383591</td>\n      <td>...</td>\n      <td>child abduction|detective|investigation|police...</td>\n      <td>http://www.imdb.com/title/tt1392214/?ref_=fn_t...</td>\n      <td>620.0</td>\n      <td>English</td>\n      <td>USA</td>\n      <td>R</td>\n      <td>46000000.0</td>\n      <td>2013.0</td>\n      <td>8.1</td>\n      <td>86000</td>\n    </tr>\n    <tr>\n      <th>1167</th>\n      <td>Color</td>\n      <td>Christopher Nolan</td>\n      <td>341.0</td>\n      <td>130.0</td>\n      <td>Hugh Jackman</td>\n      <td>53082743.0</td>\n      <td>Drama|Mystery|Sci-Fi|Thriller</td>\n      <td>Christian Bale</td>\n      <td>The Prestige</td>\n      <td>844052</td>\n      <td>...</td>\n      <td>illusion|magician|obsession|rivalry|secret</td>\n      <td>http://www.imdb.com/title/tt0482571/?ref_=fn_t...</td>\n      <td>1100.0</td>\n      <td>English</td>\n      <td>USA</td>\n      <td>PG-13</td>\n      <td>40000000.0</td>\n      <td>2006.0</td>\n      <td>8.5</td>\n      <td>49000</td>\n    </tr>\n    <tr>\n      <th>1423</th>\n      <td>Color</td>\n      <td>Darren Aronofsky</td>\n      <td>274.0</td>\n      <td>96.0</td>\n      <td>Ellen Burstyn</td>\n      <td>10139254.0</td>\n      <td>Drama|Sci-Fi</td>\n      <td>Hugh Jackman</td>\n      <td>The Fountain</td>\n      <td>190990</td>\n      <td>...</td>\n      <td>eternity|love|mayan|tree|tree of life</td>\n      <td>http://www.imdb.com/title/tt0414993/?ref_=fn_t...</td>\n      <td>915.0</td>\n      <td>English</td>\n      <td>USA</td>\n      <td>PG-13</td>\n      <td>35000000.0</td>\n      <td>2006.0</td>\n      <td>7.3</td>\n      <td>23000</td>\n    </tr>\n    <tr>\n      <th>1808</th>\n      <td>Color</td>\n      <td>Dexter Fletcher</td>\n      <td>216.0</td>\n      <td>106.0</td>\n      <td>Taron Egerton</td>\n      <td>15785632.0</td>\n      <td>Biography|Comedy|Drama|Sport</td>\n      <td>Hugh Jackman</td>\n      <td>Eddie the Eagle</td>\n      <td>32507</td>\n      <td>...</td>\n      <td>1988 winter olympics|coach|ski jumper|winter|w...</td>\n      <td>http://www.imdb.com/title/tt1083452/?ref_=fn_t...</td>\n      <td>119.0</td>\n      <td>English</td>\n      <td>UK</td>\n      <td>PG-13</td>\n      <td>23000000.0</td>\n      <td>2016.0</td>\n      <td>7.5</td>\n      <td>15000</td>\n    </tr>\n    <tr>\n      <th>1904</th>\n      <td>Color</td>\n      <td>Tony Goldwyn</td>\n      <td>92.0</td>\n      <td>97.0</td>\n      <td>Ellen Barkin</td>\n      <td>27338033.0</td>\n      <td>Comedy|Romance</td>\n      <td>Hugh Jackman</td>\n      <td>Someone Like You...</td>\n      <td>19709</td>\n      <td>...</td>\n      <td>apartment|girl in panties|roommate|thong panti...</td>\n      <td>http://www.imdb.com/title/tt0244970/?ref_=fn_t...</td>\n      <td>167.0</td>\n      <td>English</td>\n      <td>USA</td>\n      <td>PG-13</td>\n      <td>23000000.0</td>\n      <td>2001.0</td>\n      <td>6.1</td>\n      <td>0</td>\n    </tr>\n    <tr>\n      <th>1906</th>\n      <td>Color</td>\n      <td>Dexter Fletcher</td>\n      <td>216.0</td>\n      <td>106.0</td>\n      <td>Taron Egerton</td>\n      <td>15785632.0</td>\n      <td>Biography|Comedy|Drama|Sport</td>\n      <td>Hugh Jackman</td>\n      <td>Eddie the Eagle</td>\n      <td>32513</td>\n      <td>...</td>\n      <td>1988 winter olympics|coach|ski jumper|winter|w...</td>\n      <td>http://www.imdb.com/title/tt1083452/?ref_=fn_t...</td>\n      <td>119.0</td>\n      <td>English</td>\n      <td>UK</td>\n      <td>PG-13</td>\n      <td>23000000.0</td>\n      <td>2016.0</td>\n      <td>7.5</td>\n      <td>15000</td>\n    </tr>\n    <tr>\n      <th>2833</th>\n      <td>Color</td>\n      <td>Elizabeth Banks</td>\n      <td>180.0</td>\n      <td>94.0</td>\n      <td>Kate Winslet</td>\n      <td>8828771.0</td>\n      <td>Comedy</td>\n      <td>Hugh Jackman</td>\n      <td>Movie 43</td>\n      <td>79146</td>\n      <td>...</td>\n      <td>awkwardness|embarrassment|gross out|irreverenc...</td>\n      <td>http://www.imdb.com/title/tt1333125/?ref_=fn_t...</td>\n      <td>352.0</td>\n      <td>English</td>\n      <td>USA</td>\n      <td>R</td>\n      <td>6000000.0</td>\n      <td>2013.0</td>\n      <td>4.3</td>\n      <td>25000</td>\n    </tr>\n    <tr>\n      <th>3287</th>\n      <td>Color</td>\n      <td>Joe Wright</td>\n      <td>256.0</td>\n      <td>111.0</td>\n      <td>Cara Delevingne</td>\n      <td>34964818.0</td>\n      <td>Adventure|Family|Fantasy</td>\n      <td>Hugh Jackman</td>\n      <td>Pan</td>\n      <td>39975</td>\n      <td>...</td>\n      <td>1940s|child hero|fantasy world|orphan|referenc...</td>\n      <td>http://www.imdb.com/title/tt3332064/?ref_=fn_t...</td>\n      <td>186.0</td>\n      <td>English</td>\n      <td>USA</td>\n      <td>PG</td>\n      <td>150000000.0</td>\n      <td>2015.0</td>\n      <td>5.8</td>\n      <td>24000</td>\n    </tr>\n  </tbody>\n</table>\n<p>23 rows × 21 columns</p>\n</div>"
     },
     "metadata": {},
     "execution_count": 37
    }
   ],
   "source": [
    "# Write your answer here\n",
    "movies[(movies['actor1']=='Hugh Jackman') | (movies['actor2']=='Hugh Jackman') | (movies['actor3']=='Hugh Jackman')]"
   ]
  },
  {
   "cell_type": "markdown",
   "metadata": {
    "id": "3ZwEvGx3nO_C"
   },
   "source": [
    "**T17)  Put the movies into groups depending on their colour and show a summary**"
   ]
  },
  {
   "cell_type": "code",
   "execution_count": 38,
   "metadata": {
    "id": "_iTTsTESnO_D"
   },
   "outputs": [
    {
     "output_type": "execute_result",
     "data": {
      "text/plain": [
       "                 numCriticForReviews                                      \\\n",
       "                               count        mean         std   min   25%   \n",
       "color                                                                      \n",
       " Black and White               124.0  165.064516  109.121082  14.0  80.0   \n",
       "Color                         3650.0  165.645479  124.154638   2.0  75.0   \n",
       "\n",
       "                                      duration              ... imdbScore  \\\n",
       "                    50%    75%    max    count        mean  ...       75%   \n",
       "color                                                       ...             \n",
       " Black and White  149.0  206.0  576.0    124.0  116.274194  ...       7.8   \n",
       "Color             136.0  223.0  813.0   3650.0  109.874795  ...       7.2   \n",
       "\n",
       "                      movieFacebookLikes                                       \\\n",
       "                  max              count         mean           std  min  25%   \n",
       "color                                                                           \n",
       " Black and White  8.9              124.0  6490.056452  15112.656742  0.0  0.0   \n",
       "Color             9.3             3650.0  9343.532877  21637.464837  0.0  0.0   \n",
       "\n",
       "                                            \n",
       "                    50%      75%       max  \n",
       "color                                       \n",
       " Black and White    0.0   2250.0  109000.0  \n",
       "Color             229.5  11000.0  349000.0  \n",
       "\n",
       "[2 rows x 72 columns]"
      ],
      "text/html": "<div>\n<style scoped>\n    .dataframe tbody tr th:only-of-type {\n        vertical-align: middle;\n    }\n\n    .dataframe tbody tr th {\n        vertical-align: top;\n    }\n\n    .dataframe thead tr th {\n        text-align: left;\n    }\n\n    .dataframe thead tr:last-of-type th {\n        text-align: right;\n    }\n</style>\n<table border=\"1\" class=\"dataframe\">\n  <thead>\n    <tr>\n      <th></th>\n      <th colspan=\"8\" halign=\"left\">numCriticForReviews</th>\n      <th colspan=\"2\" halign=\"left\">duration</th>\n      <th>...</th>\n      <th colspan=\"2\" halign=\"left\">imdbScore</th>\n      <th colspan=\"8\" halign=\"left\">movieFacebookLikes</th>\n    </tr>\n    <tr>\n      <th></th>\n      <th>count</th>\n      <th>mean</th>\n      <th>std</th>\n      <th>min</th>\n      <th>25%</th>\n      <th>50%</th>\n      <th>75%</th>\n      <th>max</th>\n      <th>count</th>\n      <th>mean</th>\n      <th>...</th>\n      <th>75%</th>\n      <th>max</th>\n      <th>count</th>\n      <th>mean</th>\n      <th>std</th>\n      <th>min</th>\n      <th>25%</th>\n      <th>50%</th>\n      <th>75%</th>\n      <th>max</th>\n    </tr>\n    <tr>\n      <th>color</th>\n      <th></th>\n      <th></th>\n      <th></th>\n      <th></th>\n      <th></th>\n      <th></th>\n      <th></th>\n      <th></th>\n      <th></th>\n      <th></th>\n      <th></th>\n      <th></th>\n      <th></th>\n      <th></th>\n      <th></th>\n      <th></th>\n      <th></th>\n      <th></th>\n      <th></th>\n      <th></th>\n      <th></th>\n    </tr>\n  </thead>\n  <tbody>\n    <tr>\n      <th>Black and White</th>\n      <td>124.0</td>\n      <td>165.064516</td>\n      <td>109.121082</td>\n      <td>14.0</td>\n      <td>80.0</td>\n      <td>149.0</td>\n      <td>206.0</td>\n      <td>576.0</td>\n      <td>124.0</td>\n      <td>116.274194</td>\n      <td>...</td>\n      <td>7.8</td>\n      <td>8.9</td>\n      <td>124.0</td>\n      <td>6490.056452</td>\n      <td>15112.656742</td>\n      <td>0.0</td>\n      <td>0.0</td>\n      <td>0.0</td>\n      <td>2250.0</td>\n      <td>109000.0</td>\n    </tr>\n    <tr>\n      <th>Color</th>\n      <td>3650.0</td>\n      <td>165.645479</td>\n      <td>124.154638</td>\n      <td>2.0</td>\n      <td>75.0</td>\n      <td>136.0</td>\n      <td>223.0</td>\n      <td>813.0</td>\n      <td>3650.0</td>\n      <td>109.874795</td>\n      <td>...</td>\n      <td>7.2</td>\n      <td>9.3</td>\n      <td>3650.0</td>\n      <td>9343.532877</td>\n      <td>21637.464837</td>\n      <td>0.0</td>\n      <td>0.0</td>\n      <td>229.5</td>\n      <td>11000.0</td>\n      <td>349000.0</td>\n    </tr>\n  </tbody>\n</table>\n<p>2 rows × 72 columns</p>\n</div>"
     },
     "metadata": {},
     "execution_count": 38
    }
   ],
   "source": [
    "# Write your answer here\n",
    "movies.groupby('color').describe()"
   ]
  },
  {
   "cell_type": "markdown",
   "metadata": {
    "id": "ikGA1K7YnO_D"
   },
   "source": [
    "**T18) Get all movies that were released between 2005 and 2010, have a rating above 8.0, but have less income than the estimated budget**"
   ]
  },
  {
   "cell_type": "code",
   "execution_count": 43,
   "metadata": {
    "id": "ILZrd2FenO_E"
   },
   "outputs": [
    {
     "output_type": "execute_result",
     "data": {
      "text/plain": [
       "                 color   directorName  numCriticForReviews  duration  \\\n",
       "3083             Color   José Padilha                142.0     115.0   \n",
       "3501   Black and White  David Sington                107.0     100.0   \n",
       "\n",
       "                actor2      gross                       genres  \\\n",
       "3083  Fernanda Machado     8060.0  Action|Crime|Drama|Thriller   \n",
       "3501       Buzz Aldrin  1134049.0          Documentary|History   \n",
       "\n",
       "               actor1                  movieTitle  numVotedUsers  ...  \\\n",
       "3083     Wagner Moura                Elite Squad           81644  ...   \n",
       "3501  John F. Kennedy  In the Shadow of the Moon            5475  ...   \n",
       "\n",
       "                                           plotKeywords  \\\n",
       "3083  brazil|military police|police|rio de janeiro b...   \n",
       "3501      1960s|astronaut|moon|nasa|spacecraft accident   \n",
       "\n",
       "                                               imdbLink numUserForReviews  \\\n",
       "3083  http://www.imdb.com/title/tt0861739/?ref_=fn_t...             107.0   \n",
       "3501  http://www.imdb.com/title/tt0925248/?ref_=fn_t...              44.0   \n",
       "\n",
       "        language country contentRating     budget  titleYear  imdbScore  \\\n",
       "3083  Portuguese  Brazil             R  4000000.0     2007.0        8.1   \n",
       "3501     English      UK            PG  2000000.0     2007.0        8.1   \n",
       "\n",
       "      movieFacebookLikes  \n",
       "3083               11000  \n",
       "3501                   0  \n",
       "\n",
       "[2 rows x 21 columns]"
      ],
      "text/html": "<div>\n<style scoped>\n    .dataframe tbody tr th:only-of-type {\n        vertical-align: middle;\n    }\n\n    .dataframe tbody tr th {\n        vertical-align: top;\n    }\n\n    .dataframe thead th {\n        text-align: right;\n    }\n</style>\n<table border=\"1\" class=\"dataframe\">\n  <thead>\n    <tr style=\"text-align: right;\">\n      <th></th>\n      <th>color</th>\n      <th>directorName</th>\n      <th>numCriticForReviews</th>\n      <th>duration</th>\n      <th>actor2</th>\n      <th>gross</th>\n      <th>genres</th>\n      <th>actor1</th>\n      <th>movieTitle</th>\n      <th>numVotedUsers</th>\n      <th>...</th>\n      <th>plotKeywords</th>\n      <th>imdbLink</th>\n      <th>numUserForReviews</th>\n      <th>language</th>\n      <th>country</th>\n      <th>contentRating</th>\n      <th>budget</th>\n      <th>titleYear</th>\n      <th>imdbScore</th>\n      <th>movieFacebookLikes</th>\n    </tr>\n  </thead>\n  <tbody>\n    <tr>\n      <th>3083</th>\n      <td>Color</td>\n      <td>José Padilha</td>\n      <td>142.0</td>\n      <td>115.0</td>\n      <td>Fernanda Machado</td>\n      <td>8060.0</td>\n      <td>Action|Crime|Drama|Thriller</td>\n      <td>Wagner Moura</td>\n      <td>Elite Squad</td>\n      <td>81644</td>\n      <td>...</td>\n      <td>brazil|military police|police|rio de janeiro b...</td>\n      <td>http://www.imdb.com/title/tt0861739/?ref_=fn_t...</td>\n      <td>107.0</td>\n      <td>Portuguese</td>\n      <td>Brazil</td>\n      <td>R</td>\n      <td>4000000.0</td>\n      <td>2007.0</td>\n      <td>8.1</td>\n      <td>11000</td>\n    </tr>\n    <tr>\n      <th>3501</th>\n      <td>Black and White</td>\n      <td>David Sington</td>\n      <td>107.0</td>\n      <td>100.0</td>\n      <td>Buzz Aldrin</td>\n      <td>1134049.0</td>\n      <td>Documentary|History</td>\n      <td>John F. Kennedy</td>\n      <td>In the Shadow of the Moon</td>\n      <td>5475</td>\n      <td>...</td>\n      <td>1960s|astronaut|moon|nasa|spacecraft accident</td>\n      <td>http://www.imdb.com/title/tt0925248/?ref_=fn_t...</td>\n      <td>44.0</td>\n      <td>English</td>\n      <td>UK</td>\n      <td>PG</td>\n      <td>2000000.0</td>\n      <td>2007.0</td>\n      <td>8.1</td>\n      <td>0</td>\n    </tr>\n  </tbody>\n</table>\n<p>2 rows × 21 columns</p>\n</div>"
     },
     "metadata": {},
     "execution_count": 43
    }
   ],
   "source": [
    "# Write your answer here\n",
    "movies[(movies['titleYear']>=2005) & (movies['titleYear']<=2009) & (movies['gross']<movies['budget']) & (movies['imdbScore']>8.0)]"
   ]
  },
  {
   "cell_type": "markdown",
   "metadata": {
    "id": "SssM577anO_F"
   },
   "source": [
    "**T19) Get all movies that were released after 2010 (inclusive), have a rating above 8.0 (exclusive), but made below the 25th percentile in revenue.**"
   ]
  },
  {
   "cell_type": "code",
   "execution_count": 40,
   "metadata": {
    "id": "mCzdJzJvnO_F"
   },
   "outputs": [
    {
     "output_type": "execute_result",
     "data": {
      "text/plain": [
       "      color           directorName  numCriticForReviews  duration  \\\n",
       "3081  Color       Denis Villeneuve                226.0     139.0   \n",
       "3323  Color             Ron Fricke                115.0     102.0   \n",
       "3373  Color      Thomas Vinterberg                349.0     115.0   \n",
       "3630  Color     Joshua Oppenheimer                248.0      96.0   \n",
       "3658  Color         Asghar Farhadi                354.0     123.0   \n",
       "3705  Color  Marius A. Markevicius                 26.0      89.0   \n",
       "\n",
       "                            actor2      gross  \\\n",
       "3081     Mélissa Désormeaux-Poulin  6857096.0   \n",
       "3323  Balinese Tari Legong Dancers  2601847.0   \n",
       "3373            Alexandra Rapaport   610968.0   \n",
       "3630                   Herman Koto   484221.0   \n",
       "3658                  Leila Hatami  7098492.0   \n",
       "3705                   Greg Speirs   133778.0   \n",
       "\n",
       "                                   genres                  actor1  \\\n",
       "3081                    Drama|Mystery|War            Lubna Azabal   \n",
       "3323                    Documentary|Music  Collin Alfredo St. Dic   \n",
       "3373                                Drama        Thomas Bo Larsen   \n",
       "3630  Biography|Crime|Documentary|History             Anwar Congo   \n",
       "3658                        Drama|Mystery         Shahab Hosseini   \n",
       "3705                    Documentary|Sport          Tommy Sheppard   \n",
       "\n",
       "                 movieTitle  numVotedUsers  ...  \\\n",
       "3081             Incendies           80429  ...   \n",
       "3323               Samsara           22457  ...   \n",
       "3373              The Hunt          170155  ...   \n",
       "3630    The Act of Killing           23836  ...   \n",
       "3658          A Separation          151812  ...   \n",
       "3705  The Other Dream Team            3086  ...   \n",
       "\n",
       "                                           plotKeywords  \\\n",
       "3081  brother sister relationship|family relationshi...   \n",
       "3323  hall of mirrors|mont saint michel france|palac...   \n",
       "3373         deer|gun|gunshot|hunt|kindergarten teacher   \n",
       "3630  death squad|mass killing|musical number|refere...   \n",
       "3658  alzheimer's disease|caregiver|divorce|iran|ira...   \n",
       "3705  basketball|basketball team|grateful dead|lithu...   \n",
       "\n",
       "                                               imdbLink numUserForReviews  \\\n",
       "3081  http://www.imdb.com/title/tt1255953/?ref_=fn_t...             156.0   \n",
       "3323  http://www.imdb.com/title/tt0770802/?ref_=fn_t...              69.0   \n",
       "3373  http://www.imdb.com/title/tt2106476/?ref_=fn_t...             249.0   \n",
       "3630  http://www.imdb.com/title/tt2375605/?ref_=fn_t...             107.0   \n",
       "3658  http://www.imdb.com/title/tt1832382/?ref_=fn_t...             264.0   \n",
       "3705  http://www.imdb.com/title/tt1606829/?ref_=fn_t...               9.0   \n",
       "\n",
       "        language  country contentRating     budget  titleYear  imdbScore  \\\n",
       "3081      French   Canada             R  6800000.0     2010.0        8.2   \n",
       "3323        None      USA         PG-13  4000000.0     2011.0        8.5   \n",
       "3373      Danish  Denmark             R  3800000.0     2012.0        8.3   \n",
       "3630  Indonesian       UK     Not Rated  1000000.0     2012.0        8.2   \n",
       "3658     Persian     Iran         PG-13   500000.0     2011.0        8.4   \n",
       "3705     English      USA     Not Rated   500000.0     2012.0        8.4   \n",
       "\n",
       "      movieFacebookLikes  \n",
       "3081               37000  \n",
       "3323               26000  \n",
       "3373               60000  \n",
       "3630               20000  \n",
       "3658               48000  \n",
       "3705                   0  \n",
       "\n",
       "[6 rows x 21 columns]"
      ],
      "text/html": "<div>\n<style scoped>\n    .dataframe tbody tr th:only-of-type {\n        vertical-align: middle;\n    }\n\n    .dataframe tbody tr th {\n        vertical-align: top;\n    }\n\n    .dataframe thead th {\n        text-align: right;\n    }\n</style>\n<table border=\"1\" class=\"dataframe\">\n  <thead>\n    <tr style=\"text-align: right;\">\n      <th></th>\n      <th>color</th>\n      <th>directorName</th>\n      <th>numCriticForReviews</th>\n      <th>duration</th>\n      <th>actor2</th>\n      <th>gross</th>\n      <th>genres</th>\n      <th>actor1</th>\n      <th>movieTitle</th>\n      <th>numVotedUsers</th>\n      <th>...</th>\n      <th>plotKeywords</th>\n      <th>imdbLink</th>\n      <th>numUserForReviews</th>\n      <th>language</th>\n      <th>country</th>\n      <th>contentRating</th>\n      <th>budget</th>\n      <th>titleYear</th>\n      <th>imdbScore</th>\n      <th>movieFacebookLikes</th>\n    </tr>\n  </thead>\n  <tbody>\n    <tr>\n      <th>3081</th>\n      <td>Color</td>\n      <td>Denis Villeneuve</td>\n      <td>226.0</td>\n      <td>139.0</td>\n      <td>Mélissa Désormeaux-Poulin</td>\n      <td>6857096.0</td>\n      <td>Drama|Mystery|War</td>\n      <td>Lubna Azabal</td>\n      <td>Incendies</td>\n      <td>80429</td>\n      <td>...</td>\n      <td>brother sister relationship|family relationshi...</td>\n      <td>http://www.imdb.com/title/tt1255953/?ref_=fn_t...</td>\n      <td>156.0</td>\n      <td>French</td>\n      <td>Canada</td>\n      <td>R</td>\n      <td>6800000.0</td>\n      <td>2010.0</td>\n      <td>8.2</td>\n      <td>37000</td>\n    </tr>\n    <tr>\n      <th>3323</th>\n      <td>Color</td>\n      <td>Ron Fricke</td>\n      <td>115.0</td>\n      <td>102.0</td>\n      <td>Balinese Tari Legong Dancers</td>\n      <td>2601847.0</td>\n      <td>Documentary|Music</td>\n      <td>Collin Alfredo St. Dic</td>\n      <td>Samsara</td>\n      <td>22457</td>\n      <td>...</td>\n      <td>hall of mirrors|mont saint michel france|palac...</td>\n      <td>http://www.imdb.com/title/tt0770802/?ref_=fn_t...</td>\n      <td>69.0</td>\n      <td>None</td>\n      <td>USA</td>\n      <td>PG-13</td>\n      <td>4000000.0</td>\n      <td>2011.0</td>\n      <td>8.5</td>\n      <td>26000</td>\n    </tr>\n    <tr>\n      <th>3373</th>\n      <td>Color</td>\n      <td>Thomas Vinterberg</td>\n      <td>349.0</td>\n      <td>115.0</td>\n      <td>Alexandra Rapaport</td>\n      <td>610968.0</td>\n      <td>Drama</td>\n      <td>Thomas Bo Larsen</td>\n      <td>The Hunt</td>\n      <td>170155</td>\n      <td>...</td>\n      <td>deer|gun|gunshot|hunt|kindergarten teacher</td>\n      <td>http://www.imdb.com/title/tt2106476/?ref_=fn_t...</td>\n      <td>249.0</td>\n      <td>Danish</td>\n      <td>Denmark</td>\n      <td>R</td>\n      <td>3800000.0</td>\n      <td>2012.0</td>\n      <td>8.3</td>\n      <td>60000</td>\n    </tr>\n    <tr>\n      <th>3630</th>\n      <td>Color</td>\n      <td>Joshua Oppenheimer</td>\n      <td>248.0</td>\n      <td>96.0</td>\n      <td>Herman Koto</td>\n      <td>484221.0</td>\n      <td>Biography|Crime|Documentary|History</td>\n      <td>Anwar Congo</td>\n      <td>The Act of Killing</td>\n      <td>23836</td>\n      <td>...</td>\n      <td>death squad|mass killing|musical number|refere...</td>\n      <td>http://www.imdb.com/title/tt2375605/?ref_=fn_t...</td>\n      <td>107.0</td>\n      <td>Indonesian</td>\n      <td>UK</td>\n      <td>Not Rated</td>\n      <td>1000000.0</td>\n      <td>2012.0</td>\n      <td>8.2</td>\n      <td>20000</td>\n    </tr>\n    <tr>\n      <th>3658</th>\n      <td>Color</td>\n      <td>Asghar Farhadi</td>\n      <td>354.0</td>\n      <td>123.0</td>\n      <td>Leila Hatami</td>\n      <td>7098492.0</td>\n      <td>Drama|Mystery</td>\n      <td>Shahab Hosseini</td>\n      <td>A Separation</td>\n      <td>151812</td>\n      <td>...</td>\n      <td>alzheimer's disease|caregiver|divorce|iran|ira...</td>\n      <td>http://www.imdb.com/title/tt1832382/?ref_=fn_t...</td>\n      <td>264.0</td>\n      <td>Persian</td>\n      <td>Iran</td>\n      <td>PG-13</td>\n      <td>500000.0</td>\n      <td>2011.0</td>\n      <td>8.4</td>\n      <td>48000</td>\n    </tr>\n    <tr>\n      <th>3705</th>\n      <td>Color</td>\n      <td>Marius A. Markevicius</td>\n      <td>26.0</td>\n      <td>89.0</td>\n      <td>Greg Speirs</td>\n      <td>133778.0</td>\n      <td>Documentary|Sport</td>\n      <td>Tommy Sheppard</td>\n      <td>The Other Dream Team</td>\n      <td>3086</td>\n      <td>...</td>\n      <td>basketball|basketball team|grateful dead|lithu...</td>\n      <td>http://www.imdb.com/title/tt1606829/?ref_=fn_t...</td>\n      <td>9.0</td>\n      <td>English</td>\n      <td>USA</td>\n      <td>Not Rated</td>\n      <td>500000.0</td>\n      <td>2012.0</td>\n      <td>8.4</td>\n      <td>0</td>\n    </tr>\n  </tbody>\n</table>\n<p>6 rows × 21 columns</p>\n</div>"
     },
     "metadata": {},
     "execution_count": 40
    }
   ],
   "source": [
    "# Write your answer here\n",
    "percentile25 = movies['gross'].quantile(0.25)\n",
    "movies[(movies['titleYear']>=2010) & (movies['imdbScore']>8.0) & (movies['gross']<percentile25)]"
   ]
  },
  {
   "cell_type": "markdown",
   "metadata": {
    "id": "F8RjXzKXnO_F"
   },
   "source": [
    "**T20) Find out the sum of votes, budget and gross income by year**"
   ]
  },
  {
   "cell_type": "code",
   "execution_count": 41,
   "metadata": {
    "id": "DPlDZ93qnO_H"
   },
   "outputs": [
    {
     "output_type": "execute_result",
     "data": {
      "text/plain": [
       "           numVotedUsers        budget         gross\n",
       "titleYear                                           \n",
       "1927.0            111841  6.000000e+06  2.643500e+04\n",
       "1929.0              4546  3.790000e+05  2.808000e+06\n",
       "1933.0              7921  4.390000e+05  2.300000e+06\n",
       "1935.0             13269  6.090000e+05  3.000000e+06\n",
       "1936.0            143086  1.500000e+06  1.632450e+05\n",
       "...                  ...           ...           ...\n",
       "2012.0          22741118  7.566431e+09  1.023866e+10\n",
       "2013.0          22821998  8.355416e+09  1.047177e+10\n",
       "2014.0          18812088  7.458670e+09  1.021050e+10\n",
       "2015.0          11997638  7.000195e+09  9.280609e+09\n",
       "2016.0           3475989  4.489400e+09  5.433912e+09\n",
       "\n",
       "[74 rows x 3 columns]"
      ],
      "text/html": "<div>\n<style scoped>\n    .dataframe tbody tr th:only-of-type {\n        vertical-align: middle;\n    }\n\n    .dataframe tbody tr th {\n        vertical-align: top;\n    }\n\n    .dataframe thead th {\n        text-align: right;\n    }\n</style>\n<table border=\"1\" class=\"dataframe\">\n  <thead>\n    <tr style=\"text-align: right;\">\n      <th></th>\n      <th>numVotedUsers</th>\n      <th>budget</th>\n      <th>gross</th>\n    </tr>\n    <tr>\n      <th>titleYear</th>\n      <th></th>\n      <th></th>\n      <th></th>\n    </tr>\n  </thead>\n  <tbody>\n    <tr>\n      <th>1927.0</th>\n      <td>111841</td>\n      <td>6.000000e+06</td>\n      <td>2.643500e+04</td>\n    </tr>\n    <tr>\n      <th>1929.0</th>\n      <td>4546</td>\n      <td>3.790000e+05</td>\n      <td>2.808000e+06</td>\n    </tr>\n    <tr>\n      <th>1933.0</th>\n      <td>7921</td>\n      <td>4.390000e+05</td>\n      <td>2.300000e+06</td>\n    </tr>\n    <tr>\n      <th>1935.0</th>\n      <td>13269</td>\n      <td>6.090000e+05</td>\n      <td>3.000000e+06</td>\n    </tr>\n    <tr>\n      <th>1936.0</th>\n      <td>143086</td>\n      <td>1.500000e+06</td>\n      <td>1.632450e+05</td>\n    </tr>\n    <tr>\n      <th>...</th>\n      <td>...</td>\n      <td>...</td>\n      <td>...</td>\n    </tr>\n    <tr>\n      <th>2012.0</th>\n      <td>22741118</td>\n      <td>7.566431e+09</td>\n      <td>1.023866e+10</td>\n    </tr>\n    <tr>\n      <th>2013.0</th>\n      <td>22821998</td>\n      <td>8.355416e+09</td>\n      <td>1.047177e+10</td>\n    </tr>\n    <tr>\n      <th>2014.0</th>\n      <td>18812088</td>\n      <td>7.458670e+09</td>\n      <td>1.021050e+10</td>\n    </tr>\n    <tr>\n      <th>2015.0</th>\n      <td>11997638</td>\n      <td>7.000195e+09</td>\n      <td>9.280609e+09</td>\n    </tr>\n    <tr>\n      <th>2016.0</th>\n      <td>3475989</td>\n      <td>4.489400e+09</td>\n      <td>5.433912e+09</td>\n    </tr>\n  </tbody>\n</table>\n<p>74 rows × 3 columns</p>\n</div>"
     },
     "metadata": {},
     "execution_count": 41
    }
   ],
   "source": [
    "# Write your answer here\n",
    "movies[[\"titleYear\", \"numVotedUsers\", \"budget\", \"gross\"]].groupby('titleYear').sum()"
   ]
  },
  {
   "cell_type": "markdown",
   "metadata": {
    "id": "FgeHG2ZynO_H"
   },
   "source": [
    "**T21) Find out the top ten directors with the highest average score**"
   ]
  },
  {
   "cell_type": "code",
   "execution_count": 48,
   "metadata": {
    "id": "2rV0cL2-nO_I"
   },
   "outputs": [
    {
     "output_type": "execute_result",
     "data": {
      "text/plain": [
       "                   imdbScore\n",
       "directorName                \n",
       "Richard Marquand    8.400000\n",
       "Christopher Nolan   8.425000\n",
       "Sergio Leone        8.433333\n",
       "Ron Fricke          8.500000\n",
       "Damien Chazelle     8.500000\n",
       "Alfred Hitchcock    8.500000\n",
       "Majid Majidi        8.500000\n",
       "Charles Chaplin     8.600000\n",
       "Tony Kaye           8.600000\n",
       "Akira Kurosawa      8.700000"
      ],
      "text/html": "<div>\n<style scoped>\n    .dataframe tbody tr th:only-of-type {\n        vertical-align: middle;\n    }\n\n    .dataframe tbody tr th {\n        vertical-align: top;\n    }\n\n    .dataframe thead th {\n        text-align: right;\n    }\n</style>\n<table border=\"1\" class=\"dataframe\">\n  <thead>\n    <tr style=\"text-align: right;\">\n      <th></th>\n      <th>imdbScore</th>\n    </tr>\n    <tr>\n      <th>directorName</th>\n      <th></th>\n    </tr>\n  </thead>\n  <tbody>\n    <tr>\n      <th>Richard Marquand</th>\n      <td>8.400000</td>\n    </tr>\n    <tr>\n      <th>Christopher Nolan</th>\n      <td>8.425000</td>\n    </tr>\n    <tr>\n      <th>Sergio Leone</th>\n      <td>8.433333</td>\n    </tr>\n    <tr>\n      <th>Ron Fricke</th>\n      <td>8.500000</td>\n    </tr>\n    <tr>\n      <th>Damien Chazelle</th>\n      <td>8.500000</td>\n    </tr>\n    <tr>\n      <th>Alfred Hitchcock</th>\n      <td>8.500000</td>\n    </tr>\n    <tr>\n      <th>Majid Majidi</th>\n      <td>8.500000</td>\n    </tr>\n    <tr>\n      <th>Charles Chaplin</th>\n      <td>8.600000</td>\n    </tr>\n    <tr>\n      <th>Tony Kaye</th>\n      <td>8.600000</td>\n    </tr>\n    <tr>\n      <th>Akira Kurosawa</th>\n      <td>8.700000</td>\n    </tr>\n  </tbody>\n</table>\n</div>"
     },
     "metadata": {},
     "execution_count": 48
    }
   ],
   "source": [
    "# Write your answer here\n",
    "movies[[\"directorName\", \"imdbScore\"]].groupby('directorName').mean().sort_values('imdbScore').tail(10)"
   ]
  },
  {
   "cell_type": "markdown",
   "metadata": {
    "id": "nCL68HzhnO_I"
   },
   "source": [
    "### Ideas for practicing at home\n",
    "\n",
    "* Find the average score, budget and gross income of movies in which Liam Neeson played\n",
    "* Produce a dataset fragment grouped by Language and/or Country\n",
    "* Any other analysis that you might could generate some useful insight.\n",
    "* Try to do Practicals 2 and 3 using Pandas"
   ]
  },
  {
   "cell_type": "code",
   "execution_count": null,
   "metadata": {
    "id": "_6frRM8QnO_J"
   },
   "outputs": [],
   "source": []
  }
 ],
 "metadata": {
  "colab": {
   "name": "DAT1-Practical4-Questions.ipynb",
   "provenance": []
  },
  "kernelspec": {
   "display_name": "Python 3",
   "language": "python",
   "name": "python3"
  },
  "language_info": {
   "codemirror_mode": {
    "name": "ipython",
    "version": 3
   },
   "file_extension": ".py",
   "mimetype": "text/x-python",
   "name": "python",
   "nbconvert_exporter": "python",
   "pygments_lexer": "ipython3",
   "version": "3.7.3-final"
  }
 },
 "nbformat": 4,
 "nbformat_minor": 1
}